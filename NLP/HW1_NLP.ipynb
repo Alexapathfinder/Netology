{
 "cells": [
  {
   "cell_type": "code",
   "execution_count": 1,
   "metadata": {},
   "outputs": [],
   "source": [
    "import json\n",
    "import bz2\n",
    "import regex\n",
    "import pymorphy2\n",
    "from tqdm import tqdm\n",
    "from scipy import sparse\n",
    "from collections import Counter\n",
    "from pymystem3 import Mystem\n",
    "from sklearn.feature_extraction.text import TfidfVectorizer\n",
    "from sklearn.feature_extraction.text import CountVectorizer"
   ]
  },
  {
   "cell_type": "code",
   "execution_count": 2,
   "metadata": {},
   "outputs": [
    {
     "name": "stderr",
     "output_type": "stream",
     "text": [
      "[nltk_data] Downloading package punkt to /home/dev/nltk_data...\n",
      "[nltk_data]   Package punkt is already up-to-date!\n"
     ]
    },
    {
     "name": "stdout",
     "output_type": "stream",
     "text": [
      "Populating the interactive namespace from numpy and matplotlib\n"
     ]
    }
   ],
   "source": [
    "import pandas as pd\n",
    "import numpy as np\n",
    "import nltk\n",
    "nltk.download('punkt')\n",
    "import matplotlib.pyplot as plt\n",
    "import seaborn as sns\n",
    "%matplotlib inline\n",
    "%pylab inline"
   ]
  },
  {
   "cell_type": "code",
   "execution_count": 3,
   "metadata": {
    "scrolled": true
   },
   "outputs": [
    {
     "name": "stderr",
     "output_type": "stream",
     "text": [
      "201030it [02:02, 1639.37it/s] \n"
     ]
    }
   ],
   "source": [
    "responses = []\n",
    "with bz2.BZ2File('banki_responses.json.bz2', 'r') as thefile:\n",
    "    for row in tqdm(thefile):\n",
    "        resp = json.loads(row)\n",
    "        if not resp['rating_not_checked'] and (len(resp['text'].split()) > 0):\n",
    "            responses.append(resp)"
   ]
  },
  {
   "cell_type": "markdown",
   "metadata": {},
   "source": [
    "#  Домашнее задание по NLP # 1 [100 баллов]\n",
    "## Классификация по тональности \n",
    "\n",
    "В этом домашнем задании вам предстоит классифицировать по тональности отзывы на банки с сайта banki.ru.\n",
    "\n",
    "Данные содержат непосредственно тексты отзывов, некоторую дополнительную информацию, а также оценку по шкале от 1 до 5. \n",
    "\n",
    "Тексты хранятся в json-ах в массиве responses.\n",
    "\n",
    "Посмотрим на пример отзыва:"
   ]
  },
  {
   "cell_type": "code",
   "execution_count": 4,
   "metadata": {},
   "outputs": [
    {
     "data": {
      "text/plain": [
       "{'city': 'г. Саратов',\n",
       " 'rating_not_checked': False,\n",
       " 'title': 'Карта ко вкладу',\n",
       " 'num_comments': 0,\n",
       " 'bank_license': 'лицензия № 880',\n",
       " 'author': 'ronnichka',\n",
       " 'bank_name': 'Югра',\n",
       " 'datetime': '2015-06-03 20:56:57',\n",
       " 'text': 'Здравствуйте! Хотела написать, что мне месяц не выдают карту ко вкладу, ссылаясь на \"нам же их из Самары везут\" (на секундочку 5 часов езды от нашего города). Но! Прочитала, что людям 3,5 месяцев не выдают карту, и поняла, что у меня все хорошо, пока что. И подарок мне дали, и кулер в отделении есть. Так что я, конечно, готова ждать. Правда хотелось бы не очень долго.',\n",
       " 'rating_grade': 3}"
      ]
     },
     "execution_count": 4,
     "metadata": {},
     "output_type": "execute_result"
    }
   ],
   "source": [
    "responses[99]"
   ]
  },
  {
   "cell_type": "markdown",
   "metadata": {},
   "source": [
    "## Часть 1. Анализ текстов [40/100]\n",
    "\n",
    "1. Посчитайте количество отзывов в разных городах и на разные банки\n",
    "2. Постройте гистограмы длин слов в символах и в словах\n",
    "3. Найдите 10 самых частых:\n",
    "    * слов\n",
    "    * слов без стоп-слов\n",
    "    * лемм \n",
    "* существительных\n",
    "4. Постройте кривые Ципфа и Хипса\n",
    "5. Ответьте на следующие вопросы:\n",
    "    * какое слово встречается чаще, \"сотрудник\" или \"клиент\"?\n",
    "    * сколько раз встречается слова \"мошенничество\" и \"доверие\"?\n",
    "6. В поле \"rating_grade\" записана оценка отзыва по шкале от 1 до 5. Используйте меру $tf-idf$, для того, чтобы найти ключевые слова и биграмы для положительных отзывов (с оценкой 5) и отрицательных отзывов (с оценкой 1)"
   ]
  },
  {
   "cell_type": "markdown",
   "metadata": {},
   "source": [
    "-----------------------------------------------------------------------------------------------------------------"
   ]
  },
  {
   "cell_type": "markdown",
   "metadata": {},
   "source": [
    "Для начала отправим полученный результат в датафрейм, чтобы было проще анализировать данные:"
   ]
  },
  {
   "cell_type": "code",
   "execution_count": 5,
   "metadata": {},
   "outputs": [
    {
     "data": {
      "text/plain": [
       "153499"
      ]
     },
     "execution_count": 5,
     "metadata": {},
     "output_type": "execute_result"
    }
   ],
   "source": [
    "len(responses)"
   ]
  },
  {
   "cell_type": "code",
   "execution_count": 6,
   "metadata": {},
   "outputs": [
    {
     "data": {
      "text/html": [
       "<div>\n",
       "<style scoped>\n",
       "    .dataframe tbody tr th:only-of-type {\n",
       "        vertical-align: middle;\n",
       "    }\n",
       "\n",
       "    .dataframe tbody tr th {\n",
       "        vertical-align: top;\n",
       "    }\n",
       "\n",
       "    .dataframe thead th {\n",
       "        text-align: right;\n",
       "    }\n",
       "</style>\n",
       "<table border=\"1\" class=\"dataframe\">\n",
       "  <thead>\n",
       "    <tr style=\"text-align: right;\">\n",
       "      <th></th>\n",
       "      <th>city</th>\n",
       "      <th>rating_not_checked</th>\n",
       "      <th>title</th>\n",
       "      <th>num_comments</th>\n",
       "      <th>bank_license</th>\n",
       "      <th>author</th>\n",
       "      <th>bank_name</th>\n",
       "      <th>datetime</th>\n",
       "      <th>text</th>\n",
       "      <th>rating_grade</th>\n",
       "    </tr>\n",
       "  </thead>\n",
       "  <tbody>\n",
       "    <tr>\n",
       "      <th>0</th>\n",
       "      <td>г. Москва</td>\n",
       "      <td>False</td>\n",
       "      <td>Жалоба</td>\n",
       "      <td>0</td>\n",
       "      <td>лицензия № 2562</td>\n",
       "      <td>uhnov1</td>\n",
       "      <td>Бинбанк</td>\n",
       "      <td>2015-06-08 12:50:54</td>\n",
       "      <td>Добрый день! Я не являюсь клиентом банка и пор...</td>\n",
       "      <td>NaN</td>\n",
       "    </tr>\n",
       "    <tr>\n",
       "      <th>1</th>\n",
       "      <td>г. Новосибирск</td>\n",
       "      <td>False</td>\n",
       "      <td>Не могу пользоваться услугой Сбербанк он-лайн</td>\n",
       "      <td>0</td>\n",
       "      <td>лицензия № 1481</td>\n",
       "      <td>Foryou</td>\n",
       "      <td>Сбербанк России</td>\n",
       "      <td>2015-06-08 11:09:57</td>\n",
       "      <td>Доброго дня! Являюсь держателем зарплатной кар...</td>\n",
       "      <td>NaN</td>\n",
       "    </tr>\n",
       "    <tr>\n",
       "      <th>2</th>\n",
       "      <td>г. Москва</td>\n",
       "      <td>False</td>\n",
       "      <td>Двойное списание за один товар.</td>\n",
       "      <td>1</td>\n",
       "      <td>лицензия № 2562</td>\n",
       "      <td>Vladimir84</td>\n",
       "      <td>Бинбанк</td>\n",
       "      <td>2015-06-05 20:14:28</td>\n",
       "      <td>Здравствуйте!  Дублирую свое заявление от 03.0...</td>\n",
       "      <td>NaN</td>\n",
       "    </tr>\n",
       "    <tr>\n",
       "      <th>3</th>\n",
       "      <td>г. Ставрополь</td>\n",
       "      <td>False</td>\n",
       "      <td>Меняют проценты комиссии  не предупредив и не ...</td>\n",
       "      <td>2</td>\n",
       "      <td>лицензия № 1481</td>\n",
       "      <td>643609</td>\n",
       "      <td>Сбербанк России</td>\n",
       "      <td>2015-06-05 13:51:01</td>\n",
       "      <td>Добрый день!! Я открыл расчетный счет в СберБа...</td>\n",
       "      <td>NaN</td>\n",
       "    </tr>\n",
       "    <tr>\n",
       "      <th>4</th>\n",
       "      <td>г. Челябинск</td>\n",
       "      <td>False</td>\n",
       "      <td>Верните денежные средства за страховку</td>\n",
       "      <td>1</td>\n",
       "      <td>лицензия № 2766</td>\n",
       "      <td>anfisa-2003</td>\n",
       "      <td>ОТП Банк</td>\n",
       "      <td>2015-06-05 10:58:12</td>\n",
       "      <td>04.03.2015 г. взяла кредит в вашем банке, заяв...</td>\n",
       "      <td>NaN</td>\n",
       "    </tr>\n",
       "  </tbody>\n",
       "</table>\n",
       "</div>"
      ],
      "text/plain": [
       "             city  rating_not_checked  \\\n",
       "0       г. Москва               False   \n",
       "1  г. Новосибирск               False   \n",
       "2       г. Москва               False   \n",
       "3   г. Ставрополь               False   \n",
       "4    г. Челябинск               False   \n",
       "\n",
       "                                               title  num_comments  \\\n",
       "0                                             Жалоба             0   \n",
       "1      Не могу пользоваться услугой Сбербанк он-лайн             0   \n",
       "2                    Двойное списание за один товар.             1   \n",
       "3  Меняют проценты комиссии  не предупредив и не ...             2   \n",
       "4             Верните денежные средства за страховку             1   \n",
       "\n",
       "      bank_license       author        bank_name             datetime  \\\n",
       "0  лицензия № 2562       uhnov1          Бинбанк  2015-06-08 12:50:54   \n",
       "1  лицензия № 1481       Foryou  Сбербанк России  2015-06-08 11:09:57   \n",
       "2  лицензия № 2562   Vladimir84          Бинбанк  2015-06-05 20:14:28   \n",
       "3  лицензия № 1481       643609  Сбербанк России  2015-06-05 13:51:01   \n",
       "4  лицензия № 2766  anfisa-2003         ОТП Банк  2015-06-05 10:58:12   \n",
       "\n",
       "                                                text  rating_grade  \n",
       "0  Добрый день! Я не являюсь клиентом банка и пор...           NaN  \n",
       "1  Доброго дня! Являюсь держателем зарплатной кар...           NaN  \n",
       "2  Здравствуйте!  Дублирую свое заявление от 03.0...           NaN  \n",
       "3  Добрый день!! Я открыл расчетный счет в СберБа...           NaN  \n",
       "4  04.03.2015 г. взяла кредит в вашем банке, заяв...           NaN  "
      ]
     },
     "execution_count": 6,
     "metadata": {},
     "output_type": "execute_result"
    }
   ],
   "source": [
    "df = pd.DataFrame.from_dict(responses)\n",
    "df.head()"
   ]
  },
  {
   "cell_type": "code",
   "execution_count": 7,
   "metadata": {},
   "outputs": [
    {
     "name": "stdout",
     "output_type": "stream",
     "text": [
      "<class 'pandas.core.frame.DataFrame'>\n",
      "RangeIndex: 153499 entries, 0 to 153498\n",
      "Data columns (total 10 columns):\n",
      " #   Column              Non-Null Count   Dtype  \n",
      "---  ------              --------------   -----  \n",
      " 0   city                138325 non-null  object \n",
      " 1   rating_not_checked  153499 non-null  bool   \n",
      " 2   title               153499 non-null  object \n",
      " 3   num_comments        153499 non-null  int64  \n",
      " 4   bank_license        153498 non-null  object \n",
      " 5   author              153479 non-null  object \n",
      " 6   bank_name           153499 non-null  object \n",
      " 7   datetime            153499 non-null  object \n",
      " 8   text                153499 non-null  object \n",
      " 9   rating_grade        88658 non-null   float64\n",
      "dtypes: bool(1), float64(1), int64(1), object(7)\n",
      "memory usage: 10.7+ MB\n"
     ]
    }
   ],
   "source": [
    "df.info()"
   ]
  },
  {
   "cell_type": "markdown",
   "metadata": {},
   "source": [
    "Ок. Теперь пройдемся по колонкам: все ли они нам нужны?"
   ]
  },
  {
   "cell_type": "code",
   "execution_count": 8,
   "metadata": {},
   "outputs": [
    {
     "data": {
      "text/plain": [
       "array([False])"
      ]
     },
     "execution_count": 8,
     "metadata": {},
     "output_type": "execute_result"
    }
   ],
   "source": [
    "df['rating_not_checked'].unique()"
   ]
  },
  {
   "cell_type": "markdown",
   "metadata": {},
   "source": [
    "Значение только одно (собственно изначально так и скачивалось). Значит, этот столбец в любом случае не нужен, т.к. неинформативен. Удалим его. А остальные столбцы пока оставим."
   ]
  },
  {
   "cell_type": "code",
   "execution_count": 9,
   "metadata": {},
   "outputs": [
    {
     "data": {
      "text/html": [
       "<div>\n",
       "<style scoped>\n",
       "    .dataframe tbody tr th:only-of-type {\n",
       "        vertical-align: middle;\n",
       "    }\n",
       "\n",
       "    .dataframe tbody tr th {\n",
       "        vertical-align: top;\n",
       "    }\n",
       "\n",
       "    .dataframe thead th {\n",
       "        text-align: right;\n",
       "    }\n",
       "</style>\n",
       "<table border=\"1\" class=\"dataframe\">\n",
       "  <thead>\n",
       "    <tr style=\"text-align: right;\">\n",
       "      <th></th>\n",
       "      <th>city</th>\n",
       "      <th>title</th>\n",
       "      <th>num_comments</th>\n",
       "      <th>bank_license</th>\n",
       "      <th>author</th>\n",
       "      <th>bank_name</th>\n",
       "      <th>datetime</th>\n",
       "      <th>text</th>\n",
       "      <th>rating_grade</th>\n",
       "    </tr>\n",
       "  </thead>\n",
       "  <tbody>\n",
       "    <tr>\n",
       "      <th>0</th>\n",
       "      <td>г. Москва</td>\n",
       "      <td>Жалоба</td>\n",
       "      <td>0</td>\n",
       "      <td>лицензия № 2562</td>\n",
       "      <td>uhnov1</td>\n",
       "      <td>Бинбанк</td>\n",
       "      <td>2015-06-08 12:50:54</td>\n",
       "      <td>Добрый день! Я не являюсь клиентом банка и пор...</td>\n",
       "      <td>NaN</td>\n",
       "    </tr>\n",
       "    <tr>\n",
       "      <th>1</th>\n",
       "      <td>г. Новосибирск</td>\n",
       "      <td>Не могу пользоваться услугой Сбербанк он-лайн</td>\n",
       "      <td>0</td>\n",
       "      <td>лицензия № 1481</td>\n",
       "      <td>Foryou</td>\n",
       "      <td>Сбербанк России</td>\n",
       "      <td>2015-06-08 11:09:57</td>\n",
       "      <td>Доброго дня! Являюсь держателем зарплатной кар...</td>\n",
       "      <td>NaN</td>\n",
       "    </tr>\n",
       "    <tr>\n",
       "      <th>2</th>\n",
       "      <td>г. Москва</td>\n",
       "      <td>Двойное списание за один товар.</td>\n",
       "      <td>1</td>\n",
       "      <td>лицензия № 2562</td>\n",
       "      <td>Vladimir84</td>\n",
       "      <td>Бинбанк</td>\n",
       "      <td>2015-06-05 20:14:28</td>\n",
       "      <td>Здравствуйте!  Дублирую свое заявление от 03.0...</td>\n",
       "      <td>NaN</td>\n",
       "    </tr>\n",
       "    <tr>\n",
       "      <th>3</th>\n",
       "      <td>г. Ставрополь</td>\n",
       "      <td>Меняют проценты комиссии  не предупредив и не ...</td>\n",
       "      <td>2</td>\n",
       "      <td>лицензия № 1481</td>\n",
       "      <td>643609</td>\n",
       "      <td>Сбербанк России</td>\n",
       "      <td>2015-06-05 13:51:01</td>\n",
       "      <td>Добрый день!! Я открыл расчетный счет в СберБа...</td>\n",
       "      <td>NaN</td>\n",
       "    </tr>\n",
       "    <tr>\n",
       "      <th>4</th>\n",
       "      <td>г. Челябинск</td>\n",
       "      <td>Верните денежные средства за страховку</td>\n",
       "      <td>1</td>\n",
       "      <td>лицензия № 2766</td>\n",
       "      <td>anfisa-2003</td>\n",
       "      <td>ОТП Банк</td>\n",
       "      <td>2015-06-05 10:58:12</td>\n",
       "      <td>04.03.2015 г. взяла кредит в вашем банке, заяв...</td>\n",
       "      <td>NaN</td>\n",
       "    </tr>\n",
       "  </tbody>\n",
       "</table>\n",
       "</div>"
      ],
      "text/plain": [
       "             city                                              title  \\\n",
       "0       г. Москва                                             Жалоба   \n",
       "1  г. Новосибирск      Не могу пользоваться услугой Сбербанк он-лайн   \n",
       "2       г. Москва                    Двойное списание за один товар.   \n",
       "3   г. Ставрополь  Меняют проценты комиссии  не предупредив и не ...   \n",
       "4    г. Челябинск             Верните денежные средства за страховку   \n",
       "\n",
       "   num_comments     bank_license       author        bank_name  \\\n",
       "0             0  лицензия № 2562       uhnov1          Бинбанк   \n",
       "1             0  лицензия № 1481       Foryou  Сбербанк России   \n",
       "2             1  лицензия № 2562   Vladimir84          Бинбанк   \n",
       "3             2  лицензия № 1481       643609  Сбербанк России   \n",
       "4             1  лицензия № 2766  anfisa-2003         ОТП Банк   \n",
       "\n",
       "              datetime                                               text  \\\n",
       "0  2015-06-08 12:50:54  Добрый день! Я не являюсь клиентом банка и пор...   \n",
       "1  2015-06-08 11:09:57  Доброго дня! Являюсь держателем зарплатной кар...   \n",
       "2  2015-06-05 20:14:28  Здравствуйте!  Дублирую свое заявление от 03.0...   \n",
       "3  2015-06-05 13:51:01  Добрый день!! Я открыл расчетный счет в СберБа...   \n",
       "4  2015-06-05 10:58:12  04.03.2015 г. взяла кредит в вашем банке, заяв...   \n",
       "\n",
       "   rating_grade  \n",
       "0           NaN  \n",
       "1           NaN  \n",
       "2           NaN  \n",
       "3           NaN  \n",
       "4           NaN  "
      ]
     },
     "execution_count": 9,
     "metadata": {},
     "output_type": "execute_result"
    }
   ],
   "source": [
    "df = df.drop('rating_not_checked', axis=1)\n",
    "df.head()"
   ]
  },
  {
   "cell_type": "markdown",
   "metadata": {},
   "source": [
    "Теперь приступим к анализу."
   ]
  },
  {
   "cell_type": "markdown",
   "metadata": {},
   "source": [
    "#### 1. Посчитайте количество отзывов в разных городах и на разные банки"
   ]
  },
  {
   "cell_type": "markdown",
   "metadata": {},
   "source": [
    "Сгруппируем отзывы по городам:"
   ]
  },
  {
   "cell_type": "code",
   "execution_count": 10,
   "metadata": {},
   "outputs": [
    {
     "data": {
      "text/plain": [
       "city\n",
       "г. Москва             55354\n",
       "г. Санкт-Петербург    14342\n",
       "г. Екатеринбург        2337\n",
       "г. Новосибирск         2300\n",
       "г. Нижний Новгород     1976\n",
       "г. Ростов-на-Дону      1891\n",
       "г. Самара              1731\n",
       "г. Челябинск           1507\n",
       "г. Казань              1440\n",
       "г. Краснодар           1262\n",
       "г. Уфа                 1246\n",
       "г. Красноярск          1236\n",
       "г. москва              1217\n",
       "г. Воронеж             1210\n",
       "г. Пермь               1163\n",
       "г. Волгоград           1014\n",
       "г. Омск                 989\n",
       "г. Саратов              933\n",
       "г. Иркутск              749\n",
       "г. Калининград          746\n",
       "г. Ставрополь           696\n",
       "г. Хабаровск            681\n",
       "г. Тюмень               656\n",
       "г. Владивосток          637\n",
       "г. Барнаул              609\n",
       "г. Ярославль            609\n",
       "г. Тула                 586\n",
       "г. Томск                569\n",
       "г. Рязань               548\n",
       "г. Ульяновск            500\n",
       "Name: text, dtype: int64"
      ]
     },
     "execution_count": 10,
     "metadata": {},
     "output_type": "execute_result"
    }
   ],
   "source": [
    "df.groupby('city')['text'].count().sort_values(ascending=False)[:30]"
   ]
  },
  {
   "cell_type": "markdown",
   "metadata": {},
   "source": [
    "Сразу можно увидеть, что самое большое количество отзывов написано людьми, живущими в крупных городах. При этом отзывов в городах федерального значения существенно больше, чем в других."
   ]
  },
  {
   "cell_type": "markdown",
   "metadata": {},
   "source": [
    "Теперь отдельно посмотрим на группировку по банкам:"
   ]
  },
  {
   "cell_type": "code",
   "execution_count": 11,
   "metadata": {},
   "outputs": [
    {
     "data": {
      "text/plain": [
       "bank_name\n",
       "Сбербанк России                                         26327\n",
       "Альфа-Банк                                              10224\n",
       "ВТБ 24                                                   8185\n",
       "Русский Стандарт                                         7943\n",
       "Хоум Кредит Банк                                         7549\n",
       "Тинькофф Банк                                            5387\n",
       "Национальный Банк «Траст»                                4607\n",
       "Ренессанс Кредит                                         3849\n",
       "Связной Банк                                             3775\n",
       "ОТП Банк                                                 3237\n",
       "Восточный Экспресс Банк                                  3138\n",
       "Райффайзенбанк                                           3057\n",
       "Московский Кредитный Банк                                2944\n",
       "Ситибанк                                                 2848\n",
       "Авангард                                                 2733\n",
       "Промсвязьбанк                                            2586\n",
       "ЮниКредит Банк                                           2488\n",
       "Банк Москвы                                              2456\n",
       "Ханты-Мансийский банк Открытие                           2158\n",
       "МТС Банк                                                 1870\n",
       "Киви Банк                                                1741\n",
       "Кредит Европа Банк                                       1683\n",
       "Росбанк                                                  1658\n",
       "Бинбанк                                                  1646\n",
       "БИНБАНК кредитные карты                                  1464\n",
       "Сетелем Банк                                             1351\n",
       "Московский Областной Банк                                1277\n",
       "Юниаструм Банк                                           1111\n",
       "Современный Коммерческий Банк (бывш. ДжиИ Мани Банк)      993\n",
       "Уралсиб                                                   989\n",
       "Name: text, dtype: int64"
      ]
     },
     "execution_count": 11,
     "metadata": {},
     "output_type": "execute_result"
    }
   ],
   "source": [
    "df.groupby('bank_name')['text'].count().sort_values(ascending=False)[:30]"
   ]
  },
  {
   "cell_type": "markdown",
   "metadata": {},
   "source": [
    "И снова вполне очевидный результат: первые три банка вполне ожидаемо получили лидерство по количеству отзывов по всей стране."
   ]
  },
  {
   "cell_type": "markdown",
   "metadata": {},
   "source": [
    "*Сгруппируем отзывы по городам и банкам:*"
   ]
  },
  {
   "cell_type": "code",
   "execution_count": 12,
   "metadata": {},
   "outputs": [
    {
     "data": {
      "text/plain": [
       "city                                 bank_name                \n",
       "г. Москва                            Сбербанк России              8146\n",
       "                                     Альфа-Банк                   3871\n",
       "                                     Русский Стандарт             2801\n",
       "                                     ВТБ 24                       2714\n",
       "г. Санкт-Петербург                   Сбербанк России              2434\n",
       "                                                                  ... \n",
       "г. Москва,  Отделение \"Жулебинское\"  Московский Кредитный Банк       1\n",
       "г. Москва, \"Китай-город\"             Фора-Банк                       1\n",
       "г. Москва, Ветошный пер              Восточный Экспресс Банк         1\n",
       "г. Москва, Видное                    Сбербанк России                 1\n",
       "г. … или другой населенный пункт     Лето Банк                       1\n",
       "Name: title, Length: 18769, dtype: int64"
      ]
     },
     "execution_count": 12,
     "metadata": {},
     "output_type": "execute_result"
    }
   ],
   "source": [
    "df_group = df.groupby(['city', 'bank_name'])['title'].count().sort_values(ascending=False)\n",
    "df_group"
   ]
  },
  {
   "cell_type": "markdown",
   "metadata": {},
   "source": [
    "Последние строки полученной группировки значений - данные, нуждающиеся в предобработке: так, например, \"г.Москва, Видное\" - это ни что иное, как \"г. Видное\", которое имеет аж 59 обращений:"
   ]
  },
  {
   "cell_type": "code",
   "execution_count": 13,
   "metadata": {},
   "outputs": [
    {
     "data": {
      "text/plain": [
       "59"
      ]
     },
     "execution_count": 13,
     "metadata": {},
     "output_type": "execute_result"
    }
   ],
   "source": [
    "df[df['city'] == 'г. Видное'].shape[0]"
   ]
  },
  {
   "cell_type": "markdown",
   "metadata": {},
   "source": [
    "А если посмотрим на банк, то увидим, что сообщений более 500:"
   ]
  },
  {
   "cell_type": "code",
   "execution_count": 14,
   "metadata": {},
   "outputs": [
    {
     "data": {
      "text/plain": [
       "501"
      ]
     },
     "execution_count": 14,
     "metadata": {},
     "output_type": "execute_result"
    }
   ],
   "source": [
    "df[df['bank_name'] == 'Лето Банк'].shape[0]"
   ]
  },
  {
   "cell_type": "markdown",
   "metadata": {},
   "source": [
    "Но \"грязные\" данные в столбце с названиями городов не дают выделить непосредственно город и сгреппировать его с банком, поэтому мы получим ноль строк:"
   ]
  },
  {
   "cell_type": "code",
   "execution_count": 15,
   "metadata": {},
   "outputs": [
    {
     "data": {
      "text/html": [
       "<div>\n",
       "<style scoped>\n",
       "    .dataframe tbody tr th:only-of-type {\n",
       "        vertical-align: middle;\n",
       "    }\n",
       "\n",
       "    .dataframe tbody tr th {\n",
       "        vertical-align: top;\n",
       "    }\n",
       "\n",
       "    .dataframe thead th {\n",
       "        text-align: right;\n",
       "    }\n",
       "</style>\n",
       "<table border=\"1\" class=\"dataframe\">\n",
       "  <thead>\n",
       "    <tr style=\"text-align: right;\">\n",
       "      <th></th>\n",
       "      <th>city</th>\n",
       "      <th>title</th>\n",
       "      <th>num_comments</th>\n",
       "      <th>bank_license</th>\n",
       "      <th>author</th>\n",
       "      <th>bank_name</th>\n",
       "      <th>datetime</th>\n",
       "      <th>text</th>\n",
       "      <th>rating_grade</th>\n",
       "    </tr>\n",
       "  </thead>\n",
       "  <tbody>\n",
       "  </tbody>\n",
       "</table>\n",
       "</div>"
      ],
      "text/plain": [
       "Empty DataFrame\n",
       "Columns: [city, title, num_comments, bank_license, author, bank_name, datetime, text, rating_grade]\n",
       "Index: []"
      ]
     },
     "execution_count": 15,
     "metadata": {},
     "output_type": "execute_result"
    }
   ],
   "source": [
    "df[(df['city'] == 'г. Видное') & (df['bank_name'] == 'Лето Банк')]"
   ]
  },
  {
   "cell_type": "markdown",
   "metadata": {},
   "source": [
    "При этом стоит обратить внимание, что аналогичные строки, касающиеся Москвы, существенно занижают статистику по городу. Но поскольку работа с этим столбцом не является целью данного проекта, оставим всё как есть. Однако, случись такая ситуация на работе, предобработать данные столбца было бы необходимо.  "
   ]
  },
  {
   "cell_type": "code",
   "execution_count": 16,
   "metadata": {},
   "outputs": [
    {
     "data": {
      "text/html": [
       "<div>\n",
       "<style scoped>\n",
       "    .dataframe tbody tr th:only-of-type {\n",
       "        vertical-align: middle;\n",
       "    }\n",
       "\n",
       "    .dataframe tbody tr th {\n",
       "        vertical-align: top;\n",
       "    }\n",
       "\n",
       "    .dataframe thead th {\n",
       "        text-align: right;\n",
       "    }\n",
       "</style>\n",
       "<table border=\"1\" class=\"dataframe\">\n",
       "  <thead>\n",
       "    <tr style=\"text-align: right;\">\n",
       "      <th></th>\n",
       "      <th>city</th>\n",
       "      <th>bank_name</th>\n",
       "      <th>title</th>\n",
       "    </tr>\n",
       "  </thead>\n",
       "  <tbody>\n",
       "    <tr>\n",
       "      <th>0</th>\n",
       "      <td>г. Москва</td>\n",
       "      <td>Сбербанк России</td>\n",
       "      <td>8146</td>\n",
       "    </tr>\n",
       "    <tr>\n",
       "      <th>1</th>\n",
       "      <td>г. Москва</td>\n",
       "      <td>Альфа-Банк</td>\n",
       "      <td>3871</td>\n",
       "    </tr>\n",
       "    <tr>\n",
       "      <th>2</th>\n",
       "      <td>г. Москва</td>\n",
       "      <td>Русский Стандарт</td>\n",
       "      <td>2801</td>\n",
       "    </tr>\n",
       "    <tr>\n",
       "      <th>3</th>\n",
       "      <td>г. Москва</td>\n",
       "      <td>ВТБ 24</td>\n",
       "      <td>2714</td>\n",
       "    </tr>\n",
       "    <tr>\n",
       "      <th>5</th>\n",
       "      <td>г. Москва</td>\n",
       "      <td>Московский Кредитный Банк</td>\n",
       "      <td>2348</td>\n",
       "    </tr>\n",
       "    <tr>\n",
       "      <th>6</th>\n",
       "      <td>г. Москва</td>\n",
       "      <td>Тинькофф Банк</td>\n",
       "      <td>2339</td>\n",
       "    </tr>\n",
       "    <tr>\n",
       "      <th>7</th>\n",
       "      <td>г. Москва</td>\n",
       "      <td>Хоум Кредит Банк</td>\n",
       "      <td>2143</td>\n",
       "    </tr>\n",
       "    <tr>\n",
       "      <th>8</th>\n",
       "      <td>г. Москва</td>\n",
       "      <td>Национальный Банк «Траст»</td>\n",
       "      <td>1654</td>\n",
       "    </tr>\n",
       "    <tr>\n",
       "      <th>9</th>\n",
       "      <td>г. Москва</td>\n",
       "      <td>Райффайзенбанк</td>\n",
       "      <td>1426</td>\n",
       "    </tr>\n",
       "    <tr>\n",
       "      <th>10</th>\n",
       "      <td>г. Москва</td>\n",
       "      <td>Связной Банк</td>\n",
       "      <td>1408</td>\n",
       "    </tr>\n",
       "  </tbody>\n",
       "</table>\n",
       "</div>"
      ],
      "text/plain": [
       "         city                  bank_name  title\n",
       "0   г. Москва            Сбербанк России   8146\n",
       "1   г. Москва                 Альфа-Банк   3871\n",
       "2   г. Москва           Русский Стандарт   2801\n",
       "3   г. Москва                     ВТБ 24   2714\n",
       "5   г. Москва  Московский Кредитный Банк   2348\n",
       "6   г. Москва              Тинькофф Банк   2339\n",
       "7   г. Москва           Хоум Кредит Банк   2143\n",
       "8   г. Москва  Национальный Банк «Траст»   1654\n",
       "9   г. Москва             Райффайзенбанк   1426\n",
       "10  г. Москва               Связной Банк   1408"
      ]
     },
     "execution_count": 16,
     "metadata": {},
     "output_type": "execute_result"
    }
   ],
   "source": [
    "df_group = df_group.reset_index()\n",
    "df_group[df_group['city'] == 'г. Москва'][:10]"
   ]
  },
  {
   "cell_type": "code",
   "execution_count": 17,
   "metadata": {},
   "outputs": [
    {
     "data": {
      "text/html": [
       "<div>\n",
       "<style scoped>\n",
       "    .dataframe tbody tr th:only-of-type {\n",
       "        vertical-align: middle;\n",
       "    }\n",
       "\n",
       "    .dataframe tbody tr th {\n",
       "        vertical-align: top;\n",
       "    }\n",
       "\n",
       "    .dataframe thead th {\n",
       "        text-align: right;\n",
       "    }\n",
       "</style>\n",
       "<table border=\"1\" class=\"dataframe\">\n",
       "  <thead>\n",
       "    <tr style=\"text-align: right;\">\n",
       "      <th></th>\n",
       "      <th>city</th>\n",
       "      <th>bank_name</th>\n",
       "      <th>title</th>\n",
       "    </tr>\n",
       "  </thead>\n",
       "  <tbody>\n",
       "    <tr>\n",
       "      <th>4</th>\n",
       "      <td>г. Санкт-Петербург</td>\n",
       "      <td>Сбербанк России</td>\n",
       "      <td>2434</td>\n",
       "    </tr>\n",
       "    <tr>\n",
       "      <th>17</th>\n",
       "      <td>г. Санкт-Петербург</td>\n",
       "      <td>ВТБ 24</td>\n",
       "      <td>926</td>\n",
       "    </tr>\n",
       "    <tr>\n",
       "      <th>18</th>\n",
       "      <td>г. Санкт-Петербург</td>\n",
       "      <td>Альфа-Банк</td>\n",
       "      <td>867</td>\n",
       "    </tr>\n",
       "    <tr>\n",
       "      <th>20</th>\n",
       "      <td>г. Санкт-Петербург</td>\n",
       "      <td>Хоум Кредит Банк</td>\n",
       "      <td>711</td>\n",
       "    </tr>\n",
       "    <tr>\n",
       "      <th>22</th>\n",
       "      <td>г. Санкт-Петербург</td>\n",
       "      <td>Русский Стандарт</td>\n",
       "      <td>669</td>\n",
       "    </tr>\n",
       "    <tr>\n",
       "      <th>28</th>\n",
       "      <td>г. Санкт-Петербург</td>\n",
       "      <td>Тинькофф Банк</td>\n",
       "      <td>570</td>\n",
       "    </tr>\n",
       "    <tr>\n",
       "      <th>30</th>\n",
       "      <td>г. Санкт-Петербург</td>\n",
       "      <td>Ханты-Мансийский банк Открытие</td>\n",
       "      <td>430</td>\n",
       "    </tr>\n",
       "    <tr>\n",
       "      <th>32</th>\n",
       "      <td>г. Санкт-Петербург</td>\n",
       "      <td>Национальный Банк «Траст»</td>\n",
       "      <td>420</td>\n",
       "    </tr>\n",
       "    <tr>\n",
       "      <th>34</th>\n",
       "      <td>г. Санкт-Петербург</td>\n",
       "      <td>Ренессанс Кредит</td>\n",
       "      <td>418</td>\n",
       "    </tr>\n",
       "    <tr>\n",
       "      <th>37</th>\n",
       "      <td>г. Санкт-Петербург</td>\n",
       "      <td>Связной Банк</td>\n",
       "      <td>399</td>\n",
       "    </tr>\n",
       "  </tbody>\n",
       "</table>\n",
       "</div>"
      ],
      "text/plain": [
       "                  city                       bank_name  title\n",
       "4   г. Санкт-Петербург                 Сбербанк России   2434\n",
       "17  г. Санкт-Петербург                          ВТБ 24    926\n",
       "18  г. Санкт-Петербург                      Альфа-Банк    867\n",
       "20  г. Санкт-Петербург                Хоум Кредит Банк    711\n",
       "22  г. Санкт-Петербург                Русский Стандарт    669\n",
       "28  г. Санкт-Петербург                   Тинькофф Банк    570\n",
       "30  г. Санкт-Петербург  Ханты-Мансийский банк Открытие    430\n",
       "32  г. Санкт-Петербург       Национальный Банк «Траст»    420\n",
       "34  г. Санкт-Петербург                Ренессанс Кредит    418\n",
       "37  г. Санкт-Петербург                    Связной Банк    399"
      ]
     },
     "execution_count": 17,
     "metadata": {},
     "output_type": "execute_result"
    }
   ],
   "source": [
    "df_group[df_group['city'] == 'г. Санкт-Петербург'][:10]"
   ]
  },
  {
   "cell_type": "code",
   "execution_count": 18,
   "metadata": {},
   "outputs": [
    {
     "data": {
      "text/html": [
       "<div>\n",
       "<style scoped>\n",
       "    .dataframe tbody tr th:only-of-type {\n",
       "        vertical-align: middle;\n",
       "    }\n",
       "\n",
       "    .dataframe tbody tr th {\n",
       "        vertical-align: top;\n",
       "    }\n",
       "\n",
       "    .dataframe thead th {\n",
       "        text-align: right;\n",
       "    }\n",
       "</style>\n",
       "<table border=\"1\" class=\"dataframe\">\n",
       "  <thead>\n",
       "    <tr style=\"text-align: right;\">\n",
       "      <th></th>\n",
       "      <th>city</th>\n",
       "      <th>bank_name</th>\n",
       "      <th>title</th>\n",
       "    </tr>\n",
       "  </thead>\n",
       "  <tbody>\n",
       "    <tr>\n",
       "      <th>70</th>\n",
       "      <td>г. Казань</td>\n",
       "      <td>Сбербанк России</td>\n",
       "      <td>219</td>\n",
       "    </tr>\n",
       "    <tr>\n",
       "      <th>122</th>\n",
       "      <td>г. Казань</td>\n",
       "      <td>Альфа-Банк</td>\n",
       "      <td>123</td>\n",
       "    </tr>\n",
       "    <tr>\n",
       "      <th>152</th>\n",
       "      <td>г. Казань</td>\n",
       "      <td>Хоум Кредит Банк</td>\n",
       "      <td>100</td>\n",
       "    </tr>\n",
       "    <tr>\n",
       "      <th>153</th>\n",
       "      <td>г. Казань</td>\n",
       "      <td>Русский Стандарт</td>\n",
       "      <td>99</td>\n",
       "    </tr>\n",
       "    <tr>\n",
       "      <th>228</th>\n",
       "      <td>г. Казань</td>\n",
       "      <td>ВТБ 24</td>\n",
       "      <td>71</td>\n",
       "    </tr>\n",
       "    <tr>\n",
       "      <th>255</th>\n",
       "      <td>г. Казань</td>\n",
       "      <td>Связной Банк</td>\n",
       "      <td>66</td>\n",
       "    </tr>\n",
       "    <tr>\n",
       "      <th>324</th>\n",
       "      <td>г. Казань</td>\n",
       "      <td>Тинькофф Банк</td>\n",
       "      <td>49</td>\n",
       "    </tr>\n",
       "    <tr>\n",
       "      <th>328</th>\n",
       "      <td>г. Казань</td>\n",
       "      <td>Ренессанс Кредит</td>\n",
       "      <td>48</td>\n",
       "    </tr>\n",
       "    <tr>\n",
       "      <th>354</th>\n",
       "      <td>г. Казань</td>\n",
       "      <td>Татфондбанк</td>\n",
       "      <td>44</td>\n",
       "    </tr>\n",
       "    <tr>\n",
       "      <th>361</th>\n",
       "      <td>г. Казань</td>\n",
       "      <td>Национальный Банк «Траст»</td>\n",
       "      <td>43</td>\n",
       "    </tr>\n",
       "  </tbody>\n",
       "</table>\n",
       "</div>"
      ],
      "text/plain": [
       "          city                  bank_name  title\n",
       "70   г. Казань            Сбербанк России    219\n",
       "122  г. Казань                 Альфа-Банк    123\n",
       "152  г. Казань           Хоум Кредит Банк    100\n",
       "153  г. Казань           Русский Стандарт     99\n",
       "228  г. Казань                     ВТБ 24     71\n",
       "255  г. Казань               Связной Банк     66\n",
       "324  г. Казань              Тинькофф Банк     49\n",
       "328  г. Казань           Ренессанс Кредит     48\n",
       "354  г. Казань                Татфондбанк     44\n",
       "361  г. Казань  Национальный Банк «Траст»     43"
      ]
     },
     "execution_count": 18,
     "metadata": {},
     "output_type": "execute_result"
    }
   ],
   "source": [
    "df_group[df_group['city'] == 'г. Казань'][:10]"
   ]
  },
  {
   "cell_type": "code",
   "execution_count": 19,
   "metadata": {},
   "outputs": [
    {
     "data": {
      "text/html": [
       "<div>\n",
       "<style scoped>\n",
       "    .dataframe tbody tr th:only-of-type {\n",
       "        vertical-align: middle;\n",
       "    }\n",
       "\n",
       "    .dataframe tbody tr th {\n",
       "        vertical-align: top;\n",
       "    }\n",
       "\n",
       "    .dataframe thead th {\n",
       "        text-align: right;\n",
       "    }\n",
       "</style>\n",
       "<table border=\"1\" class=\"dataframe\">\n",
       "  <thead>\n",
       "    <tr style=\"text-align: right;\">\n",
       "      <th></th>\n",
       "      <th>city</th>\n",
       "      <th>bank_name</th>\n",
       "      <th>title</th>\n",
       "    </tr>\n",
       "  </thead>\n",
       "  <tbody>\n",
       "    <tr>\n",
       "      <th>35</th>\n",
       "      <td>г. Новосибирск</td>\n",
       "      <td>Сбербанк России</td>\n",
       "      <td>404</td>\n",
       "    </tr>\n",
       "    <tr>\n",
       "      <th>62</th>\n",
       "      <td>г. Новосибирск</td>\n",
       "      <td>Альфа-Банк</td>\n",
       "      <td>248</td>\n",
       "    </tr>\n",
       "    <tr>\n",
       "      <th>97</th>\n",
       "      <td>г. Новосибирск</td>\n",
       "      <td>ВТБ 24</td>\n",
       "      <td>155</td>\n",
       "    </tr>\n",
       "    <tr>\n",
       "      <th>108</th>\n",
       "      <td>г. Новосибирск</td>\n",
       "      <td>Русский Стандарт</td>\n",
       "      <td>136</td>\n",
       "    </tr>\n",
       "    <tr>\n",
       "      <th>117</th>\n",
       "      <td>г. Новосибирск</td>\n",
       "      <td>Хоум Кредит Банк</td>\n",
       "      <td>127</td>\n",
       "    </tr>\n",
       "    <tr>\n",
       "      <th>179</th>\n",
       "      <td>г. Новосибирск</td>\n",
       "      <td>МДМ Банк</td>\n",
       "      <td>86</td>\n",
       "    </tr>\n",
       "    <tr>\n",
       "      <th>207</th>\n",
       "      <td>г. Новосибирск</td>\n",
       "      <td>ОТП Банк</td>\n",
       "      <td>76</td>\n",
       "    </tr>\n",
       "    <tr>\n",
       "      <th>224</th>\n",
       "      <td>г. Новосибирск</td>\n",
       "      <td>Тинькофф Банк</td>\n",
       "      <td>72</td>\n",
       "    </tr>\n",
       "    <tr>\n",
       "      <th>232</th>\n",
       "      <td>г. Новосибирск</td>\n",
       "      <td>Связной Банк</td>\n",
       "      <td>70</td>\n",
       "    </tr>\n",
       "    <tr>\n",
       "      <th>271</th>\n",
       "      <td>г. Новосибирск</td>\n",
       "      <td>Ханты-Мансийский банк Открытие</td>\n",
       "      <td>61</td>\n",
       "    </tr>\n",
       "  </tbody>\n",
       "</table>\n",
       "</div>"
      ],
      "text/plain": [
       "               city                       bank_name  title\n",
       "35   г. Новосибирск                 Сбербанк России    404\n",
       "62   г. Новосибирск                      Альфа-Банк    248\n",
       "97   г. Новосибирск                          ВТБ 24    155\n",
       "108  г. Новосибирск                Русский Стандарт    136\n",
       "117  г. Новосибирск                Хоум Кредит Банк    127\n",
       "179  г. Новосибирск                        МДМ Банк     86\n",
       "207  г. Новосибирск                        ОТП Банк     76\n",
       "224  г. Новосибирск                   Тинькофф Банк     72\n",
       "232  г. Новосибирск                    Связной Банк     70\n",
       "271  г. Новосибирск  Ханты-Мансийский банк Открытие     61"
      ]
     },
     "execution_count": 19,
     "metadata": {},
     "output_type": "execute_result"
    }
   ],
   "source": [
    "df_group[df_group['city'] == 'г. Новосибирск'][:10]"
   ]
  },
  {
   "cell_type": "code",
   "execution_count": 20,
   "metadata": {},
   "outputs": [],
   "source": [
    "del df_group"
   ]
  },
  {
   "cell_type": "markdown",
   "metadata": {},
   "source": [
    "Вернемся к цели задания: сгруппировав данные по городу и банкам, видим, что в Москве, как и в других городах, лидером по обращениям является Сбербанк. И в большинстве своём лидерская пятерка практически неизменна. Действительно, это самые популярные банки в нашей стране."
   ]
  },
  {
   "cell_type": "markdown",
   "metadata": {},
   "source": [
    "#### 2. Постройте гистограмы длин слов в символах и в словах  \n",
    "\n",
    "(возможно, имеются в виду тексты?)"
   ]
  },
  {
   "cell_type": "code",
   "execution_count": 21,
   "metadata": {},
   "outputs": [
    {
     "data": {
      "text/html": [
       "<div>\n",
       "<style scoped>\n",
       "    .dataframe tbody tr th:only-of-type {\n",
       "        vertical-align: middle;\n",
       "    }\n",
       "\n",
       "    .dataframe tbody tr th {\n",
       "        vertical-align: top;\n",
       "    }\n",
       "\n",
       "    .dataframe thead th {\n",
       "        text-align: right;\n",
       "    }\n",
       "</style>\n",
       "<table border=\"1\" class=\"dataframe\">\n",
       "  <thead>\n",
       "    <tr style=\"text-align: right;\">\n",
       "      <th></th>\n",
       "      <th>city</th>\n",
       "      <th>title</th>\n",
       "      <th>num_comments</th>\n",
       "      <th>bank_license</th>\n",
       "      <th>author</th>\n",
       "      <th>bank_name</th>\n",
       "      <th>datetime</th>\n",
       "      <th>text</th>\n",
       "      <th>rating_grade</th>\n",
       "    </tr>\n",
       "  </thead>\n",
       "  <tbody>\n",
       "    <tr>\n",
       "      <th>0</th>\n",
       "      <td>г. Москва</td>\n",
       "      <td>Жалоба</td>\n",
       "      <td>0</td>\n",
       "      <td>лицензия № 2562</td>\n",
       "      <td>uhnov1</td>\n",
       "      <td>Бинбанк</td>\n",
       "      <td>2015-06-08 12:50:54</td>\n",
       "      <td>Добрый день! Я не являюсь клиентом банка и пор...</td>\n",
       "      <td>NaN</td>\n",
       "    </tr>\n",
       "    <tr>\n",
       "      <th>1</th>\n",
       "      <td>г. Новосибирск</td>\n",
       "      <td>Не могу пользоваться услугой Сбербанк он-лайн</td>\n",
       "      <td>0</td>\n",
       "      <td>лицензия № 1481</td>\n",
       "      <td>Foryou</td>\n",
       "      <td>Сбербанк России</td>\n",
       "      <td>2015-06-08 11:09:57</td>\n",
       "      <td>Доброго дня! Являюсь держателем зарплатной кар...</td>\n",
       "      <td>NaN</td>\n",
       "    </tr>\n",
       "    <tr>\n",
       "      <th>2</th>\n",
       "      <td>г. Москва</td>\n",
       "      <td>Двойное списание за один товар.</td>\n",
       "      <td>1</td>\n",
       "      <td>лицензия № 2562</td>\n",
       "      <td>Vladimir84</td>\n",
       "      <td>Бинбанк</td>\n",
       "      <td>2015-06-05 20:14:28</td>\n",
       "      <td>Здравствуйте!  Дублирую свое заявление от 03.0...</td>\n",
       "      <td>NaN</td>\n",
       "    </tr>\n",
       "    <tr>\n",
       "      <th>3</th>\n",
       "      <td>г. Ставрополь</td>\n",
       "      <td>Меняют проценты комиссии  не предупредив и не ...</td>\n",
       "      <td>2</td>\n",
       "      <td>лицензия № 1481</td>\n",
       "      <td>643609</td>\n",
       "      <td>Сбербанк России</td>\n",
       "      <td>2015-06-05 13:51:01</td>\n",
       "      <td>Добрый день!! Я открыл расчетный счет в СберБа...</td>\n",
       "      <td>NaN</td>\n",
       "    </tr>\n",
       "    <tr>\n",
       "      <th>4</th>\n",
       "      <td>г. Челябинск</td>\n",
       "      <td>Верните денежные средства за страховку</td>\n",
       "      <td>1</td>\n",
       "      <td>лицензия № 2766</td>\n",
       "      <td>anfisa-2003</td>\n",
       "      <td>ОТП Банк</td>\n",
       "      <td>2015-06-05 10:58:12</td>\n",
       "      <td>04.03.2015 г. взяла кредит в вашем банке, заяв...</td>\n",
       "      <td>NaN</td>\n",
       "    </tr>\n",
       "  </tbody>\n",
       "</table>\n",
       "</div>"
      ],
      "text/plain": [
       "             city                                              title  \\\n",
       "0       г. Москва                                             Жалоба   \n",
       "1  г. Новосибирск      Не могу пользоваться услугой Сбербанк он-лайн   \n",
       "2       г. Москва                    Двойное списание за один товар.   \n",
       "3   г. Ставрополь  Меняют проценты комиссии  не предупредив и не ...   \n",
       "4    г. Челябинск             Верните денежные средства за страховку   \n",
       "\n",
       "   num_comments     bank_license       author        bank_name  \\\n",
       "0             0  лицензия № 2562       uhnov1          Бинбанк   \n",
       "1             0  лицензия № 1481       Foryou  Сбербанк России   \n",
       "2             1  лицензия № 2562   Vladimir84          Бинбанк   \n",
       "3             2  лицензия № 1481       643609  Сбербанк России   \n",
       "4             1  лицензия № 2766  anfisa-2003         ОТП Банк   \n",
       "\n",
       "              datetime                                               text  \\\n",
       "0  2015-06-08 12:50:54  Добрый день! Я не являюсь клиентом банка и пор...   \n",
       "1  2015-06-08 11:09:57  Доброго дня! Являюсь держателем зарплатной кар...   \n",
       "2  2015-06-05 20:14:28  Здравствуйте!  Дублирую свое заявление от 03.0...   \n",
       "3  2015-06-05 13:51:01  Добрый день!! Я открыл расчетный счет в СберБа...   \n",
       "4  2015-06-05 10:58:12  04.03.2015 г. взяла кредит в вашем банке, заяв...   \n",
       "\n",
       "   rating_grade  \n",
       "0           NaN  \n",
       "1           NaN  \n",
       "2           NaN  \n",
       "3           NaN  \n",
       "4           NaN  "
      ]
     },
     "execution_count": 21,
     "metadata": {},
     "output_type": "execute_result"
    }
   ],
   "source": [
    "df.head()"
   ]
  },
  {
   "cell_type": "markdown",
   "metadata": {},
   "source": [
    "Для этого возьмем столбец \"text\", поскольку именно в нём содержатся отзывы."
   ]
  },
  {
   "cell_type": "markdown",
   "metadata": {},
   "source": [
    "Гистограмма длин текстов отзывов в символах (в т.ч. и пробелах):"
   ]
  },
  {
   "cell_type": "code",
   "execution_count": 22,
   "metadata": {},
   "outputs": [],
   "source": [
    "lst_symb = []\n",
    "for i in df['text']:\n",
    "    lst_symb.append(len(i))"
   ]
  },
  {
   "cell_type": "code",
   "execution_count": 23,
   "metadata": {},
   "outputs": [
    {
     "data": {
      "image/png": "[encoded data removed]",
      "text/plain": [
       "<Figure size 1600x640 with 1 Axes>"
      ]
     },
     "metadata": {
      "needs_background": "light"
     },
     "output_type": "display_data"
    }
   ],
   "source": [
    "plt.figure(figsize=(20, 8), dpi=80)\n",
    "plt.bar(df.index, lst_symb, align='center', alpha=0.5)\n",
    "plt.xlabel(\"Индексы отзывов\")\n",
    "plt.title(\"Гистограмма длин текстов отзывов в символах\")\n",
    "plt.show()"
   ]
  },
  {
   "cell_type": "code",
   "execution_count": 24,
   "metadata": {},
   "outputs": [],
   "source": [
    "del lst_symb"
   ]
  },
  {
   "cell_type": "markdown",
   "metadata": {},
   "source": [
    "Данных много, поэтому видно не очень хорошо. Тем не менее, нельзя не заметить, что часть отзывов имеет порядка 8 - 9 тысяч символов."
   ]
  },
  {
   "cell_type": "markdown",
   "metadata": {},
   "source": [
    "И гистограмма длин текстов отзывов в словах. Поскольку слова выделены пробелами, рассплитуем каждый отзыв по пробелам:"
   ]
  },
  {
   "cell_type": "code",
   "execution_count": 25,
   "metadata": {},
   "outputs": [],
   "source": [
    "lst_words = []\n",
    "for i in df['text']:\n",
    "    lst_words.append(len(i.split(\" \")))"
   ]
  },
  {
   "cell_type": "code",
   "execution_count": 26,
   "metadata": {},
   "outputs": [
    {
     "data": {
      "image/png": "[encoded data removed]",
      "text/plain": [
       "<Figure size 1600x640 with 1 Axes>"
      ]
     },
     "metadata": {
      "needs_background": "light"
     },
     "output_type": "display_data"
    }
   ],
   "source": [
    "plt.figure(figsize=(20, 8), dpi=80)\n",
    "plt.bar(df.index, lst_words, align='center', alpha=0.5)\n",
    "plt.xlabel(\"Индексы отзывов\")\n",
    "plt.title(\"Гистограмма длин текстов отзывов в словах\")\n",
    "plt.show()"
   ]
  },
  {
   "cell_type": "code",
   "execution_count": 27,
   "metadata": {},
   "outputs": [],
   "source": [
    "del lst_words"
   ]
  },
  {
   "cell_type": "markdown",
   "metadata": {},
   "source": [
    "В среднем количество слов в отзывах варьируется от 200 до 700, но есть и отзывы с более чем 1500 слов. Данные вполне сопоставимы с предыдущей гистограммой. Логично, что \"отличившиеся\" объемом слов отзывы также имеют и большое количество символов."
   ]
  },
  {
   "cell_type": "markdown",
   "metadata": {},
   "source": [
    "#### 3. Найдите 10 самых частых:\n",
    " - слов\n"
   ]
  },
  {
   "cell_type": "markdown",
   "metadata": {},
   "source": [
    "Итак, поскольку мы переходим непосредственно к работе с текстом, очистим его от цифр, лишних знаков и приведем к нижнему регистру:"
   ]
  },
  {
   "cell_type": "code",
   "execution_count": 28,
   "metadata": {},
   "outputs": [
    {
     "data": {
      "text/plain": [
       "'добрый день я не являюсь клиентом банка и поручителем по кредитному договору а также не являюсь каким либо другим лицом письменно оформившим отношения с банком по поводу урегулирования чьей либо задолженности начиная с марта года начали приходить бесконечные письма из ооо примо коллект на мой адрес город москва уваровский переулок дом квартира с угрозами о возбуждении уголовного дела в отношении гражданина филиппова эдуарда владимировича который уклоняется от уплаты взятых им кредитов договор от года и договор от года со всей ответственностью хочу вас заверить что вышеуказанный гражданин которого вы разыскиваете мне не знаком и никогда в моем адресе не был зарегистрирован каким образом вы не удостоверившись в подлинности его документов оформили на его имя кредитный договор мне по меньшей мере не понятно и почему по вашей милости я должна переживать и бояться за себе и свое имущество письма доставляют мне серьезные неудобства нарушают мои гражданские права а также нарушают закон о защите персональных данных убедительно прошу прекратить посылать на мой адрес письма с угрозами по вопросам к которым я не имею отношения в случае отклонения моей претензии буду вынуждена обратиться с жалобами в другие органы росспотребнадзор центральный банк службу финансового омбудсмена кроме этого будет подано заявление в полицию и заявление в суд возмещение причиненного мне морального вреда надеюсь на скорое решение моего вопроса'"
      ]
     },
     "execution_count": 28,
     "metadata": {},
     "output_type": "execute_result"
    }
   ],
   "source": [
    "#Используем регулярные выражения, чтобы разбить тексты на слова\n",
    "import re\n",
    "regex = re.compile(\"[А-Яа-яЁё]+\")\n",
    "\n",
    "def words_only(text, regex=regex):\n",
    "    try:\n",
    "        return \" \".join(regex.findall(text))\n",
    "    except:\n",
    "        return \"\"\n",
    "\n",
    "\n",
    "df.text = df.text.str.lower()\n",
    "df.text = df.text.apply(words_only)\n",
    "\n",
    "df.text.iloc[0]"
   ]
  },
  {
   "cell_type": "code",
   "execution_count": 29,
   "metadata": {},
   "outputs": [],
   "source": [
    "def clear_text(text):     # очистим строки при помощи регулярных выражений: оставим только буквы.\n",
    "    new_text = (re.sub(r'[^а-яА-ЯёЁ ]', ' ', text)).lower()\n",
    "    return \" \".join(new_text.split())"
   ]
  },
  {
   "cell_type": "code",
   "execution_count": 30,
   "metadata": {},
   "outputs": [
    {
     "name": "stdout",
     "output_type": "stream",
     "text": [
      "CPU times: user 9.02 s, sys: 8 ms, total: 9.03 s\n",
      "Wall time: 9.02 s\n"
     ]
    },
    {
     "data": {
      "text/plain": [
       "['добрый день я не являюсь клиентом банка и поручителем по кредитному договору а также не являюсь каким либо другим лицом письменно оформившим отношения с банком по поводу урегулирования чьей либо задолженности начиная с марта года начали приходить бесконечные письма из ооо примо коллект на мой адрес город москва уваровский переулок дом квартира с угрозами о возбуждении уголовного дела в отношении гражданина филиппова эдуарда владимировича который уклоняется от уплаты взятых им кредитов договор от года и договор от года со всей ответственностью хочу вас заверить что вышеуказанный гражданин которого вы разыскиваете мне не знаком и никогда в моем адресе не был зарегистрирован каким образом вы не удостоверившись в подлинности его документов оформили на его имя кредитный договор мне по меньшей мере не понятно и почему по вашей милости я должна переживать и бояться за себе и свое имущество письма доставляют мне серьезные неудобства нарушают мои гражданские права а также нарушают закон о защите персональных данных убедительно прошу прекратить посылать на мой адрес письма с угрозами по вопросам к которым я не имею отношения в случае отклонения моей претензии буду вынуждена обратиться с жалобами в другие органы росспотребнадзор центральный банк службу финансового омбудсмена кроме этого будет подано заявление в полицию и заявление в суд возмещение причиненного мне морального вреда надеюсь на скорое решение моего вопроса',\n",
       " 'доброго дня являюсь держателем зарплатной карты выданной сбербанком россии в году сменила фамилию предоставила в банк документы копию нового паспорта свидетельства о браке мне перевыпустили карту на фамилию мужа токарева мария александровна девичья секлетина возникла необходимость подключить услугу сбербанк онлайн не получилось на главной странице на отображались мои карты связалась с техническим специалистом отделения сбербанка в котором обслуживалась он пояснил что в базе банка я все ещё под девичьей фамилией секлетина предложил выслать сканы необходимых документов выслала оставив контакты звонка так и не дождалась ч з некоторое время звоню сама объясняю ситуацию меня пробивают по базе опять числюсь секлетиной хотя карту уже перевыпустили еще раз на фамилию токарева в связи с истечением срока обслуживания высылаю документы копию паспорта и свидетельства о браке результат ноль прошу помочь разобраться в этой ситуации с уважением токарева мария александровна']"
      ]
     },
     "execution_count": 30,
     "metadata": {},
     "output_type": "execute_result"
    }
   ],
   "source": [
    "%%time\n",
    "clear_lst = []\n",
    "for i in list(df['text']):\n",
    "    clear_lst.append(clear_text(i))\n",
    "clear_lst[:2]"
   ]
  },
  {
   "cell_type": "code",
   "execution_count": 31,
   "metadata": {},
   "outputs": [
    {
     "name": "stdout",
     "output_type": "stream",
     "text": [
      "CPU times: user 27.8 ms, sys: 81 µs, total: 27.9 ms\n",
      "Wall time: 27 ms\n"
     ]
    },
    {
     "data": {
      "text/html": [
       "<div>\n",
       "<style scoped>\n",
       "    .dataframe tbody tr th:only-of-type {\n",
       "        vertical-align: middle;\n",
       "    }\n",
       "\n",
       "    .dataframe tbody tr th {\n",
       "        vertical-align: top;\n",
       "    }\n",
       "\n",
       "    .dataframe thead th {\n",
       "        text-align: right;\n",
       "    }\n",
       "</style>\n",
       "<table border=\"1\" class=\"dataframe\">\n",
       "  <thead>\n",
       "    <tr style=\"text-align: right;\">\n",
       "      <th></th>\n",
       "      <th>city</th>\n",
       "      <th>title</th>\n",
       "      <th>num_comments</th>\n",
       "      <th>bank_license</th>\n",
       "      <th>author</th>\n",
       "      <th>bank_name</th>\n",
       "      <th>datetime</th>\n",
       "      <th>text</th>\n",
       "      <th>rating_grade</th>\n",
       "      <th>clear_text</th>\n",
       "    </tr>\n",
       "  </thead>\n",
       "  <tbody>\n",
       "    <tr>\n",
       "      <th>0</th>\n",
       "      <td>г. Москва</td>\n",
       "      <td>Жалоба</td>\n",
       "      <td>0</td>\n",
       "      <td>лицензия № 2562</td>\n",
       "      <td>uhnov1</td>\n",
       "      <td>Бинбанк</td>\n",
       "      <td>2015-06-08 12:50:54</td>\n",
       "      <td>добрый день я не являюсь клиентом банка и пору...</td>\n",
       "      <td>NaN</td>\n",
       "      <td>добрый день я не являюсь клиентом банка и пору...</td>\n",
       "    </tr>\n",
       "    <tr>\n",
       "      <th>1</th>\n",
       "      <td>г. Новосибирск</td>\n",
       "      <td>Не могу пользоваться услугой Сбербанк он-лайн</td>\n",
       "      <td>0</td>\n",
       "      <td>лицензия № 1481</td>\n",
       "      <td>Foryou</td>\n",
       "      <td>Сбербанк России</td>\n",
       "      <td>2015-06-08 11:09:57</td>\n",
       "      <td>доброго дня являюсь держателем зарплатной карт...</td>\n",
       "      <td>NaN</td>\n",
       "      <td>доброго дня являюсь держателем зарплатной карт...</td>\n",
       "    </tr>\n",
       "    <tr>\n",
       "      <th>2</th>\n",
       "      <td>г. Москва</td>\n",
       "      <td>Двойное списание за один товар.</td>\n",
       "      <td>1</td>\n",
       "      <td>лицензия № 2562</td>\n",
       "      <td>Vladimir84</td>\n",
       "      <td>Бинбанк</td>\n",
       "      <td>2015-06-05 20:14:28</td>\n",
       "      <td>здравствуйте дублирую свое заявление от в до м...</td>\n",
       "      <td>NaN</td>\n",
       "      <td>здравствуйте дублирую свое заявление от в до м...</td>\n",
       "    </tr>\n",
       "    <tr>\n",
       "      <th>3</th>\n",
       "      <td>г. Ставрополь</td>\n",
       "      <td>Меняют проценты комиссии  не предупредив и не ...</td>\n",
       "      <td>2</td>\n",
       "      <td>лицензия № 1481</td>\n",
       "      <td>643609</td>\n",
       "      <td>Сбербанк России</td>\n",
       "      <td>2015-06-05 13:51:01</td>\n",
       "      <td>добрый день я открыл расчетный счет в сбербанк...</td>\n",
       "      <td>NaN</td>\n",
       "      <td>добрый день я открыл расчетный счет в сбербанк...</td>\n",
       "    </tr>\n",
       "    <tr>\n",
       "      <th>4</th>\n",
       "      <td>г. Челябинск</td>\n",
       "      <td>Верните денежные средства за страховку</td>\n",
       "      <td>1</td>\n",
       "      <td>лицензия № 2766</td>\n",
       "      <td>anfisa-2003</td>\n",
       "      <td>ОТП Банк</td>\n",
       "      <td>2015-06-05 10:58:12</td>\n",
       "      <td>г взяла кредит в вашем банке заявленная мною с...</td>\n",
       "      <td>NaN</td>\n",
       "      <td>г взяла кредит в вашем банке заявленная мною с...</td>\n",
       "    </tr>\n",
       "  </tbody>\n",
       "</table>\n",
       "</div>"
      ],
      "text/plain": [
       "             city                                              title  \\\n",
       "0       г. Москва                                             Жалоба   \n",
       "1  г. Новосибирск      Не могу пользоваться услугой Сбербанк он-лайн   \n",
       "2       г. Москва                    Двойное списание за один товар.   \n",
       "3   г. Ставрополь  Меняют проценты комиссии  не предупредив и не ...   \n",
       "4    г. Челябинск             Верните денежные средства за страховку   \n",
       "\n",
       "   num_comments     bank_license       author        bank_name  \\\n",
       "0             0  лицензия № 2562       uhnov1          Бинбанк   \n",
       "1             0  лицензия № 1481       Foryou  Сбербанк России   \n",
       "2             1  лицензия № 2562   Vladimir84          Бинбанк   \n",
       "3             2  лицензия № 1481       643609  Сбербанк России   \n",
       "4             1  лицензия № 2766  anfisa-2003         ОТП Банк   \n",
       "\n",
       "              datetime                                               text  \\\n",
       "0  2015-06-08 12:50:54  добрый день я не являюсь клиентом банка и пору...   \n",
       "1  2015-06-08 11:09:57  доброго дня являюсь держателем зарплатной карт...   \n",
       "2  2015-06-05 20:14:28  здравствуйте дублирую свое заявление от в до м...   \n",
       "3  2015-06-05 13:51:01  добрый день я открыл расчетный счет в сбербанк...   \n",
       "4  2015-06-05 10:58:12  г взяла кредит в вашем банке заявленная мною с...   \n",
       "\n",
       "   rating_grade                                         clear_text  \n",
       "0           NaN  добрый день я не являюсь клиентом банка и пору...  \n",
       "1           NaN  доброго дня являюсь держателем зарплатной карт...  \n",
       "2           NaN  здравствуйте дублирую свое заявление от в до м...  \n",
       "3           NaN  добрый день я открыл расчетный счет в сбербанк...  \n",
       "4           NaN  г взяла кредит в вашем банке заявленная мною с...  "
      ]
     },
     "execution_count": 31,
     "metadata": {},
     "output_type": "execute_result"
    }
   ],
   "source": [
    "%%time\n",
    "df['clear_text'] = clear_lst\n",
    "df.head()"
   ]
  },
  {
   "cell_type": "markdown",
   "metadata": {},
   "source": [
    "Всё готово. Можем искать наиболее часто повторяющиеся слова:"
   ]
  },
  {
   "cell_type": "code",
   "execution_count": 32,
   "metadata": {},
   "outputs": [],
   "source": [
    "corpus = []\n",
    "for i in df['clear_text']:\n",
    "    i = i.split(\" \")\n",
    "    corpus.append(i)"
   ]
  },
  {
   "cell_type": "markdown",
   "metadata": {},
   "source": [
    "Придадим получившемуся корпусу слов одномерный вид:"
   ]
  },
  {
   "cell_type": "code",
   "execution_count": 33,
   "metadata": {},
   "outputs": [
    {
     "data": {
      "text/plain": [
       "['добрый',\n",
       " 'день',\n",
       " 'я',\n",
       " 'не',\n",
       " 'являюсь',\n",
       " 'клиентом',\n",
       " 'банка',\n",
       " 'и',\n",
       " 'поручителем',\n",
       " 'по']"
      ]
     },
     "execution_count": 33,
     "metadata": {},
     "output_type": "execute_result"
    }
   ],
   "source": [
    "import itertools\n",
    "corpus = list(itertools.chain.from_iterable(corpus))\n",
    "corpus[:10]"
   ]
  },
  {
   "cell_type": "markdown",
   "metadata": {},
   "source": [
    "Проверим, какие слова являются наиболее частыми:"
   ]
  },
  {
   "cell_type": "code",
   "execution_count": 34,
   "metadata": {},
   "outputs": [
    {
     "name": "stdout",
     "output_type": "stream",
     "text": [
      "CPU times: user 30.1 s, sys: 328 ms, total: 30.4 s\n",
      "Wall time: 30.4 s\n"
     ]
    }
   ],
   "source": [
    "%%time\n",
    "allWordDist = nltk.FreqDist(w for w in corpus)"
   ]
  },
  {
   "cell_type": "code",
   "execution_count": 35,
   "metadata": {},
   "outputs": [
    {
     "data": {
      "text/plain": [
       "[('в', 1330307),\n",
       " ('и', 1058997),\n",
       " ('не', 852432),\n",
       " ('на', 707803),\n",
       " ('что', 640057),\n",
       " ('я', 577500),\n",
       " ('с', 463027),\n",
       " ('по', 372759),\n",
       " ('мне', 320958),\n",
       " ('банка', 275906)]"
      ]
     },
     "execution_count": 35,
     "metadata": {},
     "output_type": "execute_result"
    }
   ],
   "source": [
    "mostCommon= allWordDist.most_common(10)\n",
    "mostCommon"
   ]
  },
  {
   "cell_type": "markdown",
   "metadata": {},
   "source": [
    "Итак, самые популярные слова - это предлоги, союзы, одно местоимение и, наконец, слово \"банк\"."
   ]
  },
  {
   "cell_type": "markdown",
   "metadata": {},
   "source": [
    " - слов без стоп-слов"
   ]
  },
  {
   "cell_type": "markdown",
   "metadata": {},
   "source": [
    "Загрузим стоп-слова"
   ]
  },
  {
   "cell_type": "code",
   "execution_count": 36,
   "metadata": {},
   "outputs": [],
   "source": [
    "from nltk.corpus import stopwords\n",
    "stopwords = stopwords.words('russian') + ['-', 'это', 'наш' , 'тыс', 'млн', 'млрд', 'также',  'т', 'д', 'г', 'Добрый день', 'Здравствуйте', 'доброго', 'дня', 'добрый', 'день', 'здравствуйте', 'В', 'тут-то', 'было', 'На', 'чуть-чуть', 'это', 'наш' , 'тыс', 'млн', 'млрд', 'также',  'Не', 'Как', 'без', 'рэ']"
   ]
  },
  {
   "cell_type": "code",
   "execution_count": 37,
   "metadata": {},
   "outputs": [
    {
     "data": {
      "text/plain": [
       "[('банка', 275906),\n",
       " ('банк', 215425),\n",
       " ('деньги', 131201),\n",
       " ('карту', 105829),\n",
       " ('карты', 101821),\n",
       " ('кредит', 81135),\n",
       " ('банке', 72169),\n",
       " ('заявление', 70423),\n",
       " ('очень', 66824),\n",
       " ('отделение', 66647)]"
      ]
     },
     "execution_count": 37,
     "metadata": {},
     "output_type": "execute_result"
    }
   ],
   "source": [
    "allWordExceptStopDist = nltk.FreqDist(w for w in corpus if w not in stopwords)    \n",
    "mostCommonExceptStopDist= allWordExceptStopDist.most_common(10)\n",
    "mostCommonExceptStopDist"
   ]
  },
  {
   "cell_type": "markdown",
   "metadata": {},
   "source": [
    "Убрав стоп-слова, мы выделили 10 наиболее часто повторяющихся слов. Вполне логично, что все они связаны с банком. Особенно интересно попадание в топ-10 слова \"очень\". Мы не определили его в список стоп-слов, поэтому можем наблюдать частоту его употребления и сделать вывод, что большая часть клиентов пишет отзыв, основываясь на эмоциях."
   ]
  },
  {
   "cell_type": "markdown",
   "metadata": {},
   "source": [
    " - лемм"
   ]
  },
  {
   "cell_type": "markdown",
   "metadata": {},
   "source": [
    "Напишем функцию, в которой будем проводить лемматизацию (возвращать слова в инфинитив) и попутно проверять на часть речи:"
   ]
  },
  {
   "cell_type": "code",
   "execution_count": 38,
   "metadata": {},
   "outputs": [],
   "source": [
    "def morph_word_lemma(key):\n",
    "    meaningfullPoSes=['NPRO', 'PREP', 'CONJ', 'PRCL', 'INTJ'] # фильтруем граммемы\n",
    "    reswords=[]\n",
    "    morph = pymorphy2.MorphAnalyzer()\n",
    "    tags = []\n",
    "\n",
    "    for word in key:\n",
    "        word_normal_form = morph.parse(word)[0].normal_form\n",
    "        form = morph.parse(word)[0].tag\n",
    "    \n",
    "        if form.POS in meaningfullPoSes:\n",
    "            continue\n",
    "        else:\n",
    "            reswords.append(word_normal_form)\n",
    "            tags.append(form)\n",
    "\n",
    "    return reswords, tags"
   ]
  },
  {
   "cell_type": "markdown",
   "metadata": {},
   "source": [
    "И составляем словарь вида «Лемма: [количество упоминаний леммы]»:"
   ]
  },
  {
   "cell_type": "code",
   "execution_count": 39,
   "metadata": {},
   "outputs": [],
   "source": [
    "def counter_dict_list(list_values):\n",
    "    \n",
    "    list_values_all=[]\n",
    "        \n",
    "    for item in list_values:\n",
    "        list_values_all.append(item)\n",
    "        dict_values_word_lemma = dict(Counter(list_values_all))\n",
    "            \n",
    "    sorted_dict_values_word_lemma = list(dict_values_word_lemma.items())\n",
    "    sorted_dict_values_word_lemma.sort(key=lambda i: i[1], reverse=True)\n",
    "    sorted_dict_values_word_lemma = dict(sorted_dict_values_word_lemma)\n",
    "\n",
    "    return (sorted_dict_values_word_lemma)"
   ]
  },
  {
   "cell_type": "markdown",
   "metadata": {},
   "source": [
    "Применяем:"
   ]
  },
  {
   "cell_type": "code",
   "execution_count": 40,
   "metadata": {},
   "outputs": [],
   "source": [
    "words, tags = morph_word_lemma(corpus[1000:6000])"
   ]
  },
  {
   "cell_type": "code",
   "execution_count": 41,
   "metadata": {},
   "outputs": [
    {
     "data": {
      "text/plain": [
       "(['ещё',\n",
       "  'подойти',\n",
       "  'разобраться',\n",
       "  'быть',\n",
       "  'крайне',\n",
       "  'удивлённый',\n",
       "  'новость',\n",
       "  'май',\n",
       "  'унификация',\n",
       "  'удивлённый'],\n",
       " [OpencorporaTag('ADVB'),\n",
       "  OpencorporaTag('VERB,perf,intr masc,sing,past,indc'),\n",
       "  OpencorporaTag('VERB,perf,intr plur,impr,excl'),\n",
       "  OpencorporaTag('VERB,impf,intr masc,sing,past,indc'),\n",
       "  OpencorporaTag('ADVB'),\n",
       "  OpencorporaTag('ADJS,Qual masc,sing'),\n",
       "  OpencorporaTag('NOUN,inan,femn sing,ablt'),\n",
       "  OpencorporaTag('NOUN,inan,masc,Sgtm sing,gent'),\n",
       "  OpencorporaTag('NOUN,inan,femn sing,gent'),\n",
       "  OpencorporaTag('ADJS,Qual masc,sing')])"
      ]
     },
     "execution_count": 41,
     "metadata": {},
     "output_type": "execute_result"
    }
   ],
   "source": [
    "words[:10], tags[:10]"
   ]
  },
  {
   "cell_type": "code",
   "execution_count": 42,
   "metadata": {},
   "outputs": [
    {
     "data": {
      "text/plain": [
       "[('банк', 84),\n",
       " ('быть', 83),\n",
       " ('карта', 35),\n",
       " ('мой', 33),\n",
       " ('кредит', 25),\n",
       " ('мочь', 23),\n",
       " ('клиент', 23),\n",
       " ('уже', 23),\n",
       " ('который', 22),\n",
       " ('тот', 22)]"
      ]
     },
     "execution_count": 42,
     "metadata": {},
     "output_type": "execute_result"
    }
   ],
   "source": [
    "most_common_lemm = Counter(counter_dict_list(words)).most_common(10)\n",
    "most_common_lemm"
   ]
  },
  {
   "cell_type": "markdown",
   "metadata": {},
   "source": [
    "Итак, большая часть лемм также связана с банковской темой, но сюда же попали и местоимения, и союзы, и даже один глагол."
   ]
  },
  {
   "cell_type": "markdown",
   "metadata": {},
   "source": [
    "- существительных"
   ]
  },
  {
   "cell_type": "code",
   "execution_count": 43,
   "metadata": {},
   "outputs": [],
   "source": [
    "index_noun = []\n",
    "for i in range(len(tags)):\n",
    "    if 'NOUN' in tags[i]:\n",
    "        index_noun.append(i)"
   ]
  },
  {
   "cell_type": "code",
   "execution_count": 44,
   "metadata": {},
   "outputs": [
    {
     "data": {
      "text/plain": [
       "['новость',\n",
       " 'май',\n",
       " 'унификация',\n",
       " 'эмоция',\n",
       " 'унификация',\n",
       " 'незаконность',\n",
       " 'право',\n",
       " 'сторона',\n",
       " 'договор',\n",
       " 'дело']"
      ]
     },
     "execution_count": 44,
     "metadata": {},
     "output_type": "execute_result"
    }
   ],
   "source": [
    "words_noun = [words[i] for i in range(len(words)) if i in index_noun]\n",
    "words_noun[:10]"
   ]
  },
  {
   "cell_type": "code",
   "execution_count": 45,
   "metadata": {},
   "outputs": [
    {
     "data": {
      "text/plain": [
       "[('банк', 84),\n",
       " ('карта', 35),\n",
       " ('кредит', 25),\n",
       " ('клиент', 23),\n",
       " ('день', 20),\n",
       " ('год', 20),\n",
       " ('платёж', 19),\n",
       " ('время', 18),\n",
       " ('работа', 17),\n",
       " ('раз', 17)]"
      ]
     },
     "execution_count": 45,
     "metadata": {},
     "output_type": "execute_result"
    }
   ],
   "source": [
    "most_common_noun = Counter(counter_dict_list(words_noun)).most_common(10)\n",
    "most_common_noun"
   ]
  },
  {
   "cell_type": "markdown",
   "metadata": {},
   "source": [
    "Что и требовалось доказать."
   ]
  },
  {
   "cell_type": "markdown",
   "metadata": {},
   "source": [
    "#### 4. Постройте кривые Ципфа и Хипса"
   ]
  },
  {
   "cell_type": "code",
   "execution_count": 46,
   "metadata": {},
   "outputs": [
    {
     "data": {
      "text/plain": [
       "[('в', 1330307),\n",
       " ('и', 1058997),\n",
       " ('не', 852432),\n",
       " ('на', 707803),\n",
       " ('что', 640057),\n",
       " ('я', 577500),\n",
       " ('с', 463027),\n",
       " ('по', 372759),\n",
       " ('мне', 320958),\n",
       " ('банка', 275906),\n",
       " ('а', 233385),\n",
       " ('банк', 215425),\n",
       " ('как', 205680),\n",
       " ('но', 200418),\n",
       " ('за', 192851),\n",
       " ('то', 191820),\n",
       " ('меня', 187279),\n",
       " ('это', 183365),\n",
       " ('у', 178134),\n",
       " ('к', 177424)]"
      ]
     },
     "execution_count": 46,
     "metadata": {},
     "output_type": "execute_result"
    }
   ],
   "source": [
    "freq_dict = Counter(corpus)\n",
    "freq_dict.most_common(20)"
   ]
  },
  {
   "cell_type": "markdown",
   "metadata": {},
   "source": [
    "*Закон Ципфа*"
   ]
  },
  {
   "cell_type": "markdown",
   "metadata": {},
   "source": [
    "Эмпирическая закономерность: если все слова корпуса текста упорядочить по убыванию частоты их использования, то частота n-го слова в таком списке окажется приблизительно обратно пропорциональной его порядковому номеру n. Иными словами, частотность слов убывает очень быстро."
   ]
  },
  {
   "cell_type": "markdown",
   "metadata": {},
   "source": [
    "В любом достаточно большом тексте ранг слова обратно пропорционален его частоте: $f = \\frac{a}{r}$\n",
    "\n",
    "$f$ – частота слова, $r$  – ранг слова, $a$  – параметр, для славянских языков – около 0.07"
   ]
  },
  {
   "cell_type": "code",
   "execution_count": 47,
   "metadata": {},
   "outputs": [
    {
     "data": {
      "image/png": "[encoded data removed]",
      "text/plain": [
       "<Figure size 864x576 with 1 Axes>"
      ]
     },
     "metadata": {
      "needs_background": "light"
     },
     "output_type": "display_data"
    }
   ],
   "source": [
    "freqs = list(freq_dict.values())\n",
    "freqs = sorted(freqs, reverse = True)\n",
    "\n",
    "\n",
    "fig, ax = plt.subplots(figsize=(12,8))\n",
    "ax.plot(freqs[:300], range(300))\n",
    "plt.xlabel('Индекс слова')\n",
    "plt.ylabel('Частота употребления слова')\n",
    "plt.title('Кривая Ципфа')\n",
    "plt.show()"
   ]
  },
  {
   "cell_type": "markdown",
   "metadata": {},
   "source": [
    "*Закон Хипса*"
   ]
  },
  {
   "cell_type": "markdown",
   "metadata": {},
   "source": [
    "Закон Хипса -- обратная сторона закона Ципфа. Он описывает, что чем больше корпус, тем меньше новых слов добавляется с добавлением новых текстов. В какой-то момент корпус насыщается."
   ]
  },
  {
   "cell_type": "markdown",
   "metadata": {},
   "source": [
    "С увеличением длины текста (количества токенов), количество слов увеличивается в соответствии с законом: $|V| = K*N^b$\n",
    "\n",
    "\n",
    "$N$  –  число токенов, $|V|$  – количество слов в словаре, $K, b$  –  параметры, обычно $K \\in [10,100], b \\in [0.4, 0.6]$"
   ]
  },
  {
   "cell_type": "code",
   "execution_count": 48,
   "metadata": {},
   "outputs": [
    {
     "name": "stderr",
     "output_type": "stream",
     "text": [
      "100%|██████████| 1000/1000 [00:01<00:00, 505.85it/s]\n"
     ]
    }
   ],
   "source": [
    "from tqdm import tqdm\n",
    "from string import punctuation\n",
    "from nltk.tokenize import word_tokenize\n",
    "\n",
    "cnt = Counter()\n",
    "n_words = []\n",
    "n_tokens = []\n",
    "tokens = []\n",
    "tokens_all = []\n",
    "for index, row in tqdm(df[:1000].iterrows(), total = len(df[:1000])):\n",
    "    tokens = word_tokenize(row['text'])\n",
    "    cnt.update([token for token in tokens if token not in punctuation])\n",
    "    tokens_all.append(tokens)\n",
    "    n_words.append(len(cnt))\n",
    "    n_tokens.append(list(sum(cnt.values())))"
   ]
  },
  {
   "cell_type": "markdown",
   "metadata": {},
   "source": [
    "Преобразуем n_tokens в формат списка:"
   ]
  },
  {
   "cell_type": "code",
   "execution_count": 49,
   "metadata": {},
   "outputs": [],
   "source": [
    "new_token = []\n",
    "for i in n_tokens:\n",
    "    t = []\n",
    "    for j in i:\n",
    "        if j != 1:\n",
    "            t.append(j)\n",
    "        else:\n",
    "            continue\n",
    "    new_token.append(t)"
   ]
  },
  {
   "cell_type": "code",
   "execution_count": 50,
   "metadata": {},
   "outputs": [
    {
     "data": {
      "image/png": "[encoded data removed]",
      "text/plain": [
       "<Figure size 864x576 with 1 Axes>"
      ]
     },
     "metadata": {
      "needs_background": "light"
     },
     "output_type": "display_data"
    },
    {
     "name": "stdout",
     "output_type": "stream",
     "text": [
      "CPU times: user 840 ms, sys: 23.8 ms, total: 864 ms\n",
      "Wall time: 861 ms\n"
     ]
    }
   ],
   "source": [
    "%%time\n",
    "fig, ax = plt.subplots(figsize=(12,8))\n",
    "ax.plot([sum(i) for i in new_token], n_words)\n",
    "plt.show()"
   ]
  },
  {
   "cell_type": "markdown",
   "metadata": {},
   "source": [
    "#### 5. Ответьте на следующие вопросы:\n",
    "- какое слово встречается чаще, \"сотрудник\" или \"клиент\"?\n",
    "- сколько раз встречается слова \"мошенничество\" и \"доверие\"?"
   ]
  },
  {
   "cell_type": "code",
   "execution_count": 51,
   "metadata": {},
   "outputs": [],
   "source": [
    "from nltk import FreqDist"
   ]
  },
  {
   "cell_type": "markdown",
   "metadata": {},
   "source": [
    "Преобразуем список списков в плоский список:"
   ]
  },
  {
   "cell_type": "code",
   "execution_count": 52,
   "metadata": {},
   "outputs": [],
   "source": [
    "flat_list = [item for sublist in tokens_all for item in sublist]"
   ]
  },
  {
   "cell_type": "markdown",
   "metadata": {},
   "source": [
    "И посмотрим, сколько же раз употребляются слова в нашем срезе:"
   ]
  },
  {
   "cell_type": "code",
   "execution_count": 53,
   "metadata": {},
   "outputs": [
    {
     "name": "stdout",
     "output_type": "stream",
     "text": [
      "178\n"
     ]
    }
   ],
   "source": [
    "print(FreqDist(flat_list)['сотрудник'])"
   ]
  },
  {
   "cell_type": "code",
   "execution_count": 54,
   "metadata": {},
   "outputs": [
    {
     "name": "stdout",
     "output_type": "stream",
     "text": [
      "121\n"
     ]
    }
   ],
   "source": [
    "print(FreqDist(flat_list)['клиент'])"
   ]
  },
  {
   "cell_type": "code",
   "execution_count": 55,
   "metadata": {},
   "outputs": [
    {
     "name": "stdout",
     "output_type": "stream",
     "text": [
      "9\n"
     ]
    }
   ],
   "source": [
    "print(FreqDist(flat_list)['мошенничество'])"
   ]
  },
  {
   "cell_type": "code",
   "execution_count": 56,
   "metadata": {},
   "outputs": [
    {
     "name": "stdout",
     "output_type": "stream",
     "text": [
      "20\n"
     ]
    }
   ],
   "source": [
    "print(FreqDist(flat_list)['доверие'])"
   ]
  },
  {
   "cell_type": "markdown",
   "metadata": {},
   "source": [
    "Итак, с учетом того, что мы взяли лишь малую часть отзывов, можно сказать, что слово \"сотрудник\" встречается чаще, чем \"клиент\". При этом количество слов \"доверие\" больше, чем \"мошенничество\", и это радует."
   ]
  },
  {
   "cell_type": "markdown",
   "metadata": {},
   "source": [
    "#### 6. В поле \"rating_grade\" записана оценка отзыва по шкале от 1 до 5. Используйте меру  𝑡𝑓−𝑖𝑑𝑓 , для того, чтобы найти ключевые слова и биграмы для положительных отзывов (с оценкой 5) и отрицательных отзывов (с оценкой 1)"
   ]
  },
  {
   "cell_type": "markdown",
   "metadata": {},
   "source": [
    "Этот столбец содержит много пропущенных значений. Занулим \"Nanы\" (будем считать, что рейтинг 0 - это отзыв без оценки):"
   ]
  },
  {
   "cell_type": "code",
   "execution_count": 57,
   "metadata": {},
   "outputs": [
    {
     "data": {
      "text/html": [
       "<div>\n",
       "<style scoped>\n",
       "    .dataframe tbody tr th:only-of-type {\n",
       "        vertical-align: middle;\n",
       "    }\n",
       "\n",
       "    .dataframe tbody tr th {\n",
       "        vertical-align: top;\n",
       "    }\n",
       "\n",
       "    .dataframe thead th {\n",
       "        text-align: right;\n",
       "    }\n",
       "</style>\n",
       "<table border=\"1\" class=\"dataframe\">\n",
       "  <thead>\n",
       "    <tr style=\"text-align: right;\">\n",
       "      <th></th>\n",
       "      <th>city</th>\n",
       "      <th>title</th>\n",
       "      <th>num_comments</th>\n",
       "      <th>bank_license</th>\n",
       "      <th>author</th>\n",
       "      <th>bank_name</th>\n",
       "      <th>datetime</th>\n",
       "      <th>text</th>\n",
       "      <th>rating_grade</th>\n",
       "      <th>clear_text</th>\n",
       "    </tr>\n",
       "  </thead>\n",
       "  <tbody>\n",
       "    <tr>\n",
       "      <th>0</th>\n",
       "      <td>г. Москва</td>\n",
       "      <td>Жалоба</td>\n",
       "      <td>0</td>\n",
       "      <td>лицензия № 2562</td>\n",
       "      <td>uhnov1</td>\n",
       "      <td>Бинбанк</td>\n",
       "      <td>2015-06-08 12:50:54</td>\n",
       "      <td>добрый день я не являюсь клиентом банка и пору...</td>\n",
       "      <td>0.0</td>\n",
       "      <td>добрый день я не являюсь клиентом банка и пору...</td>\n",
       "    </tr>\n",
       "    <tr>\n",
       "      <th>1</th>\n",
       "      <td>г. Новосибирск</td>\n",
       "      <td>Не могу пользоваться услугой Сбербанк он-лайн</td>\n",
       "      <td>0</td>\n",
       "      <td>лицензия № 1481</td>\n",
       "      <td>Foryou</td>\n",
       "      <td>Сбербанк России</td>\n",
       "      <td>2015-06-08 11:09:57</td>\n",
       "      <td>доброго дня являюсь держателем зарплатной карт...</td>\n",
       "      <td>0.0</td>\n",
       "      <td>доброго дня являюсь держателем зарплатной карт...</td>\n",
       "    </tr>\n",
       "    <tr>\n",
       "      <th>2</th>\n",
       "      <td>г. Москва</td>\n",
       "      <td>Двойное списание за один товар.</td>\n",
       "      <td>1</td>\n",
       "      <td>лицензия № 2562</td>\n",
       "      <td>Vladimir84</td>\n",
       "      <td>Бинбанк</td>\n",
       "      <td>2015-06-05 20:14:28</td>\n",
       "      <td>здравствуйте дублирую свое заявление от в до м...</td>\n",
       "      <td>0.0</td>\n",
       "      <td>здравствуйте дублирую свое заявление от в до м...</td>\n",
       "    </tr>\n",
       "    <tr>\n",
       "      <th>3</th>\n",
       "      <td>г. Ставрополь</td>\n",
       "      <td>Меняют проценты комиссии  не предупредив и не ...</td>\n",
       "      <td>2</td>\n",
       "      <td>лицензия № 1481</td>\n",
       "      <td>643609</td>\n",
       "      <td>Сбербанк России</td>\n",
       "      <td>2015-06-05 13:51:01</td>\n",
       "      <td>добрый день я открыл расчетный счет в сбербанк...</td>\n",
       "      <td>0.0</td>\n",
       "      <td>добрый день я открыл расчетный счет в сбербанк...</td>\n",
       "    </tr>\n",
       "    <tr>\n",
       "      <th>4</th>\n",
       "      <td>г. Челябинск</td>\n",
       "      <td>Верните денежные средства за страховку</td>\n",
       "      <td>1</td>\n",
       "      <td>лицензия № 2766</td>\n",
       "      <td>anfisa-2003</td>\n",
       "      <td>ОТП Банк</td>\n",
       "      <td>2015-06-05 10:58:12</td>\n",
       "      <td>г взяла кредит в вашем банке заявленная мною с...</td>\n",
       "      <td>0.0</td>\n",
       "      <td>г взяла кредит в вашем банке заявленная мною с...</td>\n",
       "    </tr>\n",
       "  </tbody>\n",
       "</table>\n",
       "</div>"
      ],
      "text/plain": [
       "             city                                              title  \\\n",
       "0       г. Москва                                             Жалоба   \n",
       "1  г. Новосибирск      Не могу пользоваться услугой Сбербанк он-лайн   \n",
       "2       г. Москва                    Двойное списание за один товар.   \n",
       "3   г. Ставрополь  Меняют проценты комиссии  не предупредив и не ...   \n",
       "4    г. Челябинск             Верните денежные средства за страховку   \n",
       "\n",
       "   num_comments     bank_license       author        bank_name  \\\n",
       "0             0  лицензия № 2562       uhnov1          Бинбанк   \n",
       "1             0  лицензия № 1481       Foryou  Сбербанк России   \n",
       "2             1  лицензия № 2562   Vladimir84          Бинбанк   \n",
       "3             2  лицензия № 1481       643609  Сбербанк России   \n",
       "4             1  лицензия № 2766  anfisa-2003         ОТП Банк   \n",
       "\n",
       "              datetime                                               text  \\\n",
       "0  2015-06-08 12:50:54  добрый день я не являюсь клиентом банка и пору...   \n",
       "1  2015-06-08 11:09:57  доброго дня являюсь держателем зарплатной карт...   \n",
       "2  2015-06-05 20:14:28  здравствуйте дублирую свое заявление от в до м...   \n",
       "3  2015-06-05 13:51:01  добрый день я открыл расчетный счет в сбербанк...   \n",
       "4  2015-06-05 10:58:12  г взяла кредит в вашем банке заявленная мною с...   \n",
       "\n",
       "   rating_grade                                         clear_text  \n",
       "0           0.0  добрый день я не являюсь клиентом банка и пору...  \n",
       "1           0.0  доброго дня являюсь держателем зарплатной карт...  \n",
       "2           0.0  здравствуйте дублирую свое заявление от в до м...  \n",
       "3           0.0  добрый день я открыл расчетный счет в сбербанк...  \n",
       "4           0.0  г взяла кредит в вашем банке заявленная мною с...  "
      ]
     },
     "execution_count": 57,
     "metadata": {},
     "output_type": "execute_result"
    }
   ],
   "source": [
    "df['rating_grade'] = df['rating_grade'].fillna(0)\n",
    "df.head()"
   ]
  },
  {
   "cell_type": "markdown",
   "metadata": {},
   "source": [
    "Посмотрим, сколько оценок выставлено всего по каждой ступени шкалы:"
   ]
  },
  {
   "cell_type": "code",
   "execution_count": 58,
   "metadata": {},
   "outputs": [
    {
     "data": {
      "text/plain": [
       "0.0    64841\n",
       "1.0    47387\n",
       "5.0    14713\n",
       "2.0    13509\n",
       "3.0     9261\n",
       "4.0     3788\n",
       "Name: rating_grade, dtype: int64"
      ]
     },
     "execution_count": 58,
     "metadata": {},
     "output_type": "execute_result"
    }
   ],
   "source": [
    "df['rating_grade'].value_counts()"
   ]
  },
  {
   "cell_type": "markdown",
   "metadata": {},
   "source": [
    "Вытащим из датафрейма строки с рейтингом 5 и 1. Разделим на 2 датафрейма: "
   ]
  },
  {
   "cell_type": "code",
   "execution_count": 59,
   "metadata": {},
   "outputs": [],
   "source": [
    "df_5 = df[df['rating_grade'] == 5.0][:5000]\n",
    "df_1 = df[df['rating_grade'] == 1.0][:5000]"
   ]
  },
  {
   "cell_type": "code",
   "execution_count": 60,
   "metadata": {},
   "outputs": [],
   "source": [
    "corpus_5 = df_5['clear_text'].values.astype('U')"
   ]
  },
  {
   "cell_type": "code",
   "execution_count": 61,
   "metadata": {},
   "outputs": [],
   "source": [
    "corpus_1 = df_1['clear_text'].values.astype('U')"
   ]
  },
  {
   "cell_type": "code",
   "execution_count": 62,
   "metadata": {},
   "outputs": [],
   "source": [
    "def tf_idf_analysis(keyword, ngram):\n",
    "    \n",
    "    v = TfidfVectorizer(min_df=2,analyzer='word',ngram_range=ngram,stop_words=stopwords)\n",
    "    x = v.fit_transform(keyword)\n",
    "    f = pd.DataFrame(x.toarray(), columns = v.get_feature_names())\n",
    "    d=pd.concat([pd.DataFrame(f.mean(axis=0)),pd.DataFrame(f.max(axis=0))],axis=1)\n",
    "    \n",
    "    \n",
    "    tf=pd.DataFrame((f>0).sum(axis=0))\n",
    "    d=d.reset_index().merge(tf.reset_index(),on='index',how='left')\n",
    "    d.columns=['word','average_tfidf','max_tfidf','frequency']\n",
    "    d['frequency']=round((d['frequency']/len(keyword))*100)\n",
    "    d = d.sort_values(by='average_tfidf', ascending=False)\n",
    "    return d"
   ]
  },
  {
   "cell_type": "code",
   "execution_count": 63,
   "metadata": {},
   "outputs": [
    {
     "data": {
      "text/html": [
       "<div>\n",
       "<style scoped>\n",
       "    .dataframe tbody tr th:only-of-type {\n",
       "        vertical-align: middle;\n",
       "    }\n",
       "\n",
       "    .dataframe tbody tr th {\n",
       "        vertical-align: top;\n",
       "    }\n",
       "\n",
       "    .dataframe thead th {\n",
       "        text-align: right;\n",
       "    }\n",
       "</style>\n",
       "<table border=\"1\" class=\"dataframe\">\n",
       "  <thead>\n",
       "    <tr style=\"text-align: right;\">\n",
       "      <th></th>\n",
       "      <th>word</th>\n",
       "      <th>average_tfidf</th>\n",
       "      <th>max_tfidf</th>\n",
       "      <th>frequency</th>\n",
       "    </tr>\n",
       "  </thead>\n",
       "  <tbody>\n",
       "    <tr>\n",
       "      <th>677</th>\n",
       "      <td>банка</td>\n",
       "      <td>0.036185</td>\n",
       "      <td>0.243167</td>\n",
       "      <td>71.0</td>\n",
       "    </tr>\n",
       "    <tr>\n",
       "      <th>676</th>\n",
       "      <td>банк</td>\n",
       "      <td>0.031523</td>\n",
       "      <td>0.216617</td>\n",
       "      <td>63.0</td>\n",
       "    </tr>\n",
       "    <tr>\n",
       "      <th>14990</th>\n",
       "      <td>очень</td>\n",
       "      <td>0.027666</td>\n",
       "      <td>0.312804</td>\n",
       "      <td>55.0</td>\n",
       "    </tr>\n",
       "    <tr>\n",
       "      <th>4317</th>\n",
       "      <td>деньги</td>\n",
       "      <td>0.019194</td>\n",
       "      <td>0.293707</td>\n",
       "      <td>31.0</td>\n",
       "    </tr>\n",
       "    <tr>\n",
       "      <th>23757</th>\n",
       "      <td>спасибо</td>\n",
       "      <td>0.018784</td>\n",
       "      <td>0.204159</td>\n",
       "      <td>45.0</td>\n",
       "    </tr>\n",
       "    <tr>\n",
       "      <th>8037</th>\n",
       "      <td>карту</td>\n",
       "      <td>0.018490</td>\n",
       "      <td>0.298504</td>\n",
       "      <td>28.0</td>\n",
       "    </tr>\n",
       "    <tr>\n",
       "      <th>2027</th>\n",
       "      <td>вклад</td>\n",
       "      <td>0.018210</td>\n",
       "      <td>0.329678</td>\n",
       "      <td>21.0</td>\n",
       "    </tr>\n",
       "    <tr>\n",
       "      <th>681</th>\n",
       "      <td>банке</td>\n",
       "      <td>0.017642</td>\n",
       "      <td>0.175698</td>\n",
       "      <td>39.0</td>\n",
       "    </tr>\n",
       "    <tr>\n",
       "      <th>8038</th>\n",
       "      <td>карты</td>\n",
       "      <td>0.016838</td>\n",
       "      <td>0.414211</td>\n",
       "      <td>26.0</td>\n",
       "    </tr>\n",
       "    <tr>\n",
       "      <th>9076</th>\n",
       "      <td>кредит</td>\n",
       "      <td>0.016313</td>\n",
       "      <td>0.345375</td>\n",
       "      <td>20.0</td>\n",
       "    </tr>\n",
       "  </tbody>\n",
       "</table>\n",
       "</div>"
      ],
      "text/plain": [
       "          word  average_tfidf  max_tfidf  frequency\n",
       "677      банка       0.036185   0.243167       71.0\n",
       "676       банк       0.031523   0.216617       63.0\n",
       "14990    очень       0.027666   0.312804       55.0\n",
       "4317    деньги       0.019194   0.293707       31.0\n",
       "23757  спасибо       0.018784   0.204159       45.0\n",
       "8037     карту       0.018490   0.298504       28.0\n",
       "2027     вклад       0.018210   0.329678       21.0\n",
       "681      банке       0.017642   0.175698       39.0\n",
       "8038     карты       0.016838   0.414211       26.0\n",
       "9076    кредит       0.016313   0.345375       20.0"
      ]
     },
     "execution_count": 63,
     "metadata": {},
     "output_type": "execute_result"
    }
   ],
   "source": [
    "tf_idf_analysis(corpus_5, (1, 1))[:10]"
   ]
  },
  {
   "cell_type": "code",
   "execution_count": 64,
   "metadata": {},
   "outputs": [
    {
     "data": {
      "text/html": [
       "<div>\n",
       "<style scoped>\n",
       "    .dataframe tbody tr th:only-of-type {\n",
       "        vertical-align: middle;\n",
       "    }\n",
       "\n",
       "    .dataframe tbody tr th {\n",
       "        vertical-align: top;\n",
       "    }\n",
       "\n",
       "    .dataframe thead th {\n",
       "        text-align: right;\n",
       "    }\n",
       "</style>\n",
       "<table border=\"1\" class=\"dataframe\">\n",
       "  <thead>\n",
       "    <tr style=\"text-align: right;\">\n",
       "      <th></th>\n",
       "      <th>word</th>\n",
       "      <th>average_tfidf</th>\n",
       "      <th>max_tfidf</th>\n",
       "      <th>frequency</th>\n",
       "    </tr>\n",
       "  </thead>\n",
       "  <tbody>\n",
       "    <tr>\n",
       "      <th>604</th>\n",
       "      <td>банка</td>\n",
       "      <td>0.039494</td>\n",
       "      <td>0.244981</td>\n",
       "      <td>72.0</td>\n",
       "    </tr>\n",
       "    <tr>\n",
       "      <th>603</th>\n",
       "      <td>банк</td>\n",
       "      <td>0.031411</td>\n",
       "      <td>0.215071</td>\n",
       "      <td>62.0</td>\n",
       "    </tr>\n",
       "    <tr>\n",
       "      <th>4169</th>\n",
       "      <td>деньги</td>\n",
       "      <td>0.028385</td>\n",
       "      <td>0.364888</td>\n",
       "      <td>43.0</td>\n",
       "    </tr>\n",
       "    <tr>\n",
       "      <th>7784</th>\n",
       "      <td>карту</td>\n",
       "      <td>0.023222</td>\n",
       "      <td>0.320347</td>\n",
       "      <td>32.0</td>\n",
       "    </tr>\n",
       "    <tr>\n",
       "      <th>7785</th>\n",
       "      <td>карты</td>\n",
       "      <td>0.022602</td>\n",
       "      <td>0.356963</td>\n",
       "      <td>31.0</td>\n",
       "    </tr>\n",
       "    <tr>\n",
       "      <th>6542</th>\n",
       "      <td>заявление</td>\n",
       "      <td>0.019500</td>\n",
       "      <td>0.326677</td>\n",
       "      <td>30.0</td>\n",
       "    </tr>\n",
       "    <tr>\n",
       "      <th>13772</th>\n",
       "      <td>отделение</td>\n",
       "      <td>0.017618</td>\n",
       "      <td>0.214692</td>\n",
       "      <td>32.0</td>\n",
       "    </tr>\n",
       "    <tr>\n",
       "      <th>8672</th>\n",
       "      <td>кредит</td>\n",
       "      <td>0.017528</td>\n",
       "      <td>0.335810</td>\n",
       "      <td>23.0</td>\n",
       "    </tr>\n",
       "    <tr>\n",
       "      <th>4374</th>\n",
       "      <td>дней</td>\n",
       "      <td>0.015322</td>\n",
       "      <td>0.284778</td>\n",
       "      <td>28.0</td>\n",
       "    </tr>\n",
       "    <tr>\n",
       "      <th>23789</th>\n",
       "      <td>счет</td>\n",
       "      <td>0.015256</td>\n",
       "      <td>0.314469</td>\n",
       "      <td>23.0</td>\n",
       "    </tr>\n",
       "  </tbody>\n",
       "</table>\n",
       "</div>"
      ],
      "text/plain": [
       "            word  average_tfidf  max_tfidf  frequency\n",
       "604        банка       0.039494   0.244981       72.0\n",
       "603         банк       0.031411   0.215071       62.0\n",
       "4169      деньги       0.028385   0.364888       43.0\n",
       "7784       карту       0.023222   0.320347       32.0\n",
       "7785       карты       0.022602   0.356963       31.0\n",
       "6542   заявление       0.019500   0.326677       30.0\n",
       "13772  отделение       0.017618   0.214692       32.0\n",
       "8672      кредит       0.017528   0.335810       23.0\n",
       "4374        дней       0.015322   0.284778       28.0\n",
       "23789       счет       0.015256   0.314469       23.0"
      ]
     },
     "execution_count": 64,
     "metadata": {},
     "output_type": "execute_result"
    }
   ],
   "source": [
    "tf_idf_analysis(corpus_1, (1, 1))[:10]"
   ]
  },
  {
   "cell_type": "markdown",
   "metadata": {},
   "source": [
    "И биграммы:"
   ]
  },
  {
   "cell_type": "code",
   "execution_count": 65,
   "metadata": {},
   "outputs": [
    {
     "data": {
      "text/html": [
       "<div>\n",
       "<style scoped>\n",
       "    .dataframe tbody tr th:only-of-type {\n",
       "        vertical-align: middle;\n",
       "    }\n",
       "\n",
       "    .dataframe tbody tr th {\n",
       "        vertical-align: top;\n",
       "    }\n",
       "\n",
       "    .dataframe thead th {\n",
       "        text-align: right;\n",
       "    }\n",
       "</style>\n",
       "<table border=\"1\" class=\"dataframe\">\n",
       "  <thead>\n",
       "    <tr style=\"text-align: right;\">\n",
       "      <th></th>\n",
       "      <th>word</th>\n",
       "      <th>average_tfidf</th>\n",
       "      <th>max_tfidf</th>\n",
       "      <th>frequency</th>\n",
       "    </tr>\n",
       "  </thead>\n",
       "  <tbody>\n",
       "    <tr>\n",
       "      <th>17722</th>\n",
       "      <td>интернет банк</td>\n",
       "      <td>0.007412</td>\n",
       "      <td>0.242950</td>\n",
       "      <td>11.0</td>\n",
       "    </tr>\n",
       "    <tr>\n",
       "      <th>20541</th>\n",
       "      <td>клиентом банка</td>\n",
       "      <td>0.005934</td>\n",
       "      <td>0.201431</td>\n",
       "      <td>9.0</td>\n",
       "    </tr>\n",
       "    <tr>\n",
       "      <th>59389</th>\n",
       "      <td>являюсь клиентом</td>\n",
       "      <td>0.005869</td>\n",
       "      <td>0.166809</td>\n",
       "      <td>9.0</td>\n",
       "    </tr>\n",
       "    <tr>\n",
       "      <th>10244</th>\n",
       "      <td>выразить благодарность</td>\n",
       "      <td>0.005735</td>\n",
       "      <td>0.216688</td>\n",
       "      <td>7.0</td>\n",
       "    </tr>\n",
       "    <tr>\n",
       "      <th>58063</th>\n",
       "      <td>хочу выразить</td>\n",
       "      <td>0.005698</td>\n",
       "      <td>0.164807</td>\n",
       "      <td>8.0</td>\n",
       "    </tr>\n",
       "    <tr>\n",
       "      <th>4773</th>\n",
       "      <td>большое спасибо</td>\n",
       "      <td>0.004811</td>\n",
       "      <td>0.306217</td>\n",
       "      <td>6.0</td>\n",
       "    </tr>\n",
       "    <tr>\n",
       "      <th>35222</th>\n",
       "      <td>очень быстро</td>\n",
       "      <td>0.004622</td>\n",
       "      <td>0.209632</td>\n",
       "      <td>6.0</td>\n",
       "    </tr>\n",
       "    <tr>\n",
       "      <th>30536</th>\n",
       "      <td>огромное спасибо</td>\n",
       "      <td>0.004473</td>\n",
       "      <td>0.274961</td>\n",
       "      <td>5.0</td>\n",
       "    </tr>\n",
       "    <tr>\n",
       "      <th>14696</th>\n",
       "      <td>других банках</td>\n",
       "      <td>0.004160</td>\n",
       "      <td>0.214394</td>\n",
       "      <td>6.0</td>\n",
       "    </tr>\n",
       "    <tr>\n",
       "      <th>35615</th>\n",
       "      <td>очень удобно</td>\n",
       "      <td>0.003894</td>\n",
       "      <td>0.247112</td>\n",
       "      <td>5.0</td>\n",
       "    </tr>\n",
       "  </tbody>\n",
       "</table>\n",
       "</div>"
      ],
      "text/plain": [
       "                         word  average_tfidf  max_tfidf  frequency\n",
       "17722           интернет банк       0.007412   0.242950       11.0\n",
       "20541          клиентом банка       0.005934   0.201431        9.0\n",
       "59389        являюсь клиентом       0.005869   0.166809        9.0\n",
       "10244  выразить благодарность       0.005735   0.216688        7.0\n",
       "58063           хочу выразить       0.005698   0.164807        8.0\n",
       "4773          большое спасибо       0.004811   0.306217        6.0\n",
       "35222            очень быстро       0.004622   0.209632        6.0\n",
       "30536        огромное спасибо       0.004473   0.274961        5.0\n",
       "14696           других банках       0.004160   0.214394        6.0\n",
       "35615            очень удобно       0.003894   0.247112        5.0"
      ]
     },
     "execution_count": 65,
     "metadata": {},
     "output_type": "execute_result"
    }
   ],
   "source": [
    "tf_idf_analysis(corpus_5, (2, 2))[:10]"
   ]
  },
  {
   "cell_type": "code",
   "execution_count": 66,
   "metadata": {},
   "outputs": [
    {
     "data": {
      "text/html": [
       "<div>\n",
       "<style scoped>\n",
       "    .dataframe tbody tr th:only-of-type {\n",
       "        vertical-align: middle;\n",
       "    }\n",
       "\n",
       "    .dataframe tbody tr th {\n",
       "        vertical-align: top;\n",
       "    }\n",
       "\n",
       "    .dataframe thead th {\n",
       "        text-align: right;\n",
       "    }\n",
       "</style>\n",
       "<table border=\"1\" class=\"dataframe\">\n",
       "  <thead>\n",
       "    <tr style=\"text-align: right;\">\n",
       "      <th></th>\n",
       "      <th>word</th>\n",
       "      <th>average_tfidf</th>\n",
       "      <th>max_tfidf</th>\n",
       "      <th>frequency</th>\n",
       "    </tr>\n",
       "  </thead>\n",
       "  <tbody>\n",
       "    <tr>\n",
       "      <th>37027</th>\n",
       "      <td>отделение банка</td>\n",
       "      <td>0.007068</td>\n",
       "      <td>0.207141</td>\n",
       "      <td>11.0</td>\n",
       "    </tr>\n",
       "    <tr>\n",
       "      <th>12154</th>\n",
       "      <td>денежных средств</td>\n",
       "      <td>0.006724</td>\n",
       "      <td>0.249585</td>\n",
       "      <td>9.0</td>\n",
       "    </tr>\n",
       "    <tr>\n",
       "      <th>12146</th>\n",
       "      <td>денежные средства</td>\n",
       "      <td>0.006710</td>\n",
       "      <td>0.358506</td>\n",
       "      <td>8.0</td>\n",
       "    </tr>\n",
       "    <tr>\n",
       "      <th>10207</th>\n",
       "      <td>горячую линию</td>\n",
       "      <td>0.006328</td>\n",
       "      <td>0.220703</td>\n",
       "      <td>9.0</td>\n",
       "    </tr>\n",
       "    <tr>\n",
       "      <th>54895</th>\n",
       "      <td>сих пор</td>\n",
       "      <td>0.006068</td>\n",
       "      <td>0.264035</td>\n",
       "      <td>8.0</td>\n",
       "    </tr>\n",
       "    <tr>\n",
       "      <th>10203</th>\n",
       "      <td>горячей линии</td>\n",
       "      <td>0.005493</td>\n",
       "      <td>0.301914</td>\n",
       "      <td>7.0</td>\n",
       "    </tr>\n",
       "    <tr>\n",
       "      <th>57782</th>\n",
       "      <td>сотрудник банка</td>\n",
       "      <td>0.005158</td>\n",
       "      <td>0.322116</td>\n",
       "      <td>7.0</td>\n",
       "    </tr>\n",
       "    <tr>\n",
       "      <th>58025</th>\n",
       "      <td>сотрудники банка</td>\n",
       "      <td>0.005136</td>\n",
       "      <td>0.274626</td>\n",
       "      <td>8.0</td>\n",
       "    </tr>\n",
       "    <tr>\n",
       "      <th>25253</th>\n",
       "      <td>кредитную карту</td>\n",
       "      <td>0.004237</td>\n",
       "      <td>0.241274</td>\n",
       "      <td>5.0</td>\n",
       "    </tr>\n",
       "    <tr>\n",
       "      <th>4955</th>\n",
       "      <td>вашего банка</td>\n",
       "      <td>0.004230</td>\n",
       "      <td>0.365244</td>\n",
       "      <td>5.0</td>\n",
       "    </tr>\n",
       "  </tbody>\n",
       "</table>\n",
       "</div>"
      ],
      "text/plain": [
       "                    word  average_tfidf  max_tfidf  frequency\n",
       "37027    отделение банка       0.007068   0.207141       11.0\n",
       "12154   денежных средств       0.006724   0.249585        9.0\n",
       "12146  денежные средства       0.006710   0.358506        8.0\n",
       "10207      горячую линию       0.006328   0.220703        9.0\n",
       "54895            сих пор       0.006068   0.264035        8.0\n",
       "10203      горячей линии       0.005493   0.301914        7.0\n",
       "57782    сотрудник банка       0.005158   0.322116        7.0\n",
       "58025   сотрудники банка       0.005136   0.274626        8.0\n",
       "25253    кредитную карту       0.004237   0.241274        5.0\n",
       "4955        вашего банка       0.004230   0.365244        5.0"
      ]
     },
     "execution_count": 66,
     "metadata": {},
     "output_type": "execute_result"
    }
   ],
   "source": [
    "tf_idf_analysis(corpus_1, (2, 2))[:10]"
   ]
  },
  {
   "cell_type": "markdown",
   "metadata": {},
   "source": [
    "Что можно сказать: отличия есть, и существенные. Так, например, при рейтинге \"5\" клиенты пользуются интернет-банком, выражают благодарность, хвалят за быструю работу банка, интересуются вкладами. Касаемо рейтинга \"1\": клиенты обращаются на горячую линию, пишут о крединтых картах, долго ожидают решения вопроса, также часто пишут об смс-сообщениях.  \n",
    "Вполне логично, что клиенты, поставившие \"1\", сталкиваются с проблемой и достаточно долгим ее решением.  \n",
    "Клиенты же, поставившие \"5\", наоборот рады оперативному решению возникших вопросов."
   ]
  },
  {
   "cell_type": "markdown",
   "metadata": {},
   "source": [
    "Переходим к части 2."
   ]
  },
  {
   "cell_type": "markdown",
   "metadata": {},
   "source": [
    "## Часть 2. Тематическое моделирование [20/100]\n",
    "\n",
    "1. Постройте несколько тематических моделей коллекции документов с разным числом тем. Приведите примеры понятных (интерпретируемых) тем.\n",
    "2. Найдите темы, в которых упомянуты конкретные банки (Сбербанк, ВТБ, другой банк). Можете ли вы их прокомментировать / объяснить?\n",
    "\n",
    "Эта часть задания может быть сделана с использованием gensim. "
   ]
  },
  {
   "cell_type": "markdown",
   "metadata": {},
   "source": [
    "#### 1. Постройте несколько тематических моделей коллекции документов с разным числом тем. Приведите примеры понятных (интерпретируемых) тем."
   ]
  },
  {
   "cell_type": "code",
   "execution_count": 67,
   "metadata": {},
   "outputs": [
    {
     "name": "stderr",
     "output_type": "stream",
     "text": [
      "/home/dev/.local/lib/python3.8/site-packages/gensim/similarities/__init__.py:15: UserWarning: The gensim.similarities.levenshtein submodule is disabled, because the optional Levenshtein package <https://pypi.org/project/python-Levenshtein/> is unavailable. Install Levenhstein (e.g. `pip install python-Levenshtein`) to suppress this warning.\n",
      "  warnings.warn(msg)\n"
     ]
    }
   ],
   "source": [
    "import gensim\n",
    "from gensim.corpora import Dictionary\n",
    "from gensim import corpora, models\n",
    "from gensim.models import  LsiModel, LdaModel, TfidfModel"
   ]
  },
  {
   "cell_type": "markdown",
   "metadata": {},
   "source": [
    "Для дальнейшей работы объединим срезы двух датафреймов (df_5 и df_1) и сделаем для них столбец с лемматизированными отзывами:"
   ]
  },
  {
   "cell_type": "code",
   "execution_count": 68,
   "metadata": {},
   "outputs": [],
   "source": [
    "from pymystem3 import Mystem\n",
    "\n",
    "m = Mystem()\n",
    "def lemmatize(text, mystem=m):\n",
    "    try:\n",
    "        return \"\".join(m.lemmatize(text)).strip() \n",
    "    except:\n",
    "        return \" \"\n",
    "  \n",
    "  \n",
    "def  remove_stoplemmas(text, mystoplemmas = stopwords):\n",
    "    try:\n",
    "        return \" \".join([token for token in text.split() if not token in mystoplemmas])\n",
    "    except:\n",
    "        return \"\"    \n",
    "       \n",
    "def preprocessing(text):\n",
    "    lemmas = lemmatize(text)\n",
    "    lemmas = remove_stoplemmas(lemmas)\n",
    "    return(lemmas)"
   ]
  },
  {
   "cell_type": "code",
   "execution_count": 69,
   "metadata": {},
   "outputs": [],
   "source": [
    "df_little = pd.concat([df_5, df_1]).sample(frac=1)"
   ]
  },
  {
   "cell_type": "code",
   "execution_count": 70,
   "metadata": {},
   "outputs": [
    {
     "name": "stdout",
     "output_type": "stream",
     "text": [
      "CPU times: user 6min 53s, sys: 1min 42s, total: 8min 35s\n",
      "Wall time: 38min 26s\n"
     ]
    }
   ],
   "source": [
    "%%time\n",
    "df_little['lemmatize_text'] = df['text'].apply(lambda x: preprocessing(x))"
   ]
  },
  {
   "cell_type": "code",
   "execution_count": 71,
   "metadata": {},
   "outputs": [
    {
     "data": {
      "text/html": [
       "<div>\n",
       "<style scoped>\n",
       "    .dataframe tbody tr th:only-of-type {\n",
       "        vertical-align: middle;\n",
       "    }\n",
       "\n",
       "    .dataframe tbody tr th {\n",
       "        vertical-align: top;\n",
       "    }\n",
       "\n",
       "    .dataframe thead th {\n",
       "        text-align: right;\n",
       "    }\n",
       "</style>\n",
       "<table border=\"1\" class=\"dataframe\">\n",
       "  <thead>\n",
       "    <tr style=\"text-align: right;\">\n",
       "      <th></th>\n",
       "      <th>city</th>\n",
       "      <th>title</th>\n",
       "      <th>num_comments</th>\n",
       "      <th>bank_license</th>\n",
       "      <th>author</th>\n",
       "      <th>bank_name</th>\n",
       "      <th>datetime</th>\n",
       "      <th>text</th>\n",
       "      <th>rating_grade</th>\n",
       "      <th>clear_text</th>\n",
       "      <th>lemmatize_text</th>\n",
       "    </tr>\n",
       "  </thead>\n",
       "  <tbody>\n",
       "    <tr>\n",
       "      <th>1735</th>\n",
       "      <td>г. Зеленоград</td>\n",
       "      <td>Обман</td>\n",
       "      <td>1</td>\n",
       "      <td>лицензия № 1978</td>\n",
       "      <td>JuliaKir</td>\n",
       "      <td>Московский Кредитный Банк</td>\n",
       "      <td>2015-05-17 14:53:01</td>\n",
       "      <td>оформила у вас кредит в отделении г зеленоград...</td>\n",
       "      <td>1.0</td>\n",
       "      <td>оформила у вас кредит в отделении г зеленоград...</td>\n",
       "      <td>оформлять кредит отделение зеленоград номер до...</td>\n",
       "    </tr>\n",
       "    <tr>\n",
       "      <th>25952</th>\n",
       "      <td>г. Москва</td>\n",
       "      <td>Прекрасное обслуживание в г. Красногорск, МО</td>\n",
       "      <td>0</td>\n",
       "      <td>лицензия № 1481</td>\n",
       "      <td>margo_2007</td>\n",
       "      <td>Сбербанк России</td>\n",
       "      <td>2014-11-22 12:35:00</td>\n",
       "      <td>добрый день хотелось бы поблагодарить сотрудни...</td>\n",
       "      <td>5.0</td>\n",
       "      <td>добрый день хотелось бы поблагодарить сотрудни...</td>\n",
       "      <td>хотеться поблагодарить сотрудник банк планиров...</td>\n",
       "    </tr>\n",
       "    <tr>\n",
       "      <th>18598</th>\n",
       "      <td>г. Чебоксары</td>\n",
       "      <td>Непрофессионализм?</td>\n",
       "      <td>4</td>\n",
       "      <td>лицензия № 3085</td>\n",
       "      <td>kukuruzica</td>\n",
       "      <td>Экспресс-Волга</td>\n",
       "      <td>2015-01-09 18:50:00</td>\n",
       "      <td>на мое имя был совершен перевод по системе лид...</td>\n",
       "      <td>1.0</td>\n",
       "      <td>на мое имя был совершен перевод по системе лид...</td>\n",
       "      <td>имя совершать перевод система лидер клятвенный...</td>\n",
       "    </tr>\n",
       "    <tr>\n",
       "      <th>12468</th>\n",
       "      <td>г. Москва</td>\n",
       "      <td>ВТБ24 реально достал звонками по ошибке</td>\n",
       "      <td>2</td>\n",
       "      <td>лицензия № 1623</td>\n",
       "      <td>xopowo</td>\n",
       "      <td>ВТБ 24</td>\n",
       "      <td>2015-02-23 13:06:08</td>\n",
       "      <td>в качестве небольшой предыстории учитывая бюдж...</td>\n",
       "      <td>1.0</td>\n",
       "      <td>в качестве небольшой предыстории учитывая бюдж...</td>\n",
       "      <td>качество небольшой предыстория учитывать бюдже...</td>\n",
       "    </tr>\n",
       "    <tr>\n",
       "      <th>15193</th>\n",
       "      <td>г. Москва</td>\n",
       "      <td>Банк названивает не клиенту и хамит</td>\n",
       "      <td>2</td>\n",
       "      <td>лицензия № 3251</td>\n",
       "      <td>albert.portman</td>\n",
       "      <td>Промсвязьбанк</td>\n",
       "      <td>2015-02-04 13:54:00</td>\n",
       "      <td>доброе время суток расскажу вам свою историю о...</td>\n",
       "      <td>1.0</td>\n",
       "      <td>доброе время суток расскажу вам свою историю о...</td>\n",
       "      <td>время сутки рассказывать свой история общение ...</td>\n",
       "    </tr>\n",
       "  </tbody>\n",
       "</table>\n",
       "</div>"
      ],
      "text/plain": [
       "                city                                         title  \\\n",
       "1735   г. Зеленоград                                         Обман   \n",
       "25952      г. Москва  Прекрасное обслуживание в г. Красногорск, МО   \n",
       "18598   г. Чебоксары                            Непрофессионализм?   \n",
       "12468      г. Москва       ВТБ24 реально достал звонками по ошибке   \n",
       "15193      г. Москва           Банк названивает не клиенту и хамит   \n",
       "\n",
       "       num_comments     bank_license          author  \\\n",
       "1735              1  лицензия № 1978        JuliaKir   \n",
       "25952             0  лицензия № 1481      margo_2007   \n",
       "18598             4  лицензия № 3085      kukuruzica   \n",
       "12468             2  лицензия № 1623          xopowo   \n",
       "15193             2  лицензия № 3251  albert.portman   \n",
       "\n",
       "                       bank_name             datetime  \\\n",
       "1735   Московский Кредитный Банк  2015-05-17 14:53:01   \n",
       "25952            Сбербанк России  2014-11-22 12:35:00   \n",
       "18598             Экспресс-Волга  2015-01-09 18:50:00   \n",
       "12468                     ВТБ 24  2015-02-23 13:06:08   \n",
       "15193              Промсвязьбанк  2015-02-04 13:54:00   \n",
       "\n",
       "                                                    text  rating_grade  \\\n",
       "1735   оформила у вас кредит в отделении г зеленоград...           1.0   \n",
       "25952  добрый день хотелось бы поблагодарить сотрудни...           5.0   \n",
       "18598  на мое имя был совершен перевод по системе лид...           1.0   \n",
       "12468  в качестве небольшой предыстории учитывая бюдж...           1.0   \n",
       "15193  доброе время суток расскажу вам свою историю о...           1.0   \n",
       "\n",
       "                                              clear_text  \\\n",
       "1735   оформила у вас кредит в отделении г зеленоград...   \n",
       "25952  добрый день хотелось бы поблагодарить сотрудни...   \n",
       "18598  на мое имя был совершен перевод по системе лид...   \n",
       "12468  в качестве небольшой предыстории учитывая бюдж...   \n",
       "15193  доброе время суток расскажу вам свою историю о...   \n",
       "\n",
       "                                          lemmatize_text  \n",
       "1735   оформлять кредит отделение зеленоград номер до...  \n",
       "25952  хотеться поблагодарить сотрудник банк планиров...  \n",
       "18598  имя совершать перевод система лидер клятвенный...  \n",
       "12468  качество небольшой предыстория учитывать бюдже...  \n",
       "15193  время сутки рассказывать свой история общение ...  "
      ]
     },
     "execution_count": 71,
     "metadata": {},
     "output_type": "execute_result"
    }
   ],
   "source": [
    "df_little.head()"
   ]
  },
  {
   "cell_type": "markdown",
   "metadata": {},
   "source": [
    "Супер. Приступаем к тематическому моделированию:"
   ]
  },
  {
   "cell_type": "code",
   "execution_count": 72,
   "metadata": {},
   "outputs": [],
   "source": [
    "texts = [df_little['lemmatize_text'].iloc[i].split() for i in range(len(df_little))]\n",
    "dictionary = Dictionary(texts)\n",
    "corpus = [dictionary.doc2bow(text) for text in texts]"
   ]
  },
  {
   "cell_type": "code",
   "execution_count": 73,
   "metadata": {},
   "outputs": [],
   "source": [
    "tfidf = TfidfModel(corpus)\n",
    "corpus_tfidf = tfidf[corpus]"
   ]
  },
  {
   "cell_type": "code",
   "execution_count": 77,
   "metadata": {},
   "outputs": [
    {
     "name": "stdout",
     "output_type": "stream",
     "text": [
      "Topic 0 : 0.187*\"карта\" + 0.136*\"вклад\" + 0.130*\"кредит\" + 0.110*\"деньги\" + 0.103*\"отделение\"\n",
      "Topic 1 : 0.437*\"вклад\" + 0.161*\"открывать\" + -0.153*\"заявление\" + 0.141*\"очередь\" + -0.125*\"платеж\"\n",
      "Topic 2 : -0.384*\"кредит\" + 0.300*\"карта\" + -0.243*\"страховка\" + 0.234*\"банкомат\" + -0.158*\"сделка\"\n",
      "Topic 3 : 0.535*\"вклад\" + -0.256*\"карта\" + 0.161*\"договор\" + -0.147*\"сделка\" + 0.146*\"процент\"\n",
      "Topic 4 : 0.253*\"карта\" + 0.194*\"комиссия\" + 0.179*\"лимит\" + 0.175*\"кредитный\" + -0.171*\"сбербанк\"\n",
      "Topic 5 : 0.360*\"банкомат\" + 0.277*\"страховка\" + -0.235*\"номер\" + -0.223*\"звонок\" + 0.170*\"страхование\"\n",
      "Topic 6 : 0.318*\"страховка\" + 0.246*\"карта\" + -0.240*\"платеж\" + 0.203*\"страхование\" + -0.149*\"банкомат\"\n",
      "Topic 7 : 0.267*\"сделка\" + -0.250*\"банкомат\" + -0.205*\"кредит\" + 0.180*\"средство\" + 0.160*\"документ\"\n",
      "Topic 8 : 0.290*\"сделка\" + -0.262*\"сбербанк\" + 0.237*\"заявка\" + 0.171*\"квартира\" + -0.164*\"страховка\"\n",
      "Topic 9 : -0.289*\"сбербанк\" + -0.276*\"карта\" + 0.205*\"страховка\" + 0.196*\"номер\" + 0.183*\"банкомат\"\n"
     ]
    }
   ],
   "source": [
    "lsi_10 = LsiModel(corpus=corpus_tfidf, id2word=dictionary, num_topics=10)\n",
    "for t, top_words in lsi_10.print_topics(num_words=5):\n",
    "    print('Topic', t, \":\", top_words)"
   ]
  },
  {
   "cell_type": "code",
   "execution_count": 78,
   "metadata": {},
   "outputs": [
    {
     "name": "stdout",
     "output_type": "stream",
     "text": [
      "Topic 0 : 0.187*\"карта\" + 0.136*\"вклад\" + 0.130*\"кредит\" + 0.110*\"деньги\" + 0.103*\"отделение\"\n",
      "Topic 1 : 0.437*\"вклад\" + 0.160*\"открывать\" + -0.153*\"заявление\" + 0.141*\"очередь\" + -0.125*\"платеж\"\n",
      "Topic 2 : -0.384*\"кредит\" + 0.301*\"карта\" + -0.243*\"страховка\" + 0.234*\"банкомат\" + -0.158*\"сделка\"\n",
      "Topic 3 : 0.534*\"вклад\" + -0.257*\"карта\" + 0.160*\"договор\" + -0.146*\"сделка\" + 0.145*\"процент\"\n",
      "Topic 4 : -0.253*\"карта\" + -0.192*\"комиссия\" + -0.176*\"лимит\" + -0.174*\"кредитный\" + 0.167*\"банкомат\"\n",
      "Topic 5 : 0.361*\"банкомат\" + 0.278*\"страховка\" + -0.233*\"номер\" + -0.218*\"звонок\" + 0.170*\"страхование\"\n",
      "Topic 6 : 0.316*\"страховка\" + 0.245*\"карта\" + -0.241*\"платеж\" + 0.199*\"страхование\" + -0.147*\"банкомат\"\n",
      "Topic 7 : 0.266*\"сделка\" + -0.249*\"банкомат\" + -0.208*\"кредит\" + 0.177*\"средство\" + 0.158*\"вклад\"\n",
      "Topic 8 : 0.290*\"сделка\" + 0.219*\"заявка\" + -0.206*\"страховка\" + -0.198*\"сбербанк\" + -0.180*\"страхование\"\n",
      "Topic 9 : 0.341*\"сбербанк\" + 0.255*\"карта\" + -0.218*\"банкомат\" + -0.195*\"номер\" + 0.170*\"погашение\"\n",
      "Topic 10 : 0.272*\"перевод\" + -0.265*\"банкомат\" + -0.227*\"карта\" + 0.181*\"платеж\" + 0.165*\"комиссия\"\n",
      "Topic 11 : 0.289*\"сбербанк\" + -0.264*\"комиссия\" + 0.240*\"терминал\" + 0.214*\"вклад\" + 0.191*\"заявка\"\n",
      "Topic 12 : -0.266*\"сбербанк\" + 0.227*\"перевод\" + -0.218*\"терминал\" + -0.214*\"сделка\" + 0.193*\"счет\"\n",
      "Topic 13 : 0.286*\"ткс\" + -0.278*\"услуга\" + -0.261*\"подключать\" + -0.215*\"смс\" + 0.195*\"заявление\"\n",
      "Topic 14 : -0.304*\"сбербанк\" + 0.289*\"терминал\" + 0.223*\"заявка\" + -0.154*\"деньги\" + -0.140*\"счет\"\n"
     ]
    }
   ],
   "source": [
    "lsi_15 = LsiModel(corpus=corpus_tfidf, id2word=dictionary, num_topics=15)\n",
    "for t, top_words in lsi_15.print_topics(num_words=5):\n",
    "    print('Topic', t, \":\", top_words)"
   ]
  },
  {
   "cell_type": "code",
   "execution_count": 82,
   "metadata": {},
   "outputs": [],
   "source": [
    "from gensim.models.ldamulticore import LdaMulticore"
   ]
  },
  {
   "cell_type": "code",
   "execution_count": 84,
   "metadata": {},
   "outputs": [
    {
     "name": "stdout",
     "output_type": "stream",
     "text": [
      "Topic 0 : 0.025*\"банк\" + 0.016*\"счет\" + 0.012*\"офис\" + 0.010*\"весь\" + 0.009*\"клиент\"\n",
      "Topic 1 : 0.021*\"банк\" + 0.020*\"документ\" + 0.015*\"сделка\" + 0.013*\"весь\" + 0.010*\"сотрудник\"\n",
      "Topic 2 : 0.022*\"ипотека\" + 0.021*\"заявка\" + 0.020*\"кредит\" + 0.019*\"документ\" + 0.017*\"банк\"\n",
      "Topic 3 : 0.043*\"банк\" + 0.011*\"весь\" + 0.010*\"клиент\" + 0.010*\"год\" + 0.008*\"свой\"\n",
      "Topic 4 : 0.056*\"вклад\" + 0.024*\"банк\" + 0.017*\"отделение\" + 0.017*\"открывать\" + 0.015*\"офис\"\n",
      "Topic 5 : 0.034*\"деньги\" + 0.030*\"банкомат\" + 0.025*\"банк\" + 0.019*\"счет\" + 0.016*\"сумма\"\n",
      "Topic 6 : 0.040*\"карта\" + 0.023*\"банк\" + 0.014*\"отделение\" + 0.013*\"заявление\" + 0.012*\"сбербанк\"\n",
      "Topic 7 : 0.030*\"банк\" + 0.019*\"сотрудник\" + 0.014*\"клиент\" + 0.010*\"вопрос\" + 0.009*\"карта\"\n",
      "Topic 8 : 0.043*\"банк\" + 0.027*\"вклад\" + 0.018*\"перевод\" + 0.011*\"процент\" + 0.011*\"деньги\"\n",
      "Topic 9 : 0.052*\"карта\" + 0.033*\"банк\" + 0.009*\"интернет\" + 0.008*\"кредитный\" + 0.008*\"лимит\"\n",
      "Topic 10 : 0.030*\"банк\" + 0.010*\"вопрос\" + 0.008*\"офис\" + 0.007*\"вклад\" + 0.006*\"весь\"\n",
      "Topic 11 : 0.038*\"банк\" + 0.017*\"кредит\" + 0.011*\"сотрудник\" + 0.010*\"договор\" + 0.009*\"сумма\"\n",
      "Topic 12 : 0.038*\"кредит\" + 0.022*\"страховка\" + 0.016*\"сумма\" + 0.014*\"сказать\" + 0.014*\"банк\"\n",
      "Topic 13 : 0.019*\"деньги\" + 0.019*\"банк\" + 0.012*\"отделение\" + 0.010*\"сказать\" + 0.009*\"звонить\"\n",
      "Topic 14 : 0.038*\"банк\" + 0.015*\"очень\" + 0.014*\"клиент\" + 0.014*\"сотрудник\" + 0.013*\"весь\"\n"
     ]
    }
   ],
   "source": [
    "lda_15 = LdaMulticore(corpus, num_topics=15, id2word = dictionary, passes=15, workers=5)\n",
    "for t, top_words in lda_15.print_topics(num_words=5):\n",
    "    print('Topic', t, \":\", top_words)"
   ]
  },
  {
   "cell_type": "markdown",
   "metadata": {},
   "source": [
    "Пример наиболее понятных тем:   \n",
    "**lsi_15**:  \n",
    "- Topic 1. Вероятно, клиент хотел открыть вклад, но была большая очередь;  \n",
    "- Topic 12 : Был осуществлен перевод на счет;    \n",
    "\n",
    "**lda_15**:  \n",
    "- Topic 2. Была оставлена заявка в банке на ипотечный кредит;  \n",
    "- Topic 5. Произошла ситуация с перевоом некой суммы денег через банкомат банка"
   ]
  },
  {
   "cell_type": "markdown",
   "metadata": {},
   "source": [
    "#### 2. Найдите темы, в которых упомянуты конкретные банки (Сбербанк, ВТБ, другой банк). Можете ли вы их прокомментировать / объяснить?"
   ]
  },
  {
   "cell_type": "code",
   "execution_count": 89,
   "metadata": {},
   "outputs": [
    {
     "name": "stdout",
     "output_type": "stream",
     "text": [
      "CPU times: user 3min 50s, sys: 2min 11s, total: 6min 2s\n",
      "Wall time: 3min 23s\n"
     ]
    }
   ],
   "source": [
    "%%time\n",
    "lda_20 = LdaMulticore(corpus, num_topics=20, id2word = dictionary, passes=15, workers=5)\n",
    "dct = {}\n",
    "for t, top_words in lda_20.print_topics(num_words=8):\n",
    "    dct['Topic {}'.format(t)] = top_words"
   ]
  },
  {
   "cell_type": "markdown",
   "metadata": {},
   "source": [
    "Отсортируем только те темы, в которых указан Сбербанк:"
   ]
  },
  {
   "cell_type": "code",
   "execution_count": 94,
   "metadata": {},
   "outputs": [
    {
     "name": "stdout",
     "output_type": "stream",
     "text": [
      "0.106*\"карта\" + 0.023*\"отделение\" + 0.015*\"сбербанк\" + 0.012*\"сотрудник\" + 0.012*\"банк\" + 0.011*\"получать\" + 0.009*\"заявление\" + 0.009*\"приходить\"\n",
      "0.030*\"карта\" + 0.025*\"деньги\" + 0.022*\"банк\" + 0.013*\"банкомат\" + 0.011*\"заявление\" + 0.011*\"счет\" + 0.011*\"сбербанк\" + 0.009*\"операция\"\n"
     ]
    }
   ],
   "source": [
    "for i in dct.values():\n",
    "    if \"сбербанк\" in i:\n",
    "        print(i)"
   ]
  },
  {
   "cell_type": "markdown",
   "metadata": {},
   "source": [
    "Итак, в первой теме клиент пришел в отделение Сбербанка, где сотрудник получил от него заявление, касающееся карты.  \n",
    "Во второй теме производилась операция, связанная с банкоматом и картой. Возможно, перевод (или получение) денег, но операция была неудачной, вследствие чего было написано заявление."
   ]
  },
  {
   "cell_type": "markdown",
   "metadata": {},
   "source": [
    "Касаемо банка ВТБ:"
   ]
  },
  {
   "cell_type": "code",
   "execution_count": 95,
   "metadata": {},
   "outputs": [
    {
     "name": "stdout",
     "output_type": "stream",
     "text": [
      "0.016*\"банк\" + 0.011*\"пд\" + 0.007*\"ответ\" + 0.006*\"заявка\" + 0.005*\"ваш\" + 0.004*\"проблема\" + 0.004*\"документ\" + 0.004*\"втб\"\n",
      "0.015*\"банк\" + 0.010*\"счет\" + 0.009*\"который\" + 0.007*\"свой\" + 0.005*\"открывать\" + 0.005*\"втб\" + 0.004*\"документ\" + 0.004*\"мочь\"\n"
     ]
    }
   ],
   "source": [
    "for i in dct.values():\n",
    "    if \"втб\" in i:\n",
    "        print(i)"
   ]
  },
  {
   "cell_type": "markdown",
   "metadata": {},
   "source": [
    "В первой теме фигурирует некий платежный документ, по которому была оставлена заявка в банке. Тема посвящена ответу по проблеме клиента в банке ВТБ.  \n",
    "\n",
    "Во второй теме клиент хочет открыть счет в банке. Возможно, вопрос касается необходимых документов."
   ]
  },
  {
   "cell_type": "markdown",
   "metadata": {},
   "source": [
    "Переходим к части 3."
   ]
  },
  {
   "cell_type": "markdown",
   "metadata": {},
   "source": [
    "## Часть 3. Классификация текстов [40/100]\n",
    "\n",
    "Сформулируем для простоты задачу бинарной классификации: будем классифицировать на два класса, то есть, различать резко отрицательные отзывы (с оценкой 1) и положительные отзывы (с оценкой 5). \n",
    "\n",
    "1.  Составьте обучающее и тестовое множество: выберите из всего набора данных N1 отзывов с оценкой 1 и N2 отзывов с оценкой 5 (значение N1 и N2 – на ваше усмотрение). Используйте ```sklearn.model_selection.train_test_split``` для разделения множества отобранных документов на обучающее и тестовое. \n",
    "2. Используйте любой известный вам алгоритм классификации текстов для решения задачи и получите baseline. Сравните разные варианты векторизации текста: использование только униграм, пар или троек слов или с использованием символьных $n$-грам. \n",
    "3. Сравните, как изменяется качество решения задачи при использовании скрытых тем в качестве признаков:\n",
    "* 1-ый вариант: $tf-idf$ преобразование (```sklearn.feature_extraction.text.TfidfTransformer```) и сингулярное разложение (оно же – латентый семантический анализ) (```sklearn.decomposition.TruncatedSVD```), \n",
    "* 2-ой вариант: тематические модели LDA (```sklearn.decomposition.LatentDirichletAllocation```). \n",
    "\n",
    "Используйте accuracy и F-measure для оценки качества классификации. \n",
    "\n",
    "Ниже написан примерный Pipeline для классификации текстов. \n",
    "\n",
    "Эта часть задания может быть сделана с использованием sklearn. "
   ]
  },
  {
   "cell_type": "code",
   "execution_count": 72,
   "metadata": {},
   "outputs": [],
   "source": [
    "from sklearn.pipeline import Pipeline\n",
    "from sklearn.ensemble import RandomForestClassifier\n",
    "from sklearn.feature_extraction.text import TfidfTransformer\n",
    "from sklearn.feature_extraction.text import CountVectorizer\n",
    "from sklearn.decomposition import TruncatedSVD\n",
    "from sklearn.decomposition import LatentDirichletAllocation"
   ]
  },
  {
   "cell_type": "code",
   "execution_count": 73,
   "metadata": {},
   "outputs": [],
   "source": [
    "from sklearn.model_selection import train_test_split\n",
    "from sklearn.metrics import classification_report\n",
    "from sklearn.metrics import f1_score\n",
    "from sklearn.metrics import roc_auc_score\n",
    "from sklearn.metrics import accuracy_score"
   ]
  },
  {
   "cell_type": "markdown",
   "metadata": {},
   "source": [
    "Вспомним, действительно ли мы отфильтровали только строки с рейтингом 5 и 1:"
   ]
  },
  {
   "cell_type": "code",
   "execution_count": 74,
   "metadata": {},
   "outputs": [
    {
     "data": {
      "text/plain": [
       "5.0    5000\n",
       "1.0    5000\n",
       "Name: rating_grade, dtype: int64"
      ]
     },
     "execution_count": 74,
     "metadata": {},
     "output_type": "execute_result"
    }
   ],
   "source": [
    "df_little.rating_grade.value_counts()"
   ]
  },
  {
   "cell_type": "markdown",
   "metadata": {},
   "source": [
    "#### 1. Составьте обучающее и тестовое множество: выберите из всего набора данных N1 отзывов с оценкой 1 и N2 отзывов с оценкой 5 (значение N1 и N2 – на ваше усмотрение). Используйте sklearn.model_selection.train_test_split для разделения множества отобранных документов на обучающее и тестовое. "
   ]
  },
  {
   "cell_type": "markdown",
   "metadata": {},
   "source": [
    "Разделим выборку на обучающую и тестовую:"
   ]
  },
  {
   "cell_type": "code",
   "execution_count": 75,
   "metadata": {},
   "outputs": [],
   "source": [
    "X = df_little['lemmatize_text']\n",
    "y = df_little['rating_grade']"
   ]
  },
  {
   "cell_type": "code",
   "execution_count": 76,
   "metadata": {},
   "outputs": [
    {
     "data": {
      "text/plain": [
       "((7500,), (2500,), (7500,), (2500,))"
      ]
     },
     "execution_count": 76,
     "metadata": {},
     "output_type": "execute_result"
    }
   ],
   "source": [
    "X_train, X_test, y_train, y_test = train_test_split(X, y, test_size=0.25, random_state=42)\n",
    "X_train.shape, X_test.shape, y_train.shape, y_test.shape"
   ]
  },
  {
   "cell_type": "markdown",
   "metadata": {},
   "source": [
    "#### 2. Используйте любой известный вам алгоритм классификации текстов для решения задачи и получите baseline. Сравните разные варианты векторизации текста: использование только униграм, пар или троек слов или с использованием символьных 𝑛-грам. "
   ]
  },
  {
   "cell_type": "markdown",
   "metadata": {},
   "source": [
    "Попробуем сначала с символьными n-граммами:"
   ]
  },
  {
   "cell_type": "code",
   "execution_count": 77,
   "metadata": {},
   "outputs": [
    {
     "name": "stdout",
     "output_type": "stream",
     "text": [
      "F1: 0.9311836413684624\n",
      "ROC:  0.9300624099179713\n",
      "Accuracy:  0.93\n",
      "Classification report: \n",
      "               precision    recall  f1-score   support\n",
      "\n",
      "         1.0       0.94      0.93      0.93      1277\n",
      "         5.0       0.92      0.93      0.93      1223\n",
      "\n",
      "    accuracy                           0.93      2500\n",
      "   macro avg       0.93      0.93      0.93      2500\n",
      "weighted avg       0.93      0.93      0.93      2500\n",
      "\n"
     ]
    }
   ],
   "source": [
    "clf = Pipeline([\n",
    "    ('vect', CountVectorizer(analyzer = 'char', ngram_range={4,6})),\n",
    "    ('clf', RandomForestClassifier()),\n",
    "])\n",
    "\n",
    "clf.fit(X_train, y_train)\n",
    "y_pred = clf.predict(X_test)\n",
    "\n",
    "\n",
    "print(\"F1:\",(f1_score(y_test, y_pred)))\n",
    "print(\"ROC: \",(roc_auc_score(y_test, y_pred)))\n",
    "print(\"Accuracy: \", (accuracy_score(y_test, y_pred)))\n",
    "print(\"Classification report: \\n\", (classification_report(y_test, y_pred)))"
   ]
  },
  {
   "cell_type": "markdown",
   "metadata": {},
   "source": [
    "Униграммы:"
   ]
  },
  {
   "cell_type": "code",
   "execution_count": 78,
   "metadata": {},
   "outputs": [
    {
     "name": "stdout",
     "output_type": "stream",
     "text": [
      "F1: 0.9350447296771683\n",
      "ROC:  0.9330218706839863\n",
      "Accuracy:  0.9332\n",
      "Classification report: \n",
      "               precision    recall  f1-score   support\n",
      "\n",
      "         1.0       0.93      0.94      0.94      1277\n",
      "         5.0       0.94      0.92      0.93      1223\n",
      "\n",
      "    accuracy                           0.93      2500\n",
      "   macro avg       0.93      0.93      0.93      2500\n",
      "weighted avg       0.93      0.93      0.93      2500\n",
      "\n"
     ]
    }
   ],
   "source": [
    "clf_1 = Pipeline([ \n",
    "    ('vect', CountVectorizer(stop_words=stopwords, ngram_range=(1,1))), \n",
    "    ('clf', RandomForestClassifier())\n",
    "\n",
    "])\n",
    "\n",
    "clf_1.fit(X_train, y_train)\n",
    "y_pred_1 = clf_1.predict(X_test)\n",
    "\n",
    "print(\"F1:\",(f1_score(y_test, y_pred_1)))\n",
    "print(\"ROC: \",(roc_auc_score(y_test, y_pred_1)))\n",
    "print(\"Accuracy: \", (accuracy_score(y_test, y_pred_1)))\n",
    "print(\"Classification report: \\n\", (classification_report(y_test, y_pred_1)))"
   ]
  },
  {
   "cell_type": "markdown",
   "metadata": {},
   "source": [
    "Биграммы:"
   ]
  },
  {
   "cell_type": "code",
   "execution_count": 79,
   "metadata": {},
   "outputs": [
    {
     "name": "stdout",
     "output_type": "stream",
     "text": [
      "F1: 0.906576980568012\n",
      "ROC:  0.8988987502008939\n",
      "Accuracy:  0.9\n",
      "Classification report: \n",
      "               precision    recall  f1-score   support\n",
      "\n",
      "         1.0       0.87      0.95      0.91      1277\n",
      "         5.0       0.94      0.85      0.89      1223\n",
      "\n",
      "    accuracy                           0.90      2500\n",
      "   macro avg       0.90      0.90      0.90      2500\n",
      "weighted avg       0.90      0.90      0.90      2500\n",
      "\n"
     ]
    }
   ],
   "source": [
    "clf_2 = Pipeline([ \n",
    "    ('vect', CountVectorizer(stop_words=stopwords, ngram_range=(2,2))), \n",
    "    ('clf', RandomForestClassifier())\n",
    "\n",
    "])\n",
    "\n",
    "clf_2.fit(X_train, y_train)\n",
    "y_pred_2 = clf_2.predict(X_test)\n",
    "\n",
    "print(\"F1:\",(f1_score(y_test, y_pred_2)))\n",
    "print(\"ROC: \",(roc_auc_score(y_test, y_pred_2)))\n",
    "print(\"Accuracy: \", (accuracy_score(y_test, y_pred_2)))\n",
    "print(\"Classification report: \\n\", (classification_report(y_test, y_pred_2)))"
   ]
  },
  {
   "cell_type": "markdown",
   "metadata": {},
   "source": [
    "Три слова:"
   ]
  },
  {
   "cell_type": "code",
   "execution_count": 80,
   "metadata": {},
   "outputs": [
    {
     "name": "stdout",
     "output_type": "stream",
     "text": [
      "F1: 0.8100481761871988\n",
      "ROC:  0.7760542358642848\n",
      "Accuracy:  0.7792\n",
      "Classification report: \n",
      "               precision    recall  f1-score   support\n",
      "\n",
      "         1.0       0.72      0.92      0.81      1277\n",
      "         5.0       0.89      0.63      0.74      1223\n",
      "\n",
      "    accuracy                           0.78      2500\n",
      "   macro avg       0.80      0.78      0.77      2500\n",
      "weighted avg       0.80      0.78      0.77      2500\n",
      "\n"
     ]
    }
   ],
   "source": [
    "clf_3 = Pipeline([ \n",
    "    ('vect', CountVectorizer(stop_words=stopwords, ngram_range=(3,3))), \n",
    "    ('clf', RandomForestClassifier())\n",
    "\n",
    "])\n",
    "\n",
    "clf_3.fit(X_train, y_train)\n",
    "y_pred_3 = clf_3.predict(X_test)\n",
    "\n",
    "print(\"F1:\",(f1_score(y_test, y_pred_3)))\n",
    "print(\"ROC: \",(roc_auc_score(y_test, y_pred_3)))\n",
    "print(\"Accuracy: \", (accuracy_score(y_test, y_pred_3)))\n",
    "print(\"Classification report: \\n\", (classification_report(y_test, y_pred_3)))"
   ]
  },
  {
   "cell_type": "markdown",
   "metadata": {},
   "source": [
    "А что, если n_gram сделать в интервале 4-6 (как в изначальном примере)?"
   ]
  },
  {
   "cell_type": "code",
   "execution_count": 81,
   "metadata": {},
   "outputs": [
    {
     "name": "stdout",
     "output_type": "stream",
     "text": [
      "F1: 0.7310999110584049\n",
      "ROC:  0.6299511900272191\n",
      "Accuracy:  0.6372\n",
      "Classification report: \n",
      "               precision    recall  f1-score   support\n",
      "\n",
      "         1.0       0.59      0.97      0.73      1277\n",
      "         5.0       0.89      0.29      0.44      1223\n",
      "\n",
      "    accuracy                           0.64      2500\n",
      "   macro avg       0.74      0.63      0.59      2500\n",
      "weighted avg       0.74      0.64      0.59      2500\n",
      "\n"
     ]
    }
   ],
   "source": [
    "clf_4 = Pipeline([ \n",
    "    ('vect', CountVectorizer(stop_words=stopwords, ngram_range=(4,6))), \n",
    "    ('clf', RandomForestClassifier())\n",
    "\n",
    "])\n",
    "\n",
    "clf_4.fit(X_train, y_train)\n",
    "y_pred_4 = clf_4.predict(X_test)\n",
    "\n",
    "print(\"F1:\",(f1_score(y_test, y_pred_4)))\n",
    "print(\"ROC: \",(roc_auc_score(y_test, y_pred_4)))\n",
    "print(\"Accuracy: \", (accuracy_score(y_test, y_pred_4)))\n",
    "print(\"Classification report: \\n\", (classification_report(y_test, y_pred_4)))"
   ]
  },
  {
   "cell_type": "markdown",
   "metadata": {},
   "source": [
    "Итак, лучше всего в даном случае сработали униграммы."
   ]
  },
  {
   "cell_type": "markdown",
   "metadata": {},
   "source": [
    "#### 3. Сравните, как изменяется качество решения задачи при использовании скрытых тем в качестве признаков:\n",
    "- 1-ый вариант: 𝑡𝑓−𝑖𝑑𝑓 преобразование (sklearn.feature_extraction.text.TfidfTransformer) и сингулярное разложение (оно же – латентый семантический анализ) (sklearn.decomposition.TruncatedSVD),\n",
    "- 2-ой вариант: тематические модели LDA (sklearn.decomposition.LatentDirichletAllocation). "
   ]
  },
  {
   "cell_type": "markdown",
   "metadata": {},
   "source": [
    "*Вариант 1.*"
   ]
  },
  {
   "cell_type": "code",
   "execution_count": 82,
   "metadata": {},
   "outputs": [
    {
     "name": "stdout",
     "output_type": "stream",
     "text": [
      "F1: 0.7209119496855346\n",
      "ROC:  0.7159538754401253\n",
      "Accuracy:  0.716\n",
      "Classification report: \n",
      "               precision    recall  f1-score   support\n",
      "\n",
      "         1.0       0.72      0.72      0.72      1277\n",
      "         5.0       0.71      0.71      0.71      1223\n",
      "\n",
      "    accuracy                           0.72      2500\n",
      "   macro avg       0.72      0.72      0.72      2500\n",
      "weighted avg       0.72      0.72      0.72      2500\n",
      "\n"
     ]
    }
   ],
   "source": [
    "clf_5 = Pipeline([ \n",
    "    ('vect', CountVectorizer(stop_words=stopwords, ngram_range=(1,1))), \n",
    "    ('tfidf', TfidfTransformer()), \n",
    "    ('tm', TruncatedSVD()), \n",
    "    ('clf', RandomForestClassifier())\n",
    "])\n",
    "\n",
    "clf_5.fit(X_train, y_train)\n",
    "y_pred_5 = clf_5.predict(X_test)\n",
    "\n",
    "print(\"F1:\",(f1_score(y_test, y_pred_5)))\n",
    "print(\"ROC: \",(roc_auc_score(y_test, y_pred_5)))\n",
    "print(\"Accuracy: \", (accuracy_score(y_test, y_pred_5)))\n",
    "print(\"Classification report: \\n\", (classification_report(y_test, y_pred_5)))"
   ]
  },
  {
   "cell_type": "markdown",
   "metadata": {},
   "source": [
    "Использование скрытых тем в первом случае (при преобразовании tf-idf + сингулярном разложении) существенно уменьшило качество предсказания модели случайного леса."
   ]
  },
  {
   "cell_type": "markdown",
   "metadata": {},
   "source": [
    "*Вариант 2.*"
   ]
  },
  {
   "cell_type": "code",
   "execution_count": 83,
   "metadata": {},
   "outputs": [
    {
     "name": "stdout",
     "output_type": "stream",
     "text": [
      "F1: 0.7650578380534504\n",
      "ROC:  0.7646962967041904\n",
      "Accuracy:  0.7644\n",
      "Classification report: \n",
      "               precision    recall  f1-score   support\n",
      "\n",
      "         1.0       0.78      0.75      0.77      1277\n",
      "         5.0       0.75      0.78      0.76      1223\n",
      "\n",
      "    accuracy                           0.76      2500\n",
      "   macro avg       0.76      0.76      0.76      2500\n",
      "weighted avg       0.76      0.76      0.76      2500\n",
      "\n"
     ]
    }
   ],
   "source": [
    "clf_6 = Pipeline([ \n",
    "    ('vect', CountVectorizer(stop_words=stopwords, ngram_range=(1,1))), \n",
    "    ('lda', LatentDirichletAllocation(n_components=2, random_state=42, n_jobs=-1)), \n",
    "    ('clf', RandomForestClassifier())\n",
    "])\n",
    "\n",
    "clf_6.fit(X_train, y_train)\n",
    "y_pred_6 = clf_6.predict(X_test)\n",
    "\n",
    "print(\"F1:\",(f1_score(y_test, y_pred_6)))\n",
    "print(\"ROC: \",(roc_auc_score(y_test, y_pred_6)))\n",
    "print(\"Accuracy: \", (accuracy_score(y_test, y_pred_6)))\n",
    "print(\"Classification report: \\n\", (classification_report(y_test, y_pred_6)))"
   ]
  },
  {
   "cell_type": "markdown",
   "metadata": {},
   "source": [
    "Стало несколько лучше,но всё равно результат далёк от предыдущих значений."
   ]
  },
  {
   "cell_type": "markdown",
   "metadata": {},
   "source": [
    "И еще попробуем обучить логистическую регрессию:"
   ]
  },
  {
   "cell_type": "code",
   "execution_count": 84,
   "metadata": {},
   "outputs": [
    {
     "name": "stdout",
     "output_type": "stream",
     "text": [
      "F1: 0.8586057502953918\n",
      "ROC:  0.8564626312052152\n",
      "Accuracy:  0.8564\n",
      "Classification report: \n",
      "               precision    recall  f1-score   support\n",
      "\n",
      "         1.0       0.86      0.85      0.86      1277\n",
      "         5.0       0.85      0.86      0.85      1223\n",
      "\n",
      "    accuracy                           0.86      2500\n",
      "   macro avg       0.86      0.86      0.86      2500\n",
      "weighted avg       0.86      0.86      0.86      2500\n",
      "\n"
     ]
    }
   ],
   "source": [
    "from sklearn.linear_model import LogisticRegression\n",
    "\n",
    "clf_7 = Pipeline([ \n",
    "    ('vect', CountVectorizer(stop_words=stopwords, ngram_range=(1,1))), \n",
    "    ('lda', LatentDirichletAllocation(n_components=2, random_state=42, n_jobs=-1)), \n",
    "    ('clf', LogisticRegression())\n",
    "])\n",
    "\n",
    "clf_7.fit(X_train, y_train)\n",
    "y_pred_7 = clf_7.predict(X_test)\n",
    "\n",
    "print(\"F1:\",(f1_score(y_test, y_pred_7)))\n",
    "print(\"ROC: \",(roc_auc_score(y_test, y_pred_7)))\n",
    "print(\"Accuracy: \", (accuracy_score(y_test, y_pred_7)))\n",
    "print(\"Classification report: \\n\", (classification_report(y_test, y_pred_7)))"
   ]
  },
  {
   "cell_type": "markdown",
   "metadata": {},
   "source": [
    "А вот логистическая регрессия в данном случае справилась намного лучше. В данной задаче лучше использовать ее."
   ]
  },
  {
   "cell_type": "markdown",
   "metadata": {},
   "source": [
    "Таким образом, можно сказать, что наилучший результат получился при векторизации с параметром ngram_range=(1,1), а при добавлении скрытых тем - с моделью LDA. При этом модель логистической регрессии в совокупности с LDA и векторизацией с униграммами показала результат лучше, чем случайный лес (гиперпараметры модели не перебирались). \n",
    "Поэтому в данном случае лучше всего использовать модель случайного леса и векторизацию текста с использованием униграмм: самые высокие оценки качества показал именно этот вариант (F1: 0.935; Accuracy:  0.933)."
   ]
  },
  {
   "cell_type": "code",
   "execution_count": null,
   "metadata": {},
   "outputs": [],
   "source": []
  }
 ],
 "metadata": {
  "kernelspec": {
   "display_name": "Python 3",
   "language": "python",
   "name": "python3"
  },
  "language_info": {
   "codemirror_mode": {
    "name": "ipython",
    "version": 3
   },
   "file_extension": ".py",
   "mimetype": "text/x-python",
   "name": "python",
   "nbconvert_exporter": "python",
   "pygments_lexer": "ipython3",
   "version": "3.8.10"
  }
 },
 "nbformat": 4,
 "nbformat_minor": 2
}

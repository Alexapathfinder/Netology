{
 "cells": [
  {
   "cell_type": "markdown",
   "metadata": {
    "collapsed": true
   },
   "source": [
    "## Домашнее задание по теме \"Поиск выбросов и генерация новых признаков\""
   ]
  },
  {
   "cell_type": "markdown",
   "metadata": {},
   "source": [
    "***Задачи:***   \n",
    "    1. Данных немного, поэтому необходимо использовать 10-fold кросс-валидацию для оценки качества моделей\n",
    "    2. Построить случайный лес, вывести важность признаков  \n",
    "    3. Обучить стекинг как минимум 3х моделей, использовать хотя бы 1 линейную и 1 нелинейную модель\n",
    "    4. Для валидации модели 2-го уровня использовать отдельный hold-out датасет, как на занятии\n",
    "    5. Показать, что использование ансамблей моделей действительно улучшает качество (стекинг vs другие модели сравнивать на hold-out)"
   ]
  },
  {
   "cell_type": "markdown",
   "metadata": {},
   "source": [
    "***План работы:***  \n",
    "    1. Изучить и предобработать данные    \n",
    "    2. Обучить модель случайного леса, вывести важность признаков, использовать 10-fold кросс-валидацию для оценки качества   \n",
    "    3. Обучить стекинг минимум из 3х моделей. Для валидации модели 2-го уровня использовать hold-out датасет  \n",
    "    4. Написать выводы"
   ]
  },
  {
   "cell_type": "markdown",
   "metadata": {},
   "source": [
    "### Шаг 1. Изучение и предобработка данных"
   ]
  },
  {
   "cell_type": "code",
   "execution_count": 1,
   "metadata": {},
   "outputs": [],
   "source": [
    "import matplotlib.pyplot as plt\n",
    "import pandas as pd\n",
    "import numpy as np\n",
    "import seaborn as sns\n",
    "import warnings\n",
    "warnings.filterwarnings(\"ignore\")\n",
    "import scipy.stats as stats"
   ]
  },
  {
   "cell_type": "code",
   "execution_count": 141,
   "metadata": {},
   "outputs": [],
   "source": [
    "from sklearn.linear_model import LinearRegression\n",
    "from sklearn.model_selection import train_test_split\n",
    "from sklearn.preprocessing import StandardScaler\n",
    "from sklearn.ensemble import RandomForestRegressor\n",
    "from sklearn.tree import DecisionTreeRegressor\n",
    "from sklearn.metrics import mean_squared_error\n",
    "from sklearn.model_selection import GridSearchCV\n",
    "from sklearn.linear_model import Ridge\n",
    "from sklearn.svm import SVR\n",
    "from sklearn.ensemble import StackingRegressor\n",
    "from jupyterthemes import jtplot\n",
    "from sklearn.metrics import make_scorer\n",
    "from sklearn.model_selection import cross_val_score\n",
    "from sklearn.metrics import r2_score\n",
    "from sklearn import svm\n",
    "%matplotlib inline\n",
    "jtplot.style()"
   ]
  },
  {
   "cell_type": "code",
   "execution_count": 3,
   "metadata": {},
   "outputs": [
    {
     "data": {
      "text/html": [
       "<div>\n",
       "<style scoped>\n",
       "    .dataframe tbody tr th:only-of-type {\n",
       "        vertical-align: middle;\n",
       "    }\n",
       "\n",
       "    .dataframe tbody tr th {\n",
       "        vertical-align: top;\n",
       "    }\n",
       "\n",
       "    .dataframe thead th {\n",
       "        text-align: right;\n",
       "    }\n",
       "</style>\n",
       "<table border=\"1\" class=\"dataframe\">\n",
       "  <thead>\n",
       "    <tr style=\"text-align: right;\">\n",
       "      <th></th>\n",
       "      <th>Id</th>\n",
       "      <th>MSSubClass</th>\n",
       "      <th>MSZoning</th>\n",
       "      <th>LotFrontage</th>\n",
       "      <th>LotArea</th>\n",
       "      <th>Street</th>\n",
       "      <th>Alley</th>\n",
       "      <th>LotShape</th>\n",
       "      <th>LandContour</th>\n",
       "      <th>Utilities</th>\n",
       "      <th>...</th>\n",
       "      <th>PoolArea</th>\n",
       "      <th>PoolQC</th>\n",
       "      <th>Fence</th>\n",
       "      <th>MiscFeature</th>\n",
       "      <th>MiscVal</th>\n",
       "      <th>MoSold</th>\n",
       "      <th>YrSold</th>\n",
       "      <th>SaleType</th>\n",
       "      <th>SaleCondition</th>\n",
       "      <th>SalePrice</th>\n",
       "    </tr>\n",
       "  </thead>\n",
       "  <tbody>\n",
       "    <tr>\n",
       "      <th>0</th>\n",
       "      <td>1</td>\n",
       "      <td>60</td>\n",
       "      <td>RL</td>\n",
       "      <td>65.0</td>\n",
       "      <td>8450</td>\n",
       "      <td>Pave</td>\n",
       "      <td>NaN</td>\n",
       "      <td>Reg</td>\n",
       "      <td>Lvl</td>\n",
       "      <td>AllPub</td>\n",
       "      <td>...</td>\n",
       "      <td>0</td>\n",
       "      <td>NaN</td>\n",
       "      <td>NaN</td>\n",
       "      <td>NaN</td>\n",
       "      <td>0</td>\n",
       "      <td>2</td>\n",
       "      <td>2008</td>\n",
       "      <td>WD</td>\n",
       "      <td>Normal</td>\n",
       "      <td>208500</td>\n",
       "    </tr>\n",
       "    <tr>\n",
       "      <th>1</th>\n",
       "      <td>2</td>\n",
       "      <td>20</td>\n",
       "      <td>RL</td>\n",
       "      <td>80.0</td>\n",
       "      <td>9600</td>\n",
       "      <td>Pave</td>\n",
       "      <td>NaN</td>\n",
       "      <td>Reg</td>\n",
       "      <td>Lvl</td>\n",
       "      <td>AllPub</td>\n",
       "      <td>...</td>\n",
       "      <td>0</td>\n",
       "      <td>NaN</td>\n",
       "      <td>NaN</td>\n",
       "      <td>NaN</td>\n",
       "      <td>0</td>\n",
       "      <td>5</td>\n",
       "      <td>2007</td>\n",
       "      <td>WD</td>\n",
       "      <td>Normal</td>\n",
       "      <td>181500</td>\n",
       "    </tr>\n",
       "    <tr>\n",
       "      <th>2</th>\n",
       "      <td>3</td>\n",
       "      <td>60</td>\n",
       "      <td>RL</td>\n",
       "      <td>68.0</td>\n",
       "      <td>11250</td>\n",
       "      <td>Pave</td>\n",
       "      <td>NaN</td>\n",
       "      <td>IR1</td>\n",
       "      <td>Lvl</td>\n",
       "      <td>AllPub</td>\n",
       "      <td>...</td>\n",
       "      <td>0</td>\n",
       "      <td>NaN</td>\n",
       "      <td>NaN</td>\n",
       "      <td>NaN</td>\n",
       "      <td>0</td>\n",
       "      <td>9</td>\n",
       "      <td>2008</td>\n",
       "      <td>WD</td>\n",
       "      <td>Normal</td>\n",
       "      <td>223500</td>\n",
       "    </tr>\n",
       "    <tr>\n",
       "      <th>3</th>\n",
       "      <td>4</td>\n",
       "      <td>70</td>\n",
       "      <td>RL</td>\n",
       "      <td>60.0</td>\n",
       "      <td>9550</td>\n",
       "      <td>Pave</td>\n",
       "      <td>NaN</td>\n",
       "      <td>IR1</td>\n",
       "      <td>Lvl</td>\n",
       "      <td>AllPub</td>\n",
       "      <td>...</td>\n",
       "      <td>0</td>\n",
       "      <td>NaN</td>\n",
       "      <td>NaN</td>\n",
       "      <td>NaN</td>\n",
       "      <td>0</td>\n",
       "      <td>2</td>\n",
       "      <td>2006</td>\n",
       "      <td>WD</td>\n",
       "      <td>Abnorml</td>\n",
       "      <td>140000</td>\n",
       "    </tr>\n",
       "    <tr>\n",
       "      <th>4</th>\n",
       "      <td>5</td>\n",
       "      <td>60</td>\n",
       "      <td>RL</td>\n",
       "      <td>84.0</td>\n",
       "      <td>14260</td>\n",
       "      <td>Pave</td>\n",
       "      <td>NaN</td>\n",
       "      <td>IR1</td>\n",
       "      <td>Lvl</td>\n",
       "      <td>AllPub</td>\n",
       "      <td>...</td>\n",
       "      <td>0</td>\n",
       "      <td>NaN</td>\n",
       "      <td>NaN</td>\n",
       "      <td>NaN</td>\n",
       "      <td>0</td>\n",
       "      <td>12</td>\n",
       "      <td>2008</td>\n",
       "      <td>WD</td>\n",
       "      <td>Normal</td>\n",
       "      <td>250000</td>\n",
       "    </tr>\n",
       "  </tbody>\n",
       "</table>\n",
       "<p>5 rows × 81 columns</p>\n",
       "</div>"
      ],
      "text/plain": [
       "   Id  MSSubClass MSZoning  LotFrontage  LotArea Street Alley LotShape  \\\n",
       "0   1          60       RL         65.0     8450   Pave   NaN      Reg   \n",
       "1   2          20       RL         80.0     9600   Pave   NaN      Reg   \n",
       "2   3          60       RL         68.0    11250   Pave   NaN      IR1   \n",
       "3   4          70       RL         60.0     9550   Pave   NaN      IR1   \n",
       "4   5          60       RL         84.0    14260   Pave   NaN      IR1   \n",
       "\n",
       "  LandContour Utilities  ... PoolArea PoolQC Fence MiscFeature MiscVal MoSold  \\\n",
       "0         Lvl    AllPub  ...        0    NaN   NaN         NaN       0      2   \n",
       "1         Lvl    AllPub  ...        0    NaN   NaN         NaN       0      5   \n",
       "2         Lvl    AllPub  ...        0    NaN   NaN         NaN       0      9   \n",
       "3         Lvl    AllPub  ...        0    NaN   NaN         NaN       0      2   \n",
       "4         Lvl    AllPub  ...        0    NaN   NaN         NaN       0     12   \n",
       "\n",
       "  YrSold  SaleType  SaleCondition  SalePrice  \n",
       "0   2008        WD         Normal     208500  \n",
       "1   2007        WD         Normal     181500  \n",
       "2   2008        WD         Normal     223500  \n",
       "3   2006        WD        Abnorml     140000  \n",
       "4   2008        WD         Normal     250000  \n",
       "\n",
       "[5 rows x 81 columns]"
      ]
     },
     "execution_count": 3,
     "metadata": {},
     "output_type": "execute_result"
    }
   ],
   "source": [
    "houses = pd.read_csv('train.csv')\n",
    "houses.head()"
   ]
  },
  {
   "cell_type": "code",
   "execution_count": 4,
   "metadata": {},
   "outputs": [
    {
     "name": "stdout",
     "output_type": "stream",
     "text": [
      "<class 'pandas.core.frame.DataFrame'>\n",
      "RangeIndex: 1460 entries, 0 to 1459\n",
      "Data columns (total 81 columns):\n",
      " #   Column         Non-Null Count  Dtype  \n",
      "---  ------         --------------  -----  \n",
      " 0   Id             1460 non-null   int64  \n",
      " 1   MSSubClass     1460 non-null   int64  \n",
      " 2   MSZoning       1460 non-null   object \n",
      " 3   LotFrontage    1201 non-null   float64\n",
      " 4   LotArea        1460 non-null   int64  \n",
      " 5   Street         1460 non-null   object \n",
      " 6   Alley          91 non-null     object \n",
      " 7   LotShape       1460 non-null   object \n",
      " 8   LandContour    1460 non-null   object \n",
      " 9   Utilities      1460 non-null   object \n",
      " 10  LotConfig      1460 non-null   object \n",
      " 11  LandSlope      1460 non-null   object \n",
      " 12  Neighborhood   1460 non-null   object \n",
      " 13  Condition1     1460 non-null   object \n",
      " 14  Condition2     1460 non-null   object \n",
      " 15  BldgType       1460 non-null   object \n",
      " 16  HouseStyle     1460 non-null   object \n",
      " 17  OverallQual    1460 non-null   int64  \n",
      " 18  OverallCond    1460 non-null   int64  \n",
      " 19  YearBuilt      1460 non-null   int64  \n",
      " 20  YearRemodAdd   1460 non-null   int64  \n",
      " 21  RoofStyle      1460 non-null   object \n",
      " 22  RoofMatl       1460 non-null   object \n",
      " 23  Exterior1st    1460 non-null   object \n",
      " 24  Exterior2nd    1460 non-null   object \n",
      " 25  MasVnrType     1452 non-null   object \n",
      " 26  MasVnrArea     1452 non-null   float64\n",
      " 27  ExterQual      1460 non-null   object \n",
      " 28  ExterCond      1460 non-null   object \n",
      " 29  Foundation     1460 non-null   object \n",
      " 30  BsmtQual       1423 non-null   object \n",
      " 31  BsmtCond       1423 non-null   object \n",
      " 32  BsmtExposure   1422 non-null   object \n",
      " 33  BsmtFinType1   1423 non-null   object \n",
      " 34  BsmtFinSF1     1460 non-null   int64  \n",
      " 35  BsmtFinType2   1422 non-null   object \n",
      " 36  BsmtFinSF2     1460 non-null   int64  \n",
      " 37  BsmtUnfSF      1460 non-null   int64  \n",
      " 38  TotalBsmtSF    1460 non-null   int64  \n",
      " 39  Heating        1460 non-null   object \n",
      " 40  HeatingQC      1460 non-null   object \n",
      " 41  CentralAir     1460 non-null   object \n",
      " 42  Electrical     1459 non-null   object \n",
      " 43  1stFlrSF       1460 non-null   int64  \n",
      " 44  2ndFlrSF       1460 non-null   int64  \n",
      " 45  LowQualFinSF   1460 non-null   int64  \n",
      " 46  GrLivArea      1460 non-null   int64  \n",
      " 47  BsmtFullBath   1460 non-null   int64  \n",
      " 48  BsmtHalfBath   1460 non-null   int64  \n",
      " 49  FullBath       1460 non-null   int64  \n",
      " 50  HalfBath       1460 non-null   int64  \n",
      " 51  BedroomAbvGr   1460 non-null   int64  \n",
      " 52  KitchenAbvGr   1460 non-null   int64  \n",
      " 53  KitchenQual    1460 non-null   object \n",
      " 54  TotRmsAbvGrd   1460 non-null   int64  \n",
      " 55  Functional     1460 non-null   object \n",
      " 56  Fireplaces     1460 non-null   int64  \n",
      " 57  FireplaceQu    770 non-null    object \n",
      " 58  GarageType     1379 non-null   object \n",
      " 59  GarageYrBlt    1379 non-null   float64\n",
      " 60  GarageFinish   1379 non-null   object \n",
      " 61  GarageCars     1460 non-null   int64  \n",
      " 62  GarageArea     1460 non-null   int64  \n",
      " 63  GarageQual     1379 non-null   object \n",
      " 64  GarageCond     1379 non-null   object \n",
      " 65  PavedDrive     1460 non-null   object \n",
      " 66  WoodDeckSF     1460 non-null   int64  \n",
      " 67  OpenPorchSF    1460 non-null   int64  \n",
      " 68  EnclosedPorch  1460 non-null   int64  \n",
      " 69  3SsnPorch      1460 non-null   int64  \n",
      " 70  ScreenPorch    1460 non-null   int64  \n",
      " 71  PoolArea       1460 non-null   int64  \n",
      " 72  PoolQC         7 non-null      object \n",
      " 73  Fence          281 non-null    object \n",
      " 74  MiscFeature    54 non-null     object \n",
      " 75  MiscVal        1460 non-null   int64  \n",
      " 76  MoSold         1460 non-null   int64  \n",
      " 77  YrSold         1460 non-null   int64  \n",
      " 78  SaleType       1460 non-null   object \n",
      " 79  SaleCondition  1460 non-null   object \n",
      " 80  SalePrice      1460 non-null   int64  \n",
      "dtypes: float64(3), int64(35), object(43)\n",
      "memory usage: 924.0+ KB\n"
     ]
    }
   ],
   "source": [
    "houses.info()"
   ]
  },
  {
   "cell_type": "markdown",
   "metadata": {},
   "source": [
    "Итак, у нас датасет из 1460 строк и 81 колонки. Не все колонки заполнены на 100%. Чтобы было проще увидеть, какие колонки имеют пропуски, выведем их:"
   ]
  },
  {
   "cell_type": "code",
   "execution_count": 5,
   "metadata": {},
   "outputs": [
    {
     "name": "stdout",
     "output_type": "stream",
     "text": [
      "Столбец:  \u001b[1;0346mLotFrontage \u001b[0m всего пропусков:  \u001b[1;0346m259\u001b[0m\n",
      "Столбец:  \u001b[1;0346mAlley \u001b[0m всего пропусков:  \u001b[1;0346m1369\u001b[0m\n",
      "Столбец:  \u001b[1;0346mMasVnrType \u001b[0m всего пропусков:  \u001b[1;0346m8\u001b[0m\n",
      "Столбец:  \u001b[1;0346mMasVnrArea \u001b[0m всего пропусков:  \u001b[1;0346m8\u001b[0m\n",
      "Столбец:  \u001b[1;0346mBsmtQual \u001b[0m всего пропусков:  \u001b[1;0346m37\u001b[0m\n",
      "Столбец:  \u001b[1;0346mBsmtCond \u001b[0m всего пропусков:  \u001b[1;0346m37\u001b[0m\n",
      "Столбец:  \u001b[1;0346mBsmtExposure \u001b[0m всего пропусков:  \u001b[1;0346m38\u001b[0m\n",
      "Столбец:  \u001b[1;0346mBsmtFinType1 \u001b[0m всего пропусков:  \u001b[1;0346m37\u001b[0m\n",
      "Столбец:  \u001b[1;0346mBsmtFinType2 \u001b[0m всего пропусков:  \u001b[1;0346m38\u001b[0m\n",
      "Столбец:  \u001b[1;0346mElectrical \u001b[0m всего пропусков:  \u001b[1;0346m1\u001b[0m\n",
      "Столбец:  \u001b[1;0346mFireplaceQu \u001b[0m всего пропусков:  \u001b[1;0346m690\u001b[0m\n",
      "Столбец:  \u001b[1;0346mGarageType \u001b[0m всего пропусков:  \u001b[1;0346m81\u001b[0m\n",
      "Столбец:  \u001b[1;0346mGarageYrBlt \u001b[0m всего пропусков:  \u001b[1;0346m81\u001b[0m\n",
      "Столбец:  \u001b[1;0346mGarageFinish \u001b[0m всего пропусков:  \u001b[1;0346m81\u001b[0m\n",
      "Столбец:  \u001b[1;0346mGarageQual \u001b[0m всего пропусков:  \u001b[1;0346m81\u001b[0m\n",
      "Столбец:  \u001b[1;0346mGarageCond \u001b[0m всего пропусков:  \u001b[1;0346m81\u001b[0m\n",
      "Столбец:  \u001b[1;0346mPoolQC \u001b[0m всего пропусков:  \u001b[1;0346m1453\u001b[0m\n",
      "Столбец:  \u001b[1;0346mFence \u001b[0m всего пропусков:  \u001b[1;0346m1179\u001b[0m\n",
      "Столбец:  \u001b[1;0346mMiscFeature \u001b[0m всего пропусков:  \u001b[1;0346m1406\u001b[0m\n"
     ]
    }
   ],
   "source": [
    "empty_df = pd.DataFrame()\n",
    "column = []\n",
    "empty_values = []\n",
    "type_column = []\n",
    "for i in houses.columns:\n",
    "    if houses[i].isna().sum() < 1:\n",
    "        continue\n",
    "    else:\n",
    "        column.append(i)\n",
    "        empty_values.append(houses[i].isna().sum())\n",
    "        type_column.append(houses[i].dtypes)\n",
    "        print('Столбец: ', '\\x1b[1;0346m'+'{} '.format(i) +'\\x1b[0m', 'всего пропусков: ', '\\x1b[1;0346m'+'{}'.format(houses[i].isna().sum()) +'\\x1b[0m')\n",
    "empty_df['Столбец'] = column\n",
    "empty_df['Пропущено значений'] = empty_values\n",
    "empty_df['Тип данных'] = type_column"
   ]
  },
  {
   "cell_type": "markdown",
   "metadata": {},
   "source": [
    "Всё еще не очень видно. Отсортируем значения:"
   ]
  },
  {
   "cell_type": "code",
   "execution_count": 6,
   "metadata": {},
   "outputs": [
    {
     "data": {
      "text/html": [
       "<div>\n",
       "<style scoped>\n",
       "    .dataframe tbody tr th:only-of-type {\n",
       "        vertical-align: middle;\n",
       "    }\n",
       "\n",
       "    .dataframe tbody tr th {\n",
       "        vertical-align: top;\n",
       "    }\n",
       "\n",
       "    .dataframe thead th {\n",
       "        text-align: right;\n",
       "    }\n",
       "</style>\n",
       "<table border=\"1\" class=\"dataframe\">\n",
       "  <thead>\n",
       "    <tr style=\"text-align: right;\">\n",
       "      <th></th>\n",
       "      <th>Столбец</th>\n",
       "      <th>Пропущено значений</th>\n",
       "      <th>Тип данных</th>\n",
       "    </tr>\n",
       "  </thead>\n",
       "  <tbody>\n",
       "    <tr>\n",
       "      <th>16</th>\n",
       "      <td>PoolQC</td>\n",
       "      <td>1453</td>\n",
       "      <td>object</td>\n",
       "    </tr>\n",
       "    <tr>\n",
       "      <th>18</th>\n",
       "      <td>MiscFeature</td>\n",
       "      <td>1406</td>\n",
       "      <td>object</td>\n",
       "    </tr>\n",
       "    <tr>\n",
       "      <th>1</th>\n",
       "      <td>Alley</td>\n",
       "      <td>1369</td>\n",
       "      <td>object</td>\n",
       "    </tr>\n",
       "    <tr>\n",
       "      <th>17</th>\n",
       "      <td>Fence</td>\n",
       "      <td>1179</td>\n",
       "      <td>object</td>\n",
       "    </tr>\n",
       "    <tr>\n",
       "      <th>10</th>\n",
       "      <td>FireplaceQu</td>\n",
       "      <td>690</td>\n",
       "      <td>object</td>\n",
       "    </tr>\n",
       "    <tr>\n",
       "      <th>0</th>\n",
       "      <td>LotFrontage</td>\n",
       "      <td>259</td>\n",
       "      <td>float64</td>\n",
       "    </tr>\n",
       "    <tr>\n",
       "      <th>11</th>\n",
       "      <td>GarageType</td>\n",
       "      <td>81</td>\n",
       "      <td>object</td>\n",
       "    </tr>\n",
       "    <tr>\n",
       "      <th>12</th>\n",
       "      <td>GarageYrBlt</td>\n",
       "      <td>81</td>\n",
       "      <td>float64</td>\n",
       "    </tr>\n",
       "    <tr>\n",
       "      <th>13</th>\n",
       "      <td>GarageFinish</td>\n",
       "      <td>81</td>\n",
       "      <td>object</td>\n",
       "    </tr>\n",
       "    <tr>\n",
       "      <th>14</th>\n",
       "      <td>GarageQual</td>\n",
       "      <td>81</td>\n",
       "      <td>object</td>\n",
       "    </tr>\n",
       "    <tr>\n",
       "      <th>15</th>\n",
       "      <td>GarageCond</td>\n",
       "      <td>81</td>\n",
       "      <td>object</td>\n",
       "    </tr>\n",
       "    <tr>\n",
       "      <th>6</th>\n",
       "      <td>BsmtExposure</td>\n",
       "      <td>38</td>\n",
       "      <td>object</td>\n",
       "    </tr>\n",
       "    <tr>\n",
       "      <th>8</th>\n",
       "      <td>BsmtFinType2</td>\n",
       "      <td>38</td>\n",
       "      <td>object</td>\n",
       "    </tr>\n",
       "    <tr>\n",
       "      <th>7</th>\n",
       "      <td>BsmtFinType1</td>\n",
       "      <td>37</td>\n",
       "      <td>object</td>\n",
       "    </tr>\n",
       "    <tr>\n",
       "      <th>5</th>\n",
       "      <td>BsmtCond</td>\n",
       "      <td>37</td>\n",
       "      <td>object</td>\n",
       "    </tr>\n",
       "    <tr>\n",
       "      <th>4</th>\n",
       "      <td>BsmtQual</td>\n",
       "      <td>37</td>\n",
       "      <td>object</td>\n",
       "    </tr>\n",
       "    <tr>\n",
       "      <th>3</th>\n",
       "      <td>MasVnrArea</td>\n",
       "      <td>8</td>\n",
       "      <td>float64</td>\n",
       "    </tr>\n",
       "    <tr>\n",
       "      <th>2</th>\n",
       "      <td>MasVnrType</td>\n",
       "      <td>8</td>\n",
       "      <td>object</td>\n",
       "    </tr>\n",
       "    <tr>\n",
       "      <th>9</th>\n",
       "      <td>Electrical</td>\n",
       "      <td>1</td>\n",
       "      <td>object</td>\n",
       "    </tr>\n",
       "  </tbody>\n",
       "</table>\n",
       "</div>"
      ],
      "text/plain": [
       "         Столбец  Пропущено значений Тип данных\n",
       "16        PoolQC                1453     object\n",
       "18   MiscFeature                1406     object\n",
       "1          Alley                1369     object\n",
       "17         Fence                1179     object\n",
       "10   FireplaceQu                 690     object\n",
       "0    LotFrontage                 259    float64\n",
       "11    GarageType                  81     object\n",
       "12   GarageYrBlt                  81    float64\n",
       "13  GarageFinish                  81     object\n",
       "14    GarageQual                  81     object\n",
       "15    GarageCond                  81     object\n",
       "6   BsmtExposure                  38     object\n",
       "8   BsmtFinType2                  38     object\n",
       "7   BsmtFinType1                  37     object\n",
       "5       BsmtCond                  37     object\n",
       "4       BsmtQual                  37     object\n",
       "3     MasVnrArea                   8    float64\n",
       "2     MasVnrType                   8     object\n",
       "9     Electrical                   1     object"
      ]
     },
     "execution_count": 6,
     "metadata": {},
     "output_type": "execute_result"
    }
   ],
   "source": [
    "empty_df.sort_values(by='Пропущено значений', ascending=False)"
   ]
  },
  {
   "cell_type": "code",
   "execution_count": 7,
   "metadata": {},
   "outputs": [],
   "source": [
    "del empty_df"
   ]
  },
  {
   "cell_type": "markdown",
   "metadata": {},
   "source": [
    "Больше всего пропусков в столбце \"PoolQC\". Чуть лучше ситуация в \"MiscFeature\", далее - \"Alley\" и, наконец,\"Fence\". Остальные столбцы выглядят лучше, чем эти. Во всяком случае, шанс вставить пропущенные значения есть. Здесь же стоит посмотреть, что это за столбцы, насколько они нужны и стоит ли вообще их восстанавливать.  "
   ]
  },
  {
   "cell_type": "markdown",
   "metadata": {},
   "source": [
    "Начнем со столбца \"PoolQC\". Исходя из информации в текстовом файле с описанием столбцов, этот столбец назван как \"Качество бассейна\", где оно имеет градацию от \"прекрасно\" до \"нет бассейна\". Всего должно быть 5 значений. Проверим:"
   ]
  },
  {
   "cell_type": "code",
   "execution_count": 8,
   "metadata": {},
   "outputs": [
    {
     "data": {
      "text/plain": [
       "array([nan, 'Ex', 'Fa', 'Gd'], dtype=object)"
      ]
     },
     "execution_count": 8,
     "metadata": {},
     "output_type": "execute_result"
    }
   ],
   "source": [
    "houses['PoolQC'].unique()"
   ]
  },
  {
   "cell_type": "markdown",
   "metadata": {},
   "source": [
    "Всего 4, одно из которых \"nan\". Скорее всего пропуск и обозначает, что бассейна в доме нет. Действительно, бассейн - не частый атрибут дома. Здесь nanЫ можно заменить на \"no\". Проверим остальные столбцы типа \"объект\":"
   ]
  },
  {
   "cell_type": "code",
   "execution_count": 9,
   "metadata": {},
   "outputs": [
    {
     "data": {
      "text/plain": [
       "array([nan, 'Shed', 'Gar2', 'Othr', 'TenC'], dtype=object)"
      ]
     },
     "execution_count": 9,
     "metadata": {},
     "output_type": "execute_result"
    }
   ],
   "source": [
    "houses['MiscFeature'].unique()"
   ]
  },
  {
   "cell_type": "markdown",
   "metadata": {},
   "source": [
    "Итак, в этом столбце встречаются те отличительные черты домов, что не попали в другие столбцы. Так, например, здесь есть 2-й гараж, навес, теннисный корт, элеватор и др. Поскольку такие вещи встречаются тоже не очень часто - заменим пропуски на \"no\" - то есть нет прочих функций, дом стандартный. Тоже заменим на \"no\"."
   ]
  },
  {
   "cell_type": "markdown",
   "metadata": {},
   "source": [
    "Alley - Тип подъездной аллеи к объекту."
   ]
  },
  {
   "cell_type": "code",
   "execution_count": 10,
   "metadata": {},
   "outputs": [
    {
     "data": {
      "text/plain": [
       "array([nan, 'Grvl', 'Pave'], dtype=object)"
      ]
     },
     "execution_count": 10,
     "metadata": {},
     "output_type": "execute_result"
    }
   ],
   "source": [
    "houses['Alley'].unique()"
   ]
  },
  {
   "cell_type": "markdown",
   "metadata": {},
   "source": [
    "И последний столбец с гигантским количеством пропусков - Fence:"
   ]
  },
  {
   "cell_type": "code",
   "execution_count": 11,
   "metadata": {},
   "outputs": [
    {
     "data": {
      "text/plain": [
       "array([nan, 'MnPrv', 'GdWo', 'GdPrv', 'MnWw'], dtype=object)"
      ]
     },
     "execution_count": 11,
     "metadata": {},
     "output_type": "execute_result"
    }
   ],
   "source": [
    "houses['Fence'].unique()"
   ]
  },
  {
   "cell_type": "markdown",
   "metadata": {},
   "source": [
    "Мы видим, что все обозначения из описани здесь присутствуют. В их числе есть и  NA - т.е. No Fence. Нет ограждения. Тоже заменим пропуски на \"no\"."
   ]
  },
  {
   "cell_type": "code",
   "execution_count": 12,
   "metadata": {},
   "outputs": [
    {
     "data": {
      "text/plain": [
       "array([nan, 'TA', 'Gd', 'Fa', 'Ex', 'Po'], dtype=object)"
      ]
     },
     "execution_count": 12,
     "metadata": {},
     "output_type": "execute_result"
    }
   ],
   "source": [
    "houses['FireplaceQu'].unique()"
   ]
  },
  {
   "cell_type": "markdown",
   "metadata": {},
   "source": [
    "Это качество камина. Пропуски в данном случае тоже обозначают его отсутствие. Так и написано в описании:  NA = No Fireplace. Заменим на \"no\"."
   ]
  },
  {
   "cell_type": "markdown",
   "metadata": {},
   "source": [
    "Столбец \"GarageType\" тоже категориальный. Возможно, тот 81 пропуск - это отсутствие гаража? Проверим:"
   ]
  },
  {
   "cell_type": "code",
   "execution_count": 13,
   "metadata": {},
   "outputs": [
    {
     "data": {
      "text/plain": [
       "array(['Attchd', 'Detchd', 'BuiltIn', 'CarPort', nan, 'Basment', '2Types'],\n",
       "      dtype=object)"
      ]
     },
     "execution_count": 13,
     "metadata": {},
     "output_type": "execute_result"
    }
   ],
   "source": [
    "houses['GarageType'].unique()"
   ]
  },
  {
   "cell_type": "markdown",
   "metadata": {},
   "source": [
    "Точно. Заполним пропуски \"no\". Что дальше?"
   ]
  },
  {
   "cell_type": "markdown",
   "metadata": {},
   "source": [
    "GarageFinish - отделка гаража. Закончена, черновая, не закончена, нет гаража:"
   ]
  },
  {
   "cell_type": "code",
   "execution_count": 14,
   "metadata": {},
   "outputs": [
    {
     "data": {
      "text/plain": [
       "array(['RFn', 'Unf', 'Fin', nan], dtype=object)"
      ]
     },
     "execution_count": 14,
     "metadata": {},
     "output_type": "execute_result"
    }
   ],
   "source": [
    "houses['GarageFinish'].unique()"
   ]
  },
  {
   "cell_type": "markdown",
   "metadata": {},
   "source": [
    "Аналогично заменим."
   ]
  },
  {
   "cell_type": "code",
   "execution_count": 15,
   "metadata": {},
   "outputs": [
    {
     "data": {
      "text/plain": [
       "array(['TA', 'Fa', 'Gd', nan, 'Ex', 'Po'], dtype=object)"
      ]
     },
     "execution_count": 15,
     "metadata": {},
     "output_type": "execute_result"
    }
   ],
   "source": [
    "houses['GarageQual'].unique()"
   ]
  },
  {
   "cell_type": "markdown",
   "metadata": {},
   "source": [
    "\"Наны\" здесь тоже вернее всего - отсутствие гаража. Не даром пропусков везде одинаковое количество."
   ]
  },
  {
   "cell_type": "code",
   "execution_count": 16,
   "metadata": {},
   "outputs": [
    {
     "data": {
      "text/plain": [
       "array(['TA', 'Fa', nan, 'Gd', 'Po', 'Ex'], dtype=object)"
      ]
     },
     "execution_count": 16,
     "metadata": {},
     "output_type": "execute_result"
    }
   ],
   "source": [
    "houses['GarageCond'].unique()"
   ]
  },
  {
   "cell_type": "markdown",
   "metadata": {},
   "source": [
    "Та же ситуация.  \n",
    "Теперь проверим информацию о гаражах во избежание ошибки: действительно ли пропуски находятся в одинаковых строчках:"
   ]
  },
  {
   "cell_type": "code",
   "execution_count": 17,
   "metadata": {},
   "outputs": [
    {
     "name": "stdout",
     "output_type": "stream",
     "text": [
      "81\n"
     ]
    }
   ],
   "source": [
    "no_garage = houses[houses['GarageFinish'].isna()]\n",
    "print(len(no_garage))"
   ]
  },
  {
   "cell_type": "code",
   "execution_count": 18,
   "metadata": {},
   "outputs": [
    {
     "name": "stdout",
     "output_type": "stream",
     "text": [
      "GarageType [nan]\n",
      "\n",
      "GarageYrBlt [nan]\n",
      "\n",
      "GarageQual [nan]\n",
      "\n",
      "GarageCond [nan]\n",
      "\n"
     ]
    }
   ],
   "source": [
    "for i in ['GarageType', 'GarageYrBlt', 'GarageQual', 'GarageCond']:\n",
    "    print(i, no_garage[i].unique())\n",
    "    print()"
   ]
  },
  {
   "cell_type": "code",
   "execution_count": 19,
   "metadata": {},
   "outputs": [],
   "source": [
    "del no_garage"
   ]
  },
  {
   "cell_type": "markdown",
   "metadata": {},
   "source": [
    "Действительно пропуски в одних и тех же строчках. Также стоит отметить столбец \"GarageYrBlt\". то год постройки гаража. Если гаража нет, то и год, соответственно, проставить нельзя. Заменим в этом столбце пропуски на ноль:"
   ]
  },
  {
   "cell_type": "code",
   "execution_count": 20,
   "metadata": {},
   "outputs": [],
   "source": [
    "houses['GarageYrBlt'] = houses['GarageYrBlt'].fillna(0)"
   ]
  },
  {
   "cell_type": "markdown",
   "metadata": {},
   "source": [
    "Теперь заменим пропуски во всех вышеобозначенных столбцах на 'no':"
   ]
  },
  {
   "cell_type": "code",
   "execution_count": 21,
   "metadata": {},
   "outputs": [],
   "source": [
    "houses[['PoolQC', 'MiscFeature', 'Alley', 'Fence', 'FireplaceQu', 'GarageFinish', 'GarageType','GarageQual', 'GarageCond']] = houses[['PoolQC', 'MiscFeature', 'Alley', 'Fence', 'FireplaceQu', 'GarageFinish', 'GarageType','GarageQual', 'GarageCond']].fillna('no')"
   ]
  },
  {
   "cell_type": "markdown",
   "metadata": {},
   "source": [
    "Какие колонки еще остались с пропусками?"
   ]
  },
  {
   "cell_type": "code",
   "execution_count": 22,
   "metadata": {},
   "outputs": [
    {
     "name": "stdout",
     "output_type": "stream",
     "text": [
      "['LotFrontage', 'MasVnrType', 'MasVnrArea', 'BsmtQual', 'BsmtCond', 'BsmtExposure', 'BsmtFinType1', 'BsmtFinType2', 'Electrical']\n"
     ]
    }
   ],
   "source": [
    "print([i for i in houses.columns if houses[i].isna().sum() > 0])"
   ]
  },
  {
   "cell_type": "markdown",
   "metadata": {},
   "source": [
    "Посмотрим колонки с подвалами:"
   ]
  },
  {
   "cell_type": "code",
   "execution_count": 23,
   "metadata": {},
   "outputs": [
    {
     "data": {
      "text/plain": [
       "array(['No', 'Gd', 'Mn', 'Av', nan], dtype=object)"
      ]
     },
     "execution_count": 23,
     "metadata": {},
     "output_type": "execute_result"
    }
   ],
   "source": [
    "houses['BsmtExposure'].unique()"
   ]
  },
  {
   "cell_type": "markdown",
   "metadata": {},
   "source": [
    "Здесь тоже так и просится замена на \"no\"."
   ]
  },
  {
   "cell_type": "code",
   "execution_count": 24,
   "metadata": {},
   "outputs": [
    {
     "data": {
      "text/plain": [
       "array(['Unf', 'BLQ', nan, 'ALQ', 'Rec', 'LwQ', 'GLQ'], dtype=object)"
      ]
     },
     "execution_count": 24,
     "metadata": {},
     "output_type": "execute_result"
    }
   ],
   "source": [
    "houses['BsmtFinType2'].unique()"
   ]
  },
  {
   "cell_type": "markdown",
   "metadata": {},
   "source": [
    "Пропусков столько же, сколько и в предыдущем столбце. Речь также идет о цокольном этаже. Видимо, пропуск - это отсутствие подвала. Но всё же перепроверим:"
   ]
  },
  {
   "cell_type": "code",
   "execution_count": 25,
   "metadata": {},
   "outputs": [
    {
     "data": {
      "text/plain": [
       "array(['GLQ', 'ALQ', 'Unf', 'Rec', 'BLQ', nan, 'LwQ'], dtype=object)"
      ]
     },
     "execution_count": 25,
     "metadata": {},
     "output_type": "execute_result"
    }
   ],
   "source": [
    "houses['BsmtFinType1'].unique()"
   ]
  },
  {
   "cell_type": "code",
   "execution_count": 26,
   "metadata": {},
   "outputs": [
    {
     "data": {
      "text/plain": [
       "array(['TA', 'Gd', nan, 'Fa', 'Po'], dtype=object)"
      ]
     },
     "execution_count": 26,
     "metadata": {},
     "output_type": "execute_result"
    }
   ],
   "source": [
    "houses['BsmtCond'].unique()"
   ]
  },
  {
   "cell_type": "code",
   "execution_count": 27,
   "metadata": {},
   "outputs": [
    {
     "data": {
      "text/plain": [
       "array(['Gd', 'TA', 'Ex', nan, 'Fa'], dtype=object)"
      ]
     },
     "execution_count": 27,
     "metadata": {},
     "output_type": "execute_result"
    }
   ],
   "source": [
    "houses['BsmtQual'].unique()"
   ]
  },
  {
   "cell_type": "markdown",
   "metadata": {},
   "source": [
    "А тут уже интересно: почему у этих трех столбцов пропусков на один меньше, чем у первых двух? Посмотрим, что там не так:"
   ]
  },
  {
   "cell_type": "code",
   "execution_count": 28,
   "metadata": {},
   "outputs": [
    {
     "data": {
      "text/html": [
       "<div>\n",
       "<style scoped>\n",
       "    .dataframe tbody tr th:only-of-type {\n",
       "        vertical-align: middle;\n",
       "    }\n",
       "\n",
       "    .dataframe tbody tr th {\n",
       "        vertical-align: top;\n",
       "    }\n",
       "\n",
       "    .dataframe thead th {\n",
       "        text-align: right;\n",
       "    }\n",
       "</style>\n",
       "<table border=\"1\" class=\"dataframe\">\n",
       "  <thead>\n",
       "    <tr style=\"text-align: right;\">\n",
       "      <th></th>\n",
       "      <th>BsmtExposure</th>\n",
       "      <th>BsmtFinType1</th>\n",
       "      <th>BsmtFinType2</th>\n",
       "      <th>BsmtQual</th>\n",
       "      <th>BsmtCond</th>\n",
       "    </tr>\n",
       "  </thead>\n",
       "  <tbody>\n",
       "    <tr>\n",
       "      <th>17</th>\n",
       "      <td>NaN</td>\n",
       "      <td>NaN</td>\n",
       "      <td>NaN</td>\n",
       "      <td>NaN</td>\n",
       "      <td>NaN</td>\n",
       "    </tr>\n",
       "    <tr>\n",
       "      <th>39</th>\n",
       "      <td>NaN</td>\n",
       "      <td>NaN</td>\n",
       "      <td>NaN</td>\n",
       "      <td>NaN</td>\n",
       "      <td>NaN</td>\n",
       "    </tr>\n",
       "    <tr>\n",
       "      <th>90</th>\n",
       "      <td>NaN</td>\n",
       "      <td>NaN</td>\n",
       "      <td>NaN</td>\n",
       "      <td>NaN</td>\n",
       "      <td>NaN</td>\n",
       "    </tr>\n",
       "    <tr>\n",
       "      <th>102</th>\n",
       "      <td>NaN</td>\n",
       "      <td>NaN</td>\n",
       "      <td>NaN</td>\n",
       "      <td>NaN</td>\n",
       "      <td>NaN</td>\n",
       "    </tr>\n",
       "    <tr>\n",
       "      <th>156</th>\n",
       "      <td>NaN</td>\n",
       "      <td>NaN</td>\n",
       "      <td>NaN</td>\n",
       "      <td>NaN</td>\n",
       "      <td>NaN</td>\n",
       "    </tr>\n",
       "    <tr>\n",
       "      <th>182</th>\n",
       "      <td>NaN</td>\n",
       "      <td>NaN</td>\n",
       "      <td>NaN</td>\n",
       "      <td>NaN</td>\n",
       "      <td>NaN</td>\n",
       "    </tr>\n",
       "    <tr>\n",
       "      <th>259</th>\n",
       "      <td>NaN</td>\n",
       "      <td>NaN</td>\n",
       "      <td>NaN</td>\n",
       "      <td>NaN</td>\n",
       "      <td>NaN</td>\n",
       "    </tr>\n",
       "    <tr>\n",
       "      <th>342</th>\n",
       "      <td>NaN</td>\n",
       "      <td>NaN</td>\n",
       "      <td>NaN</td>\n",
       "      <td>NaN</td>\n",
       "      <td>NaN</td>\n",
       "    </tr>\n",
       "    <tr>\n",
       "      <th>362</th>\n",
       "      <td>NaN</td>\n",
       "      <td>NaN</td>\n",
       "      <td>NaN</td>\n",
       "      <td>NaN</td>\n",
       "      <td>NaN</td>\n",
       "    </tr>\n",
       "    <tr>\n",
       "      <th>371</th>\n",
       "      <td>NaN</td>\n",
       "      <td>NaN</td>\n",
       "      <td>NaN</td>\n",
       "      <td>NaN</td>\n",
       "      <td>NaN</td>\n",
       "    </tr>\n",
       "    <tr>\n",
       "      <th>392</th>\n",
       "      <td>NaN</td>\n",
       "      <td>NaN</td>\n",
       "      <td>NaN</td>\n",
       "      <td>NaN</td>\n",
       "      <td>NaN</td>\n",
       "    </tr>\n",
       "    <tr>\n",
       "      <th>520</th>\n",
       "      <td>NaN</td>\n",
       "      <td>NaN</td>\n",
       "      <td>NaN</td>\n",
       "      <td>NaN</td>\n",
       "      <td>NaN</td>\n",
       "    </tr>\n",
       "    <tr>\n",
       "      <th>532</th>\n",
       "      <td>NaN</td>\n",
       "      <td>NaN</td>\n",
       "      <td>NaN</td>\n",
       "      <td>NaN</td>\n",
       "      <td>NaN</td>\n",
       "    </tr>\n",
       "    <tr>\n",
       "      <th>533</th>\n",
       "      <td>NaN</td>\n",
       "      <td>NaN</td>\n",
       "      <td>NaN</td>\n",
       "      <td>NaN</td>\n",
       "      <td>NaN</td>\n",
       "    </tr>\n",
       "    <tr>\n",
       "      <th>553</th>\n",
       "      <td>NaN</td>\n",
       "      <td>NaN</td>\n",
       "      <td>NaN</td>\n",
       "      <td>NaN</td>\n",
       "      <td>NaN</td>\n",
       "    </tr>\n",
       "    <tr>\n",
       "      <th>646</th>\n",
       "      <td>NaN</td>\n",
       "      <td>NaN</td>\n",
       "      <td>NaN</td>\n",
       "      <td>NaN</td>\n",
       "      <td>NaN</td>\n",
       "    </tr>\n",
       "    <tr>\n",
       "      <th>705</th>\n",
       "      <td>NaN</td>\n",
       "      <td>NaN</td>\n",
       "      <td>NaN</td>\n",
       "      <td>NaN</td>\n",
       "      <td>NaN</td>\n",
       "    </tr>\n",
       "    <tr>\n",
       "      <th>736</th>\n",
       "      <td>NaN</td>\n",
       "      <td>NaN</td>\n",
       "      <td>NaN</td>\n",
       "      <td>NaN</td>\n",
       "      <td>NaN</td>\n",
       "    </tr>\n",
       "    <tr>\n",
       "      <th>749</th>\n",
       "      <td>NaN</td>\n",
       "      <td>NaN</td>\n",
       "      <td>NaN</td>\n",
       "      <td>NaN</td>\n",
       "      <td>NaN</td>\n",
       "    </tr>\n",
       "    <tr>\n",
       "      <th>778</th>\n",
       "      <td>NaN</td>\n",
       "      <td>NaN</td>\n",
       "      <td>NaN</td>\n",
       "      <td>NaN</td>\n",
       "      <td>NaN</td>\n",
       "    </tr>\n",
       "    <tr>\n",
       "      <th>868</th>\n",
       "      <td>NaN</td>\n",
       "      <td>NaN</td>\n",
       "      <td>NaN</td>\n",
       "      <td>NaN</td>\n",
       "      <td>NaN</td>\n",
       "    </tr>\n",
       "    <tr>\n",
       "      <th>894</th>\n",
       "      <td>NaN</td>\n",
       "      <td>NaN</td>\n",
       "      <td>NaN</td>\n",
       "      <td>NaN</td>\n",
       "      <td>NaN</td>\n",
       "    </tr>\n",
       "    <tr>\n",
       "      <th>897</th>\n",
       "      <td>NaN</td>\n",
       "      <td>NaN</td>\n",
       "      <td>NaN</td>\n",
       "      <td>NaN</td>\n",
       "      <td>NaN</td>\n",
       "    </tr>\n",
       "    <tr>\n",
       "      <th>948</th>\n",
       "      <td>NaN</td>\n",
       "      <td>Unf</td>\n",
       "      <td>Unf</td>\n",
       "      <td>Gd</td>\n",
       "      <td>TA</td>\n",
       "    </tr>\n",
       "    <tr>\n",
       "      <th>984</th>\n",
       "      <td>NaN</td>\n",
       "      <td>NaN</td>\n",
       "      <td>NaN</td>\n",
       "      <td>NaN</td>\n",
       "      <td>NaN</td>\n",
       "    </tr>\n",
       "    <tr>\n",
       "      <th>1000</th>\n",
       "      <td>NaN</td>\n",
       "      <td>NaN</td>\n",
       "      <td>NaN</td>\n",
       "      <td>NaN</td>\n",
       "      <td>NaN</td>\n",
       "    </tr>\n",
       "    <tr>\n",
       "      <th>1011</th>\n",
       "      <td>NaN</td>\n",
       "      <td>NaN</td>\n",
       "      <td>NaN</td>\n",
       "      <td>NaN</td>\n",
       "      <td>NaN</td>\n",
       "    </tr>\n",
       "    <tr>\n",
       "      <th>1035</th>\n",
       "      <td>NaN</td>\n",
       "      <td>NaN</td>\n",
       "      <td>NaN</td>\n",
       "      <td>NaN</td>\n",
       "      <td>NaN</td>\n",
       "    </tr>\n",
       "    <tr>\n",
       "      <th>1045</th>\n",
       "      <td>NaN</td>\n",
       "      <td>NaN</td>\n",
       "      <td>NaN</td>\n",
       "      <td>NaN</td>\n",
       "      <td>NaN</td>\n",
       "    </tr>\n",
       "    <tr>\n",
       "      <th>1048</th>\n",
       "      <td>NaN</td>\n",
       "      <td>NaN</td>\n",
       "      <td>NaN</td>\n",
       "      <td>NaN</td>\n",
       "      <td>NaN</td>\n",
       "    </tr>\n",
       "    <tr>\n",
       "      <th>1049</th>\n",
       "      <td>NaN</td>\n",
       "      <td>NaN</td>\n",
       "      <td>NaN</td>\n",
       "      <td>NaN</td>\n",
       "      <td>NaN</td>\n",
       "    </tr>\n",
       "    <tr>\n",
       "      <th>1090</th>\n",
       "      <td>NaN</td>\n",
       "      <td>NaN</td>\n",
       "      <td>NaN</td>\n",
       "      <td>NaN</td>\n",
       "      <td>NaN</td>\n",
       "    </tr>\n",
       "    <tr>\n",
       "      <th>1179</th>\n",
       "      <td>NaN</td>\n",
       "      <td>NaN</td>\n",
       "      <td>NaN</td>\n",
       "      <td>NaN</td>\n",
       "      <td>NaN</td>\n",
       "    </tr>\n",
       "    <tr>\n",
       "      <th>1216</th>\n",
       "      <td>NaN</td>\n",
       "      <td>NaN</td>\n",
       "      <td>NaN</td>\n",
       "      <td>NaN</td>\n",
       "      <td>NaN</td>\n",
       "    </tr>\n",
       "    <tr>\n",
       "      <th>1218</th>\n",
       "      <td>NaN</td>\n",
       "      <td>NaN</td>\n",
       "      <td>NaN</td>\n",
       "      <td>NaN</td>\n",
       "      <td>NaN</td>\n",
       "    </tr>\n",
       "    <tr>\n",
       "      <th>1232</th>\n",
       "      <td>NaN</td>\n",
       "      <td>NaN</td>\n",
       "      <td>NaN</td>\n",
       "      <td>NaN</td>\n",
       "      <td>NaN</td>\n",
       "    </tr>\n",
       "    <tr>\n",
       "      <th>1321</th>\n",
       "      <td>NaN</td>\n",
       "      <td>NaN</td>\n",
       "      <td>NaN</td>\n",
       "      <td>NaN</td>\n",
       "      <td>NaN</td>\n",
       "    </tr>\n",
       "    <tr>\n",
       "      <th>1412</th>\n",
       "      <td>NaN</td>\n",
       "      <td>NaN</td>\n",
       "      <td>NaN</td>\n",
       "      <td>NaN</td>\n",
       "      <td>NaN</td>\n",
       "    </tr>\n",
       "  </tbody>\n",
       "</table>\n",
       "</div>"
      ],
      "text/plain": [
       "     BsmtExposure BsmtFinType1 BsmtFinType2 BsmtQual BsmtCond\n",
       "17            NaN          NaN          NaN      NaN      NaN\n",
       "39            NaN          NaN          NaN      NaN      NaN\n",
       "90            NaN          NaN          NaN      NaN      NaN\n",
       "102           NaN          NaN          NaN      NaN      NaN\n",
       "156           NaN          NaN          NaN      NaN      NaN\n",
       "182           NaN          NaN          NaN      NaN      NaN\n",
       "259           NaN          NaN          NaN      NaN      NaN\n",
       "342           NaN          NaN          NaN      NaN      NaN\n",
       "362           NaN          NaN          NaN      NaN      NaN\n",
       "371           NaN          NaN          NaN      NaN      NaN\n",
       "392           NaN          NaN          NaN      NaN      NaN\n",
       "520           NaN          NaN          NaN      NaN      NaN\n",
       "532           NaN          NaN          NaN      NaN      NaN\n",
       "533           NaN          NaN          NaN      NaN      NaN\n",
       "553           NaN          NaN          NaN      NaN      NaN\n",
       "646           NaN          NaN          NaN      NaN      NaN\n",
       "705           NaN          NaN          NaN      NaN      NaN\n",
       "736           NaN          NaN          NaN      NaN      NaN\n",
       "749           NaN          NaN          NaN      NaN      NaN\n",
       "778           NaN          NaN          NaN      NaN      NaN\n",
       "868           NaN          NaN          NaN      NaN      NaN\n",
       "894           NaN          NaN          NaN      NaN      NaN\n",
       "897           NaN          NaN          NaN      NaN      NaN\n",
       "948           NaN          Unf          Unf       Gd       TA\n",
       "984           NaN          NaN          NaN      NaN      NaN\n",
       "1000          NaN          NaN          NaN      NaN      NaN\n",
       "1011          NaN          NaN          NaN      NaN      NaN\n",
       "1035          NaN          NaN          NaN      NaN      NaN\n",
       "1045          NaN          NaN          NaN      NaN      NaN\n",
       "1048          NaN          NaN          NaN      NaN      NaN\n",
       "1049          NaN          NaN          NaN      NaN      NaN\n",
       "1090          NaN          NaN          NaN      NaN      NaN\n",
       "1179          NaN          NaN          NaN      NaN      NaN\n",
       "1216          NaN          NaN          NaN      NaN      NaN\n",
       "1218          NaN          NaN          NaN      NaN      NaN\n",
       "1232          NaN          NaN          NaN      NaN      NaN\n",
       "1321          NaN          NaN          NaN      NaN      NaN\n",
       "1412          NaN          NaN          NaN      NaN      NaN"
      ]
     },
     "execution_count": 28,
     "metadata": {},
     "output_type": "execute_result"
    }
   ],
   "source": [
    "Bsmt = houses[['BsmtExposure', 'BsmtFinType1', 'BsmtFinType2', 'BsmtQual', 'BsmtCond']]\n",
    "Bsmt[Bsmt['BsmtExposure'].isna()]"
   ]
  },
  {
   "cell_type": "markdown",
   "metadata": {},
   "source": [
    "В 4-х столбцах есть значения, в первом нет. Еще раз посчитаем кол-во \"нанов\":"
   ]
  },
  {
   "cell_type": "code",
   "execution_count": 29,
   "metadata": {},
   "outputs": [
    {
     "data": {
      "text/plain": [
       "BsmtExposure    38\n",
       "BsmtFinType1    37\n",
       "BsmtFinType2    38\n",
       "BsmtQual        37\n",
       "BsmtCond        37\n",
       "dtype: int64"
      ]
     },
     "execution_count": 29,
     "metadata": {},
     "output_type": "execute_result"
    }
   ],
   "source": [
    "Bsmt.isna().sum()"
   ]
  },
  {
   "cell_type": "markdown",
   "metadata": {},
   "source": [
    "Удивительно. Что же с ними не так? Отсортируем теперь по другому столбцу:"
   ]
  },
  {
   "cell_type": "code",
   "execution_count": 30,
   "metadata": {},
   "outputs": [
    {
     "data": {
      "text/html": [
       "<div>\n",
       "<style scoped>\n",
       "    .dataframe tbody tr th:only-of-type {\n",
       "        vertical-align: middle;\n",
       "    }\n",
       "\n",
       "    .dataframe tbody tr th {\n",
       "        vertical-align: top;\n",
       "    }\n",
       "\n",
       "    .dataframe thead th {\n",
       "        text-align: right;\n",
       "    }\n",
       "</style>\n",
       "<table border=\"1\" class=\"dataframe\">\n",
       "  <thead>\n",
       "    <tr style=\"text-align: right;\">\n",
       "      <th></th>\n",
       "      <th>BsmtExposure</th>\n",
       "      <th>BsmtFinType1</th>\n",
       "      <th>BsmtFinType2</th>\n",
       "      <th>BsmtQual</th>\n",
       "      <th>BsmtCond</th>\n",
       "    </tr>\n",
       "  </thead>\n",
       "  <tbody>\n",
       "    <tr>\n",
       "      <th>17</th>\n",
       "      <td>NaN</td>\n",
       "      <td>NaN</td>\n",
       "      <td>NaN</td>\n",
       "      <td>NaN</td>\n",
       "      <td>NaN</td>\n",
       "    </tr>\n",
       "    <tr>\n",
       "      <th>39</th>\n",
       "      <td>NaN</td>\n",
       "      <td>NaN</td>\n",
       "      <td>NaN</td>\n",
       "      <td>NaN</td>\n",
       "      <td>NaN</td>\n",
       "    </tr>\n",
       "    <tr>\n",
       "      <th>90</th>\n",
       "      <td>NaN</td>\n",
       "      <td>NaN</td>\n",
       "      <td>NaN</td>\n",
       "      <td>NaN</td>\n",
       "      <td>NaN</td>\n",
       "    </tr>\n",
       "    <tr>\n",
       "      <th>102</th>\n",
       "      <td>NaN</td>\n",
       "      <td>NaN</td>\n",
       "      <td>NaN</td>\n",
       "      <td>NaN</td>\n",
       "      <td>NaN</td>\n",
       "    </tr>\n",
       "    <tr>\n",
       "      <th>156</th>\n",
       "      <td>NaN</td>\n",
       "      <td>NaN</td>\n",
       "      <td>NaN</td>\n",
       "      <td>NaN</td>\n",
       "      <td>NaN</td>\n",
       "    </tr>\n",
       "    <tr>\n",
       "      <th>182</th>\n",
       "      <td>NaN</td>\n",
       "      <td>NaN</td>\n",
       "      <td>NaN</td>\n",
       "      <td>NaN</td>\n",
       "      <td>NaN</td>\n",
       "    </tr>\n",
       "    <tr>\n",
       "      <th>259</th>\n",
       "      <td>NaN</td>\n",
       "      <td>NaN</td>\n",
       "      <td>NaN</td>\n",
       "      <td>NaN</td>\n",
       "      <td>NaN</td>\n",
       "    </tr>\n",
       "    <tr>\n",
       "      <th>332</th>\n",
       "      <td>No</td>\n",
       "      <td>GLQ</td>\n",
       "      <td>NaN</td>\n",
       "      <td>Gd</td>\n",
       "      <td>TA</td>\n",
       "    </tr>\n",
       "    <tr>\n",
       "      <th>342</th>\n",
       "      <td>NaN</td>\n",
       "      <td>NaN</td>\n",
       "      <td>NaN</td>\n",
       "      <td>NaN</td>\n",
       "      <td>NaN</td>\n",
       "    </tr>\n",
       "    <tr>\n",
       "      <th>362</th>\n",
       "      <td>NaN</td>\n",
       "      <td>NaN</td>\n",
       "      <td>NaN</td>\n",
       "      <td>NaN</td>\n",
       "      <td>NaN</td>\n",
       "    </tr>\n",
       "    <tr>\n",
       "      <th>371</th>\n",
       "      <td>NaN</td>\n",
       "      <td>NaN</td>\n",
       "      <td>NaN</td>\n",
       "      <td>NaN</td>\n",
       "      <td>NaN</td>\n",
       "    </tr>\n",
       "    <tr>\n",
       "      <th>392</th>\n",
       "      <td>NaN</td>\n",
       "      <td>NaN</td>\n",
       "      <td>NaN</td>\n",
       "      <td>NaN</td>\n",
       "      <td>NaN</td>\n",
       "    </tr>\n",
       "    <tr>\n",
       "      <th>520</th>\n",
       "      <td>NaN</td>\n",
       "      <td>NaN</td>\n",
       "      <td>NaN</td>\n",
       "      <td>NaN</td>\n",
       "      <td>NaN</td>\n",
       "    </tr>\n",
       "    <tr>\n",
       "      <th>532</th>\n",
       "      <td>NaN</td>\n",
       "      <td>NaN</td>\n",
       "      <td>NaN</td>\n",
       "      <td>NaN</td>\n",
       "      <td>NaN</td>\n",
       "    </tr>\n",
       "    <tr>\n",
       "      <th>533</th>\n",
       "      <td>NaN</td>\n",
       "      <td>NaN</td>\n",
       "      <td>NaN</td>\n",
       "      <td>NaN</td>\n",
       "      <td>NaN</td>\n",
       "    </tr>\n",
       "    <tr>\n",
       "      <th>553</th>\n",
       "      <td>NaN</td>\n",
       "      <td>NaN</td>\n",
       "      <td>NaN</td>\n",
       "      <td>NaN</td>\n",
       "      <td>NaN</td>\n",
       "    </tr>\n",
       "    <tr>\n",
       "      <th>646</th>\n",
       "      <td>NaN</td>\n",
       "      <td>NaN</td>\n",
       "      <td>NaN</td>\n",
       "      <td>NaN</td>\n",
       "      <td>NaN</td>\n",
       "    </tr>\n",
       "    <tr>\n",
       "      <th>705</th>\n",
       "      <td>NaN</td>\n",
       "      <td>NaN</td>\n",
       "      <td>NaN</td>\n",
       "      <td>NaN</td>\n",
       "      <td>NaN</td>\n",
       "    </tr>\n",
       "    <tr>\n",
       "      <th>736</th>\n",
       "      <td>NaN</td>\n",
       "      <td>NaN</td>\n",
       "      <td>NaN</td>\n",
       "      <td>NaN</td>\n",
       "      <td>NaN</td>\n",
       "    </tr>\n",
       "    <tr>\n",
       "      <th>749</th>\n",
       "      <td>NaN</td>\n",
       "      <td>NaN</td>\n",
       "      <td>NaN</td>\n",
       "      <td>NaN</td>\n",
       "      <td>NaN</td>\n",
       "    </tr>\n",
       "    <tr>\n",
       "      <th>778</th>\n",
       "      <td>NaN</td>\n",
       "      <td>NaN</td>\n",
       "      <td>NaN</td>\n",
       "      <td>NaN</td>\n",
       "      <td>NaN</td>\n",
       "    </tr>\n",
       "    <tr>\n",
       "      <th>868</th>\n",
       "      <td>NaN</td>\n",
       "      <td>NaN</td>\n",
       "      <td>NaN</td>\n",
       "      <td>NaN</td>\n",
       "      <td>NaN</td>\n",
       "    </tr>\n",
       "    <tr>\n",
       "      <th>894</th>\n",
       "      <td>NaN</td>\n",
       "      <td>NaN</td>\n",
       "      <td>NaN</td>\n",
       "      <td>NaN</td>\n",
       "      <td>NaN</td>\n",
       "    </tr>\n",
       "    <tr>\n",
       "      <th>897</th>\n",
       "      <td>NaN</td>\n",
       "      <td>NaN</td>\n",
       "      <td>NaN</td>\n",
       "      <td>NaN</td>\n",
       "      <td>NaN</td>\n",
       "    </tr>\n",
       "    <tr>\n",
       "      <th>984</th>\n",
       "      <td>NaN</td>\n",
       "      <td>NaN</td>\n",
       "      <td>NaN</td>\n",
       "      <td>NaN</td>\n",
       "      <td>NaN</td>\n",
       "    </tr>\n",
       "    <tr>\n",
       "      <th>1000</th>\n",
       "      <td>NaN</td>\n",
       "      <td>NaN</td>\n",
       "      <td>NaN</td>\n",
       "      <td>NaN</td>\n",
       "      <td>NaN</td>\n",
       "    </tr>\n",
       "    <tr>\n",
       "      <th>1011</th>\n",
       "      <td>NaN</td>\n",
       "      <td>NaN</td>\n",
       "      <td>NaN</td>\n",
       "      <td>NaN</td>\n",
       "      <td>NaN</td>\n",
       "    </tr>\n",
       "    <tr>\n",
       "      <th>1035</th>\n",
       "      <td>NaN</td>\n",
       "      <td>NaN</td>\n",
       "      <td>NaN</td>\n",
       "      <td>NaN</td>\n",
       "      <td>NaN</td>\n",
       "    </tr>\n",
       "    <tr>\n",
       "      <th>1045</th>\n",
       "      <td>NaN</td>\n",
       "      <td>NaN</td>\n",
       "      <td>NaN</td>\n",
       "      <td>NaN</td>\n",
       "      <td>NaN</td>\n",
       "    </tr>\n",
       "    <tr>\n",
       "      <th>1048</th>\n",
       "      <td>NaN</td>\n",
       "      <td>NaN</td>\n",
       "      <td>NaN</td>\n",
       "      <td>NaN</td>\n",
       "      <td>NaN</td>\n",
       "    </tr>\n",
       "    <tr>\n",
       "      <th>1049</th>\n",
       "      <td>NaN</td>\n",
       "      <td>NaN</td>\n",
       "      <td>NaN</td>\n",
       "      <td>NaN</td>\n",
       "      <td>NaN</td>\n",
       "    </tr>\n",
       "    <tr>\n",
       "      <th>1090</th>\n",
       "      <td>NaN</td>\n",
       "      <td>NaN</td>\n",
       "      <td>NaN</td>\n",
       "      <td>NaN</td>\n",
       "      <td>NaN</td>\n",
       "    </tr>\n",
       "    <tr>\n",
       "      <th>1179</th>\n",
       "      <td>NaN</td>\n",
       "      <td>NaN</td>\n",
       "      <td>NaN</td>\n",
       "      <td>NaN</td>\n",
       "      <td>NaN</td>\n",
       "    </tr>\n",
       "    <tr>\n",
       "      <th>1216</th>\n",
       "      <td>NaN</td>\n",
       "      <td>NaN</td>\n",
       "      <td>NaN</td>\n",
       "      <td>NaN</td>\n",
       "      <td>NaN</td>\n",
       "    </tr>\n",
       "    <tr>\n",
       "      <th>1218</th>\n",
       "      <td>NaN</td>\n",
       "      <td>NaN</td>\n",
       "      <td>NaN</td>\n",
       "      <td>NaN</td>\n",
       "      <td>NaN</td>\n",
       "    </tr>\n",
       "    <tr>\n",
       "      <th>1232</th>\n",
       "      <td>NaN</td>\n",
       "      <td>NaN</td>\n",
       "      <td>NaN</td>\n",
       "      <td>NaN</td>\n",
       "      <td>NaN</td>\n",
       "    </tr>\n",
       "    <tr>\n",
       "      <th>1321</th>\n",
       "      <td>NaN</td>\n",
       "      <td>NaN</td>\n",
       "      <td>NaN</td>\n",
       "      <td>NaN</td>\n",
       "      <td>NaN</td>\n",
       "    </tr>\n",
       "    <tr>\n",
       "      <th>1412</th>\n",
       "      <td>NaN</td>\n",
       "      <td>NaN</td>\n",
       "      <td>NaN</td>\n",
       "      <td>NaN</td>\n",
       "      <td>NaN</td>\n",
       "    </tr>\n",
       "  </tbody>\n",
       "</table>\n",
       "</div>"
      ],
      "text/plain": [
       "     BsmtExposure BsmtFinType1 BsmtFinType2 BsmtQual BsmtCond\n",
       "17            NaN          NaN          NaN      NaN      NaN\n",
       "39            NaN          NaN          NaN      NaN      NaN\n",
       "90            NaN          NaN          NaN      NaN      NaN\n",
       "102           NaN          NaN          NaN      NaN      NaN\n",
       "156           NaN          NaN          NaN      NaN      NaN\n",
       "182           NaN          NaN          NaN      NaN      NaN\n",
       "259           NaN          NaN          NaN      NaN      NaN\n",
       "332            No          GLQ          NaN       Gd       TA\n",
       "342           NaN          NaN          NaN      NaN      NaN\n",
       "362           NaN          NaN          NaN      NaN      NaN\n",
       "371           NaN          NaN          NaN      NaN      NaN\n",
       "392           NaN          NaN          NaN      NaN      NaN\n",
       "520           NaN          NaN          NaN      NaN      NaN\n",
       "532           NaN          NaN          NaN      NaN      NaN\n",
       "533           NaN          NaN          NaN      NaN      NaN\n",
       "553           NaN          NaN          NaN      NaN      NaN\n",
       "646           NaN          NaN          NaN      NaN      NaN\n",
       "705           NaN          NaN          NaN      NaN      NaN\n",
       "736           NaN          NaN          NaN      NaN      NaN\n",
       "749           NaN          NaN          NaN      NaN      NaN\n",
       "778           NaN          NaN          NaN      NaN      NaN\n",
       "868           NaN          NaN          NaN      NaN      NaN\n",
       "894           NaN          NaN          NaN      NaN      NaN\n",
       "897           NaN          NaN          NaN      NaN      NaN\n",
       "984           NaN          NaN          NaN      NaN      NaN\n",
       "1000          NaN          NaN          NaN      NaN      NaN\n",
       "1011          NaN          NaN          NaN      NaN      NaN\n",
       "1035          NaN          NaN          NaN      NaN      NaN\n",
       "1045          NaN          NaN          NaN      NaN      NaN\n",
       "1048          NaN          NaN          NaN      NaN      NaN\n",
       "1049          NaN          NaN          NaN      NaN      NaN\n",
       "1090          NaN          NaN          NaN      NaN      NaN\n",
       "1179          NaN          NaN          NaN      NaN      NaN\n",
       "1216          NaN          NaN          NaN      NaN      NaN\n",
       "1218          NaN          NaN          NaN      NaN      NaN\n",
       "1232          NaN          NaN          NaN      NaN      NaN\n",
       "1321          NaN          NaN          NaN      NaN      NaN\n",
       "1412          NaN          NaN          NaN      NaN      NaN"
      ]
     },
     "execution_count": 30,
     "metadata": {},
     "output_type": "execute_result"
    }
   ],
   "source": [
    "Bsmt[Bsmt['BsmtFinType2'].isna()]"
   ]
  },
  {
   "cell_type": "code",
   "execution_count": 31,
   "metadata": {},
   "outputs": [],
   "source": [
    "del Bsmt"
   ]
  },
  {
   "cell_type": "markdown",
   "metadata": {},
   "source": [
    "Вот, где ошибка: 332 строчка. Посмотрим, что можно сделать в данном случае."
   ]
  },
  {
   "cell_type": "code",
   "execution_count": 32,
   "metadata": {},
   "outputs": [
    {
     "data": {
      "text/plain": [
       "Unf    126\n",
       "LwQ      1\n",
       "Rec      1\n",
       "Name: BsmtFinType2, dtype: int64"
      ]
     },
     "execution_count": 32,
     "metadata": {},
     "output_type": "execute_result"
    }
   ],
   "source": [
    "houses[(houses['BsmtExposure'] == 'No') & (houses['BsmtFinType1'] == 'GLQ') & (houses['BsmtQual'] == 'Gd') & (houses['BsmtCond'] == 'TA')]['BsmtFinType2'].value_counts()"
   ]
  },
  {
   "cell_type": "markdown",
   "metadata": {},
   "source": [
    "Наиболее частое значение в данном случае - Unf (Незаконченный). Заменим модой этот пропуск."
   ]
  },
  {
   "cell_type": "code",
   "execution_count": 33,
   "metadata": {},
   "outputs": [],
   "source": [
    "houses['BsmtFinType2'][332] = 'Unf'"
   ]
  },
  {
   "cell_type": "code",
   "execution_count": 34,
   "metadata": {},
   "outputs": [
    {
     "data": {
      "text/plain": [
       "37"
      ]
     },
     "execution_count": 34,
     "metadata": {},
     "output_type": "execute_result"
    }
   ],
   "source": [
    "houses['BsmtFinType2'].isna().sum()"
   ]
  },
  {
   "cell_type": "markdown",
   "metadata": {},
   "source": [
    "Теперь посмотрим еще на один пропуск: это строка 948. В ней в столбцах \"BsmtFinType1\" и \"BsmtFinType2\" значение \"Unf\", а в столбце \"BsmtExposure\" - пропуск. "
   ]
  },
  {
   "cell_type": "code",
   "execution_count": 35,
   "metadata": {},
   "outputs": [
    {
     "data": {
      "text/plain": [
       "No    136\n",
       "Av     26\n",
       "Mn     10\n",
       "Gd      5\n",
       "Name: BsmtExposure, dtype: int64"
      ]
     },
     "execution_count": 35,
     "metadata": {},
     "output_type": "execute_result"
    }
   ],
   "source": [
    "houses[(houses['BsmtFinType1'] == 'Unf') & (houses['BsmtFinType2'] == 'Unf') & (houses['BsmtQual'] == 'Gd') & (houses['BsmtCond'] == 'TA')]['BsmtExposure'].value_counts()"
   ]
  },
  {
   "cell_type": "markdown",
   "metadata": {},
   "source": [
    "Наиболее частое значение \"No\". Заменим им:"
   ]
  },
  {
   "cell_type": "code",
   "execution_count": 36,
   "metadata": {},
   "outputs": [
    {
     "data": {
      "text/plain": [
       "nan"
      ]
     },
     "execution_count": 36,
     "metadata": {},
     "output_type": "execute_result"
    }
   ],
   "source": [
    "houses['BsmtExposure'][948]"
   ]
  },
  {
   "cell_type": "code",
   "execution_count": 37,
   "metadata": {},
   "outputs": [],
   "source": [
    "houses['BsmtExposure'][948] = 'No'"
   ]
  },
  {
   "cell_type": "code",
   "execution_count": 38,
   "metadata": {},
   "outputs": [
    {
     "data": {
      "text/plain": [
       "'No'"
      ]
     },
     "execution_count": 38,
     "metadata": {},
     "output_type": "execute_result"
    }
   ],
   "source": [
    "houses['BsmtExposure'][948]"
   ]
  },
  {
   "cell_type": "markdown",
   "metadata": {},
   "source": [
    "Еще раз посчитаем пропуски:"
   ]
  },
  {
   "cell_type": "code",
   "execution_count": 39,
   "metadata": {},
   "outputs": [
    {
     "data": {
      "text/plain": [
       "BsmtExposure    37\n",
       "BsmtFinType1    37\n",
       "BsmtFinType2    37\n",
       "BsmtQual        37\n",
       "BsmtCond        37\n",
       "dtype: int64"
      ]
     },
     "execution_count": 39,
     "metadata": {},
     "output_type": "execute_result"
    }
   ],
   "source": [
    "houses[['BsmtExposure', 'BsmtFinType1', 'BsmtFinType2', 'BsmtQual', 'BsmtCond']].isna().sum()"
   ]
  },
  {
   "cell_type": "markdown",
   "metadata": {},
   "source": [
    "Меняем пропуски на \"no_basement\":"
   ]
  },
  {
   "cell_type": "code",
   "execution_count": 40,
   "metadata": {},
   "outputs": [],
   "source": [
    "houses[['BsmtExposure', 'BsmtFinType1', 'BsmtFinType2', 'BsmtQual', 'BsmtCond']] = houses[['BsmtExposure', 'BsmtFinType1', 'BsmtFinType2', 'BsmtQual', 'BsmtCond']].fillna(\"no_basement\")"
   ]
  },
  {
   "cell_type": "code",
   "execution_count": 41,
   "metadata": {},
   "outputs": [
    {
     "name": "stdout",
     "output_type": "stream",
     "text": [
      "['LotFrontage', 'MasVnrType', 'MasVnrArea', 'Electrical']\n"
     ]
    }
   ],
   "source": [
    "print([i for i in houses.columns if houses[i].isna().sum() > 0])"
   ]
  },
  {
   "cell_type": "markdown",
   "metadata": {},
   "source": [
    "'MasVnrType' (8 пропусков) и 'Electrical' (1 пропуск) - столбцы типа \"объект\". Посмотрим, что у них за пропуски:"
   ]
  },
  {
   "cell_type": "code",
   "execution_count": 42,
   "metadata": {},
   "outputs": [
    {
     "data": {
      "text/html": [
       "<div>\n",
       "<style scoped>\n",
       "    .dataframe tbody tr th:only-of-type {\n",
       "        vertical-align: middle;\n",
       "    }\n",
       "\n",
       "    .dataframe tbody tr th {\n",
       "        vertical-align: top;\n",
       "    }\n",
       "\n",
       "    .dataframe thead th {\n",
       "        text-align: right;\n",
       "    }\n",
       "</style>\n",
       "<table border=\"1\" class=\"dataframe\">\n",
       "  <thead>\n",
       "    <tr style=\"text-align: right;\">\n",
       "      <th></th>\n",
       "      <th>Id</th>\n",
       "      <th>MSSubClass</th>\n",
       "      <th>MSZoning</th>\n",
       "      <th>LotFrontage</th>\n",
       "      <th>LotArea</th>\n",
       "      <th>Street</th>\n",
       "      <th>Alley</th>\n",
       "      <th>LotShape</th>\n",
       "      <th>LandContour</th>\n",
       "      <th>Utilities</th>\n",
       "      <th>...</th>\n",
       "      <th>PoolArea</th>\n",
       "      <th>PoolQC</th>\n",
       "      <th>Fence</th>\n",
       "      <th>MiscFeature</th>\n",
       "      <th>MiscVal</th>\n",
       "      <th>MoSold</th>\n",
       "      <th>YrSold</th>\n",
       "      <th>SaleType</th>\n",
       "      <th>SaleCondition</th>\n",
       "      <th>SalePrice</th>\n",
       "    </tr>\n",
       "  </thead>\n",
       "  <tbody>\n",
       "    <tr>\n",
       "      <th>1379</th>\n",
       "      <td>1380</td>\n",
       "      <td>80</td>\n",
       "      <td>RL</td>\n",
       "      <td>73.0</td>\n",
       "      <td>9735</td>\n",
       "      <td>Pave</td>\n",
       "      <td>no</td>\n",
       "      <td>Reg</td>\n",
       "      <td>Lvl</td>\n",
       "      <td>AllPub</td>\n",
       "      <td>...</td>\n",
       "      <td>0</td>\n",
       "      <td>no</td>\n",
       "      <td>no</td>\n",
       "      <td>no</td>\n",
       "      <td>0</td>\n",
       "      <td>5</td>\n",
       "      <td>2008</td>\n",
       "      <td>WD</td>\n",
       "      <td>Normal</td>\n",
       "      <td>167500</td>\n",
       "    </tr>\n",
       "  </tbody>\n",
       "</table>\n",
       "<p>1 rows × 81 columns</p>\n",
       "</div>"
      ],
      "text/plain": [
       "        Id  MSSubClass MSZoning  LotFrontage  LotArea Street Alley LotShape  \\\n",
       "1379  1380          80       RL         73.0     9735   Pave    no      Reg   \n",
       "\n",
       "     LandContour Utilities  ... PoolArea PoolQC Fence MiscFeature MiscVal  \\\n",
       "1379         Lvl    AllPub  ...        0     no    no          no       0   \n",
       "\n",
       "     MoSold YrSold  SaleType  SaleCondition  SalePrice  \n",
       "1379      5   2008        WD         Normal     167500  \n",
       "\n",
       "[1 rows x 81 columns]"
      ]
     },
     "execution_count": 42,
     "metadata": {},
     "output_type": "execute_result"
    }
   ],
   "source": [
    "houses[houses['Electrical'].isna()]"
   ]
  },
  {
   "cell_type": "markdown",
   "metadata": {},
   "source": [
    "Тип электрической системы. Посмотрим наиболее частое значение и заменим им:"
   ]
  },
  {
   "cell_type": "code",
   "execution_count": 43,
   "metadata": {},
   "outputs": [
    {
     "data": {
      "text/plain": [
       "SBrkr    1334\n",
       "FuseA      94\n",
       "FuseF      27\n",
       "FuseP       3\n",
       "Mix         1\n",
       "Name: Electrical, dtype: int64"
      ]
     },
     "execution_count": 43,
     "metadata": {},
     "output_type": "execute_result"
    }
   ],
   "source": [
    "houses['Electrical'].value_counts()"
   ]
  },
  {
   "cell_type": "markdown",
   "metadata": {},
   "source": [
    "Итак, чаще всего встречается стандартная. Заменим ей:"
   ]
  },
  {
   "cell_type": "code",
   "execution_count": 44,
   "metadata": {},
   "outputs": [],
   "source": [
    "houses['Electrical'] = houses['Electrical'].fillna('SBrkr')"
   ]
  },
  {
   "cell_type": "code",
   "execution_count": 45,
   "metadata": {},
   "outputs": [
    {
     "data": {
      "text/plain": [
       "array(['BrkFace', 'None', 'Stone', 'BrkCmn', nan], dtype=object)"
      ]
     },
     "execution_count": 45,
     "metadata": {},
     "output_type": "execute_result"
    }
   ],
   "source": [
    "houses['MasVnrType'].unique()"
   ]
  },
  {
   "cell_type": "markdown",
   "metadata": {},
   "source": [
    "Тип облицовки кладки. Посмотрим наиболее популярное значение:"
   ]
  },
  {
   "cell_type": "code",
   "execution_count": 46,
   "metadata": {},
   "outputs": [
    {
     "data": {
      "text/plain": [
       "None       864\n",
       "BrkFace    445\n",
       "Stone      128\n",
       "BrkCmn      15\n",
       "Name: MasVnrType, dtype: int64"
      ]
     },
     "execution_count": 46,
     "metadata": {},
     "output_type": "execute_result"
    }
   ],
   "source": [
    "houses['MasVnrType'].value_counts()"
   ]
  },
  {
   "cell_type": "markdown",
   "metadata": {},
   "source": [
    "Облицовки, как правило, нет. Посмотрим еще на один столбец. В нем столько же пропусков. Думаю, они связаны:"
   ]
  },
  {
   "cell_type": "code",
   "execution_count": 47,
   "metadata": {},
   "outputs": [
    {
     "data": {
      "text/plain": [
       "0.0      861\n",
       "72.0       8\n",
       "180.0      8\n",
       "108.0      8\n",
       "120.0      7\n",
       "        ... \n",
       "651.0      1\n",
       "337.0      1\n",
       "415.0      1\n",
       "293.0      1\n",
       "621.0      1\n",
       "Name: MasVnrArea, Length: 327, dtype: int64"
      ]
     },
     "execution_count": 47,
     "metadata": {},
     "output_type": "execute_result"
    }
   ],
   "source": [
    "houses['MasVnrArea'].value_counts()"
   ]
  },
  {
   "cell_type": "markdown",
   "metadata": {},
   "source": [
    "Площадь облицовки каменной кладкой в квадратных футах. В большинстве своем облицовки нет, поэтому и площадь ее равна 0. Не везде, но более чем в 90% случаев. Заменяем пропуски в \"MasVnrArea\" на 0.0, а в \"MasVnrType\"  на \"None\", но и само это значение после заменим на \"No\":"
   ]
  },
  {
   "cell_type": "code",
   "execution_count": 48,
   "metadata": {},
   "outputs": [],
   "source": [
    "houses['MasVnrType'] = houses['MasVnrType'].fillna('None')"
   ]
  },
  {
   "cell_type": "code",
   "execution_count": 49,
   "metadata": {},
   "outputs": [
    {
     "data": {
      "text/plain": [
       "872"
      ]
     },
     "execution_count": 49,
     "metadata": {},
     "output_type": "execute_result"
    }
   ],
   "source": [
    "len(houses[houses['MasVnrType'] == 'None'])"
   ]
  },
  {
   "cell_type": "code",
   "execution_count": 50,
   "metadata": {},
   "outputs": [],
   "source": [
    "houses.loc[houses['MasVnrType'] == 'None', 'MasVnrType'] = 'No'"
   ]
  },
  {
   "cell_type": "code",
   "execution_count": 51,
   "metadata": {},
   "outputs": [
    {
     "data": {
      "text/plain": [
       "No         872\n",
       "BrkFace    445\n",
       "Stone      128\n",
       "BrkCmn      15\n",
       "Name: MasVnrType, dtype: int64"
      ]
     },
     "execution_count": 51,
     "metadata": {},
     "output_type": "execute_result"
    }
   ],
   "source": [
    "houses['MasVnrType'].value_counts()"
   ]
  },
  {
   "cell_type": "code",
   "execution_count": 52,
   "metadata": {},
   "outputs": [],
   "source": [
    "houses['MasVnrArea'] = houses['MasVnrArea'].fillna(0.0)"
   ]
  },
  {
   "cell_type": "code",
   "execution_count": 53,
   "metadata": {},
   "outputs": [
    {
     "name": "stdout",
     "output_type": "stream",
     "text": [
      "['LotFrontage']\n"
     ]
    }
   ],
   "source": [
    "print([i for i in houses.columns if houses[i].isna().sum() > 0])"
   ]
  },
  {
   "cell_type": "markdown",
   "metadata": {},
   "source": [
    "И последний столбец: LotFrontage. Он содержит числовые данные."
   ]
  },
  {
   "cell_type": "code",
   "execution_count": 54,
   "metadata": {},
   "outputs": [
    {
     "data": {
      "text/plain": [
       "array([ 65.,  80.,  68.,  60.,  84.,  85.,  75.,  nan,  51.,  50.,  70.,\n",
       "        91.,  72.,  66., 101.,  57.,  44., 110.,  98.,  47., 108., 112.,\n",
       "        74., 115.,  61.,  48.,  33.,  52., 100.,  24.,  89.,  63.,  76.,\n",
       "        81.,  95.,  69.,  21.,  32.,  78., 121., 122.,  40., 105.,  73.,\n",
       "        77.,  64.,  94.,  34.,  90.,  55.,  88.,  82.,  71., 120., 107.,\n",
       "        92., 134.,  62.,  86., 141.,  97.,  54.,  41.,  79., 174.,  99.,\n",
       "        67.,  83.,  43., 103.,  93.,  30., 129., 140.,  35.,  37., 118.,\n",
       "        87., 116., 150., 111.,  49.,  96.,  59.,  36.,  56., 102.,  58.,\n",
       "        38., 109., 130.,  53., 137.,  45., 106., 104.,  42.,  39., 144.,\n",
       "       114., 128., 149., 313., 168., 182., 138., 160., 152., 124., 153.,\n",
       "        46.])"
      ]
     },
     "execution_count": 54,
     "metadata": {},
     "output_type": "execute_result"
    }
   ],
   "source": [
    "houses['LotFrontage'].unique()"
   ]
  },
  {
   "cell_type": "markdown",
   "metadata": {},
   "source": [
    "Чем его заменим? Пропусков довольно много. Посмотрим на распределение значений:"
   ]
  },
  {
   "cell_type": "code",
   "execution_count": 55,
   "metadata": {},
   "outputs": [
    {
     "name": "stdout",
     "output_type": "stream",
     "text": [
      "\u001b[1;0346mBoxplot LotFrontage\u001b[0m\n"
     ]
    },
    {
     "data": {
      "text/plain": [
       "<AxesSubplot:xlabel='LotFrontage'>"
      ]
     },
     "execution_count": 55,
     "metadata": {},
     "output_type": "execute_result"
    },
    {
     "data": {
      "image/png": "[encoded data removed]",
      "text/plain": [
       "<Figure size 460.8x403.2 with 1 Axes>"
      ]
     },
     "metadata": {},
     "output_type": "display_data"
    }
   ],
   "source": [
    "print('\\x1b[1;0346m'+'Boxplot {}'.format('LotFrontage') +'\\x1b[0m')\n",
    "sns.boxplot(x=houses['LotFrontage'])"
   ]
  },
  {
   "cell_type": "code",
   "execution_count": 56,
   "metadata": {},
   "outputs": [
    {
     "name": "stdout",
     "output_type": "stream",
     "text": [
      "\u001b[1;0346mDistplot LotFrontage\u001b[0m\n"
     ]
    },
    {
     "data": {
      "image/png": "[encoded data removed]",
      "text/plain": [
       "<Figure size 460.8x403.2 with 1 Axes>"
      ]
     },
     "metadata": {},
     "output_type": "display_data"
    }
   ],
   "source": [
    "print('\\x1b[1;0346m'+'Distplot {}'.format('LotFrontage')+'\\x1b[0m')\n",
    "sns.distplot(houses['LotFrontage'])\n",
    "plt.show()"
   ]
  },
  {
   "cell_type": "markdown",
   "metadata": {},
   "source": [
    "Выброс только один, но не он нас сейчас волнует. На гистограмме видно, что, в принципе, распределение похоже на нормальное. Да, есть ряд значений, представленный несколько чаще, чем при нормальном распределении, но, тем не менее, значения можно предсказать. В таком случае возьмем линейную регрессию для заполнения пропусков:"
   ]
  },
  {
   "cell_type": "markdown",
   "metadata": {},
   "source": [
    "Выберем столбцы, с помощью которых будем предсказывать:"
   ]
  },
  {
   "cell_type": "code",
   "execution_count": 57,
   "metadata": {},
   "outputs": [
    {
     "data": {
      "text/html": [
       "<div>\n",
       "<style scoped>\n",
       "    .dataframe tbody tr th:only-of-type {\n",
       "        vertical-align: middle;\n",
       "    }\n",
       "\n",
       "    .dataframe tbody tr th {\n",
       "        vertical-align: top;\n",
       "    }\n",
       "\n",
       "    .dataframe thead th {\n",
       "        text-align: right;\n",
       "    }\n",
       "</style>\n",
       "<table border=\"1\" class=\"dataframe\">\n",
       "  <thead>\n",
       "    <tr style=\"text-align: right;\">\n",
       "      <th></th>\n",
       "      <th>LotShape</th>\n",
       "      <th>LotArea</th>\n",
       "      <th>Street</th>\n",
       "      <th>LotConfig</th>\n",
       "      <th>Neighborhood</th>\n",
       "      <th>LandSlope</th>\n",
       "      <th>LotFrontage</th>\n",
       "    </tr>\n",
       "  </thead>\n",
       "  <tbody>\n",
       "    <tr>\n",
       "      <th>0</th>\n",
       "      <td>Reg</td>\n",
       "      <td>8450</td>\n",
       "      <td>Pave</td>\n",
       "      <td>Inside</td>\n",
       "      <td>CollgCr</td>\n",
       "      <td>Gtl</td>\n",
       "      <td>65.0</td>\n",
       "    </tr>\n",
       "    <tr>\n",
       "      <th>1</th>\n",
       "      <td>Reg</td>\n",
       "      <td>9600</td>\n",
       "      <td>Pave</td>\n",
       "      <td>FR2</td>\n",
       "      <td>Veenker</td>\n",
       "      <td>Gtl</td>\n",
       "      <td>80.0</td>\n",
       "    </tr>\n",
       "    <tr>\n",
       "      <th>2</th>\n",
       "      <td>IR1</td>\n",
       "      <td>11250</td>\n",
       "      <td>Pave</td>\n",
       "      <td>Inside</td>\n",
       "      <td>CollgCr</td>\n",
       "      <td>Gtl</td>\n",
       "      <td>68.0</td>\n",
       "    </tr>\n",
       "    <tr>\n",
       "      <th>3</th>\n",
       "      <td>IR1</td>\n",
       "      <td>9550</td>\n",
       "      <td>Pave</td>\n",
       "      <td>Corner</td>\n",
       "      <td>Crawfor</td>\n",
       "      <td>Gtl</td>\n",
       "      <td>60.0</td>\n",
       "    </tr>\n",
       "    <tr>\n",
       "      <th>4</th>\n",
       "      <td>IR1</td>\n",
       "      <td>14260</td>\n",
       "      <td>Pave</td>\n",
       "      <td>FR2</td>\n",
       "      <td>NoRidge</td>\n",
       "      <td>Gtl</td>\n",
       "      <td>84.0</td>\n",
       "    </tr>\n",
       "  </tbody>\n",
       "</table>\n",
       "</div>"
      ],
      "text/plain": [
       "  LotShape  LotArea Street LotConfig Neighborhood LandSlope  LotFrontage\n",
       "0      Reg     8450   Pave    Inside      CollgCr       Gtl         65.0\n",
       "1      Reg     9600   Pave       FR2      Veenker       Gtl         80.0\n",
       "2      IR1    11250   Pave    Inside      CollgCr       Gtl         68.0\n",
       "3      IR1     9550   Pave    Corner      Crawfor       Gtl         60.0\n",
       "4      IR1    14260   Pave       FR2      NoRidge       Gtl         84.0"
      ]
     },
     "execution_count": 57,
     "metadata": {},
     "output_type": "execute_result"
    }
   ],
   "source": [
    "LotFrontage = houses[['LotShape', 'LotArea', 'Street', 'LotConfig', 'Neighborhood', 'LandSlope', 'LotFrontage']]\n",
    "LotFrontage.head()"
   ]
  },
  {
   "cell_type": "code",
   "execution_count": 58,
   "metadata": {},
   "outputs": [
    {
     "data": {
      "text/html": [
       "<div>\n",
       "<style scoped>\n",
       "    .dataframe tbody tr th:only-of-type {\n",
       "        vertical-align: middle;\n",
       "    }\n",
       "\n",
       "    .dataframe tbody tr th {\n",
       "        vertical-align: top;\n",
       "    }\n",
       "\n",
       "    .dataframe thead th {\n",
       "        text-align: right;\n",
       "    }\n",
       "</style>\n",
       "<table border=\"1\" class=\"dataframe\">\n",
       "  <thead>\n",
       "    <tr style=\"text-align: right;\">\n",
       "      <th></th>\n",
       "      <th>LotShape_IR1</th>\n",
       "      <th>LotShape_IR2</th>\n",
       "      <th>LotShape_IR3</th>\n",
       "      <th>LotShape_Reg</th>\n",
       "      <th>Street_Grvl</th>\n",
       "      <th>Street_Pave</th>\n",
       "      <th>LotConfig_Corner</th>\n",
       "      <th>LotConfig_CulDSac</th>\n",
       "      <th>LotConfig_FR2</th>\n",
       "      <th>LotConfig_FR3</th>\n",
       "      <th>...</th>\n",
       "      <th>Neighborhood_SawyerW</th>\n",
       "      <th>Neighborhood_Somerst</th>\n",
       "      <th>Neighborhood_StoneBr</th>\n",
       "      <th>Neighborhood_Timber</th>\n",
       "      <th>Neighborhood_Veenker</th>\n",
       "      <th>LandSlope_Gtl</th>\n",
       "      <th>LandSlope_Mod</th>\n",
       "      <th>LandSlope_Sev</th>\n",
       "      <th>LotArea</th>\n",
       "      <th>LotFrontage</th>\n",
       "    </tr>\n",
       "  </thead>\n",
       "  <tbody>\n",
       "    <tr>\n",
       "      <th>0</th>\n",
       "      <td>0</td>\n",
       "      <td>0</td>\n",
       "      <td>0</td>\n",
       "      <td>1</td>\n",
       "      <td>0</td>\n",
       "      <td>1</td>\n",
       "      <td>0</td>\n",
       "      <td>0</td>\n",
       "      <td>0</td>\n",
       "      <td>0</td>\n",
       "      <td>...</td>\n",
       "      <td>0</td>\n",
       "      <td>0</td>\n",
       "      <td>0</td>\n",
       "      <td>0</td>\n",
       "      <td>0</td>\n",
       "      <td>1</td>\n",
       "      <td>0</td>\n",
       "      <td>0</td>\n",
       "      <td>8450</td>\n",
       "      <td>65.0</td>\n",
       "    </tr>\n",
       "    <tr>\n",
       "      <th>1</th>\n",
       "      <td>0</td>\n",
       "      <td>0</td>\n",
       "      <td>0</td>\n",
       "      <td>1</td>\n",
       "      <td>0</td>\n",
       "      <td>1</td>\n",
       "      <td>0</td>\n",
       "      <td>0</td>\n",
       "      <td>1</td>\n",
       "      <td>0</td>\n",
       "      <td>...</td>\n",
       "      <td>0</td>\n",
       "      <td>0</td>\n",
       "      <td>0</td>\n",
       "      <td>0</td>\n",
       "      <td>1</td>\n",
       "      <td>1</td>\n",
       "      <td>0</td>\n",
       "      <td>0</td>\n",
       "      <td>9600</td>\n",
       "      <td>80.0</td>\n",
       "    </tr>\n",
       "    <tr>\n",
       "      <th>2</th>\n",
       "      <td>1</td>\n",
       "      <td>0</td>\n",
       "      <td>0</td>\n",
       "      <td>0</td>\n",
       "      <td>0</td>\n",
       "      <td>1</td>\n",
       "      <td>0</td>\n",
       "      <td>0</td>\n",
       "      <td>0</td>\n",
       "      <td>0</td>\n",
       "      <td>...</td>\n",
       "      <td>0</td>\n",
       "      <td>0</td>\n",
       "      <td>0</td>\n",
       "      <td>0</td>\n",
       "      <td>0</td>\n",
       "      <td>1</td>\n",
       "      <td>0</td>\n",
       "      <td>0</td>\n",
       "      <td>11250</td>\n",
       "      <td>68.0</td>\n",
       "    </tr>\n",
       "    <tr>\n",
       "      <th>3</th>\n",
       "      <td>1</td>\n",
       "      <td>0</td>\n",
       "      <td>0</td>\n",
       "      <td>0</td>\n",
       "      <td>0</td>\n",
       "      <td>1</td>\n",
       "      <td>1</td>\n",
       "      <td>0</td>\n",
       "      <td>0</td>\n",
       "      <td>0</td>\n",
       "      <td>...</td>\n",
       "      <td>0</td>\n",
       "      <td>0</td>\n",
       "      <td>0</td>\n",
       "      <td>0</td>\n",
       "      <td>0</td>\n",
       "      <td>1</td>\n",
       "      <td>0</td>\n",
       "      <td>0</td>\n",
       "      <td>9550</td>\n",
       "      <td>60.0</td>\n",
       "    </tr>\n",
       "    <tr>\n",
       "      <th>4</th>\n",
       "      <td>1</td>\n",
       "      <td>0</td>\n",
       "      <td>0</td>\n",
       "      <td>0</td>\n",
       "      <td>0</td>\n",
       "      <td>1</td>\n",
       "      <td>0</td>\n",
       "      <td>0</td>\n",
       "      <td>1</td>\n",
       "      <td>0</td>\n",
       "      <td>...</td>\n",
       "      <td>0</td>\n",
       "      <td>0</td>\n",
       "      <td>0</td>\n",
       "      <td>0</td>\n",
       "      <td>0</td>\n",
       "      <td>1</td>\n",
       "      <td>0</td>\n",
       "      <td>0</td>\n",
       "      <td>14260</td>\n",
       "      <td>84.0</td>\n",
       "    </tr>\n",
       "  </tbody>\n",
       "</table>\n",
       "<p>5 rows × 41 columns</p>\n",
       "</div>"
      ],
      "text/plain": [
       "   LotShape_IR1  LotShape_IR2  LotShape_IR3  LotShape_Reg  Street_Grvl  \\\n",
       "0             0             0             0             1            0   \n",
       "1             0             0             0             1            0   \n",
       "2             1             0             0             0            0   \n",
       "3             1             0             0             0            0   \n",
       "4             1             0             0             0            0   \n",
       "\n",
       "   Street_Pave  LotConfig_Corner  LotConfig_CulDSac  LotConfig_FR2  \\\n",
       "0            1                 0                  0              0   \n",
       "1            1                 0                  0              1   \n",
       "2            1                 0                  0              0   \n",
       "3            1                 1                  0              0   \n",
       "4            1                 0                  0              1   \n",
       "\n",
       "   LotConfig_FR3  ...  Neighborhood_SawyerW  Neighborhood_Somerst  \\\n",
       "0              0  ...                     0                     0   \n",
       "1              0  ...                     0                     0   \n",
       "2              0  ...                     0                     0   \n",
       "3              0  ...                     0                     0   \n",
       "4              0  ...                     0                     0   \n",
       "\n",
       "   Neighborhood_StoneBr  Neighborhood_Timber  Neighborhood_Veenker  \\\n",
       "0                     0                    0                     0   \n",
       "1                     0                    0                     1   \n",
       "2                     0                    0                     0   \n",
       "3                     0                    0                     0   \n",
       "4                     0                    0                     0   \n",
       "\n",
       "   LandSlope_Gtl  LandSlope_Mod  LandSlope_Sev  LotArea  LotFrontage  \n",
       "0              1              0              0     8450         65.0  \n",
       "1              1              0              0     9600         80.0  \n",
       "2              1              0              0    11250         68.0  \n",
       "3              1              0              0     9550         60.0  \n",
       "4              1              0              0    14260         84.0  \n",
       "\n",
       "[5 rows x 41 columns]"
      ]
     },
     "execution_count": 58,
     "metadata": {},
     "output_type": "execute_result"
    }
   ],
   "source": [
    "LotFrontage_data = pd.get_dummies(LotFrontage.loc[ :, ['LotShape', 'Street', 'LotConfig', 'Neighborhood', 'LandSlope']], columns = ['LotShape', 'Street', 'LotConfig', 'Neighborhood', 'LandSlope'] )\n",
    "LotFrontage_data['LotArea'] = houses['LotArea']\n",
    "LotFrontage_data['LotFrontage'] = houses['LotFrontage']\n",
    "LotFrontage_data.head()"
   ]
  },
  {
   "cell_type": "code",
   "execution_count": 59,
   "metadata": {},
   "outputs": [
    {
     "data": {
      "text/plain": [
       "(1201, 40)"
      ]
     },
     "execution_count": 59,
     "metadata": {},
     "output_type": "execute_result"
    }
   ],
   "source": [
    "X_train = LotFrontage_data.dropna()\n",
    "X_train = X_train.drop('LotFrontage', axis=1)\n",
    "X_train.shape"
   ]
  },
  {
   "cell_type": "code",
   "execution_count": 60,
   "metadata": {},
   "outputs": [
    {
     "data": {
      "text/plain": [
       "(259, 40)"
      ]
     },
     "execution_count": 60,
     "metadata": {},
     "output_type": "execute_result"
    }
   ],
   "source": [
    "X_test = LotFrontage_data[LotFrontage_data['LotFrontage'].isna()]\n",
    "X_test = X_test.drop('LotFrontage', axis=1)\n",
    "X_test.shape"
   ]
  },
  {
   "cell_type": "code",
   "execution_count": 61,
   "metadata": {},
   "outputs": [
    {
     "data": {
      "text/plain": [
       "(1201,)"
      ]
     },
     "execution_count": 61,
     "metadata": {},
     "output_type": "execute_result"
    }
   ],
   "source": [
    "y_train = LotFrontage_data['LotFrontage'].dropna()\n",
    "y_train.shape"
   ]
  },
  {
   "cell_type": "code",
   "execution_count": 62,
   "metadata": {},
   "outputs": [
    {
     "data": {
      "text/plain": [
       "(259,)"
      ]
     },
     "execution_count": 62,
     "metadata": {},
     "output_type": "execute_result"
    }
   ],
   "source": [
    "y_test = LotFrontage_data.loc[LotFrontage_data[LotFrontage_data['LotFrontage'].isna()].index, 'LotFrontage']\n",
    "y_test.shape"
   ]
  },
  {
   "cell_type": "code",
   "execution_count": 64,
   "metadata": {},
   "outputs": [],
   "source": [
    "linreg = LinearRegression().fit(X_train,y_train)\n",
    "LotFrontage_data.loc[LotFrontage_data[LotFrontage_data['LotFrontage'].isna()].index, 'LotFrontage'] = linreg.predict(X_test).round()"
   ]
  },
  {
   "cell_type": "code",
   "execution_count": 65,
   "metadata": {},
   "outputs": [
    {
     "data": {
      "text/plain": [
       "155     60.0\n",
       "156     60.0\n",
       "157     92.0\n",
       "158    100.0\n",
       "159    134.0\n",
       "160     40.0\n",
       "161    110.0\n",
       "162     95.0\n",
       "163     55.0\n",
       "164     40.0\n",
       "165     62.0\n",
       "166     78.0\n",
       "167     86.0\n",
       "168     62.0\n",
       "169     91.0\n",
       "Name: LotFrontage, dtype: float64"
      ]
     },
     "execution_count": 65,
     "metadata": {},
     "output_type": "execute_result"
    }
   ],
   "source": [
    "LotFrontage_data['LotFrontage'][155:170]"
   ]
  },
  {
   "cell_type": "code",
   "execution_count": 66,
   "metadata": {},
   "outputs": [
    {
     "data": {
      "text/plain": [
       "155     60.0\n",
       "156     60.0\n",
       "157     92.0\n",
       "158    100.0\n",
       "159    134.0\n",
       "160      NaN\n",
       "161    110.0\n",
       "162     95.0\n",
       "163     55.0\n",
       "164     40.0\n",
       "165     62.0\n",
       "166      NaN\n",
       "167     86.0\n",
       "168     62.0\n",
       "169      NaN\n",
       "Name: LotFrontage, dtype: float64"
      ]
     },
     "execution_count": 66,
     "metadata": {},
     "output_type": "execute_result"
    }
   ],
   "source": [
    "houses['LotFrontage'][155:170]"
   ]
  },
  {
   "cell_type": "code",
   "execution_count": 67,
   "metadata": {},
   "outputs": [],
   "source": [
    "houses['LotFrontage'] = LotFrontage_data['LotFrontage']"
   ]
  },
  {
   "cell_type": "code",
   "execution_count": 68,
   "metadata": {},
   "outputs": [
    {
     "name": "stdout",
     "output_type": "stream",
     "text": [
      "<class 'pandas.core.frame.DataFrame'>\n",
      "RangeIndex: 1460 entries, 0 to 1459\n",
      "Data columns (total 81 columns):\n",
      " #   Column         Non-Null Count  Dtype  \n",
      "---  ------         --------------  -----  \n",
      " 0   Id             1460 non-null   int64  \n",
      " 1   MSSubClass     1460 non-null   int64  \n",
      " 2   MSZoning       1460 non-null   object \n",
      " 3   LotFrontage    1460 non-null   float64\n",
      " 4   LotArea        1460 non-null   int64  \n",
      " 5   Street         1460 non-null   object \n",
      " 6   Alley          1460 non-null   object \n",
      " 7   LotShape       1460 non-null   object \n",
      " 8   LandContour    1460 non-null   object \n",
      " 9   Utilities      1460 non-null   object \n",
      " 10  LotConfig      1460 non-null   object \n",
      " 11  LandSlope      1460 non-null   object \n",
      " 12  Neighborhood   1460 non-null   object \n",
      " 13  Condition1     1460 non-null   object \n",
      " 14  Condition2     1460 non-null   object \n",
      " 15  BldgType       1460 non-null   object \n",
      " 16  HouseStyle     1460 non-null   object \n",
      " 17  OverallQual    1460 non-null   int64  \n",
      " 18  OverallCond    1460 non-null   int64  \n",
      " 19  YearBuilt      1460 non-null   int64  \n",
      " 20  YearRemodAdd   1460 non-null   int64  \n",
      " 21  RoofStyle      1460 non-null   object \n",
      " 22  RoofMatl       1460 non-null   object \n",
      " 23  Exterior1st    1460 non-null   object \n",
      " 24  Exterior2nd    1460 non-null   object \n",
      " 25  MasVnrType     1460 non-null   object \n",
      " 26  MasVnrArea     1460 non-null   float64\n",
      " 27  ExterQual      1460 non-null   object \n",
      " 28  ExterCond      1460 non-null   object \n",
      " 29  Foundation     1460 non-null   object \n",
      " 30  BsmtQual       1460 non-null   object \n",
      " 31  BsmtCond       1460 non-null   object \n",
      " 32  BsmtExposure   1460 non-null   object \n",
      " 33  BsmtFinType1   1460 non-null   object \n",
      " 34  BsmtFinSF1     1460 non-null   int64  \n",
      " 35  BsmtFinType2   1460 non-null   object \n",
      " 36  BsmtFinSF2     1460 non-null   int64  \n",
      " 37  BsmtUnfSF      1460 non-null   int64  \n",
      " 38  TotalBsmtSF    1460 non-null   int64  \n",
      " 39  Heating        1460 non-null   object \n",
      " 40  HeatingQC      1460 non-null   object \n",
      " 41  CentralAir     1460 non-null   object \n",
      " 42  Electrical     1460 non-null   object \n",
      " 43  1stFlrSF       1460 non-null   int64  \n",
      " 44  2ndFlrSF       1460 non-null   int64  \n",
      " 45  LowQualFinSF   1460 non-null   int64  \n",
      " 46  GrLivArea      1460 non-null   int64  \n",
      " 47  BsmtFullBath   1460 non-null   int64  \n",
      " 48  BsmtHalfBath   1460 non-null   int64  \n",
      " 49  FullBath       1460 non-null   int64  \n",
      " 50  HalfBath       1460 non-null   int64  \n",
      " 51  BedroomAbvGr   1460 non-null   int64  \n",
      " 52  KitchenAbvGr   1460 non-null   int64  \n",
      " 53  KitchenQual    1460 non-null   object \n",
      " 54  TotRmsAbvGrd   1460 non-null   int64  \n",
      " 55  Functional     1460 non-null   object \n",
      " 56  Fireplaces     1460 non-null   int64  \n",
      " 57  FireplaceQu    1460 non-null   object \n",
      " 58  GarageType     1460 non-null   object \n",
      " 59  GarageYrBlt    1460 non-null   float64\n",
      " 60  GarageFinish   1460 non-null   object \n",
      " 61  GarageCars     1460 non-null   int64  \n",
      " 62  GarageArea     1460 non-null   int64  \n",
      " 63  GarageQual     1460 non-null   object \n",
      " 64  GarageCond     1460 non-null   object \n",
      " 65  PavedDrive     1460 non-null   object \n",
      " 66  WoodDeckSF     1460 non-null   int64  \n",
      " 67  OpenPorchSF    1460 non-null   int64  \n",
      " 68  EnclosedPorch  1460 non-null   int64  \n",
      " 69  3SsnPorch      1460 non-null   int64  \n",
      " 70  ScreenPorch    1460 non-null   int64  \n",
      " 71  PoolArea       1460 non-null   int64  \n",
      " 72  PoolQC         1460 non-null   object \n",
      " 73  Fence          1460 non-null   object \n",
      " 74  MiscFeature    1460 non-null   object \n",
      " 75  MiscVal        1460 non-null   int64  \n",
      " 76  MoSold         1460 non-null   int64  \n",
      " 77  YrSold         1460 non-null   int64  \n",
      " 78  SaleType       1460 non-null   object \n",
      " 79  SaleCondition  1460 non-null   object \n",
      " 80  SalePrice      1460 non-null   int64  \n",
      "dtypes: float64(3), int64(35), object(43)\n",
      "memory usage: 924.0+ KB\n"
     ]
    }
   ],
   "source": [
    "houses.info()"
   ]
  },
  {
   "cell_type": "markdown",
   "metadata": {},
   "source": [
    "Все пробелы заполнены."
   ]
  },
  {
   "cell_type": "markdown",
   "metadata": {},
   "source": [
    "Еще у нас есть один столбец, который не несет никакой смысловой информации - это \"Id\". На всякий случай выведем его:"
   ]
  },
  {
   "cell_type": "code",
   "execution_count": 69,
   "metadata": {},
   "outputs": [
    {
     "data": {
      "text/plain": [
       "array([   1,    2,    3, ..., 1458, 1459, 1460], dtype=int64)"
      ]
     },
     "execution_count": 69,
     "metadata": {},
     "output_type": "execute_result"
    }
   ],
   "source": [
    "houses['Id'].unique()"
   ]
  },
  {
   "cell_type": "markdown",
   "metadata": {},
   "source": [
    "Да, действительно это столбец с порядковыми номерами. Для обучения он нам не пригодится. Удалим его:"
   ]
  },
  {
   "cell_type": "code",
   "execution_count": 70,
   "metadata": {},
   "outputs": [
    {
     "data": {
      "text/plain": [
       "(1460, 80)"
      ]
     },
     "execution_count": 70,
     "metadata": {},
     "output_type": "execute_result"
    }
   ],
   "source": [
    "houses = houses.drop('Id', axis=1)\n",
    "houses.shape"
   ]
  },
  {
   "cell_type": "markdown",
   "metadata": {},
   "source": [
    "Теперь посмотрим, какие признаки больше всего коррелируют с нашей целевой переменной:"
   ]
  },
  {
   "cell_type": "code",
   "execution_count": 71,
   "metadata": {},
   "outputs": [
    {
     "data": {
      "text/plain": [
       "KitchenAbvGr    -0.135907\n",
       "EnclosedPorch   -0.128578\n",
       "MSSubClass      -0.084284\n",
       "OverallCond     -0.077856\n",
       "YrSold          -0.028923\n",
       "LowQualFinSF    -0.025606\n",
       "MiscVal         -0.021190\n",
       "BsmtHalfBath    -0.016844\n",
       "BsmtFinSF2      -0.011378\n",
       "3SsnPorch        0.044584\n",
       "MoSold           0.046432\n",
       "PoolArea         0.092404\n",
       "ScreenPorch      0.111447\n",
       "BedroomAbvGr     0.168213\n",
       "BsmtUnfSF        0.214479\n",
       "BsmtFullBath     0.227122\n",
       "GarageYrBlt      0.261366\n",
       "LotArea          0.263843\n",
       "HalfBath         0.284108\n",
       "OpenPorchSF      0.315856\n",
       "2ndFlrSF         0.319334\n",
       "WoodDeckSF       0.324413\n",
       "LotFrontage      0.340774\n",
       "BsmtFinSF1       0.386420\n",
       "Fireplaces       0.466929\n",
       "MasVnrArea       0.472614\n",
       "YearRemodAdd     0.507101\n",
       "YearBuilt        0.522897\n",
       "TotRmsAbvGrd     0.533723\n",
       "FullBath         0.560664\n",
       "1stFlrSF         0.605852\n",
       "TotalBsmtSF      0.613581\n",
       "GarageArea       0.623431\n",
       "GarageCars       0.640409\n",
       "GrLivArea        0.708624\n",
       "OverallQual      0.790982\n",
       "SalePrice        1.000000\n",
       "Name: SalePrice, dtype: float64"
      ]
     },
     "execution_count": 71,
     "metadata": {},
     "output_type": "execute_result"
    }
   ],
   "source": [
    "houses.corr()['SalePrice'].sort_values()"
   ]
  },
  {
   "cell_type": "markdown",
   "metadata": {},
   "source": [
    "Итак, больше всего коррелируют с SalePrice столбцы OverallQual, GrLivArea, GarageCars, GarageArea и TotalBsmtSF. Запомним их, т.к. в дальнейшем попробуем обучить модели не на всех признаках, а только на тех, что лучше всего коррелируют с таргетом.   \n",
    "Идем дальше."
   ]
  },
  {
   "cell_type": "markdown",
   "metadata": {},
   "source": [
    "***Подготовка признаков:***"
   ]
  },
  {
   "cell_type": "markdown",
   "metadata": {},
   "source": [
    "Для того, чтобы обучить модели, необходимо подготовить признаки: перевести категориальные признаки в числовой формат (причем нужно будет воспользоваться техникой OHE, поскольку у нас будет использоваться как минимум одна линейная модель); отмасштабировать признаки. Этим и займемся:"
   ]
  },
  {
   "cell_type": "markdown",
   "metadata": {},
   "source": [
    "Для начала разделим признаки на качественные и количественные. Первые нам слеует перевести техникой OHE, а вторые - нормализовать:"
   ]
  },
  {
   "cell_type": "code",
   "execution_count": 72,
   "metadata": {},
   "outputs": [],
   "source": [
    "obj = []\n",
    "num = []\n",
    "\n",
    "for i in houses.columns:\n",
    "    if houses[i].dtype == 'object':\n",
    "        obj.append(i)\n",
    "    else:\n",
    "        num.append(i)"
   ]
  },
  {
   "cell_type": "code",
   "execution_count": 73,
   "metadata": {},
   "outputs": [
    {
     "data": {
      "text/plain": [
       "['MSZoning',\n",
       " 'Street',\n",
       " 'Alley',\n",
       " 'LotShape',\n",
       " 'LandContour',\n",
       " 'Utilities',\n",
       " 'LotConfig',\n",
       " 'LandSlope',\n",
       " 'Neighborhood',\n",
       " 'Condition1',\n",
       " 'Condition2',\n",
       " 'BldgType',\n",
       " 'HouseStyle',\n",
       " 'RoofStyle',\n",
       " 'RoofMatl',\n",
       " 'Exterior1st',\n",
       " 'Exterior2nd',\n",
       " 'MasVnrType',\n",
       " 'ExterQual',\n",
       " 'ExterCond',\n",
       " 'Foundation',\n",
       " 'BsmtQual',\n",
       " 'BsmtCond',\n",
       " 'BsmtExposure',\n",
       " 'BsmtFinType1',\n",
       " 'BsmtFinType2',\n",
       " 'Heating',\n",
       " 'HeatingQC',\n",
       " 'CentralAir',\n",
       " 'Electrical',\n",
       " 'KitchenQual',\n",
       " 'Functional',\n",
       " 'FireplaceQu',\n",
       " 'GarageType',\n",
       " 'GarageFinish',\n",
       " 'GarageQual',\n",
       " 'GarageCond',\n",
       " 'PavedDrive',\n",
       " 'PoolQC',\n",
       " 'Fence',\n",
       " 'MiscFeature',\n",
       " 'SaleType',\n",
       " 'SaleCondition']"
      ]
     },
     "execution_count": 73,
     "metadata": {},
     "output_type": "execute_result"
    }
   ],
   "source": [
    "obj"
   ]
  },
  {
   "cell_type": "code",
   "execution_count": 74,
   "metadata": {},
   "outputs": [
    {
     "data": {
      "text/plain": [
       "['MSSubClass',\n",
       " 'LotFrontage',\n",
       " 'LotArea',\n",
       " 'OverallQual',\n",
       " 'OverallCond',\n",
       " 'YearBuilt',\n",
       " 'YearRemodAdd',\n",
       " 'MasVnrArea',\n",
       " 'BsmtFinSF1',\n",
       " 'BsmtFinSF2',\n",
       " 'BsmtUnfSF',\n",
       " 'TotalBsmtSF',\n",
       " '1stFlrSF',\n",
       " '2ndFlrSF',\n",
       " 'LowQualFinSF',\n",
       " 'GrLivArea',\n",
       " 'BsmtFullBath',\n",
       " 'BsmtHalfBath',\n",
       " 'FullBath',\n",
       " 'HalfBath',\n",
       " 'BedroomAbvGr',\n",
       " 'KitchenAbvGr',\n",
       " 'TotRmsAbvGrd',\n",
       " 'Fireplaces',\n",
       " 'GarageYrBlt',\n",
       " 'GarageCars',\n",
       " 'GarageArea',\n",
       " 'WoodDeckSF',\n",
       " 'OpenPorchSF',\n",
       " 'EnclosedPorch',\n",
       " '3SsnPorch',\n",
       " 'ScreenPorch',\n",
       " 'PoolArea',\n",
       " 'MiscVal',\n",
       " 'MoSold',\n",
       " 'YrSold',\n",
       " 'SalePrice']"
      ]
     },
     "execution_count": 74,
     "metadata": {},
     "output_type": "execute_result"
    }
   ],
   "source": [
    "num"
   ]
  },
  {
   "cell_type": "code",
   "execution_count": 75,
   "metadata": {},
   "outputs": [
    {
     "data": {
      "text/plain": [
       "80"
      ]
     },
     "execution_count": 75,
     "metadata": {},
     "output_type": "execute_result"
    }
   ],
   "source": [
    "len(obj) + len(num)"
   ]
  },
  {
   "cell_type": "code",
   "execution_count": 76,
   "metadata": {},
   "outputs": [
    {
     "data": {
      "text/html": [
       "<div>\n",
       "<style scoped>\n",
       "    .dataframe tbody tr th:only-of-type {\n",
       "        vertical-align: middle;\n",
       "    }\n",
       "\n",
       "    .dataframe tbody tr th {\n",
       "        vertical-align: top;\n",
       "    }\n",
       "\n",
       "    .dataframe thead th {\n",
       "        text-align: right;\n",
       "    }\n",
       "</style>\n",
       "<table border=\"1\" class=\"dataframe\">\n",
       "  <thead>\n",
       "    <tr style=\"text-align: right;\">\n",
       "      <th></th>\n",
       "      <th>MSZoning</th>\n",
       "      <th>Street</th>\n",
       "      <th>Alley</th>\n",
       "      <th>LotShape</th>\n",
       "      <th>LandContour</th>\n",
       "      <th>Utilities</th>\n",
       "      <th>LotConfig</th>\n",
       "      <th>LandSlope</th>\n",
       "      <th>Neighborhood</th>\n",
       "      <th>Condition1</th>\n",
       "      <th>...</th>\n",
       "      <th>GarageType</th>\n",
       "      <th>GarageFinish</th>\n",
       "      <th>GarageQual</th>\n",
       "      <th>GarageCond</th>\n",
       "      <th>PavedDrive</th>\n",
       "      <th>PoolQC</th>\n",
       "      <th>Fence</th>\n",
       "      <th>MiscFeature</th>\n",
       "      <th>SaleType</th>\n",
       "      <th>SaleCondition</th>\n",
       "    </tr>\n",
       "  </thead>\n",
       "  <tbody>\n",
       "    <tr>\n",
       "      <th>0</th>\n",
       "      <td>RL</td>\n",
       "      <td>Pave</td>\n",
       "      <td>no</td>\n",
       "      <td>Reg</td>\n",
       "      <td>Lvl</td>\n",
       "      <td>AllPub</td>\n",
       "      <td>Inside</td>\n",
       "      <td>Gtl</td>\n",
       "      <td>CollgCr</td>\n",
       "      <td>Norm</td>\n",
       "      <td>...</td>\n",
       "      <td>Attchd</td>\n",
       "      <td>RFn</td>\n",
       "      <td>TA</td>\n",
       "      <td>TA</td>\n",
       "      <td>Y</td>\n",
       "      <td>no</td>\n",
       "      <td>no</td>\n",
       "      <td>no</td>\n",
       "      <td>WD</td>\n",
       "      <td>Normal</td>\n",
       "    </tr>\n",
       "    <tr>\n",
       "      <th>1</th>\n",
       "      <td>RL</td>\n",
       "      <td>Pave</td>\n",
       "      <td>no</td>\n",
       "      <td>Reg</td>\n",
       "      <td>Lvl</td>\n",
       "      <td>AllPub</td>\n",
       "      <td>FR2</td>\n",
       "      <td>Gtl</td>\n",
       "      <td>Veenker</td>\n",
       "      <td>Feedr</td>\n",
       "      <td>...</td>\n",
       "      <td>Attchd</td>\n",
       "      <td>RFn</td>\n",
       "      <td>TA</td>\n",
       "      <td>TA</td>\n",
       "      <td>Y</td>\n",
       "      <td>no</td>\n",
       "      <td>no</td>\n",
       "      <td>no</td>\n",
       "      <td>WD</td>\n",
       "      <td>Normal</td>\n",
       "    </tr>\n",
       "    <tr>\n",
       "      <th>2</th>\n",
       "      <td>RL</td>\n",
       "      <td>Pave</td>\n",
       "      <td>no</td>\n",
       "      <td>IR1</td>\n",
       "      <td>Lvl</td>\n",
       "      <td>AllPub</td>\n",
       "      <td>Inside</td>\n",
       "      <td>Gtl</td>\n",
       "      <td>CollgCr</td>\n",
       "      <td>Norm</td>\n",
       "      <td>...</td>\n",
       "      <td>Attchd</td>\n",
       "      <td>RFn</td>\n",
       "      <td>TA</td>\n",
       "      <td>TA</td>\n",
       "      <td>Y</td>\n",
       "      <td>no</td>\n",
       "      <td>no</td>\n",
       "      <td>no</td>\n",
       "      <td>WD</td>\n",
       "      <td>Normal</td>\n",
       "    </tr>\n",
       "    <tr>\n",
       "      <th>3</th>\n",
       "      <td>RL</td>\n",
       "      <td>Pave</td>\n",
       "      <td>no</td>\n",
       "      <td>IR1</td>\n",
       "      <td>Lvl</td>\n",
       "      <td>AllPub</td>\n",
       "      <td>Corner</td>\n",
       "      <td>Gtl</td>\n",
       "      <td>Crawfor</td>\n",
       "      <td>Norm</td>\n",
       "      <td>...</td>\n",
       "      <td>Detchd</td>\n",
       "      <td>Unf</td>\n",
       "      <td>TA</td>\n",
       "      <td>TA</td>\n",
       "      <td>Y</td>\n",
       "      <td>no</td>\n",
       "      <td>no</td>\n",
       "      <td>no</td>\n",
       "      <td>WD</td>\n",
       "      <td>Abnorml</td>\n",
       "    </tr>\n",
       "    <tr>\n",
       "      <th>4</th>\n",
       "      <td>RL</td>\n",
       "      <td>Pave</td>\n",
       "      <td>no</td>\n",
       "      <td>IR1</td>\n",
       "      <td>Lvl</td>\n",
       "      <td>AllPub</td>\n",
       "      <td>FR2</td>\n",
       "      <td>Gtl</td>\n",
       "      <td>NoRidge</td>\n",
       "      <td>Norm</td>\n",
       "      <td>...</td>\n",
       "      <td>Attchd</td>\n",
       "      <td>RFn</td>\n",
       "      <td>TA</td>\n",
       "      <td>TA</td>\n",
       "      <td>Y</td>\n",
       "      <td>no</td>\n",
       "      <td>no</td>\n",
       "      <td>no</td>\n",
       "      <td>WD</td>\n",
       "      <td>Normal</td>\n",
       "    </tr>\n",
       "    <tr>\n",
       "      <th>...</th>\n",
       "      <td>...</td>\n",
       "      <td>...</td>\n",
       "      <td>...</td>\n",
       "      <td>...</td>\n",
       "      <td>...</td>\n",
       "      <td>...</td>\n",
       "      <td>...</td>\n",
       "      <td>...</td>\n",
       "      <td>...</td>\n",
       "      <td>...</td>\n",
       "      <td>...</td>\n",
       "      <td>...</td>\n",
       "      <td>...</td>\n",
       "      <td>...</td>\n",
       "      <td>...</td>\n",
       "      <td>...</td>\n",
       "      <td>...</td>\n",
       "      <td>...</td>\n",
       "      <td>...</td>\n",
       "      <td>...</td>\n",
       "      <td>...</td>\n",
       "    </tr>\n",
       "    <tr>\n",
       "      <th>1455</th>\n",
       "      <td>RL</td>\n",
       "      <td>Pave</td>\n",
       "      <td>no</td>\n",
       "      <td>Reg</td>\n",
       "      <td>Lvl</td>\n",
       "      <td>AllPub</td>\n",
       "      <td>Inside</td>\n",
       "      <td>Gtl</td>\n",
       "      <td>Gilbert</td>\n",
       "      <td>Norm</td>\n",
       "      <td>...</td>\n",
       "      <td>Attchd</td>\n",
       "      <td>RFn</td>\n",
       "      <td>TA</td>\n",
       "      <td>TA</td>\n",
       "      <td>Y</td>\n",
       "      <td>no</td>\n",
       "      <td>no</td>\n",
       "      <td>no</td>\n",
       "      <td>WD</td>\n",
       "      <td>Normal</td>\n",
       "    </tr>\n",
       "    <tr>\n",
       "      <th>1456</th>\n",
       "      <td>RL</td>\n",
       "      <td>Pave</td>\n",
       "      <td>no</td>\n",
       "      <td>Reg</td>\n",
       "      <td>Lvl</td>\n",
       "      <td>AllPub</td>\n",
       "      <td>Inside</td>\n",
       "      <td>Gtl</td>\n",
       "      <td>NWAmes</td>\n",
       "      <td>Norm</td>\n",
       "      <td>...</td>\n",
       "      <td>Attchd</td>\n",
       "      <td>Unf</td>\n",
       "      <td>TA</td>\n",
       "      <td>TA</td>\n",
       "      <td>Y</td>\n",
       "      <td>no</td>\n",
       "      <td>MnPrv</td>\n",
       "      <td>no</td>\n",
       "      <td>WD</td>\n",
       "      <td>Normal</td>\n",
       "    </tr>\n",
       "    <tr>\n",
       "      <th>1457</th>\n",
       "      <td>RL</td>\n",
       "      <td>Pave</td>\n",
       "      <td>no</td>\n",
       "      <td>Reg</td>\n",
       "      <td>Lvl</td>\n",
       "      <td>AllPub</td>\n",
       "      <td>Inside</td>\n",
       "      <td>Gtl</td>\n",
       "      <td>Crawfor</td>\n",
       "      <td>Norm</td>\n",
       "      <td>...</td>\n",
       "      <td>Attchd</td>\n",
       "      <td>RFn</td>\n",
       "      <td>TA</td>\n",
       "      <td>TA</td>\n",
       "      <td>Y</td>\n",
       "      <td>no</td>\n",
       "      <td>GdPrv</td>\n",
       "      <td>Shed</td>\n",
       "      <td>WD</td>\n",
       "      <td>Normal</td>\n",
       "    </tr>\n",
       "    <tr>\n",
       "      <th>1458</th>\n",
       "      <td>RL</td>\n",
       "      <td>Pave</td>\n",
       "      <td>no</td>\n",
       "      <td>Reg</td>\n",
       "      <td>Lvl</td>\n",
       "      <td>AllPub</td>\n",
       "      <td>Inside</td>\n",
       "      <td>Gtl</td>\n",
       "      <td>NAmes</td>\n",
       "      <td>Norm</td>\n",
       "      <td>...</td>\n",
       "      <td>Attchd</td>\n",
       "      <td>Unf</td>\n",
       "      <td>TA</td>\n",
       "      <td>TA</td>\n",
       "      <td>Y</td>\n",
       "      <td>no</td>\n",
       "      <td>no</td>\n",
       "      <td>no</td>\n",
       "      <td>WD</td>\n",
       "      <td>Normal</td>\n",
       "    </tr>\n",
       "    <tr>\n",
       "      <th>1459</th>\n",
       "      <td>RL</td>\n",
       "      <td>Pave</td>\n",
       "      <td>no</td>\n",
       "      <td>Reg</td>\n",
       "      <td>Lvl</td>\n",
       "      <td>AllPub</td>\n",
       "      <td>Inside</td>\n",
       "      <td>Gtl</td>\n",
       "      <td>Edwards</td>\n",
       "      <td>Norm</td>\n",
       "      <td>...</td>\n",
       "      <td>Attchd</td>\n",
       "      <td>Fin</td>\n",
       "      <td>TA</td>\n",
       "      <td>TA</td>\n",
       "      <td>Y</td>\n",
       "      <td>no</td>\n",
       "      <td>no</td>\n",
       "      <td>no</td>\n",
       "      <td>WD</td>\n",
       "      <td>Normal</td>\n",
       "    </tr>\n",
       "  </tbody>\n",
       "</table>\n",
       "<p>1460 rows × 43 columns</p>\n",
       "</div>"
      ],
      "text/plain": [
       "     MSZoning Street Alley LotShape LandContour Utilities LotConfig LandSlope  \\\n",
       "0          RL   Pave    no      Reg         Lvl    AllPub    Inside       Gtl   \n",
       "1          RL   Pave    no      Reg         Lvl    AllPub       FR2       Gtl   \n",
       "2          RL   Pave    no      IR1         Lvl    AllPub    Inside       Gtl   \n",
       "3          RL   Pave    no      IR1         Lvl    AllPub    Corner       Gtl   \n",
       "4          RL   Pave    no      IR1         Lvl    AllPub       FR2       Gtl   \n",
       "...       ...    ...   ...      ...         ...       ...       ...       ...   \n",
       "1455       RL   Pave    no      Reg         Lvl    AllPub    Inside       Gtl   \n",
       "1456       RL   Pave    no      Reg         Lvl    AllPub    Inside       Gtl   \n",
       "1457       RL   Pave    no      Reg         Lvl    AllPub    Inside       Gtl   \n",
       "1458       RL   Pave    no      Reg         Lvl    AllPub    Inside       Gtl   \n",
       "1459       RL   Pave    no      Reg         Lvl    AllPub    Inside       Gtl   \n",
       "\n",
       "     Neighborhood Condition1  ... GarageType GarageFinish GarageQual  \\\n",
       "0         CollgCr       Norm  ...     Attchd          RFn         TA   \n",
       "1         Veenker      Feedr  ...     Attchd          RFn         TA   \n",
       "2         CollgCr       Norm  ...     Attchd          RFn         TA   \n",
       "3         Crawfor       Norm  ...     Detchd          Unf         TA   \n",
       "4         NoRidge       Norm  ...     Attchd          RFn         TA   \n",
       "...           ...        ...  ...        ...          ...        ...   \n",
       "1455      Gilbert       Norm  ...     Attchd          RFn         TA   \n",
       "1456       NWAmes       Norm  ...     Attchd          Unf         TA   \n",
       "1457      Crawfor       Norm  ...     Attchd          RFn         TA   \n",
       "1458        NAmes       Norm  ...     Attchd          Unf         TA   \n",
       "1459      Edwards       Norm  ...     Attchd          Fin         TA   \n",
       "\n",
       "     GarageCond PavedDrive PoolQC  Fence MiscFeature SaleType SaleCondition  \n",
       "0            TA          Y     no     no          no       WD        Normal  \n",
       "1            TA          Y     no     no          no       WD        Normal  \n",
       "2            TA          Y     no     no          no       WD        Normal  \n",
       "3            TA          Y     no     no          no       WD       Abnorml  \n",
       "4            TA          Y     no     no          no       WD        Normal  \n",
       "...         ...        ...    ...    ...         ...      ...           ...  \n",
       "1455         TA          Y     no     no          no       WD        Normal  \n",
       "1456         TA          Y     no  MnPrv          no       WD        Normal  \n",
       "1457         TA          Y     no  GdPrv        Shed       WD        Normal  \n",
       "1458         TA          Y     no     no          no       WD        Normal  \n",
       "1459         TA          Y     no     no          no       WD        Normal  \n",
       "\n",
       "[1460 rows x 43 columns]"
      ]
     },
     "execution_count": 76,
     "metadata": {},
     "output_type": "execute_result"
    }
   ],
   "source": [
    "houses[obj]"
   ]
  },
  {
   "cell_type": "markdown",
   "metadata": {},
   "source": [
    "Теперь закодируем качественные признаки:"
   ]
  },
  {
   "cell_type": "code",
   "execution_count": 77,
   "metadata": {},
   "outputs": [
    {
     "data": {
      "text/html": [
       "<div>\n",
       "<style scoped>\n",
       "    .dataframe tbody tr th:only-of-type {\n",
       "        vertical-align: middle;\n",
       "    }\n",
       "\n",
       "    .dataframe tbody tr th {\n",
       "        vertical-align: top;\n",
       "    }\n",
       "\n",
       "    .dataframe thead th {\n",
       "        text-align: right;\n",
       "    }\n",
       "</style>\n",
       "<table border=\"1\" class=\"dataframe\">\n",
       "  <thead>\n",
       "    <tr style=\"text-align: right;\">\n",
       "      <th></th>\n",
       "      <th>MSSubClass</th>\n",
       "      <th>LotFrontage</th>\n",
       "      <th>LotArea</th>\n",
       "      <th>OverallQual</th>\n",
       "      <th>OverallCond</th>\n",
       "      <th>YearBuilt</th>\n",
       "      <th>YearRemodAdd</th>\n",
       "      <th>MasVnrArea</th>\n",
       "      <th>BsmtFinSF1</th>\n",
       "      <th>BsmtFinSF2</th>\n",
       "      <th>...</th>\n",
       "      <th>SaleType_ConLI</th>\n",
       "      <th>SaleType_ConLw</th>\n",
       "      <th>SaleType_New</th>\n",
       "      <th>SaleType_Oth</th>\n",
       "      <th>SaleType_WD</th>\n",
       "      <th>SaleCondition_AdjLand</th>\n",
       "      <th>SaleCondition_Alloca</th>\n",
       "      <th>SaleCondition_Family</th>\n",
       "      <th>SaleCondition_Normal</th>\n",
       "      <th>SaleCondition_Partial</th>\n",
       "    </tr>\n",
       "  </thead>\n",
       "  <tbody>\n",
       "    <tr>\n",
       "      <th>0</th>\n",
       "      <td>60</td>\n",
       "      <td>65.0</td>\n",
       "      <td>8450</td>\n",
       "      <td>7</td>\n",
       "      <td>5</td>\n",
       "      <td>2003</td>\n",
       "      <td>2003</td>\n",
       "      <td>196.0</td>\n",
       "      <td>706</td>\n",
       "      <td>0</td>\n",
       "      <td>...</td>\n",
       "      <td>0</td>\n",
       "      <td>0</td>\n",
       "      <td>0</td>\n",
       "      <td>0</td>\n",
       "      <td>1</td>\n",
       "      <td>0</td>\n",
       "      <td>0</td>\n",
       "      <td>0</td>\n",
       "      <td>1</td>\n",
       "      <td>0</td>\n",
       "    </tr>\n",
       "    <tr>\n",
       "      <th>1</th>\n",
       "      <td>20</td>\n",
       "      <td>80.0</td>\n",
       "      <td>9600</td>\n",
       "      <td>6</td>\n",
       "      <td>8</td>\n",
       "      <td>1976</td>\n",
       "      <td>1976</td>\n",
       "      <td>0.0</td>\n",
       "      <td>978</td>\n",
       "      <td>0</td>\n",
       "      <td>...</td>\n",
       "      <td>0</td>\n",
       "      <td>0</td>\n",
       "      <td>0</td>\n",
       "      <td>0</td>\n",
       "      <td>1</td>\n",
       "      <td>0</td>\n",
       "      <td>0</td>\n",
       "      <td>0</td>\n",
       "      <td>1</td>\n",
       "      <td>0</td>\n",
       "    </tr>\n",
       "    <tr>\n",
       "      <th>2</th>\n",
       "      <td>60</td>\n",
       "      <td>68.0</td>\n",
       "      <td>11250</td>\n",
       "      <td>7</td>\n",
       "      <td>5</td>\n",
       "      <td>2001</td>\n",
       "      <td>2002</td>\n",
       "      <td>162.0</td>\n",
       "      <td>486</td>\n",
       "      <td>0</td>\n",
       "      <td>...</td>\n",
       "      <td>0</td>\n",
       "      <td>0</td>\n",
       "      <td>0</td>\n",
       "      <td>0</td>\n",
       "      <td>1</td>\n",
       "      <td>0</td>\n",
       "      <td>0</td>\n",
       "      <td>0</td>\n",
       "      <td>1</td>\n",
       "      <td>0</td>\n",
       "    </tr>\n",
       "    <tr>\n",
       "      <th>3</th>\n",
       "      <td>70</td>\n",
       "      <td>60.0</td>\n",
       "      <td>9550</td>\n",
       "      <td>7</td>\n",
       "      <td>5</td>\n",
       "      <td>1915</td>\n",
       "      <td>1970</td>\n",
       "      <td>0.0</td>\n",
       "      <td>216</td>\n",
       "      <td>0</td>\n",
       "      <td>...</td>\n",
       "      <td>0</td>\n",
       "      <td>0</td>\n",
       "      <td>0</td>\n",
       "      <td>0</td>\n",
       "      <td>1</td>\n",
       "      <td>0</td>\n",
       "      <td>0</td>\n",
       "      <td>0</td>\n",
       "      <td>0</td>\n",
       "      <td>0</td>\n",
       "    </tr>\n",
       "    <tr>\n",
       "      <th>4</th>\n",
       "      <td>60</td>\n",
       "      <td>84.0</td>\n",
       "      <td>14260</td>\n",
       "      <td>8</td>\n",
       "      <td>5</td>\n",
       "      <td>2000</td>\n",
       "      <td>2000</td>\n",
       "      <td>350.0</td>\n",
       "      <td>655</td>\n",
       "      <td>0</td>\n",
       "      <td>...</td>\n",
       "      <td>0</td>\n",
       "      <td>0</td>\n",
       "      <td>0</td>\n",
       "      <td>0</td>\n",
       "      <td>1</td>\n",
       "      <td>0</td>\n",
       "      <td>0</td>\n",
       "      <td>0</td>\n",
       "      <td>1</td>\n",
       "      <td>0</td>\n",
       "    </tr>\n",
       "  </tbody>\n",
       "</table>\n",
       "<p>5 rows × 260 columns</p>\n",
       "</div>"
      ],
      "text/plain": [
       "   MSSubClass  LotFrontage  LotArea  OverallQual  OverallCond  YearBuilt  \\\n",
       "0          60         65.0     8450            7            5       2003   \n",
       "1          20         80.0     9600            6            8       1976   \n",
       "2          60         68.0    11250            7            5       2001   \n",
       "3          70         60.0     9550            7            5       1915   \n",
       "4          60         84.0    14260            8            5       2000   \n",
       "\n",
       "   YearRemodAdd  MasVnrArea  BsmtFinSF1  BsmtFinSF2  ...  SaleType_ConLI  \\\n",
       "0          2003       196.0         706           0  ...               0   \n",
       "1          1976         0.0         978           0  ...               0   \n",
       "2          2002       162.0         486           0  ...               0   \n",
       "3          1970         0.0         216           0  ...               0   \n",
       "4          2000       350.0         655           0  ...               0   \n",
       "\n",
       "   SaleType_ConLw  SaleType_New  SaleType_Oth  SaleType_WD  \\\n",
       "0               0             0             0            1   \n",
       "1               0             0             0            1   \n",
       "2               0             0             0            1   \n",
       "3               0             0             0            1   \n",
       "4               0             0             0            1   \n",
       "\n",
       "   SaleCondition_AdjLand  SaleCondition_Alloca  SaleCondition_Family  \\\n",
       "0                      0                     0                     0   \n",
       "1                      0                     0                     0   \n",
       "2                      0                     0                     0   \n",
       "3                      0                     0                     0   \n",
       "4                      0                     0                     0   \n",
       "\n",
       "   SaleCondition_Normal  SaleCondition_Partial  \n",
       "0                     1                      0  \n",
       "1                     1                      0  \n",
       "2                     1                      0  \n",
       "3                     0                      0  \n",
       "4                     1                      0  \n",
       "\n",
       "[5 rows x 260 columns]"
      ]
     },
     "execution_count": 77,
     "metadata": {},
     "output_type": "execute_result"
    }
   ],
   "source": [
    "houses = pd.get_dummies(houses, drop_first=True)\n",
    "houses.head()"
   ]
  },
  {
   "cell_type": "markdown",
   "metadata": {},
   "source": [
    "Теперь разделим выборку на трейн и тест, а далее - нормализуем признаки количественные:"
   ]
  },
  {
   "cell_type": "code",
   "execution_count": 78,
   "metadata": {},
   "outputs": [
    {
     "data": {
      "text/plain": [
       "((1460, 259), (1460,))"
      ]
     },
     "execution_count": 78,
     "metadata": {},
     "output_type": "execute_result"
    }
   ],
   "source": [
    "features = houses.drop('SalePrice', axis=1)\n",
    "target = houses['SalePrice']\n",
    "features.shape, target.shape"
   ]
  },
  {
   "cell_type": "markdown",
   "metadata": {},
   "source": [
    "Поскольку в задании сказано, что для валидации модели 2-го уровня нужно использовать отдельный hold-out датасет, как на занятии, то разделим датасет не на 2, а на 3 части: тренировочную, валидационную и тестовую. Тестовую пока \"спрячем\", на тренировочной будем обучать модель, а при помощи валидационной выборки подберем оптимальные гиперпараметры:"
   ]
  },
  {
   "cell_type": "code",
   "execution_count": 79,
   "metadata": {},
   "outputs": [],
   "source": [
    "features_train, features_valid, target_train, target_valid = train_test_split(features, target, test_size=0.3, random_state=42)"
   ]
  },
  {
   "cell_type": "code",
   "execution_count": 80,
   "metadata": {},
   "outputs": [],
   "source": [
    "features_valid, features_test, target_valid, target_test = train_test_split(features_valid, target_valid, test_size=0.5, random_state=42)"
   ]
  },
  {
   "cell_type": "code",
   "execution_count": 81,
   "metadata": {},
   "outputs": [
    {
     "data": {
      "text/plain": [
       "((1022, 259), (219, 259), (219, 259), (1022,), (219,), (219,))"
      ]
     },
     "execution_count": 81,
     "metadata": {},
     "output_type": "execute_result"
    }
   ],
   "source": [
    "features_train.shape, features_valid.shape, features_test.shape, target_train.shape, target_valid.shape, target_test.shape"
   ]
  },
  {
   "cell_type": "code",
   "execution_count": 82,
   "metadata": {},
   "outputs": [
    {
     "data": {
      "text/html": [
       "<div>\n",
       "<style scoped>\n",
       "    .dataframe tbody tr th:only-of-type {\n",
       "        vertical-align: middle;\n",
       "    }\n",
       "\n",
       "    .dataframe tbody tr th {\n",
       "        vertical-align: top;\n",
       "    }\n",
       "\n",
       "    .dataframe thead th {\n",
       "        text-align: right;\n",
       "    }\n",
       "</style>\n",
       "<table border=\"1\" class=\"dataframe\">\n",
       "  <thead>\n",
       "    <tr style=\"text-align: right;\">\n",
       "      <th></th>\n",
       "      <th>MSSubClass</th>\n",
       "      <th>LotFrontage</th>\n",
       "      <th>LotArea</th>\n",
       "      <th>OverallQual</th>\n",
       "      <th>OverallCond</th>\n",
       "      <th>YearBuilt</th>\n",
       "      <th>YearRemodAdd</th>\n",
       "      <th>MasVnrArea</th>\n",
       "      <th>BsmtFinSF1</th>\n",
       "      <th>BsmtFinSF2</th>\n",
       "      <th>...</th>\n",
       "      <th>SaleType_ConLI</th>\n",
       "      <th>SaleType_ConLw</th>\n",
       "      <th>SaleType_New</th>\n",
       "      <th>SaleType_Oth</th>\n",
       "      <th>SaleType_WD</th>\n",
       "      <th>SaleCondition_AdjLand</th>\n",
       "      <th>SaleCondition_Alloca</th>\n",
       "      <th>SaleCondition_Family</th>\n",
       "      <th>SaleCondition_Normal</th>\n",
       "      <th>SaleCondition_Partial</th>\n",
       "    </tr>\n",
       "  </thead>\n",
       "  <tbody>\n",
       "    <tr>\n",
       "      <th>1418</th>\n",
       "      <td>-0.868950</td>\n",
       "      <td>-0.015227</td>\n",
       "      <td>-0.136119</td>\n",
       "      <td>-0.823057</td>\n",
       "      <td>-0.508624</td>\n",
       "      <td>-0.260141</td>\n",
       "      <td>-1.049206</td>\n",
       "      <td>-0.608547</td>\n",
       "      <td>-0.916106</td>\n",
       "      <td>5.489282</td>\n",
       "      <td>...</td>\n",
       "      <td>0</td>\n",
       "      <td>0</td>\n",
       "      <td>0</td>\n",
       "      <td>0</td>\n",
       "      <td>0</td>\n",
       "      <td>0</td>\n",
       "      <td>0</td>\n",
       "      <td>0</td>\n",
       "      <td>1</td>\n",
       "      <td>0</td>\n",
       "    </tr>\n",
       "    <tr>\n",
       "      <th>44</th>\n",
       "      <td>-0.868950</td>\n",
       "      <td>-0.055334</td>\n",
       "      <td>-0.247297</td>\n",
       "      <td>-0.823057</td>\n",
       "      <td>0.392266</td>\n",
       "      <td>-0.390291</td>\n",
       "      <td>-1.242098</td>\n",
       "      <td>-0.608547</td>\n",
       "      <td>-0.581138</td>\n",
       "      <td>3.067631</td>\n",
       "      <td>...</td>\n",
       "      <td>0</td>\n",
       "      <td>0</td>\n",
       "      <td>0</td>\n",
       "      <td>0</td>\n",
       "      <td>1</td>\n",
       "      <td>0</td>\n",
       "      <td>0</td>\n",
       "      <td>0</td>\n",
       "      <td>1</td>\n",
       "      <td>0</td>\n",
       "    </tr>\n",
       "    <tr>\n",
       "      <th>588</th>\n",
       "      <td>-0.868950</td>\n",
       "      <td>-0.255870</td>\n",
       "      <td>1.267158</td>\n",
       "      <td>-0.823057</td>\n",
       "      <td>2.194045</td>\n",
       "      <td>-0.097453</td>\n",
       "      <td>0.879717</td>\n",
       "      <td>-0.608547</td>\n",
       "      <td>1.909367</td>\n",
       "      <td>-0.280335</td>\n",
       "      <td>...</td>\n",
       "      <td>0</td>\n",
       "      <td>0</td>\n",
       "      <td>0</td>\n",
       "      <td>0</td>\n",
       "      <td>1</td>\n",
       "      <td>0</td>\n",
       "      <td>0</td>\n",
       "      <td>0</td>\n",
       "      <td>0</td>\n",
       "      <td>1</td>\n",
       "    </tr>\n",
       "    <tr>\n",
       "      <th>1048</th>\n",
       "      <td>-0.868950</td>\n",
       "      <td>1.147882</td>\n",
       "      <td>0.971773</td>\n",
       "      <td>-0.823057</td>\n",
       "      <td>-1.409513</td>\n",
       "      <td>-0.357753</td>\n",
       "      <td>1.024387</td>\n",
       "      <td>-0.173672</td>\n",
       "      <td>-0.970484</td>\n",
       "      <td>-0.280335</td>\n",
       "      <td>...</td>\n",
       "      <td>0</td>\n",
       "      <td>0</td>\n",
       "      <td>0</td>\n",
       "      <td>0</td>\n",
       "      <td>1</td>\n",
       "      <td>0</td>\n",
       "      <td>0</td>\n",
       "      <td>0</td>\n",
       "      <td>1</td>\n",
       "      <td>0</td>\n",
       "    </tr>\n",
       "    <tr>\n",
       "      <th>439</th>\n",
       "      <td>-0.165531</td>\n",
       "      <td>-0.175655</td>\n",
       "      <td>0.142046</td>\n",
       "      <td>-0.093513</td>\n",
       "      <td>2.194045</td>\n",
       "      <td>-1.659253</td>\n",
       "      <td>0.735048</td>\n",
       "      <td>-0.608547</td>\n",
       "      <td>-0.970484</td>\n",
       "      <td>-0.280335</td>\n",
       "      <td>...</td>\n",
       "      <td>1</td>\n",
       "      <td>0</td>\n",
       "      <td>0</td>\n",
       "      <td>0</td>\n",
       "      <td>0</td>\n",
       "      <td>0</td>\n",
       "      <td>0</td>\n",
       "      <td>0</td>\n",
       "      <td>1</td>\n",
       "      <td>0</td>\n",
       "    </tr>\n",
       "  </tbody>\n",
       "</table>\n",
       "<p>5 rows × 259 columns</p>\n",
       "</div>"
      ],
      "text/plain": [
       "      MSSubClass  LotFrontage   LotArea  OverallQual  OverallCond  YearBuilt  \\\n",
       "1418   -0.868950    -0.015227 -0.136119    -0.823057    -0.508624  -0.260141   \n",
       "44     -0.868950    -0.055334 -0.247297    -0.823057     0.392266  -0.390291   \n",
       "588    -0.868950    -0.255870  1.267158    -0.823057     2.194045  -0.097453   \n",
       "1048   -0.868950     1.147882  0.971773    -0.823057    -1.409513  -0.357753   \n",
       "439    -0.165531    -0.175655  0.142046    -0.093513     2.194045  -1.659253   \n",
       "\n",
       "      YearRemodAdd  MasVnrArea  BsmtFinSF1  BsmtFinSF2  ...  SaleType_ConLI  \\\n",
       "1418     -1.049206   -0.608547   -0.916106    5.489282  ...               0   \n",
       "44       -1.242098   -0.608547   -0.581138    3.067631  ...               0   \n",
       "588       0.879717   -0.608547    1.909367   -0.280335  ...               0   \n",
       "1048      1.024387   -0.173672   -0.970484   -0.280335  ...               0   \n",
       "439       0.735048   -0.608547   -0.970484   -0.280335  ...               1   \n",
       "\n",
       "      SaleType_ConLw  SaleType_New  SaleType_Oth  SaleType_WD  \\\n",
       "1418               0             0             0            0   \n",
       "44                 0             0             0            1   \n",
       "588                0             0             0            1   \n",
       "1048               0             0             0            1   \n",
       "439                0             0             0            0   \n",
       "\n",
       "      SaleCondition_AdjLand  SaleCondition_Alloca  SaleCondition_Family  \\\n",
       "1418                      0                     0                     0   \n",
       "44                        0                     0                     0   \n",
       "588                       0                     0                     0   \n",
       "1048                      0                     0                     0   \n",
       "439                       0                     0                     0   \n",
       "\n",
       "      SaleCondition_Normal  SaleCondition_Partial  \n",
       "1418                     1                      0  \n",
       "44                       1                      0  \n",
       "588                      0                      1  \n",
       "1048                     1                      0  \n",
       "439                      1                      0  \n",
       "\n",
       "[5 rows x 259 columns]"
      ]
     },
     "execution_count": 82,
     "metadata": {},
     "output_type": "execute_result"
    }
   ],
   "source": [
    "scaler = StandardScaler()\n",
    "scaler.fit(features_train[num[:-1]])\n",
    "features_train[num[:-1]] = scaler.transform(features_train[num[:-1]])\n",
    "features_valid[num[:-1]] = scaler.transform(features_valid[num[:-1]])\n",
    "features_test[num[:-1]] = scaler.transform(features_test[num[:-1]])\n",
    "features_test.head()"
   ]
  },
  {
   "cell_type": "code",
   "execution_count": 83,
   "metadata": {},
   "outputs": [
    {
     "data": {
      "text/html": [
       "<div>\n",
       "<style scoped>\n",
       "    .dataframe tbody tr th:only-of-type {\n",
       "        vertical-align: middle;\n",
       "    }\n",
       "\n",
       "    .dataframe tbody tr th {\n",
       "        vertical-align: top;\n",
       "    }\n",
       "\n",
       "    .dataframe thead th {\n",
       "        text-align: right;\n",
       "    }\n",
       "</style>\n",
       "<table border=\"1\" class=\"dataframe\">\n",
       "  <thead>\n",
       "    <tr style=\"text-align: right;\">\n",
       "      <th></th>\n",
       "      <th>MSSubClass</th>\n",
       "      <th>LotFrontage</th>\n",
       "      <th>LotArea</th>\n",
       "      <th>OverallQual</th>\n",
       "      <th>OverallCond</th>\n",
       "      <th>YearBuilt</th>\n",
       "      <th>YearRemodAdd</th>\n",
       "      <th>MasVnrArea</th>\n",
       "      <th>BsmtFinSF1</th>\n",
       "      <th>BsmtFinSF2</th>\n",
       "      <th>...</th>\n",
       "      <th>SaleType_ConLI</th>\n",
       "      <th>SaleType_ConLw</th>\n",
       "      <th>SaleType_New</th>\n",
       "      <th>SaleType_Oth</th>\n",
       "      <th>SaleType_WD</th>\n",
       "      <th>SaleCondition_AdjLand</th>\n",
       "      <th>SaleCondition_Alloca</th>\n",
       "      <th>SaleCondition_Family</th>\n",
       "      <th>SaleCondition_Normal</th>\n",
       "      <th>SaleCondition_Partial</th>\n",
       "    </tr>\n",
       "  </thead>\n",
       "  <tbody>\n",
       "    <tr>\n",
       "      <th>365</th>\n",
       "      <td>0.303415</td>\n",
       "      <td>-0.496513</td>\n",
       "      <td>-0.004895</td>\n",
       "      <td>-0.823057</td>\n",
       "      <td>1.293156</td>\n",
       "      <td>-1.659253</td>\n",
       "      <td>0.590379</td>\n",
       "      <td>-0.608547</td>\n",
       "      <td>0.021368</td>\n",
       "      <td>-0.280335</td>\n",
       "      <td>...</td>\n",
       "      <td>0</td>\n",
       "      <td>0</td>\n",
       "      <td>0</td>\n",
       "      <td>0</td>\n",
       "      <td>1</td>\n",
       "      <td>0</td>\n",
       "      <td>0</td>\n",
       "      <td>0</td>\n",
       "      <td>1</td>\n",
       "      <td>0</td>\n",
       "    </tr>\n",
       "    <tr>\n",
       "      <th>1331</th>\n",
       "      <td>0.537888</td>\n",
       "      <td>-0.656941</td>\n",
       "      <td>0.003052</td>\n",
       "      <td>-0.823057</td>\n",
       "      <td>-0.508624</td>\n",
       "      <td>0.162847</td>\n",
       "      <td>-0.422306</td>\n",
       "      <td>-0.608547</td>\n",
       "      <td>0.080096</td>\n",
       "      <td>-0.280335</td>\n",
       "      <td>...</td>\n",
       "      <td>0</td>\n",
       "      <td>0</td>\n",
       "      <td>0</td>\n",
       "      <td>0</td>\n",
       "      <td>1</td>\n",
       "      <td>0</td>\n",
       "      <td>0</td>\n",
       "      <td>0</td>\n",
       "      <td>1</td>\n",
       "      <td>0</td>\n",
       "    </tr>\n",
       "    <tr>\n",
       "      <th>619</th>\n",
       "      <td>0.068942</td>\n",
       "      <td>0.546274</td>\n",
       "      <td>0.132333</td>\n",
       "      <td>1.365574</td>\n",
       "      <td>-0.508624</td>\n",
       "      <td>1.041359</td>\n",
       "      <td>0.879717</td>\n",
       "      <td>0.701876</td>\n",
       "      <td>0.924040</td>\n",
       "      <td>-0.280335</td>\n",
       "      <td>...</td>\n",
       "      <td>0</td>\n",
       "      <td>0</td>\n",
       "      <td>0</td>\n",
       "      <td>0</td>\n",
       "      <td>1</td>\n",
       "      <td>0</td>\n",
       "      <td>0</td>\n",
       "      <td>0</td>\n",
       "      <td>1</td>\n",
       "      <td>0</td>\n",
       "    </tr>\n",
       "    <tr>\n",
       "      <th>1058</th>\n",
       "      <td>0.068942</td>\n",
       "      <td>0.987453</td>\n",
       "      <td>0.049678</td>\n",
       "      <td>2.095118</td>\n",
       "      <td>-0.508624</td>\n",
       "      <td>1.204047</td>\n",
       "      <td>1.120833</td>\n",
       "      <td>0.284396</td>\n",
       "      <td>1.065423</td>\n",
       "      <td>-0.280335</td>\n",
       "      <td>...</td>\n",
       "      <td>0</td>\n",
       "      <td>0</td>\n",
       "      <td>0</td>\n",
       "      <td>0</td>\n",
       "      <td>1</td>\n",
       "      <td>0</td>\n",
       "      <td>0</td>\n",
       "      <td>0</td>\n",
       "      <td>1</td>\n",
       "      <td>0</td>\n",
       "    </tr>\n",
       "    <tr>\n",
       "      <th>81</th>\n",
       "      <td>1.475780</td>\n",
       "      <td>-1.579407</td>\n",
       "      <td>-0.551512</td>\n",
       "      <td>-0.093513</td>\n",
       "      <td>-0.508624</td>\n",
       "      <td>0.878672</td>\n",
       "      <td>0.638602</td>\n",
       "      <td>1.960114</td>\n",
       "      <td>1.641828</td>\n",
       "      <td>-0.280335</td>\n",
       "      <td>...</td>\n",
       "      <td>0</td>\n",
       "      <td>0</td>\n",
       "      <td>0</td>\n",
       "      <td>0</td>\n",
       "      <td>1</td>\n",
       "      <td>0</td>\n",
       "      <td>0</td>\n",
       "      <td>0</td>\n",
       "      <td>1</td>\n",
       "      <td>0</td>\n",
       "    </tr>\n",
       "  </tbody>\n",
       "</table>\n",
       "<p>5 rows × 259 columns</p>\n",
       "</div>"
      ],
      "text/plain": [
       "      MSSubClass  LotFrontage   LotArea  OverallQual  OverallCond  YearBuilt  \\\n",
       "365     0.303415    -0.496513 -0.004895    -0.823057     1.293156  -1.659253   \n",
       "1331    0.537888    -0.656941  0.003052    -0.823057    -0.508624   0.162847   \n",
       "619     0.068942     0.546274  0.132333     1.365574    -0.508624   1.041359   \n",
       "1058    0.068942     0.987453  0.049678     2.095118    -0.508624   1.204047   \n",
       "81      1.475780    -1.579407 -0.551512    -0.093513    -0.508624   0.878672   \n",
       "\n",
       "      YearRemodAdd  MasVnrArea  BsmtFinSF1  BsmtFinSF2  ...  SaleType_ConLI  \\\n",
       "365       0.590379   -0.608547    0.021368   -0.280335  ...               0   \n",
       "1331     -0.422306   -0.608547    0.080096   -0.280335  ...               0   \n",
       "619       0.879717    0.701876    0.924040   -0.280335  ...               0   \n",
       "1058      1.120833    0.284396    1.065423   -0.280335  ...               0   \n",
       "81        0.638602    1.960114    1.641828   -0.280335  ...               0   \n",
       "\n",
       "      SaleType_ConLw  SaleType_New  SaleType_Oth  SaleType_WD  \\\n",
       "365                0             0             0            1   \n",
       "1331               0             0             0            1   \n",
       "619                0             0             0            1   \n",
       "1058               0             0             0            1   \n",
       "81                 0             0             0            1   \n",
       "\n",
       "      SaleCondition_AdjLand  SaleCondition_Alloca  SaleCondition_Family  \\\n",
       "365                       0                     0                     0   \n",
       "1331                      0                     0                     0   \n",
       "619                       0                     0                     0   \n",
       "1058                      0                     0                     0   \n",
       "81                        0                     0                     0   \n",
       "\n",
       "      SaleCondition_Normal  SaleCondition_Partial  \n",
       "365                      1                      0  \n",
       "1331                     1                      0  \n",
       "619                      1                      0  \n",
       "1058                     1                      0  \n",
       "81                       1                      0  \n",
       "\n",
       "[5 rows x 259 columns]"
      ]
     },
     "execution_count": 83,
     "metadata": {},
     "output_type": "execute_result"
    }
   ],
   "source": [
    "features_valid.head()"
   ]
  },
  {
   "cell_type": "markdown",
   "metadata": {},
   "source": [
    "Признаки готовы, можно обучать:"
   ]
  },
  {
   "cell_type": "markdown",
   "metadata": {},
   "source": [
    "## Шаг 2. Обучение модели случайного леса"
   ]
  },
  {
   "cell_type": "code",
   "execution_count": 84,
   "metadata": {},
   "outputs": [
    {
     "name": "stdout",
     "output_type": "stream",
     "text": [
      "R2 Score for RandomForestRegressor:  0.863211343566004\n"
     ]
    },
    {
     "data": {
      "text/plain": [
       "Text(0.5, 1.0, 'Feature importance using RandomForestRegressor Model')"
      ]
     },
     "execution_count": 84,
     "metadata": {},
     "output_type": "execute_result"
    },
    {
     "data": {
      "image/png": "[encoded data removed]",
      "text/plain": [
       "<Figure size 576x720 with 1 Axes>"
      ]
     },
     "metadata": {},
     "output_type": "display_data"
    }
   ],
   "source": [
    "rfr = RandomForestRegressor().fit(features_train, target_train)\n",
    "r_2 = cross_val_score(rfr, features_valid, target_valid, scoring='r2', cv=10)\n",
    "print('R2 Score for RandomForestRegressor: ', r_2.mean())\n",
    "\n",
    "rfr_coef = pd.Series(rfr.feature_importances_, index = features_train.columns)\n",
    "rfr_imp_coef = rfr_coef.sort_values(ascending=False)\n",
    "rfr_imp_coef = rfr_imp_coef[:10]\n",
    "\n",
    "plt.rcParams['figure.figsize'] = (8.0, 10.0)\n",
    "rfr_imp_coef.plot(kind = \"barh\")\n",
    "plt.title(\"Feature importance using RandomForestRegressor Model\")"
   ]
  },
  {
   "cell_type": "markdown",
   "metadata": {},
   "source": [
    "Подводим итог: наиболее важный признак - внешний вид дома (отделка и материалы). На втором месте - общая площадь надземных жилых помещений в квадратных футах.  \n",
    "Вспомним теперь, какие признаки лучше всего коррелируют с таргетом:"
   ]
  },
  {
   "cell_type": "code",
   "execution_count": 85,
   "metadata": {},
   "outputs": [
    {
     "data": {
      "text/plain": [
       "SalePrice                1.000000\n",
       "OverallQual              0.790982\n",
       "GrLivArea                0.708624\n",
       "GarageCars               0.640409\n",
       "GarageArea               0.623431\n",
       "TotalBsmtSF              0.613581\n",
       "1stFlrSF                 0.605852\n",
       "FullBath                 0.560664\n",
       "TotRmsAbvGrd             0.533723\n",
       "YearBuilt                0.522897\n",
       "YearRemodAdd             0.507101\n",
       "Foundation_PConc         0.497734\n",
       "MasVnrArea               0.472614\n",
       "Fireplaces               0.466929\n",
       "ExterQual_Gd             0.452466\n",
       "BsmtFinType1_GLQ         0.434597\n",
       "Neighborhood_NridgHt     0.402149\n",
       "BsmtFinSF1               0.386420\n",
       "SaleType_New             0.357509\n",
       "SaleCondition_Partial    0.352060\n",
       "Name: SalePrice, dtype: float64"
      ]
     },
     "execution_count": 85,
     "metadata": {},
     "output_type": "execute_result"
    }
   ],
   "source": [
    "houses.corr()['SalePrice'].sort_values(ascending=False)[:20]"
   ]
  },
  {
   "cell_type": "markdown",
   "metadata": {},
   "source": [
    "Как оказалось, практически все признаки, оказавшиеся важными для обучения модели, неплохо коррелируют с таргетом.  \n",
    "При этом отметим, что мы не использовали никакие гиперпараметры, а просто обучили модель. Можно попробовать перебрать гиперпараметры и определить, какие признаки будут наиболее значимыми в таком случае:"
   ]
  },
  {
   "cell_type": "code",
   "execution_count": 86,
   "metadata": {},
   "outputs": [],
   "source": [
    "param_rfr = {'max_depth': np.arange(2, 11, 2), \n",
    "             'n_estimators': np.arange(80, 151, 30),\n",
    "            'min_samples_split': np.arange(2, 13, 2)}"
   ]
  },
  {
   "cell_type": "code",
   "execution_count": 87,
   "metadata": {},
   "outputs": [
    {
     "name": "stdout",
     "output_type": "stream",
     "text": [
      "{'max_depth': 10, 'min_samples_split': 8, 'n_estimators': 80}\n",
      "Wall time: 11min 11s\n"
     ]
    }
   ],
   "source": [
    "%%time\n",
    "scorer = make_scorer(mean_squared_error, greater_is_better=False)\n",
    "grid = GridSearchCV(rfr, param_rfr, scoring=scorer, cv=10)\n",
    "grid.fit(features_train, target_train)\n",
    "print(grid.best_params_)"
   ]
  },
  {
   "cell_type": "markdown",
   "metadata": {},
   "source": [
    "Поиграв еще немного, нашли оптимальный вариант:"
   ]
  },
  {
   "cell_type": "code",
   "execution_count": 89,
   "metadata": {},
   "outputs": [
    {
     "name": "stdout",
     "output_type": "stream",
     "text": [
      "R2 Score for RandomForestRegressor:  0.8693184720945613\n"
     ]
    },
    {
     "data": {
      "text/plain": [
       "Text(0.5, 1.0, 'Feature importance using RandomForestRegressor Model')"
      ]
     },
     "execution_count": 89,
     "metadata": {},
     "output_type": "execute_result"
    },
    {
     "data": {
      "image/png": "[encoded data removed]",
      "text/plain": [
       "<Figure size 576x720 with 1 Axes>"
      ]
     },
     "metadata": {},
     "output_type": "display_data"
    }
   ],
   "source": [
    "rfr = RandomForestRegressor(max_depth=10, min_samples_split=8, n_estimators=150, random_state=12345).fit(features_train, target_train)\n",
    "r_2 = cross_val_score(rfr, features_valid, target_valid, scoring='r2', cv=10)\n",
    "print('R2 Score for RandomForestRegressor: ', r_2.mean())\n",
    "\n",
    "rfr_coef = pd.Series(rfr.feature_importances_, index = features_train.columns)\n",
    "rfr_imp_coef = rfr_coef.sort_values(ascending=False)\n",
    "rfr_imp_coef = rfr_imp_coef[:10]\n",
    "\n",
    "plt.rcParams['figure.figsize'] = (8.0, 10.0)\n",
    "rfr_imp_coef.plot(kind = \"barh\")\n",
    "plt.title(\"Feature importance using RandomForestRegressor Model\")"
   ]
  },
  {
   "cell_type": "markdown",
   "metadata": {},
   "source": [
    "И R2 на валидации:"
   ]
  },
  {
   "cell_type": "code",
   "execution_count": 146,
   "metadata": {},
   "outputs": [
    {
     "name": "stdout",
     "output_type": "stream",
     "text": [
      "R2 for RandomForestRegressor:  0.9026673011996743\n"
     ]
    }
   ],
   "source": [
    "valid_pred_rfr = rfr.predict(features_valid)\n",
    "r_2_rfr_valid = r2_score(target_valid, valid_pred_rfr, multioutput='variance_weighted')\n",
    "print('R2 for RandomForestRegressor: ', r_2_rfr_valid)"
   ]
  },
  {
   "cell_type": "markdown",
   "metadata": {},
   "source": [
    "Коэффициент R2 подрос, гиперпараметры своё отработали. Тройка наиболее значимых признаков не поменялась. А вот чуть менее значимые признаки изменились.  \n",
    "Поскольку лучшие признаки схожи с тем, что показал анализ корреляции признаков, оставим только те признаки, что хорошо себя зарекомендовали: т.е. 20 лучших:"
   ]
  },
  {
   "cell_type": "code",
   "execution_count": 90,
   "metadata": {},
   "outputs": [
    {
     "data": {
      "text/plain": [
       "OverallQual     0.552453\n",
       "GrLivArea       0.124256\n",
       "2ndFlrSF        0.034848\n",
       "TotalBsmtSF     0.031367\n",
       "BsmtFinSF1      0.029735\n",
       "1stFlrSF        0.026905\n",
       "GarageCars      0.025278\n",
       "GarageArea      0.017193\n",
       "LotArea         0.015293\n",
       "YearBuilt       0.012989\n",
       "YearRemodAdd    0.008072\n",
       "LotFrontage     0.007649\n",
       "WoodDeckSF      0.006507\n",
       "GarageYrBlt     0.006324\n",
       "BsmtQual_Gd     0.006296\n",
       "OpenPorchSF     0.005898\n",
       "ScreenPorch     0.005576\n",
       "TotRmsAbvGrd    0.004493\n",
       "BsmtUnfSF       0.004472\n",
       "OverallCond     0.004210\n",
       "dtype: float64"
      ]
     },
     "execution_count": 90,
     "metadata": {},
     "output_type": "execute_result"
    }
   ],
   "source": [
    "rfr_imp_coef = rfr_coef.sort_values(ascending=False)[:20]\n",
    "rfr_imp_coef"
   ]
  },
  {
   "cell_type": "code",
   "execution_count": 91,
   "metadata": {},
   "outputs": [
    {
     "data": {
      "text/html": [
       "<div>\n",
       "<style scoped>\n",
       "    .dataframe tbody tr th:only-of-type {\n",
       "        vertical-align: middle;\n",
       "    }\n",
       "\n",
       "    .dataframe tbody tr th {\n",
       "        vertical-align: top;\n",
       "    }\n",
       "\n",
       "    .dataframe thead th {\n",
       "        text-align: right;\n",
       "    }\n",
       "</style>\n",
       "<table border=\"1\" class=\"dataframe\">\n",
       "  <thead>\n",
       "    <tr style=\"text-align: right;\">\n",
       "      <th></th>\n",
       "      <th>OverallQual</th>\n",
       "      <th>GrLivArea</th>\n",
       "      <th>2ndFlrSF</th>\n",
       "      <th>TotalBsmtSF</th>\n",
       "      <th>BsmtFinSF1</th>\n",
       "      <th>1stFlrSF</th>\n",
       "      <th>GarageCars</th>\n",
       "      <th>GarageArea</th>\n",
       "      <th>LotArea</th>\n",
       "      <th>YearBuilt</th>\n",
       "      <th>YearRemodAdd</th>\n",
       "      <th>LotFrontage</th>\n",
       "      <th>WoodDeckSF</th>\n",
       "      <th>GarageYrBlt</th>\n",
       "      <th>BsmtQual_Gd</th>\n",
       "      <th>OpenPorchSF</th>\n",
       "      <th>ScreenPorch</th>\n",
       "      <th>TotRmsAbvGrd</th>\n",
       "      <th>BsmtUnfSF</th>\n",
       "      <th>OverallCond</th>\n",
       "    </tr>\n",
       "  </thead>\n",
       "  <tbody>\n",
       "    <tr>\n",
       "      <th>135</th>\n",
       "      <td>0.636031</td>\n",
       "      <td>0.287835</td>\n",
       "      <td>-0.802294</td>\n",
       "      <td>0.546130</td>\n",
       "      <td>-0.970484</td>\n",
       "      <td>1.315652</td>\n",
       "      <td>0.296063</td>\n",
       "      <td>0.253813</td>\n",
       "      <td>-0.030504</td>\n",
       "      <td>-0.032378</td>\n",
       "      <td>-0.711644</td>\n",
       "      <td>0.345738</td>\n",
       "      <td>0.003427</td>\n",
       "      <td>0.216266</td>\n",
       "      <td>0</td>\n",
       "      <td>-0.715974</td>\n",
       "      <td>-0.275896</td>\n",
       "      <td>0.279234</td>\n",
       "      <td>1.643785</td>\n",
       "      <td>0.392266</td>\n",
       "    </tr>\n",
       "    <tr>\n",
       "      <th>1452</th>\n",
       "      <td>-0.823057</td>\n",
       "      <td>-0.861565</td>\n",
       "      <td>-0.802294</td>\n",
       "      <td>-1.146608</td>\n",
       "      <td>0.219303</td>\n",
       "      <td>-0.251022</td>\n",
       "      <td>0.296063</td>\n",
       "      <td>0.229814</td>\n",
       "      <td>-0.624365</td>\n",
       "      <td>1.106434</td>\n",
       "      <td>0.976164</td>\n",
       "      <td>-1.459085</td>\n",
       "      <td>-0.741099</td>\n",
       "      <td>0.295218</td>\n",
       "      <td>1</td>\n",
       "      <td>-0.311187</td>\n",
       "      <td>-0.275896</td>\n",
       "      <td>-0.948194</td>\n",
       "      <td>-1.281383</td>\n",
       "      <td>-0.508624</td>\n",
       "    </tr>\n",
       "    <tr>\n",
       "      <th>762</th>\n",
       "      <td>0.636031</td>\n",
       "      <td>0.033459</td>\n",
       "      <td>0.973582</td>\n",
       "      <td>-0.679260</td>\n",
       "      <td>-0.918281</td>\n",
       "      <td>-1.042064</td>\n",
       "      <td>0.296063</td>\n",
       "      <td>0.656997</td>\n",
       "      <td>-0.185924</td>\n",
       "      <td>1.236584</td>\n",
       "      <td>1.169056</td>\n",
       "      <td>0.024881</td>\n",
       "      <td>0.542828</td>\n",
       "      <td>0.304241</td>\n",
       "      <td>1</td>\n",
       "      <td>-0.065423</td>\n",
       "      <td>-0.275896</td>\n",
       "      <td>0.279234</td>\n",
       "      <td>0.360659</td>\n",
       "      <td>-0.508624</td>\n",
       "    </tr>\n",
       "    <tr>\n",
       "      <th>932</th>\n",
       "      <td>2.095118</td>\n",
       "      <td>0.708025</td>\n",
       "      <td>-0.802294</td>\n",
       "      <td>1.890034</td>\n",
       "      <td>-0.970484</td>\n",
       "      <td>1.888387</td>\n",
       "      <td>1.665189</td>\n",
       "      <td>1.492165</td>\n",
       "      <td>0.081645</td>\n",
       "      <td>1.138972</td>\n",
       "      <td>1.024387</td>\n",
       "      <td>0.506167</td>\n",
       "      <td>-0.741099</td>\n",
       "      <td>0.297474</td>\n",
       "      <td>0</td>\n",
       "      <td>2.045255</td>\n",
       "      <td>-0.275896</td>\n",
       "      <td>0.892948</td>\n",
       "      <td>2.991965</td>\n",
       "      <td>-0.508624</td>\n",
       "    </tr>\n",
       "    <tr>\n",
       "      <th>435</th>\n",
       "      <td>0.636031</td>\n",
       "      <td>0.248265</td>\n",
       "      <td>1.089252</td>\n",
       "      <td>-0.583107</td>\n",
       "      <td>-0.133065</td>\n",
       "      <td>-0.880260</td>\n",
       "      <td>0.296063</td>\n",
       "      <td>0.349809</td>\n",
       "      <td>-0.006927</td>\n",
       "      <td>0.813597</td>\n",
       "      <td>0.542156</td>\n",
       "      <td>-1.138228</td>\n",
       "      <td>0.459259</td>\n",
       "      <td>0.274916</td>\n",
       "      <td>1</td>\n",
       "      <td>0.165884</td>\n",
       "      <td>-0.275896</td>\n",
       "      <td>-0.334480</td>\n",
       "      <td>-1.124357</td>\n",
       "      <td>0.392266</td>\n",
       "    </tr>\n",
       "    <tr>\n",
       "      <th>...</th>\n",
       "      <td>...</td>\n",
       "      <td>...</td>\n",
       "      <td>...</td>\n",
       "      <td>...</td>\n",
       "      <td>...</td>\n",
       "      <td>...</td>\n",
       "      <td>...</td>\n",
       "      <td>...</td>\n",
       "      <td>...</td>\n",
       "      <td>...</td>\n",
       "      <td>...</td>\n",
       "      <td>...</td>\n",
       "      <td>...</td>\n",
       "      <td>...</td>\n",
       "      <td>...</td>\n",
       "      <td>...</td>\n",
       "      <td>...</td>\n",
       "      <td>...</td>\n",
       "      <td>...</td>\n",
       "      <td>...</td>\n",
       "    </tr>\n",
       "    <tr>\n",
       "      <th>1095</th>\n",
       "      <td>-0.093513</td>\n",
       "      <td>-0.405573</td>\n",
       "      <td>-0.802294</td>\n",
       "      <td>0.568491</td>\n",
       "      <td>-0.918281</td>\n",
       "      <td>0.370511</td>\n",
       "      <td>0.296063</td>\n",
       "      <td>-0.178171</td>\n",
       "      <td>-0.126140</td>\n",
       "      <td>1.138972</td>\n",
       "      <td>1.024387</td>\n",
       "      <td>0.265524</td>\n",
       "      <td>-0.741099</td>\n",
       "      <td>0.297474</td>\n",
       "      <td>1</td>\n",
       "      <td>-0.397927</td>\n",
       "      <td>-0.275896</td>\n",
       "      <td>-0.334480</td>\n",
       "      <td>1.612380</td>\n",
       "      <td>-0.508624</td>\n",
       "    </tr>\n",
       "    <tr>\n",
       "      <th>1130</th>\n",
       "      <td>-1.552600</td>\n",
       "      <td>0.851229</td>\n",
       "      <td>0.678737</td>\n",
       "      <td>0.139158</td>\n",
       "      <td>0.382437</td>\n",
       "      <td>0.406468</td>\n",
       "      <td>0.296063</td>\n",
       "      <td>0.474604</td>\n",
       "      <td>-0.259748</td>\n",
       "      <td>-1.398953</td>\n",
       "      <td>-1.676106</td>\n",
       "      <td>-0.255870</td>\n",
       "      <td>2.533295</td>\n",
       "      <td>0.241079</td>\n",
       "      <td>0</td>\n",
       "      <td>-0.079880</td>\n",
       "      <td>-0.275896</td>\n",
       "      <td>0.279234</td>\n",
       "      <td>-0.159770</td>\n",
       "      <td>-2.310403</td>\n",
       "    </tr>\n",
       "    <tr>\n",
       "      <th>1294</th>\n",
       "      <td>-0.823057</td>\n",
       "      <td>-1.253491</td>\n",
       "      <td>-0.802294</td>\n",
       "      <td>-0.437760</td>\n",
       "      <td>-0.607240</td>\n",
       "      <td>-0.785232</td>\n",
       "      <td>0.296063</td>\n",
       "      <td>0.455405</td>\n",
       "      <td>-0.227251</td>\n",
       "      <td>-0.520441</td>\n",
       "      <td>0.252817</td>\n",
       "      <td>-0.456406</td>\n",
       "      <td>-0.741099</td>\n",
       "      <td>0.186941</td>\n",
       "      <td>0</td>\n",
       "      <td>-0.715974</td>\n",
       "      <td>-0.275896</td>\n",
       "      <td>-0.948194</td>\n",
       "      <td>0.282146</td>\n",
       "      <td>1.293156</td>\n",
       "    </tr>\n",
       "    <tr>\n",
       "      <th>860</th>\n",
       "      <td>0.636031</td>\n",
       "      <td>-0.194536</td>\n",
       "      <td>0.363479</td>\n",
       "      <td>-0.330426</td>\n",
       "      <td>-0.970484</td>\n",
       "      <td>-0.661953</td>\n",
       "      <td>-1.073062</td>\n",
       "      <td>-1.253330</td>\n",
       "      <td>-0.274053</td>\n",
       "      <td>-1.724328</td>\n",
       "      <td>0.638602</td>\n",
       "      <td>-0.656941</td>\n",
       "      <td>-0.741099</td>\n",
       "      <td>0.114756</td>\n",
       "      <td>0</td>\n",
       "      <td>2.753633</td>\n",
       "      <td>-0.275896</td>\n",
       "      <td>0.279234</td>\n",
       "      <td>0.764440</td>\n",
       "      <td>2.194045</td>\n",
       "    </tr>\n",
       "    <tr>\n",
       "      <th>1126</th>\n",
       "      <td>0.636031</td>\n",
       "      <td>0.048534</td>\n",
       "      <td>-0.802294</td>\n",
       "      <td>0.700422</td>\n",
       "      <td>-0.970484</td>\n",
       "      <td>0.989476</td>\n",
       "      <td>1.665189</td>\n",
       "      <td>0.877789</td>\n",
       "      <td>-0.623570</td>\n",
       "      <td>1.171509</td>\n",
       "      <td>1.072610</td>\n",
       "      <td>-0.737156</td>\n",
       "      <td>0.345301</td>\n",
       "      <td>0.299730</td>\n",
       "      <td>1</td>\n",
       "      <td>-0.426840</td>\n",
       "      <td>-0.275896</td>\n",
       "      <td>0.279234</td>\n",
       "      <td>1.798568</td>\n",
       "      <td>-0.508624</td>\n",
       "    </tr>\n",
       "  </tbody>\n",
       "</table>\n",
       "<p>1022 rows × 20 columns</p>\n",
       "</div>"
      ],
      "text/plain": [
       "      OverallQual  GrLivArea  2ndFlrSF  TotalBsmtSF  BsmtFinSF1  1stFlrSF  \\\n",
       "135      0.636031   0.287835 -0.802294     0.546130   -0.970484  1.315652   \n",
       "1452    -0.823057  -0.861565 -0.802294    -1.146608    0.219303 -0.251022   \n",
       "762      0.636031   0.033459  0.973582    -0.679260   -0.918281 -1.042064   \n",
       "932      2.095118   0.708025 -0.802294     1.890034   -0.970484  1.888387   \n",
       "435      0.636031   0.248265  1.089252    -0.583107   -0.133065 -0.880260   \n",
       "...           ...        ...       ...          ...         ...       ...   \n",
       "1095    -0.093513  -0.405573 -0.802294     0.568491   -0.918281  0.370511   \n",
       "1130    -1.552600   0.851229  0.678737     0.139158    0.382437  0.406468   \n",
       "1294    -0.823057  -1.253491 -0.802294    -0.437760   -0.607240 -0.785232   \n",
       "860      0.636031  -0.194536  0.363479    -0.330426   -0.970484 -0.661953   \n",
       "1126     0.636031   0.048534 -0.802294     0.700422   -0.970484  0.989476   \n",
       "\n",
       "      GarageCars  GarageArea   LotArea  YearBuilt  YearRemodAdd  LotFrontage  \\\n",
       "135     0.296063    0.253813 -0.030504  -0.032378     -0.711644     0.345738   \n",
       "1452    0.296063    0.229814 -0.624365   1.106434      0.976164    -1.459085   \n",
       "762     0.296063    0.656997 -0.185924   1.236584      1.169056     0.024881   \n",
       "932     1.665189    1.492165  0.081645   1.138972      1.024387     0.506167   \n",
       "435     0.296063    0.349809 -0.006927   0.813597      0.542156    -1.138228   \n",
       "...          ...         ...       ...        ...           ...          ...   \n",
       "1095    0.296063   -0.178171 -0.126140   1.138972      1.024387     0.265524   \n",
       "1130    0.296063    0.474604 -0.259748  -1.398953     -1.676106    -0.255870   \n",
       "1294    0.296063    0.455405 -0.227251  -0.520441      0.252817    -0.456406   \n",
       "860    -1.073062   -1.253330 -0.274053  -1.724328      0.638602    -0.656941   \n",
       "1126    1.665189    0.877789 -0.623570   1.171509      1.072610    -0.737156   \n",
       "\n",
       "      WoodDeckSF  GarageYrBlt  BsmtQual_Gd  OpenPorchSF  ScreenPorch  \\\n",
       "135     0.003427     0.216266            0    -0.715974    -0.275896   \n",
       "1452   -0.741099     0.295218            1    -0.311187    -0.275896   \n",
       "762     0.542828     0.304241            1    -0.065423    -0.275896   \n",
       "932    -0.741099     0.297474            0     2.045255    -0.275896   \n",
       "435     0.459259     0.274916            1     0.165884    -0.275896   \n",
       "...          ...          ...          ...          ...          ...   \n",
       "1095   -0.741099     0.297474            1    -0.397927    -0.275896   \n",
       "1130    2.533295     0.241079            0    -0.079880    -0.275896   \n",
       "1294   -0.741099     0.186941            0    -0.715974    -0.275896   \n",
       "860    -0.741099     0.114756            0     2.753633    -0.275896   \n",
       "1126    0.345301     0.299730            1    -0.426840    -0.275896   \n",
       "\n",
       "      TotRmsAbvGrd  BsmtUnfSF  OverallCond  \n",
       "135       0.279234   1.643785     0.392266  \n",
       "1452     -0.948194  -1.281383    -0.508624  \n",
       "762       0.279234   0.360659    -0.508624  \n",
       "932       0.892948   2.991965    -0.508624  \n",
       "435      -0.334480  -1.124357     0.392266  \n",
       "...            ...        ...          ...  \n",
       "1095     -0.334480   1.612380    -0.508624  \n",
       "1130      0.279234  -0.159770    -2.310403  \n",
       "1294     -0.948194   0.282146     1.293156  \n",
       "860       0.279234   0.764440     2.194045  \n",
       "1126      0.279234   1.798568    -0.508624  \n",
       "\n",
       "[1022 rows x 20 columns]"
      ]
     },
     "execution_count": 91,
     "metadata": {},
     "output_type": "execute_result"
    }
   ],
   "source": [
    "features_train_1 = features_train[[col for col in rfr_imp_coef.index.tolist()]]\n",
    "features_train_1"
   ]
  },
  {
   "cell_type": "code",
   "execution_count": 92,
   "metadata": {},
   "outputs": [
    {
     "data": {
      "text/html": [
       "<div>\n",
       "<style scoped>\n",
       "    .dataframe tbody tr th:only-of-type {\n",
       "        vertical-align: middle;\n",
       "    }\n",
       "\n",
       "    .dataframe tbody tr th {\n",
       "        vertical-align: top;\n",
       "    }\n",
       "\n",
       "    .dataframe thead th {\n",
       "        text-align: right;\n",
       "    }\n",
       "</style>\n",
       "<table border=\"1\" class=\"dataframe\">\n",
       "  <thead>\n",
       "    <tr style=\"text-align: right;\">\n",
       "      <th></th>\n",
       "      <th>OverallQual</th>\n",
       "      <th>GrLivArea</th>\n",
       "      <th>2ndFlrSF</th>\n",
       "      <th>TotalBsmtSF</th>\n",
       "      <th>BsmtFinSF1</th>\n",
       "      <th>1stFlrSF</th>\n",
       "      <th>GarageCars</th>\n",
       "      <th>GarageArea</th>\n",
       "      <th>LotArea</th>\n",
       "      <th>YearBuilt</th>\n",
       "      <th>YearRemodAdd</th>\n",
       "      <th>LotFrontage</th>\n",
       "      <th>WoodDeckSF</th>\n",
       "      <th>GarageYrBlt</th>\n",
       "      <th>BsmtQual_Gd</th>\n",
       "      <th>OpenPorchSF</th>\n",
       "      <th>ScreenPorch</th>\n",
       "      <th>TotRmsAbvGrd</th>\n",
       "      <th>BsmtUnfSF</th>\n",
       "      <th>OverallCond</th>\n",
       "    </tr>\n",
       "  </thead>\n",
       "  <tbody>\n",
       "    <tr>\n",
       "      <th>365</th>\n",
       "      <td>-0.823057</td>\n",
       "      <td>-0.349046</td>\n",
       "      <td>0.721830</td>\n",
       "      <td>-0.867093</td>\n",
       "      <td>0.021368</td>\n",
       "      <td>-1.278349</td>\n",
       "      <td>-1.073062</td>\n",
       "      <td>-0.043776</td>\n",
       "      <td>-0.004895</td>\n",
       "      <td>-1.659253</td>\n",
       "      <td>0.590379</td>\n",
       "      <td>-0.496513</td>\n",
       "      <td>-0.741099</td>\n",
       "      <td>0.202731</td>\n",
       "      <td>0</td>\n",
       "      <td>1.134483</td>\n",
       "      <td>-0.275896</td>\n",
       "      <td>-0.334480</td>\n",
       "      <td>-0.796846</td>\n",
       "      <td>1.293156</td>\n",
       "    </tr>\n",
       "    <tr>\n",
       "      <th>1331</th>\n",
       "      <td>-0.823057</td>\n",
       "      <td>-1.083907</td>\n",
       "      <td>-0.802294</td>\n",
       "      <td>-0.332662</td>\n",
       "      <td>0.080096</td>\n",
       "      <td>-0.554083</td>\n",
       "      <td>0.296063</td>\n",
       "      <td>0.474604</td>\n",
       "      <td>0.003052</td>\n",
       "      <td>0.162847</td>\n",
       "      <td>-0.422306</td>\n",
       "      <td>-0.656941</td>\n",
       "      <td>-0.741099</td>\n",
       "      <td>0.229800</td>\n",
       "      <td>0</td>\n",
       "      <td>-0.715974</td>\n",
       "      <td>-0.275896</td>\n",
       "      <td>-0.334480</td>\n",
       "      <td>-0.321282</td>\n",
       "      <td>-0.508624</td>\n",
       "    </tr>\n",
       "    <tr>\n",
       "      <th>619</th>\n",
       "      <td>1.365574</td>\n",
       "      <td>1.380706</td>\n",
       "      <td>0.966778</td>\n",
       "      <td>0.944158</td>\n",
       "      <td>0.924040</td>\n",
       "      <td>0.801989</td>\n",
       "      <td>1.665189</td>\n",
       "      <td>1.304972</td>\n",
       "      <td>0.132333</td>\n",
       "      <td>1.041359</td>\n",
       "      <td>0.879717</td>\n",
       "      <td>0.546274</td>\n",
       "      <td>0.535231</td>\n",
       "      <td>0.290706</td>\n",
       "      <td>1</td>\n",
       "      <td>-0.715974</td>\n",
       "      <td>-0.275896</td>\n",
       "      <td>2.120377</td>\n",
       "      <td>0.089229</td>\n",
       "      <td>-0.508624</td>\n",
       "    </tr>\n",
       "    <tr>\n",
       "      <th>1058</th>\n",
       "      <td>2.095118</td>\n",
       "      <td>1.233734</td>\n",
       "      <td>1.588221</td>\n",
       "      <td>0.098908</td>\n",
       "      <td>1.065423</td>\n",
       "      <td>-0.102059</td>\n",
       "      <td>1.665189</td>\n",
       "      <td>1.722557</td>\n",
       "      <td>0.049678</td>\n",
       "      <td>1.204047</td>\n",
       "      <td>1.120833</td>\n",
       "      <td>0.987453</td>\n",
       "      <td>-0.741099</td>\n",
       "      <td>0.301985</td>\n",
       "      <td>0</td>\n",
       "      <td>0.758609</td>\n",
       "      <td>-0.275896</td>\n",
       "      <td>2.120377</td>\n",
       "      <td>-0.904521</td>\n",
       "      <td>-0.508624</td>\n",
       "    </tr>\n",
       "    <tr>\n",
       "      <th>81</th>\n",
       "      <td>-0.093513</td>\n",
       "      <td>-0.362235</td>\n",
       "      <td>-0.802294</td>\n",
       "      <td>0.396311</td>\n",
       "      <td>1.641828</td>\n",
       "      <td>0.429583</td>\n",
       "      <td>0.296063</td>\n",
       "      <td>-0.346164</td>\n",
       "      <td>-0.551512</td>\n",
       "      <td>0.878672</td>\n",
       "      <td>0.638602</td>\n",
       "      <td>-1.579407</td>\n",
       "      <td>-0.741099</td>\n",
       "      <td>0.279428</td>\n",
       "      <td>0</td>\n",
       "      <td>2.160908</td>\n",
       "      <td>-0.275896</td>\n",
       "      <td>-0.948194</td>\n",
       "      <td>-1.200627</td>\n",
       "      <td>-0.508624</td>\n",
       "    </tr>\n",
       "    <tr>\n",
       "      <th>...</th>\n",
       "      <td>...</td>\n",
       "      <td>...</td>\n",
       "      <td>...</td>\n",
       "      <td>...</td>\n",
       "      <td>...</td>\n",
       "      <td>...</td>\n",
       "      <td>...</td>\n",
       "      <td>...</td>\n",
       "      <td>...</td>\n",
       "      <td>...</td>\n",
       "      <td>...</td>\n",
       "      <td>...</td>\n",
       "      <td>...</td>\n",
       "      <td>...</td>\n",
       "      <td>...</td>\n",
       "      <td>...</td>\n",
       "      <td>...</td>\n",
       "      <td>...</td>\n",
       "      <td>...</td>\n",
       "      <td>...</td>\n",
       "    </tr>\n",
       "    <tr>\n",
       "      <th>754</th>\n",
       "      <td>-0.093513</td>\n",
       "      <td>-0.948241</td>\n",
       "      <td>-0.802294</td>\n",
       "      <td>-0.075509</td>\n",
       "      <td>-0.015609</td>\n",
       "      <td>-0.369164</td>\n",
       "      <td>0.296063</td>\n",
       "      <td>-0.178171</td>\n",
       "      <td>-0.248621</td>\n",
       "      <td>-0.064916</td>\n",
       "      <td>0.976164</td>\n",
       "      <td>-0.416298</td>\n",
       "      <td>0.558023</td>\n",
       "      <td>0.214010</td>\n",
       "      <td>0</td>\n",
       "      <td>-0.022053</td>\n",
       "      <td>-0.275896</td>\n",
       "      <td>-0.948194</td>\n",
       "      <td>-1.023412</td>\n",
       "      <td>2.194045</td>\n",
       "    </tr>\n",
       "    <tr>\n",
       "      <th>1243</th>\n",
       "      <td>2.824662</td>\n",
       "      <td>1.030234</td>\n",
       "      <td>-0.802294</td>\n",
       "      <td>2.272410</td>\n",
       "      <td>2.044224</td>\n",
       "      <td>2.327570</td>\n",
       "      <td>1.665189</td>\n",
       "      <td>1.789754</td>\n",
       "      <td>0.277773</td>\n",
       "      <td>1.138972</td>\n",
       "      <td>1.024387</td>\n",
       "      <td>1.428632</td>\n",
       "      <td>0.899897</td>\n",
       "      <td>0.297474</td>\n",
       "      <td>0</td>\n",
       "      <td>2.594609</td>\n",
       "      <td>-0.275896</td>\n",
       "      <td>0.279234</td>\n",
       "      <td>0.266444</td>\n",
       "      <td>-0.508624</td>\n",
       "    </tr>\n",
       "    <tr>\n",
       "      <th>859</th>\n",
       "      <td>-0.093513</td>\n",
       "      <td>2.119337</td>\n",
       "      <td>1.787809</td>\n",
       "      <td>-0.012898</td>\n",
       "      <td>0.375912</td>\n",
       "      <td>0.879038</td>\n",
       "      <td>0.296063</td>\n",
       "      <td>0.680996</td>\n",
       "      <td>0.025040</td>\n",
       "      <td>-0.097453</td>\n",
       "      <td>-0.036521</td>\n",
       "      <td>1.067667</td>\n",
       "      <td>-0.741099</td>\n",
       "      <td>0.211754</td>\n",
       "      <td>0</td>\n",
       "      <td>0.223711</td>\n",
       "      <td>3.659009</td>\n",
       "      <td>1.506662</td>\n",
       "      <td>-0.305579</td>\n",
       "      <td>1.293156</td>\n",
       "    </tr>\n",
       "    <tr>\n",
       "      <th>650</th>\n",
       "      <td>0.636031</td>\n",
       "      <td>0.255802</td>\n",
       "      <td>1.109665</td>\n",
       "      <td>-0.551801</td>\n",
       "      <td>-0.970484</td>\n",
       "      <td>-0.893101</td>\n",
       "      <td>0.296063</td>\n",
       "      <td>0.407407</td>\n",
       "      <td>-0.231401</td>\n",
       "      <td>1.171509</td>\n",
       "      <td>1.072610</td>\n",
       "      <td>-0.255870</td>\n",
       "      <td>-0.741099</td>\n",
       "      <td>0.299730</td>\n",
       "      <td>1</td>\n",
       "      <td>-0.715974</td>\n",
       "      <td>-0.275896</td>\n",
       "      <td>0.279234</td>\n",
       "      <td>0.542361</td>\n",
       "      <td>0.392266</td>\n",
       "    </tr>\n",
       "    <tr>\n",
       "      <th>70</th>\n",
       "      <td>0.636031</td>\n",
       "      <td>1.307220</td>\n",
       "      <td>-0.802294</td>\n",
       "      <td>2.601119</td>\n",
       "      <td>3.118730</td>\n",
       "      <td>2.705112</td>\n",
       "      <td>0.296063</td>\n",
       "      <td>0.186615</td>\n",
       "      <td>0.256580</td>\n",
       "      <td>0.065234</td>\n",
       "      <td>-0.566975</td>\n",
       "      <td>0.947346</td>\n",
       "      <td>1.538061</td>\n",
       "      <td>0.223033</td>\n",
       "      <td>1</td>\n",
       "      <td>-0.715974</td>\n",
       "      <td>-0.275896</td>\n",
       "      <td>0.892948</td>\n",
       "      <td>-0.511956</td>\n",
       "      <td>0.392266</td>\n",
       "    </tr>\n",
       "  </tbody>\n",
       "</table>\n",
       "<p>219 rows × 20 columns</p>\n",
       "</div>"
      ],
      "text/plain": [
       "      OverallQual  GrLivArea  2ndFlrSF  TotalBsmtSF  BsmtFinSF1  1stFlrSF  \\\n",
       "365     -0.823057  -0.349046  0.721830    -0.867093    0.021368 -1.278349   \n",
       "1331    -0.823057  -1.083907 -0.802294    -0.332662    0.080096 -0.554083   \n",
       "619      1.365574   1.380706  0.966778     0.944158    0.924040  0.801989   \n",
       "1058     2.095118   1.233734  1.588221     0.098908    1.065423 -0.102059   \n",
       "81      -0.093513  -0.362235 -0.802294     0.396311    1.641828  0.429583   \n",
       "...           ...        ...       ...          ...         ...       ...   \n",
       "754     -0.093513  -0.948241 -0.802294    -0.075509   -0.015609 -0.369164   \n",
       "1243     2.824662   1.030234 -0.802294     2.272410    2.044224  2.327570   \n",
       "859     -0.093513   2.119337  1.787809    -0.012898    0.375912  0.879038   \n",
       "650      0.636031   0.255802  1.109665    -0.551801   -0.970484 -0.893101   \n",
       "70       0.636031   1.307220 -0.802294     2.601119    3.118730  2.705112   \n",
       "\n",
       "      GarageCars  GarageArea   LotArea  YearBuilt  YearRemodAdd  LotFrontage  \\\n",
       "365    -1.073062   -0.043776 -0.004895  -1.659253      0.590379    -0.496513   \n",
       "1331    0.296063    0.474604  0.003052   0.162847     -0.422306    -0.656941   \n",
       "619     1.665189    1.304972  0.132333   1.041359      0.879717     0.546274   \n",
       "1058    1.665189    1.722557  0.049678   1.204047      1.120833     0.987453   \n",
       "81      0.296063   -0.346164 -0.551512   0.878672      0.638602    -1.579407   \n",
       "...          ...         ...       ...        ...           ...          ...   \n",
       "754     0.296063   -0.178171 -0.248621  -0.064916      0.976164    -0.416298   \n",
       "1243    1.665189    1.789754  0.277773   1.138972      1.024387     1.428632   \n",
       "859     0.296063    0.680996  0.025040  -0.097453     -0.036521     1.067667   \n",
       "650     0.296063    0.407407 -0.231401   1.171509      1.072610    -0.255870   \n",
       "70      0.296063    0.186615  0.256580   0.065234     -0.566975     0.947346   \n",
       "\n",
       "      WoodDeckSF  GarageYrBlt  BsmtQual_Gd  OpenPorchSF  ScreenPorch  \\\n",
       "365    -0.741099     0.202731            0     1.134483    -0.275896   \n",
       "1331   -0.741099     0.229800            0    -0.715974    -0.275896   \n",
       "619     0.535231     0.290706            1    -0.715974    -0.275896   \n",
       "1058   -0.741099     0.301985            0     0.758609    -0.275896   \n",
       "81     -0.741099     0.279428            0     2.160908    -0.275896   \n",
       "...          ...          ...          ...          ...          ...   \n",
       "754     0.558023     0.214010            0    -0.022053    -0.275896   \n",
       "1243    0.899897     0.297474            0     2.594609    -0.275896   \n",
       "859    -0.741099     0.211754            0     0.223711     3.659009   \n",
       "650    -0.741099     0.299730            1    -0.715974    -0.275896   \n",
       "70      1.538061     0.223033            1    -0.715974    -0.275896   \n",
       "\n",
       "      TotRmsAbvGrd  BsmtUnfSF  OverallCond  \n",
       "365      -0.334480  -0.796846     1.293156  \n",
       "1331     -0.334480  -0.321282    -0.508624  \n",
       "619       2.120377   0.089229    -0.508624  \n",
       "1058      2.120377  -0.904521    -0.508624  \n",
       "81       -0.948194  -1.200627    -0.508624  \n",
       "...            ...        ...          ...  \n",
       "754      -0.948194  -1.023412     2.194045  \n",
       "1243      0.279234   0.266444    -0.508624  \n",
       "859       1.506662  -0.305579     1.293156  \n",
       "650       0.279234   0.542361     0.392266  \n",
       "70        0.892948  -0.511956     0.392266  \n",
       "\n",
       "[219 rows x 20 columns]"
      ]
     },
     "execution_count": 92,
     "metadata": {},
     "output_type": "execute_result"
    }
   ],
   "source": [
    "features_valid_1 = features_valid[[col for col in rfr_imp_coef.index.tolist()]]\n",
    "features_valid_1"
   ]
  },
  {
   "cell_type": "code",
   "execution_count": 93,
   "metadata": {},
   "outputs": [
    {
     "data": {
      "text/html": [
       "<div>\n",
       "<style scoped>\n",
       "    .dataframe tbody tr th:only-of-type {\n",
       "        vertical-align: middle;\n",
       "    }\n",
       "\n",
       "    .dataframe tbody tr th {\n",
       "        vertical-align: top;\n",
       "    }\n",
       "\n",
       "    .dataframe thead th {\n",
       "        text-align: right;\n",
       "    }\n",
       "</style>\n",
       "<table border=\"1\" class=\"dataframe\">\n",
       "  <thead>\n",
       "    <tr style=\"text-align: right;\">\n",
       "      <th></th>\n",
       "      <th>OverallQual</th>\n",
       "      <th>GrLivArea</th>\n",
       "      <th>2ndFlrSF</th>\n",
       "      <th>TotalBsmtSF</th>\n",
       "      <th>BsmtFinSF1</th>\n",
       "      <th>1stFlrSF</th>\n",
       "      <th>GarageCars</th>\n",
       "      <th>GarageArea</th>\n",
       "      <th>LotArea</th>\n",
       "      <th>YearBuilt</th>\n",
       "      <th>YearRemodAdd</th>\n",
       "      <th>LotFrontage</th>\n",
       "      <th>WoodDeckSF</th>\n",
       "      <th>GarageYrBlt</th>\n",
       "      <th>BsmtQual_Gd</th>\n",
       "      <th>OpenPorchSF</th>\n",
       "      <th>ScreenPorch</th>\n",
       "      <th>TotRmsAbvGrd</th>\n",
       "      <th>BsmtUnfSF</th>\n",
       "      <th>OverallCond</th>\n",
       "    </tr>\n",
       "  </thead>\n",
       "  <tbody>\n",
       "    <tr>\n",
       "      <th>1418</th>\n",
       "      <td>-0.823057</td>\n",
       "      <td>-0.725898</td>\n",
       "      <td>-0.802294</td>\n",
       "      <td>0.188352</td>\n",
       "      <td>-0.916106</td>\n",
       "      <td>-0.066103</td>\n",
       "      <td>-1.073062</td>\n",
       "      <td>-0.677352</td>\n",
       "      <td>-0.136119</td>\n",
       "      <td>-0.260141</td>\n",
       "      <td>-1.049206</td>\n",
       "      <td>-0.015227</td>\n",
       "      <td>-0.741099</td>\n",
       "      <td>0.198220</td>\n",
       "      <td>0</td>\n",
       "      <td>0.556215</td>\n",
       "      <td>-0.275896</td>\n",
       "      <td>-0.334480</td>\n",
       "      <td>-0.727306</td>\n",
       "      <td>-0.508624</td>\n",
       "    </tr>\n",
       "    <tr>\n",
       "      <th>44</th>\n",
       "      <td>-0.823057</td>\n",
       "      <td>-0.714592</td>\n",
       "      <td>-0.802294</td>\n",
       "      <td>0.201769</td>\n",
       "      <td>-0.581138</td>\n",
       "      <td>-0.050693</td>\n",
       "      <td>-1.073062</td>\n",
       "      <td>-0.850145</td>\n",
       "      <td>-0.247297</td>\n",
       "      <td>-0.390291</td>\n",
       "      <td>-1.242098</td>\n",
       "      <td>-0.055334</td>\n",
       "      <td>-0.741099</td>\n",
       "      <td>0.191452</td>\n",
       "      <td>0</td>\n",
       "      <td>-0.715974</td>\n",
       "      <td>-0.275896</td>\n",
       "      <td>-0.334480</td>\n",
       "      <td>-0.238283</td>\n",
       "      <td>0.392266</td>\n",
       "    </tr>\n",
       "    <tr>\n",
       "      <th>588</th>\n",
       "      <td>-0.823057</td>\n",
       "      <td>-0.105976</td>\n",
       "      <td>-0.802294</td>\n",
       "      <td>0.843533</td>\n",
       "      <td>1.909367</td>\n",
       "      <td>0.778874</td>\n",
       "      <td>-1.073062</td>\n",
       "      <td>-0.120573</td>\n",
       "      <td>1.267158</td>\n",
       "      <td>-0.097453</td>\n",
       "      <td>0.879717</td>\n",
       "      <td>-0.255870</td>\n",
       "      <td>-0.741099</td>\n",
       "      <td>0.211754</td>\n",
       "      <td>0</td>\n",
       "      <td>-0.022053</td>\n",
       "      <td>0.787592</td>\n",
       "      <td>-0.948194</td>\n",
       "      <td>-1.027899</td>\n",
       "      <td>2.194045</td>\n",
       "    </tr>\n",
       "    <tr>\n",
       "      <th>1048</th>\n",
       "      <td>-0.823057</td>\n",
       "      <td>0.455534</td>\n",
       "      <td>-0.802294</td>\n",
       "      <td>-2.369762</td>\n",
       "      <td>-0.970484</td>\n",
       "      <td>1.544233</td>\n",
       "      <td>0.296063</td>\n",
       "      <td>-0.677352</td>\n",
       "      <td>0.971773</td>\n",
       "      <td>-0.357753</td>\n",
       "      <td>1.024387</td>\n",
       "      <td>1.147882</td>\n",
       "      <td>-0.741099</td>\n",
       "      <td>0.193708</td>\n",
       "      <td>0</td>\n",
       "      <td>-0.715974</td>\n",
       "      <td>-0.275896</td>\n",
       "      <td>1.506662</td>\n",
       "      <td>-1.281383</td>\n",
       "      <td>-1.409513</td>\n",
       "    </tr>\n",
       "    <tr>\n",
       "      <th>439</th>\n",
       "      <td>-0.093513</td>\n",
       "      <td>-0.627916</td>\n",
       "      <td>0.358943</td>\n",
       "      <td>-0.840260</td>\n",
       "      <td>-0.970484</td>\n",
       "      <td>-1.247529</td>\n",
       "      <td>0.296063</td>\n",
       "      <td>0.244213</td>\n",
       "      <td>0.142046</td>\n",
       "      <td>-1.659253</td>\n",
       "      <td>0.735048</td>\n",
       "      <td>-0.175655</td>\n",
       "      <td>-0.741099</td>\n",
       "      <td>0.295218</td>\n",
       "      <td>0</td>\n",
       "      <td>-0.050966</td>\n",
       "      <td>-0.275896</td>\n",
       "      <td>0.279234</td>\n",
       "      <td>0.252984</td>\n",
       "      <td>2.194045</td>\n",
       "    </tr>\n",
       "    <tr>\n",
       "      <th>...</th>\n",
       "      <td>...</td>\n",
       "      <td>...</td>\n",
       "      <td>...</td>\n",
       "      <td>...</td>\n",
       "      <td>...</td>\n",
       "      <td>...</td>\n",
       "      <td>...</td>\n",
       "      <td>...</td>\n",
       "      <td>...</td>\n",
       "      <td>...</td>\n",
       "      <td>...</td>\n",
       "      <td>...</td>\n",
       "      <td>...</td>\n",
       "      <td>...</td>\n",
       "      <td>...</td>\n",
       "      <td>...</td>\n",
       "      <td>...</td>\n",
       "      <td>...</td>\n",
       "      <td>...</td>\n",
       "      <td>...</td>\n",
       "    </tr>\n",
       "    <tr>\n",
       "      <th>1094</th>\n",
       "      <td>-0.823057</td>\n",
       "      <td>-1.117824</td>\n",
       "      <td>-0.802294</td>\n",
       "      <td>-0.276760</td>\n",
       "      <td>-0.431056</td>\n",
       "      <td>-0.600313</td>\n",
       "      <td>-1.073062</td>\n",
       "      <td>-0.811747</td>\n",
       "      <td>-0.430709</td>\n",
       "      <td>-0.487903</td>\n",
       "      <td>0.735048</td>\n",
       "      <td>0.105095</td>\n",
       "      <td>-0.741099</td>\n",
       "      <td>0.184685</td>\n",
       "      <td>0</td>\n",
       "      <td>-0.715974</td>\n",
       "      <td>2.560072</td>\n",
       "      <td>-1.561909</td>\n",
       "      <td>-0.276417</td>\n",
       "      <td>1.293156</td>\n",
       "    </tr>\n",
       "    <tr>\n",
       "      <th>374</th>\n",
       "      <td>0.636031</td>\n",
       "      <td>0.751363</td>\n",
       "      <td>1.649458</td>\n",
       "      <td>-0.475774</td>\n",
       "      <td>-0.970484</td>\n",
       "      <td>-0.828893</td>\n",
       "      <td>0.296063</td>\n",
       "      <td>-0.206970</td>\n",
       "      <td>-0.224778</td>\n",
       "      <td>1.041359</td>\n",
       "      <td>0.927940</td>\n",
       "      <td>-0.255870</td>\n",
       "      <td>0.018621</td>\n",
       "      <td>0.290706</td>\n",
       "      <td>1</td>\n",
       "      <td>-0.022053</td>\n",
       "      <td>-0.275896</td>\n",
       "      <td>0.892948</td>\n",
       "      <td>0.618630</td>\n",
       "      <td>-0.508624</td>\n",
       "    </tr>\n",
       "    <tr>\n",
       "      <th>411</th>\n",
       "      <td>-0.823057</td>\n",
       "      <td>-0.891713</td>\n",
       "      <td>-0.802294</td>\n",
       "      <td>-0.008426</td>\n",
       "      <td>1.326436</td>\n",
       "      <td>-0.292115</td>\n",
       "      <td>0.296063</td>\n",
       "      <td>0.455405</td>\n",
       "      <td>2.110926</td>\n",
       "      <td>-0.520441</td>\n",
       "      <td>-1.434991</td>\n",
       "      <td>1.147882</td>\n",
       "      <td>1.264562</td>\n",
       "      <td>0.182429</td>\n",
       "      <td>0</td>\n",
       "      <td>-0.715974</td>\n",
       "      <td>-0.275896</td>\n",
       "      <td>-0.948194</td>\n",
       "      <td>-1.281383</td>\n",
       "      <td>-0.508624</td>\n",
       "    </tr>\n",
       "    <tr>\n",
       "      <th>1134</th>\n",
       "      <td>-0.093513</td>\n",
       "      <td>0.133325</td>\n",
       "      <td>0.749046</td>\n",
       "      <td>-0.321482</td>\n",
       "      <td>-0.970484</td>\n",
       "      <td>-0.651679</td>\n",
       "      <td>0.296063</td>\n",
       "      <td>-0.082175</td>\n",
       "      <td>-0.174179</td>\n",
       "      <td>0.846134</td>\n",
       "      <td>0.590379</td>\n",
       "      <td>-0.576727</td>\n",
       "      <td>0.018621</td>\n",
       "      <td>0.277172</td>\n",
       "      <td>1</td>\n",
       "      <td>-0.166620</td>\n",
       "      <td>-0.275896</td>\n",
       "      <td>0.279234</td>\n",
       "      <td>0.773413</td>\n",
       "      <td>-0.508624</td>\n",
       "    </tr>\n",
       "    <tr>\n",
       "      <th>292</th>\n",
       "      <td>-0.823057</td>\n",
       "      <td>0.351900</td>\n",
       "      <td>0.485953</td>\n",
       "      <td>-0.652427</td>\n",
       "      <td>-0.335351</td>\n",
       "      <td>-0.055830</td>\n",
       "      <td>-1.073062</td>\n",
       "      <td>-0.941342</td>\n",
       "      <td>0.058597</td>\n",
       "      <td>-0.715666</td>\n",
       "      <td>1.120833</td>\n",
       "      <td>-0.456406</td>\n",
       "      <td>-0.741099</td>\n",
       "      <td>0.168894</td>\n",
       "      <td>0</td>\n",
       "      <td>-0.715974</td>\n",
       "      <td>2.560072</td>\n",
       "      <td>0.892948</td>\n",
       "      <td>-0.213607</td>\n",
       "      <td>-1.409513</td>\n",
       "    </tr>\n",
       "  </tbody>\n",
       "</table>\n",
       "<p>219 rows × 20 columns</p>\n",
       "</div>"
      ],
      "text/plain": [
       "      OverallQual  GrLivArea  2ndFlrSF  TotalBsmtSF  BsmtFinSF1  1stFlrSF  \\\n",
       "1418    -0.823057  -0.725898 -0.802294     0.188352   -0.916106 -0.066103   \n",
       "44      -0.823057  -0.714592 -0.802294     0.201769   -0.581138 -0.050693   \n",
       "588     -0.823057  -0.105976 -0.802294     0.843533    1.909367  0.778874   \n",
       "1048    -0.823057   0.455534 -0.802294    -2.369762   -0.970484  1.544233   \n",
       "439     -0.093513  -0.627916  0.358943    -0.840260   -0.970484 -1.247529   \n",
       "...           ...        ...       ...          ...         ...       ...   \n",
       "1094    -0.823057  -1.117824 -0.802294    -0.276760   -0.431056 -0.600313   \n",
       "374      0.636031   0.751363  1.649458    -0.475774   -0.970484 -0.828893   \n",
       "411     -0.823057  -0.891713 -0.802294    -0.008426    1.326436 -0.292115   \n",
       "1134    -0.093513   0.133325  0.749046    -0.321482   -0.970484 -0.651679   \n",
       "292     -0.823057   0.351900  0.485953    -0.652427   -0.335351 -0.055830   \n",
       "\n",
       "      GarageCars  GarageArea   LotArea  YearBuilt  YearRemodAdd  LotFrontage  \\\n",
       "1418   -1.073062   -0.677352 -0.136119  -0.260141     -1.049206    -0.015227   \n",
       "44     -1.073062   -0.850145 -0.247297  -0.390291     -1.242098    -0.055334   \n",
       "588    -1.073062   -0.120573  1.267158  -0.097453      0.879717    -0.255870   \n",
       "1048    0.296063   -0.677352  0.971773  -0.357753      1.024387     1.147882   \n",
       "439     0.296063    0.244213  0.142046  -1.659253      0.735048    -0.175655   \n",
       "...          ...         ...       ...        ...           ...          ...   \n",
       "1094   -1.073062   -0.811747 -0.430709  -0.487903      0.735048     0.105095   \n",
       "374     0.296063   -0.206970 -0.224778   1.041359      0.927940    -0.255870   \n",
       "411     0.296063    0.455405  2.110926  -0.520441     -1.434991     1.147882   \n",
       "1134    0.296063   -0.082175 -0.174179   0.846134      0.590379    -0.576727   \n",
       "292    -1.073062   -0.941342  0.058597  -0.715666      1.120833    -0.456406   \n",
       "\n",
       "      WoodDeckSF  GarageYrBlt  BsmtQual_Gd  OpenPorchSF  ScreenPorch  \\\n",
       "1418   -0.741099     0.198220            0     0.556215    -0.275896   \n",
       "44     -0.741099     0.191452            0    -0.715974    -0.275896   \n",
       "588    -0.741099     0.211754            0    -0.022053     0.787592   \n",
       "1048   -0.741099     0.193708            0    -0.715974    -0.275896   \n",
       "439    -0.741099     0.295218            0    -0.050966    -0.275896   \n",
       "...          ...          ...          ...          ...          ...   \n",
       "1094   -0.741099     0.184685            0    -0.715974     2.560072   \n",
       "374     0.018621     0.290706            1    -0.022053    -0.275896   \n",
       "411     1.264562     0.182429            0    -0.715974    -0.275896   \n",
       "1134    0.018621     0.277172            1    -0.166620    -0.275896   \n",
       "292    -0.741099     0.168894            0    -0.715974     2.560072   \n",
       "\n",
       "      TotRmsAbvGrd  BsmtUnfSF  OverallCond  \n",
       "1418     -0.334480  -0.727306    -0.508624  \n",
       "44       -0.334480  -0.238283     0.392266  \n",
       "588      -0.948194  -1.027899     2.194045  \n",
       "1048      1.506662  -1.281383    -1.409513  \n",
       "439       0.279234   0.252984     2.194045  \n",
       "...            ...        ...          ...  \n",
       "1094     -1.561909  -0.276417     1.293156  \n",
       "374       0.892948   0.618630    -0.508624  \n",
       "411      -0.948194  -1.281383    -0.508624  \n",
       "1134      0.279234   0.773413    -0.508624  \n",
       "292       0.892948  -0.213607    -1.409513  \n",
       "\n",
       "[219 rows x 20 columns]"
      ]
     },
     "execution_count": 93,
     "metadata": {},
     "output_type": "execute_result"
    }
   ],
   "source": [
    "features_test_1 = features_test[[col for col in rfr_imp_coef.index.tolist()]]\n",
    "features_test_1"
   ]
  },
  {
   "cell_type": "markdown",
   "metadata": {},
   "source": [
    "Теперь еще раз обучим лес, при этом проверим качество при помощи кросс-валидации, разделив выборку на 10 фолдов:"
   ]
  },
  {
   "cell_type": "code",
   "execution_count": 96,
   "metadata": {},
   "outputs": [],
   "source": [
    "rfr_1 = RandomForestRegressor(max_depth=10, min_samples_split=8, n_estimators=150, random_state=12345).fit(features_train_1, target_train)"
   ]
  },
  {
   "cell_type": "code",
   "execution_count": 97,
   "metadata": {},
   "outputs": [
    {
     "name": "stdout",
     "output_type": "stream",
     "text": [
      "R2 Score for RandomForestRegressor:  0.8693184720945613\n"
     ]
    }
   ],
   "source": [
    "r_2 = cross_val_score(rfr_1, features_valid, target_valid, scoring='r2', cv=10)\n",
    "print('R2 Score for RandomForestRegressor: ', r_2.mean())"
   ]
  },
  {
   "cell_type": "code",
   "execution_count": 149,
   "metadata": {},
   "outputs": [
    {
     "name": "stdout",
     "output_type": "stream",
     "text": [
      "R2 for RandomForestRegressor:  0.8980992761080189\n"
     ]
    }
   ],
   "source": [
    "valid_pred_rfr_1 = rfr_1.predict(features_valid_1)\n",
    "r_2_rfr_valid_1 = r2_score(target_valid, valid_pred_rfr_1, multioutput='variance_weighted')\n",
    "print('R2 for RandomForestRegressor: ', r_2_rfr_valid_1)"
   ]
  },
  {
   "cell_type": "markdown",
   "metadata": {},
   "source": [
    "Получается, в данном случае мы не все значимые признаки отобрали. Поэтому оставим количество фичей как было изначально."
   ]
  },
  {
   "cell_type": "markdown",
   "metadata": {},
   "source": [
    "## Шаг 3. Обучение стекинга из нескольких моделей"
   ]
  },
  {
   "cell_type": "code",
   "execution_count": 119,
   "metadata": {},
   "outputs": [],
   "source": [
    "regressor = StackingRegressor(\n",
    "    [   ('lr', Ridge()),                                                       # l2\n",
    "        ('svr', SVR(kernel='linear')),                                         # метод опорных векторов в регрессии\n",
    "        ('dtr', DecisionTreeRegressor(random_state=42)),                       # дерево\n",
    "        ('rfr', RandomForestRegressor(max_depth=10, \n",
    "                                      min_samples_split=8, \n",
    "                                      n_estimators=150, \n",
    "                                      random_state=12345))], LinearRegression())  # лес (возьмем с уже подобранными параметрами)"
   ]
  },
  {
   "cell_type": "code",
   "execution_count": 133,
   "metadata": {},
   "outputs": [
    {
     "data": {
      "text/plain": [
       "StackingRegressor(estimators=[('lr', Ridge()), ('svr', SVR(kernel='linear')),\n",
       "                              ('dtr', DecisionTreeRegressor(random_state=42)),\n",
       "                              ('rfr',\n",
       "                               RandomForestRegressor(max_depth=10,\n",
       "                                                     min_samples_split=8,\n",
       "                                                     n_estimators=150,\n",
       "                                                     random_state=12345))],\n",
       "                  final_estimator=LinearRegression())"
      ]
     },
     "execution_count": 133,
     "metadata": {},
     "output_type": "execute_result"
    }
   ],
   "source": [
    "regressor.fit(features_train, target_train)"
   ]
  },
  {
   "cell_type": "markdown",
   "metadata": {},
   "source": [
    "Сравним показатели:"
   ]
  },
  {
   "cell_type": "code",
   "execution_count": 134,
   "metadata": {},
   "outputs": [
    {
     "name": "stdout",
     "output_type": "stream",
     "text": [
      "R2 Score for Ridge:  0.8670898098795478\n",
      "R2 Score for SVR:  -0.06641676879226821\n",
      "R2 for DecisionTreeRegressor:  0.6935490998628919\n",
      "R2 for RandomForestRegressor:  0.8693184720945613\n",
      "R2 for StackingRegressor:  0.8972709402701522\n"
     ]
    }
   ],
   "source": [
    "r_2_lr = cross_val_score(regressor.named_estimators_['lr'], features_valid, target_valid, scoring='r2', cv=10).mean()\n",
    "print('R2 Score for Ridge: ', r_2_lr)\n",
    "\n",
    "r_2_svr = cross_val_score(regressor.named_estimators_['svr'], features_valid, target_valid, scoring='r2', cv=10).mean()\n",
    "print('R2 Score for SVR: ', r_2_svr)\n",
    "\n",
    "r_2_dtr = cross_val_score(regressor.named_estimators_['dtr'], features_valid, target_valid, scoring='r2', cv=10).mean()\n",
    "print('R2 for DecisionTreeRegressor: ', r_2_dtr)\n",
    "\n",
    "r_2_rfr = cross_val_score(regressor.named_estimators_['rfr'], features_valid, target_valid, scoring='r2', cv=10).mean()  \n",
    "print('R2 for RandomForestRegressor: ', r_2_rfr)\n",
    "\n",
    "r_2_regression = cross_val_score(regressor, features_valid, target_valid, scoring='r2', cv=10).mean()  \n",
    "print('R2 for StackingRegressor: ', r_2_regression)\n",
    "\n",
    "result = pd.DataFrame()\n",
    "\n",
    "result['Model'] = ['Ridge', 'SVR', 'DecisionTreeRegressor', 'RandomForestRegressor', 'StackingRegressor']\n",
    "result['R2'] = [r_2_lr, r_2_svr, r_2_dtr, r_2_rfr, r_2_regression]"
   ]
  },
  {
   "cell_type": "markdown",
   "metadata": {},
   "source": [
    "Построим гистограмму и посмотрим, показатель какой модели лучше:"
   ]
  },
  {
   "cell_type": "code",
   "execution_count": 135,
   "metadata": {},
   "outputs": [
    {
     "data": {
      "image/png": "[encoded data removed]",
      "text/plain": [
       "<Figure size 576x720 with 1 Axes>"
      ]
     },
     "metadata": {},
     "output_type": "display_data"
    }
   ],
   "source": [
    "sns.barplot(x='Model', y='R2', data=result)\n",
    "plt.tick_params(axis='x', rotation=45)"
   ]
  },
  {
   "cell_type": "markdown",
   "metadata": {},
   "source": [
    "Модель SVR показала отрицательный результат. Уберем его и результат дерева решений и посмотрим снова:"
   ]
  },
  {
   "cell_type": "code",
   "execution_count": 136,
   "metadata": {},
   "outputs": [
    {
     "data": {
      "text/html": [
       "<div>\n",
       "<style scoped>\n",
       "    .dataframe tbody tr th:only-of-type {\n",
       "        vertical-align: middle;\n",
       "    }\n",
       "\n",
       "    .dataframe tbody tr th {\n",
       "        vertical-align: top;\n",
       "    }\n",
       "\n",
       "    .dataframe thead th {\n",
       "        text-align: right;\n",
       "    }\n",
       "</style>\n",
       "<table border=\"1\" class=\"dataframe\">\n",
       "  <thead>\n",
       "    <tr style=\"text-align: right;\">\n",
       "      <th></th>\n",
       "      <th>Model</th>\n",
       "      <th>R2</th>\n",
       "    </tr>\n",
       "  </thead>\n",
       "  <tbody>\n",
       "    <tr>\n",
       "      <th>0</th>\n",
       "      <td>Ridge</td>\n",
       "      <td>0.867090</td>\n",
       "    </tr>\n",
       "    <tr>\n",
       "      <th>3</th>\n",
       "      <td>RandomForestRegressor</td>\n",
       "      <td>0.869318</td>\n",
       "    </tr>\n",
       "    <tr>\n",
       "      <th>4</th>\n",
       "      <td>StackingRegressor</td>\n",
       "      <td>0.897271</td>\n",
       "    </tr>\n",
       "  </tbody>\n",
       "</table>\n",
       "</div>"
      ],
      "text/plain": [
       "                   Model        R2\n",
       "0                  Ridge  0.867090\n",
       "3  RandomForestRegressor  0.869318\n",
       "4      StackingRegressor  0.897271"
      ]
     },
     "execution_count": 136,
     "metadata": {},
     "output_type": "execute_result"
    }
   ],
   "source": [
    "result = result[(result['Model'] != 'SVR') & (result['Model'] != 'DecisionTreeRegressor')]\n",
    "result"
   ]
  },
  {
   "cell_type": "code",
   "execution_count": 137,
   "metadata": {},
   "outputs": [
    {
     "data": {
      "image/png": "[encoded data removed]",
      "text/plain": [
       "<Figure size 576x720 with 1 Axes>"
      ]
     },
     "metadata": {},
     "output_type": "display_data"
    }
   ],
   "source": [
    "sns.barplot(x='Model', y='R2', data=result)\n",
    "plt.tick_params(axis='x', rotation=45)"
   ]
  },
  {
   "cell_type": "markdown",
   "metadata": {},
   "source": [
    "Теперь видно, что ансамблевая модель показала лучший результат."
   ]
  },
  {
   "cell_type": "markdown",
   "metadata": {},
   "source": [
    "Итак, получается, стекинг моделей \"вытянули\" случайный лес и линейная модель с регуляризацией l2."
   ]
  },
  {
   "cell_type": "markdown",
   "metadata": {},
   "source": [
    "И R2 на валидации:"
   ]
  },
  {
   "cell_type": "code",
   "execution_count": 153,
   "metadata": {},
   "outputs": [
    {
     "name": "stdout",
     "output_type": "stream",
     "text": [
      "R2 for StackingRegressor:  0.9170370562519115\n"
     ]
    }
   ],
   "source": [
    "valid_pred_regr = regressor.predict(features_valid)\n",
    "r_2_regression_valid = r2_score(target_valid, valid_pred_regr, multioutput='variance_weighted')\n",
    "print('R2 for StackingRegressor: ', r_2_regression_valid)"
   ]
  },
  {
   "cell_type": "markdown",
   "metadata": {},
   "source": [
    "## Шаг 4. Проверка работы модели на тестовой выборке:"
   ]
  },
  {
   "cell_type": "markdown",
   "metadata": {},
   "source": [
    "Модель случайного леса:"
   ]
  },
  {
   "cell_type": "code",
   "execution_count": 152,
   "metadata": {},
   "outputs": [
    {
     "name": "stdout",
     "output_type": "stream",
     "text": [
      "R2 for RandomForestRegressor:  0.88403913159743\n"
     ]
    }
   ],
   "source": [
    "pred_rfr = rfr.predict(features_test)\n",
    "r_2_rfr_test = r2_score(target_test, pred_rfr, multioutput='variance_weighted')\n",
    "print('R2 for RandomForestRegressor: ', r_2_rfr_test)"
   ]
  },
  {
   "cell_type": "markdown",
   "metadata": {},
   "source": [
    "Стекинг моделей:"
   ]
  },
  {
   "cell_type": "code",
   "execution_count": 151,
   "metadata": {},
   "outputs": [
    {
     "name": "stdout",
     "output_type": "stream",
     "text": [
      "R2 for StackingRegressor:  0.8950503509445106\n"
     ]
    }
   ],
   "source": [
    "pred_regr = regressor.predict(features_test)\n",
    "r_2_regression_test = r2_score(target_test, pred_regr, multioutput='variance_weighted')\n",
    "print('R2 for StackingRegressor: ', r_2_regression_test)"
   ]
  },
  {
   "cell_type": "markdown",
   "metadata": {},
   "source": [
    "Теперь очень хорошо видно, что стекинг моделей справился с заданием лучше, чем ансамблевая модель \"случайный лес\".  \n",
    "При этом отметим, что ни модель случайного леса, ни стекинг не переобучились."
   ]
  },
  {
   "cell_type": "markdown",
   "metadata": {},
   "source": [
    "## Выводы"
   ]
  },
  {
   "cell_type": "markdown",
   "metadata": {},
   "source": [
    "Таким образом, в данной работе реализованы следующие задачи:  \n",
    "    - осуществлена предобработка данных: все пропуски заменены подходящими значениями, данные имеют нужный тип, отмасштабированы и перекодированы.  \n",
    "    - выборка разделена на 3 части, чтобы осуществить проверку работы моделей на отдельном hold-out датасете.  \n",
    "    - построена модель случайного леса, подобраны гиперпараметры, выведены наиболее важные признаки. Качество модели проверено с помощью cross_val_score.    \n",
    "    - обучен стекинг 4 моделей; использованы 2 линейные и 2 нелинейные модели.     \n",
    "    \n",
    "В итоге эксперимента оказалось, что стекинговая модель лучше справилась с задачей предсказания стоимости недвижимости. Это видно и на валидации, и на тесте. При этом наиболее значимым стало предсказание модели случайного леса в стекинге."
   ]
  },
  {
   "cell_type": "code",
   "execution_count": null,
   "metadata": {},
   "outputs": [],
   "source": []
  }
 ],
 "metadata": {
  "kernelspec": {
   "display_name": "Python 3",
   "language": "python",
   "name": "python3"
  },
  "language_info": {
   "codemirror_mode": {
    "name": "ipython",
    "version": 3
   },
   "file_extension": ".py",
   "mimetype": "text/x-python",
   "name": "python",
   "nbconvert_exporter": "python",
   "pygments_lexer": "ipython3",
   "version": "3.8.6"
  }
 },
 "nbformat": 4,
 "nbformat_minor": 1
}

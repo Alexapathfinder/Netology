{
  "nbformat": 4,
  "nbformat_minor": 0,
  "metadata": {
    "kernelspec": {
      "display_name": "Python 3",
      "language": "python",
      "name": "python3"
    },
    "language_info": {
      "codemirror_mode": {
        "name": "ipython",
        "version": 3
      },
      "file_extension": ".py",
      "mimetype": "text/x-python",
      "name": "python",
      "nbconvert_exporter": "python",
      "pygments_lexer": "ipython3",
      "version": "3.6.4"
    },
    "colab": {
      "name": "HW Intro to NN 4",
      "provenance": [],
      "collapsed_sections": []
    }
  },
  "cells": [
    {
      "cell_type": "code",
      "metadata": {
        "colab": {
          "base_uri": "https://localhost:8080/"
        },
        "id": "U918E6HEvhpF",
        "outputId": "724de6b4-4cc3-4f20-a938-b3b01201b9bd"
      },
      "source": [
        "%tensorflow_version 1.x"
      ],
      "execution_count": 1,
      "outputs": [
        {
          "output_type": "stream",
          "text": [
            "TensorFlow 1.x selected.\n"
          ],
          "name": "stdout"
        }
      ]
    },
    {
      "cell_type": "markdown",
      "metadata": {
        "collapsed": true,
        "id": "l4VAzKlG8aHj"
      },
      "source": [
        "## Neural Part Of Speech Tagging\n",
        "\n",
        "We're now going to solve the same problem of POS tagging with neural networks.\n",
        "<img src=https://i.stack.imgur.com/6pdIT.png width=320>\n",
        "\n",
        "From deep learning perspective, this is a task of predicting a sequence of outputs aligned to a sequence of inputs. There are several problems that match this formulation:\n",
        "* Part Of Speech Tagging -  an auxuliary task for many NLP problems\n",
        "* Named Entity Recognition - for chat bots and web crawlers\n",
        "* Protein structure prediction - for bioinformatics"
      ]
    },
    {
      "cell_type": "code",
      "metadata": {
        "scrolled": true,
        "id": "yxFUBtb88aHq",
        "colab": {
          "base_uri": "https://localhost:8080/"
        },
        "outputId": "339849e3-c610-4668-c7b0-d35c3f17e671"
      },
      "source": [
        "import nltk\n",
        "import sys\n",
        "import numpy as np\n",
        "\n",
        "nltk.download('brown')\n",
        "nltk.download('universal_tagset')\n",
        "data = nltk.corpus.brown.tagged_sents(tagset='universal')\n",
        "all_tags = ['#EOS#','#UNK#','ADV', 'NOUN', 'ADP', 'PRON', 'DET', '.', 'PRT', 'VERB', 'X', 'NUM', 'CONJ', 'ADJ']\n",
        "\n",
        "data = np.array([ [(word.lower(),tag) for word,tag in sentence] for sentence in data ])"
      ],
      "execution_count": 2,
      "outputs": [
        {
          "output_type": "stream",
          "text": [
            "[nltk_data] Downloading package brown to /root/nltk_data...\n",
            "[nltk_data]   Package brown is already up-to-date!\n",
            "[nltk_data] Downloading package universal_tagset to /root/nltk_data...\n",
            "[nltk_data]   Package universal_tagset is already up-to-date!\n"
          ],
          "name": "stdout"
        },
        {
          "output_type": "stream",
          "text": [
            "/usr/local/lib/python3.7/dist-packages/ipykernel_launcher.py:10: VisibleDeprecationWarning: Creating an ndarray from ragged nested sequences (which is a list-or-tuple of lists-or-tuples-or ndarrays with different lengths or shapes) is deprecated. If you meant to do this, you must specify 'dtype=object' when creating the ndarray\n",
            "  # Remove the CWD from sys.path while we load stuff.\n"
          ],
          "name": "stderr"
        }
      ]
    },
    {
      "cell_type": "code",
      "metadata": {
        "id": "Bq_OXuD38aHs"
      },
      "source": [
        "from sklearn.model_selection import train_test_split\n",
        "train_data, test_data = train_test_split(data,test_size=0.25,random_state=42)"
      ],
      "execution_count": 3,
      "outputs": []
    },
    {
      "cell_type": "code",
      "metadata": {
        "id": "sAlXrDmU8aHs",
        "colab": {
          "base_uri": "https://localhost:8080/",
          "height": 155
        },
        "outputId": "1f138001-b441-4f56-e4f8-1992ddb61773"
      },
      "source": [
        "from IPython.display import HTML, display\n",
        "def draw(sentence):\n",
        "    words,tags = zip(*sentence)\n",
        "    display(HTML('<table><tr>{tags}</tr>{words}<tr></table>'.format(\n",
        "                words = '<td>{}</td>'.format('</td><td>'.join(words)),\n",
        "                tags = '<td>{}</td>'.format('</td><td>'.join(tags)))))\n",
        "    \n",
        "    \n",
        "draw(data[11])\n",
        "draw(data[10])\n",
        "draw(data[7])"
      ],
      "execution_count": 4,
      "outputs": [
        {
          "output_type": "display_data",
          "data": {
            "text/html": [
              "<table><tr><td>NOUN</td><td>ADP</td><td>NOUN</td><td>NOUN</td><td>NOUN</td><td>NOUN</td><td>VERB</td><td>ADV</td><td>VERB</td><td>ADP</td><td>DET</td><td>ADJ</td><td>NOUN</td><td>.</td></tr><td>implementation</td><td>of</td><td>georgia's</td><td>automobile</td><td>title</td><td>law</td><td>was</td><td>also</td><td>recommended</td><td>by</td><td>the</td><td>outgoing</td><td>jury</td><td>.</td><tr></table>"
            ],
            "text/plain": [
              "<IPython.core.display.HTML object>"
            ]
          },
          "metadata": {
            "tags": []
          }
        },
        {
          "output_type": "display_data",
          "data": {
            "text/html": [
              "<table><tr><td>PRON</td><td>VERB</td><td>ADP</td><td>DET</td><td>NOUN</td><td>.</td><td>VERB</td><td>NOUN</td><td>PRT</td><td>VERB</td><td>.</td><td>DET</td><td>NOUN</td><td>.</td></tr><td>it</td><td>urged</td><td>that</td><td>the</td><td>city</td><td>``</td><td>take</td><td>steps</td><td>to</td><td>remedy</td><td>''</td><td>this</td><td>problem</td><td>.</td><tr></table>"
            ],
            "text/plain": [
              "<IPython.core.display.HTML object>"
            ]
          },
          "metadata": {
            "tags": []
          }
        },
        {
          "output_type": "display_data",
          "data": {
            "text/html": [
              "<table><tr><td>NOUN</td><td>VERB</td></tr><td>merger</td><td>proposed</td><tr></table>"
            ],
            "text/plain": [
              "<IPython.core.display.HTML object>"
            ]
          },
          "metadata": {
            "tags": []
          }
        }
      ]
    },
    {
      "cell_type": "markdown",
      "metadata": {
        "id": "LAViiL2C8aHt"
      },
      "source": [
        "### Building vocabularies\n",
        "\n",
        "Just like before, we have to build a mapping from tokens to integer ids. This time around, our model operates on a word level, processing one word per RNN step. This means we'll have to deal with far larger vocabulary.\n",
        "\n",
        "Luckily for us, we only receive those words as input i.e. we don't have to predict them. This means we can have a large vocabulary for free by using word embeddings."
      ]
    },
    {
      "cell_type": "code",
      "metadata": {
        "collapsed": true,
        "id": "ZXK_k-mo8aHt",
        "colab": {
          "base_uri": "https://localhost:8080/"
        },
        "outputId": "77a39033-382e-4270-f2ea-7018c434d394"
      },
      "source": [
        "from collections import Counter\n",
        "word_counts = Counter()\n",
        "for sentence in data:\n",
        "    words,tags = zip(*sentence)\n",
        "    word_counts.update(words)\n",
        "\n",
        "all_words = ['#EOS#','#UNK#'] + list(list(zip(*word_counts.most_common(10000)))[0])\n",
        "\n",
        "#let's measure what fraction of data words are in the dictionary\n",
        "print(\"Coverage = %.5f\" % (float(sum(word_counts[w] for w in all_words)) / sum(word_counts.values())))"
      ],
      "execution_count": 5,
      "outputs": [
        {
          "output_type": "stream",
          "text": [
            "Coverage = 0.92876\n"
          ],
          "name": "stdout"
        }
      ]
    },
    {
      "cell_type": "code",
      "metadata": {
        "collapsed": true,
        "id": "T0hee8L88aHt"
      },
      "source": [
        "from collections import defaultdict\n",
        "word_to_id = defaultdict(lambda:1, { word: i for i, word in enumerate(all_words) })\n",
        "tag_to_id = { tag: i for i, tag in enumerate(all_tags)}"
      ],
      "execution_count": 6,
      "outputs": []
    },
    {
      "cell_type": "markdown",
      "metadata": {
        "id": "RCmGbwpP8aHu"
      },
      "source": [
        "convert words and tags into fixed-size matrix"
      ]
    },
    {
      "cell_type": "code",
      "metadata": {
        "collapsed": true,
        "id": "X7kx6jWn8aHu"
      },
      "source": [
        "def to_matrix(lines, token_to_id, max_len=None, pad=0, dtype='int32', time_major=False):\n",
        "    \"\"\"Converts a list of names into rnn-digestable matrix with paddings added after the end\"\"\"\n",
        "    \n",
        "    max_len = max_len or max(map(len,lines))\n",
        "    matrix = np.empty([len(lines), max_len],dtype)\n",
        "    matrix.fill(pad)\n",
        "\n",
        "    for i in range(len(lines)):\n",
        "        line_ix = list(map(token_to_id.__getitem__,lines[i]))[:max_len]\n",
        "        matrix[i,:len(line_ix)] = line_ix\n",
        "\n",
        "    return matrix.T if time_major else matrix\n",
        "\n"
      ],
      "execution_count": 7,
      "outputs": []
    },
    {
      "cell_type": "code",
      "metadata": {
        "collapsed": true,
        "id": "BCaE-i5u8aHu",
        "colab": {
          "base_uri": "https://localhost:8080/"
        },
        "outputId": "3b415531-bd48-474f-ceaa-8eb1e18cf91e"
      },
      "source": [
        "batch_words, batch_tags = zip(*[zip(*sentence) for sentence in data[-3:]])\n",
        "\n",
        "print(\"Word ids:\")\n",
        "print(to_matrix(batch_words, word_to_id))\n",
        "print(\"Tag ids:\")\n",
        "print(to_matrix(batch_tags, tag_to_id))"
      ],
      "execution_count": 8,
      "outputs": [
        {
          "output_type": "stream",
          "text": [
            "Word ids:\n",
            "[[   2 3057    5    2 2238 1334 4238 2454    3    6   19   26 1070   69\n",
            "     8 2088    6    3    1    3  266   65  342    2    1    3    2  315\n",
            "     1    9   87  216 3322   69 1558    4    0    0    0    0    0    0\n",
            "     0    0    0    0    0    0    0    0    0    0    0]\n",
            " [  45   12    8  511 8419    6   60 3246   39    2    1    1    3    2\n",
            "   845    1    3    1    3   10 9910    2    1 3470    9   43    1    1\n",
            "     3    6    2 1046  385   73 4562    3    9    2    1    1 3250    3\n",
            "    12   10    2  861 5240   12    8 8936  121    1    4]\n",
            " [  33   64   26   12  445    7 7346    9    8 3337    3    1 2811    3\n",
            "     2  463  572    2    1    1 1649   12    1    4    0    0    0    0\n",
            "     0    0    0    0    0    0    0    0    0    0    0    0    0    0\n",
            "     0    0    0    0    0    0    0    0    0    0    0]]\n",
            "Tag ids:\n",
            "[[ 6  3  4  6  3  3  9  9  7 12  4  5  9  4  6  3 12  7  9  7  9  8  4  6\n",
            "   3  7  6 13  3  4  6  3  9  4  3  7  0  0  0  0  0  0  0  0  0  0  0  0\n",
            "   0  0  0  0  0]\n",
            " [ 5  9  6  9  3 12  6  3  7  6 13  3  7  6 13  3  7 13  7  5  9  6  3  3\n",
            "   4  6 13  3  7 12  6  3  6 13  3  7  4  6  3  9  3  7  9  4  6 13  3  9\n",
            "   6  3  2 13  7]\n",
            " [ 4  6  5  9 13  4  3  4  6 13  7 13  3  7  6  3  4  6 13  3  3  9  9  7\n",
            "   0  0  0  0  0  0  0  0  0  0  0  0  0  0  0  0  0  0  0  0  0  0  0  0\n",
            "   0  0  0  0  0]]\n"
          ],
          "name": "stdout"
        }
      ]
    },
    {
      "cell_type": "markdown",
      "metadata": {
        "collapsed": true,
        "id": "_oK_i5Xa8aHv"
      },
      "source": [
        "### Build model\n",
        "\n",
        "Unlike our previous lab, this time we'll focus on a high-level keras interface to recurrent neural networks. It is as simple as you can get with RNN, allbeit somewhat constraining for complex tasks like seq2seq.\n",
        "\n",
        "By default, all keras RNNs apply to a whole sequence of inputs and produce a sequence of hidden states `(return_sequences=True` or just the last hidden state `(return_sequences=False)`. All the recurrence is happening under the hood.\n",
        "\n",
        "At the top of our model we need to apply a Dense layer to each time-step independently. As of now, by default keras.layers.Dense would apply once to all time-steps concatenated. We use __keras.layers.TimeDistributed__ to modify Dense layer so that it would apply across both batch and time axes."
      ]
    },
    {
      "cell_type": "code",
      "metadata": {
        "id": "OQeb8d5j8aHv",
        "colab": {
          "base_uri": "https://localhost:8080/"
        },
        "outputId": "1d79ee3e-a263-4abd-e151-61a67e43bc95"
      },
      "source": [
        "import keras\n",
        "import keras.layers as L\n",
        "\n",
        "model = keras.models.Sequential()\n",
        "model.add(L.InputLayer([None],dtype='int32'))\n",
        "model.add(L.Embedding(len(all_words),50))\n",
        "model.add(L.SimpleRNN(64,return_sequences=True))\n",
        "\n",
        "#add top layer that predicts tag probabilities\n",
        "stepwise_dense = L.Dense(len(all_tags),activation='softmax')\n",
        "stepwise_dense = L.TimeDistributed(stepwise_dense)\n",
        "model.add(stepwise_dense)"
      ],
      "execution_count": 9,
      "outputs": [
        {
          "output_type": "stream",
          "text": [
            "Using TensorFlow backend.\n"
          ],
          "name": "stderr"
        },
        {
          "output_type": "stream",
          "text": [
            "WARNING:tensorflow:From /tensorflow-1.15.2/python3.7/tensorflow_core/python/ops/resource_variable_ops.py:1630: calling BaseResourceVariable.__init__ (from tensorflow.python.ops.resource_variable_ops) with constraint is deprecated and will be removed in a future version.\n",
            "Instructions for updating:\n",
            "If using Keras pass *_constraint arguments to layers.\n"
          ],
          "name": "stdout"
        }
      ]
    },
    {
      "cell_type": "markdown",
      "metadata": {
        "id": "lQbJqM2n8aHv"
      },
      "source": [
        "__Training:__ in this case we don't want to prepare the whole training dataset in advance. The main cause is that the length of every batch depends on the maximum sentence length within the batch. This leaves us two options: use custom training code as in previous seminar or use generators.\n",
        "\n",
        "Keras models have a __`model.fit_generator`__ method that accepts a python generator yielding one batch at a time. But first we need to implement such generator:"
      ]
    },
    {
      "cell_type": "code",
      "metadata": {
        "collapsed": true,
        "id": "kpeMsDi18aHw"
      },
      "source": [
        "from keras.utils.np_utils import to_categorical\n",
        "BATCH_SIZE=32\n",
        "def generate_batches(sentences,batch_size=BATCH_SIZE,max_len=None,pad=0):\n",
        "    assert isinstance(sentences,np.ndarray),\"Make sure sentences is q numpy array\"\n",
        "    \n",
        "    while True:\n",
        "        indices = np.random.permutation(np.arange(len(sentences)))\n",
        "        for start in range(0,len(indices)-1,batch_size):\n",
        "            batch_indices = indices[start:start+batch_size]\n",
        "            batch_words,batch_tags = [],[]\n",
        "            for sent in sentences[batch_indices]:\n",
        "                words,tags = zip(*sent)\n",
        "                batch_words.append(words)\n",
        "                batch_tags.append(tags)\n",
        "\n",
        "            batch_words = to_matrix(batch_words,word_to_id,max_len,pad)\n",
        "            batch_tags = to_matrix(batch_tags,tag_to_id,max_len,pad)\n",
        "\n",
        "            batch_tags_1hot = to_categorical(batch_tags,len(all_tags)).reshape(batch_tags.shape+(-1,))\n",
        "            yield batch_words,batch_tags_1hot\n",
        "        "
      ],
      "execution_count": 10,
      "outputs": []
    },
    {
      "cell_type": "code",
      "metadata": {
        "colab": {
          "base_uri": "https://localhost:8080/"
        },
        "id": "JhKCe75UdTTO",
        "outputId": "23361da0-f5ed-47aa-e508-3160c9640641"
      },
      "source": [
        "g = generate_batches(train_data)\n",
        "next(g)[1].shape"
      ],
      "execution_count": null,
      "outputs": [
        {
          "output_type": "execute_result",
          "data": {
            "text/plain": [
              "(32, 62, 14)"
            ]
          },
          "metadata": {
            "tags": []
          },
          "execution_count": 11
        }
      ]
    },
    {
      "cell_type": "markdown",
      "metadata": {
        "id": "zYoR9vgn8aHw"
      },
      "source": [
        "__Callbacks:__ Another thing we need is to measure model performance. The tricky part is not to count accuracy after sentence ends (on padding) and making sure we count all the validation data exactly once.\n",
        "\n",
        "While it isn't impossible to persuade Keras to do all of that, we may as well write our own callback that does that.\n",
        "Keras callbacks allow you to write a custom code to be ran once every epoch or every minibatch. We'll define one via LambdaCallback"
      ]
    },
    {
      "cell_type": "code",
      "metadata": {
        "collapsed": true,
        "id": "CC8woNtV8aHx"
      },
      "source": [
        "def compute_test_accuracy(model):\n",
        "    test_words,test_tags = zip(*[zip(*sentence) for sentence in test_data])\n",
        "    test_words,test_tags = to_matrix(test_words,word_to_id),to_matrix(test_tags,tag_to_id)\n",
        "\n",
        "    #predict tag probabilities of shape [batch,time,n_tags]\n",
        "    predicted_tag_probabilities = model.predict(test_words,verbose=1)\n",
        "    predicted_tags = predicted_tag_probabilities.argmax(axis=-1)\n",
        "\n",
        "    #compute accurary excluding padding\n",
        "    numerator = np.sum(np.logical_and((predicted_tags == test_tags),(test_words != 0)))\n",
        "    denominator = np.sum(test_words != 0)\n",
        "    return float(numerator)/denominator\n",
        "\n",
        "\n",
        "class EvaluateAccuracy(keras.callbacks.Callback):\n",
        "    def on_epoch_end(self,epoch,logs=None):\n",
        "        sys.stdout.flush()\n",
        "        print(\"\\nMeasuring validation accuracy...\")\n",
        "        acc = compute_test_accuracy(self.model)\n",
        "        print(\"\\nValidation accuracy: %.5f\\n\"%acc)\n",
        "        sys.stdout.flush()\n",
        "        "
      ],
      "execution_count": 11,
      "outputs": []
    },
    {
      "cell_type": "code",
      "metadata": {
        "collapsed": true,
        "id": "5eJGEWu58aHx",
        "colab": {
          "base_uri": "https://localhost:8080/"
        },
        "outputId": "3b508c64-edb3-47dc-e746-bb5469b957db"
      },
      "source": [
        "model.compile('adam','categorical_crossentropy')\n",
        "\n",
        "model.fit_generator(generate_batches(train_data),len(train_data)/BATCH_SIZE,\n",
        "                    callbacks=[EvaluateAccuracy()], epochs=5,)"
      ],
      "execution_count": 12,
      "outputs": [
        {
          "output_type": "stream",
          "text": [
            "WARNING:tensorflow:From /tensorflow-1.15.2/python3.7/tensorflow_core/python/ops/math_grad.py:1424: where (from tensorflow.python.ops.array_ops) is deprecated and will be removed in a future version.\n",
            "Instructions for updating:\n",
            "Use tf.where in 2.0, which has the same broadcast rule as np.where\n",
            "WARNING:tensorflow:From /tensorflow-1.15.2/python3.7/keras/backend/tensorflow_backend.py:422: The name tf.global_variables is deprecated. Please use tf.compat.v1.global_variables instead.\n",
            "\n",
            "Epoch 1/5\n",
            "1344/1343 [==============================] - 29s 21ms/step - loss: 0.2444\n",
            "\n",
            "Measuring validation accuracy...\n",
            "14335/14335 [==============================] - 5s 327us/step\n",
            "\n",
            "Validation accuracy: 0.94083\n",
            "\n",
            "Epoch 2/5\n",
            "1344/1343 [==============================] - 30s 22ms/step - loss: 0.0575\n",
            "\n",
            "Measuring validation accuracy...\n",
            "14335/14335 [==============================] - 5s 335us/step\n",
            "\n",
            "Validation accuracy: 0.94452\n",
            "\n",
            "Epoch 3/5\n",
            "1344/1343 [==============================] - 30s 22ms/step - loss: 0.0513\n",
            "\n",
            "Measuring validation accuracy...\n",
            "14335/14335 [==============================] - 5s 330us/step\n",
            "\n",
            "Validation accuracy: 0.94654\n",
            "\n",
            "Epoch 4/5\n",
            "1344/1343 [==============================] - 29s 21ms/step - loss: 0.0467\n",
            "\n",
            "Measuring validation accuracy...\n",
            "14335/14335 [==============================] - 5s 337us/step\n",
            "\n",
            "Validation accuracy: 0.94577\n",
            "\n",
            "Epoch 5/5\n",
            "1344/1343 [==============================] - 30s 22ms/step - loss: 0.0427\n",
            "\n",
            "Measuring validation accuracy...\n",
            "14335/14335 [==============================] - 5s 344us/step\n",
            "\n",
            "Validation accuracy: 0.94634\n",
            "\n"
          ],
          "name": "stdout"
        },
        {
          "output_type": "execute_result",
          "data": {
            "text/plain": [
              "<keras.callbacks.callbacks.History at 0x7f2405a50e10>"
            ]
          },
          "metadata": {
            "tags": []
          },
          "execution_count": 12
        }
      ]
    },
    {
      "cell_type": "markdown",
      "metadata": {
        "id": "TTN7C34V8aHy"
      },
      "source": [
        "Measure final accuracy on the whole test set."
      ]
    },
    {
      "cell_type": "code",
      "metadata": {
        "collapsed": true,
        "id": "tHgxnYB68aHy",
        "colab": {
          "base_uri": "https://localhost:8080/"
        },
        "outputId": "be27ff80-68b7-4ec4-95c7-4cf98684b00e"
      },
      "source": [
        "acc = compute_test_accuracy(model)\n",
        "print(\"Final accuracy: %.5f\"%acc)\n",
        "\n",
        "assert acc>0.94, \"Keras has gone on a rampage again, please contact course staff.\""
      ],
      "execution_count": null,
      "outputs": [
        {
          "output_type": "stream",
          "text": [
            "14335/14335 [==============================] - 4s 307us/step\n",
            "Final accuracy: 0.94618\n"
          ],
          "name": "stdout"
        }
      ]
    },
    {
      "cell_type": "markdown",
      "metadata": {
        "id": "5L5Prr4I8aHy"
      },
      "source": [
        "### Going bidirectional\n",
        "\n",
        "Since we're analyzing a full sequence, it's legal for us to look into future data.\n",
        "\n",
        "A simple way to achieve that is to go both directions at once, making a __bidirectional RNN__.\n",
        "\n",
        "In Keras you can achieve that both manually (using two LSTMs and Concatenate) and by using __`keras.layers.Bidirectional`__. \n",
        "\n",
        "This one works just as `TimeDistributed` we saw before: you wrap it around a recurrent layer (SimpleRNN now and LSTM/GRU later) and it actually creates two layers under the hood.\n",
        "\n",
        "Your first task is to use such a layer our POS-tagger."
      ]
    },
    {
      "cell_type": "code",
      "metadata": {
        "collapsed": true,
        "id": "xWfCrbh-8aHy"
      },
      "source": [
        "#Define a model that utilizes bidirectional SimpleRNN\n",
        "model = keras.models.Sequential()\n",
        "\n",
        "model.add(L.InputLayer([None],dtype='int32'))\n",
        "model.add(L.Embedding(len(all_words),50))\n",
        "model.add(L.Bidirectional(L.SimpleRNN(64,return_sequences=True)))\n",
        "stepwise_dense = L.Dense(len(all_tags),activation='softmax')\n",
        "stepwise_dense = L.TimeDistributed(stepwise_dense)\n",
        "model.add(stepwise_dense)"
      ],
      "execution_count": 18,
      "outputs": []
    },
    {
      "cell_type": "code",
      "metadata": {
        "collapsed": true,
        "id": "Ort64W348aHz",
        "colab": {
          "base_uri": "https://localhost:8080/"
        },
        "outputId": "97cbea69-1f8e-408a-bfe6-525a55661124"
      },
      "source": [
        "model.compile('adam','categorical_crossentropy')\n",
        "\n",
        "model.fit_generator(generate_batches(train_data),len(train_data)/BATCH_SIZE,\n",
        "                    callbacks=[EvaluateAccuracy()], epochs=5,)"
      ],
      "execution_count": 19,
      "outputs": [
        {
          "output_type": "stream",
          "text": [
            "Epoch 1/5\n",
            "1344/1343 [==============================] - 44s 33ms/step - loss: 0.1877\n",
            "\n",
            "Measuring validation accuracy...\n",
            "14335/14335 [==============================] - 9s 632us/step\n",
            "\n",
            "Validation accuracy: 0.95727\n",
            "\n",
            "Epoch 2/5\n",
            "1344/1343 [==============================] - 44s 33ms/step - loss: 0.0420\n",
            "\n",
            "Measuring validation accuracy...\n",
            "14335/14335 [==============================] - 8s 586us/step\n",
            "\n",
            "Validation accuracy: 0.96057\n",
            "\n",
            "Epoch 3/5\n",
            "1344/1343 [==============================] - 44s 33ms/step - loss: 0.0348\n",
            "\n",
            "Measuring validation accuracy...\n",
            "14335/14335 [==============================] - 8s 581us/step\n",
            "\n",
            "Validation accuracy: 0.96261\n",
            "\n",
            "Epoch 4/5\n",
            "1344/1343 [==============================] - 44s 33ms/step - loss: 0.0295\n",
            "\n",
            "Measuring validation accuracy...\n",
            "14335/14335 [==============================] - 8s 580us/step\n",
            "\n",
            "Validation accuracy: 0.96184\n",
            "\n",
            "Epoch 5/5\n",
            "1344/1343 [==============================] - 44s 33ms/step - loss: 0.0247\n",
            "\n",
            "Measuring validation accuracy...\n",
            "14335/14335 [==============================] - 9s 595us/step\n",
            "\n",
            "Validation accuracy: 0.96107\n",
            "\n"
          ],
          "name": "stdout"
        },
        {
          "output_type": "execute_result",
          "data": {
            "text/plain": [
              "<keras.callbacks.callbacks.History at 0x7f23fbca5dd0>"
            ]
          },
          "metadata": {
            "tags": []
          },
          "execution_count": 19
        }
      ]
    },
    {
      "cell_type": "code",
      "metadata": {
        "collapsed": true,
        "id": "iWHSkF648aHz",
        "colab": {
          "base_uri": "https://localhost:8080/"
        },
        "outputId": "02efc0fe-d61a-42da-e0fc-b5a7b2e7239d"
      },
      "source": [
        "acc = compute_test_accuracy(model)\n",
        "print(\"\\nFinal accuracy: %.5f\"%acc)\n",
        "\n",
        "assert acc>0.96, \"Bidirectional RNNs are better than this!\"\n",
        "print(\"Well done!\")"
      ],
      "execution_count": 20,
      "outputs": [
        {
          "output_type": "stream",
          "text": [
            "14335/14335 [==============================] - 8s 583us/step\n",
            "\n",
            "Final accuracy: 0.96107\n",
            "Well done!\n"
          ],
          "name": "stdout"
        }
      ]
    },
    {
      "cell_type": "markdown",
      "metadata": {
        "id": "VW_nFppS8aH0"
      },
      "source": [
        "Task I: Structured loss functions (more bonus points)\n",
        "\n",
        "Since we're tagging the whole sequence at once, we might as well train our network to do so. Remember linear CRF from the lecture? You can also use it as a loss function for your RNN\n",
        "\n",
        "\n",
        "  * There's more than one way to do so, but we'd recommend starting with [Conditional Random Fields](http://blog.echen.me/2012/01/03/introduction-to-conditional-random-fields/)\n",
        "  * You can plug CRF as a loss function and still train by backprop. There's even some neat tensorflow [implementation](https://www.tensorflow.org/api_guides/python/contrib.crf) for you.\n",
        "  * Alternatively, you can condition your model on previous tags (make it autoregressive) and perform __beam search__ over that model."
      ]
    },
    {
      "cell_type": "code",
      "metadata": {
        "colab": {
          "base_uri": "https://localhost:8080/"
        },
        "id": "M7t3QunES0t2",
        "outputId": "6564b57e-0fb5-4953-9319-83c63a922b24"
      },
      "source": [
        "pip install git+https://www.github.com/keras-team/keras-contrib.git"
      ],
      "execution_count": 13,
      "outputs": [
        {
          "output_type": "stream",
          "text": [
            "Collecting git+https://www.github.com/keras-team/keras-contrib.git\n",
            "  Cloning https://www.github.com/keras-team/keras-contrib.git to /tmp/pip-req-build-skin3bg4\n",
            "  Running command git clone -q https://www.github.com/keras-team/keras-contrib.git /tmp/pip-req-build-skin3bg4\n",
            "Requirement already satisfied (use --upgrade to upgrade): keras-contrib==2.0.8 from git+https://www.github.com/keras-team/keras-contrib.git in /usr/local/lib/python3.7/dist-packages\n",
            "Requirement already satisfied: keras in /tensorflow-1.15.2/python3.7 (from keras-contrib==2.0.8) (2.3.1)\n",
            "Requirement already satisfied: keras-applications>=1.0.6 in /tensorflow-1.15.2/python3.7 (from keras->keras-contrib==2.0.8) (1.0.8)\n",
            "Requirement already satisfied: six>=1.9.0 in /usr/local/lib/python3.7/dist-packages (from keras->keras-contrib==2.0.8) (1.15.0)\n",
            "Requirement already satisfied: numpy>=1.9.1 in /usr/local/lib/python3.7/dist-packages (from keras->keras-contrib==2.0.8) (1.19.5)\n",
            "Requirement already satisfied: scipy>=0.14 in /usr/local/lib/python3.7/dist-packages (from keras->keras-contrib==2.0.8) (1.4.1)\n",
            "Requirement already satisfied: pyyaml in /usr/local/lib/python3.7/dist-packages (from keras->keras-contrib==2.0.8) (3.13)\n",
            "Requirement already satisfied: h5py in /usr/local/lib/python3.7/dist-packages (from keras->keras-contrib==2.0.8) (2.10.0)\n",
            "Requirement already satisfied: keras-preprocessing>=1.0.5 in /usr/local/lib/python3.7/dist-packages (from keras->keras-contrib==2.0.8) (1.1.2)\n",
            "Building wheels for collected packages: keras-contrib\n",
            "  Building wheel for keras-contrib (setup.py) ... \u001b[?25l\u001b[?25hdone\n",
            "  Created wheel for keras-contrib: filename=keras_contrib-2.0.8-cp37-none-any.whl size=101065 sha256=f166d6ca9b378e79a510182d2aeeb86c1db42e373e505c8eb82205c51c353d4b\n",
            "  Stored in directory: /tmp/pip-ephem-wheel-cache-2uzxyx8s/wheels/11/27/c8/4ed56de7b55f4f61244e2dc6ef3cdbaff2692527a2ce6502ba\n",
            "Successfully built keras-contrib\n"
          ],
          "name": "stdout"
        }
      ]
    },
    {
      "cell_type": "code",
      "metadata": {
        "id": "uXEj1Nm98aH0"
      },
      "source": [
        "from keras_contrib.layers import CRF\n",
        "from keras_contrib.losses import crf_loss\n",
        "from keras_contrib.metrics import crf_accuracy"
      ],
      "execution_count": 14,
      "outputs": []
    },
    {
      "cell_type": "code",
      "metadata": {
        "colab": {
          "base_uri": "https://localhost:8080/"
        },
        "id": "y9ThoVCDwODW",
        "outputId": "a517f1e5-06da-4796-93d9-b0d6592bf297"
      },
      "source": [
        "model = keras.models.Sequential()\n",
        "model.add(L.InputLayer([None],dtype='int32'))\n",
        "model.add(L.Embedding(len(all_words),50))\n",
        "model.add(L.Bidirectional(L.SimpleRNN(64,return_sequences=True)))\n",
        "stepwise_dense = L.Dense(len(all_tags),activation='softmax')\n",
        "stepwise_dense = L.TimeDistributed(stepwise_dense)\n",
        "model.add(stepwise_dense)\n",
        "crf = CRF(len(all_tags))  # CRF layer\n",
        "model.add(crf)\n",
        "\n",
        "model.compile(optimizer=\"adam\", loss=crf.loss_function, metrics=[crf.accuracy])\n",
        "model.summary()"
      ],
      "execution_count": null,
      "outputs": [
        {
          "output_type": "stream",
          "text": [
            "/usr/local/lib/python3.7/dist-packages/keras_contrib/layers/crf.py:346: UserWarning: CRF.loss_function is deprecated and it might be removed in the future. Please use losses.crf_loss instead.\n",
            "  warnings.warn('CRF.loss_function is deprecated '\n",
            "/usr/local/lib/python3.7/dist-packages/keras_contrib/layers/crf.py:353: UserWarning: CRF.accuracy is deprecated and it might be removed in the future. Please use metrics.crf_accuracy\n",
            "  warnings.warn('CRF.accuracy is deprecated and it '\n"
          ],
          "name": "stderr"
        },
        {
          "output_type": "stream",
          "text": [
            "Model: \"sequential_12\"\n",
            "_________________________________________________________________\n",
            "Layer (type)                 Output Shape              Param #   \n",
            "=================================================================\n",
            "embedding_11 (Embedding)     (None, None, 50)          500100    \n",
            "_________________________________________________________________\n",
            "bidirectional_18 (Bidirectio (None, None, 128)         14720     \n",
            "_________________________________________________________________\n",
            "time_distributed_12 (TimeDis (None, None, 14)          1806      \n",
            "_________________________________________________________________\n",
            "crf_9 (CRF)                  (None, None, 14)          434       \n",
            "=================================================================\n",
            "Total params: 517,060\n",
            "Trainable params: 517,060\n",
            "Non-trainable params: 0\n",
            "_________________________________________________________________\n"
          ],
          "name": "stdout"
        }
      ]
    },
    {
      "cell_type": "code",
      "metadata": {
        "colab": {
          "base_uri": "https://localhost:8080/"
        },
        "id": "RO0IvK9pwYHF",
        "outputId": "cf75a5df-b2ec-4209-e14c-65246b26ef9a"
      },
      "source": [
        "model.fit_generator(generate_batches(train_data),len(train_data)/BATCH_SIZE,\n",
        "                    callbacks=[EvaluateAccuracy()], epochs=20,)"
      ],
      "execution_count": null,
      "outputs": [
        {
          "output_type": "stream",
          "text": [
            "Epoch 1/20\n",
            "1344/1343 [==============================] - 100s 75ms/step - loss: 0.9344 - crf_viterbi_accuracy: 0.7834\n",
            "\n",
            "Measuring validation accuracy...\n",
            "14335/14335 [==============================] - 32s 2ms/step\n",
            "\n",
            "Validation accuracy: 0.60640\n",
            "\n",
            "Epoch 2/20\n",
            "1344/1343 [==============================] - 100s 75ms/step - loss: 0.3907 - crf_viterbi_accuracy: 0.8636\n",
            "\n",
            "Measuring validation accuracy...\n",
            "14335/14335 [==============================] - 32s 2ms/step\n",
            "\n",
            "Validation accuracy: 0.71483\n",
            "\n",
            "Epoch 3/20\n",
            "1344/1343 [==============================] - 100s 75ms/step - loss: 0.2746 - crf_viterbi_accuracy: 0.9035\n",
            "\n",
            "Measuring validation accuracy...\n",
            "14335/14335 [==============================] - 32s 2ms/step\n",
            "\n",
            "Validation accuracy: 0.75804\n",
            "\n",
            "Epoch 4/20\n",
            "1344/1343 [==============================] - 105s 78ms/step - loss: 0.2305 - crf_viterbi_accuracy: 0.9189\n",
            "\n",
            "Measuring validation accuracy...\n",
            "14335/14335 [==============================] - 33s 2ms/step\n",
            "\n",
            "Validation accuracy: 0.83016\n",
            "\n",
            "Epoch 5/20\n",
            "1344/1343 [==============================] - 104s 78ms/step - loss: 0.1704 - crf_viterbi_accuracy: 0.9533\n",
            "\n",
            "Measuring validation accuracy...\n",
            "14335/14335 [==============================] - 32s 2ms/step\n",
            "\n",
            "Validation accuracy: 0.88746\n",
            "\n",
            "Epoch 6/20\n",
            "1344/1343 [==============================] - 100s 74ms/step - loss: 0.1204 - crf_viterbi_accuracy: 0.9651\n",
            "\n",
            "Measuring validation accuracy...\n",
            "14335/14335 [==============================] - 30s 2ms/step\n",
            "\n",
            "Validation accuracy: 0.91474\n",
            "\n",
            "Epoch 7/20\n",
            "1344/1343 [==============================] - 95s 71ms/step - loss: 0.0710 - crf_viterbi_accuracy: 0.9739\n",
            "\n",
            "Measuring validation accuracy...\n",
            "14335/14335 [==============================] - 30s 2ms/step\n",
            "\n",
            "Validation accuracy: 0.91992\n",
            "\n",
            "Epoch 8/20\n",
            "1344/1343 [==============================] - 94s 70ms/step - loss: 0.0288 - crf_viterbi_accuracy: 0.9775\n",
            "\n",
            "Measuring validation accuracy...\n",
            "14335/14335 [==============================] - 30s 2ms/step\n",
            "\n",
            "Validation accuracy: 0.92760\n",
            "\n",
            "Epoch 9/20\n",
            "1344/1343 [==============================] - 96s 71ms/step - loss: -0.0110 - crf_viterbi_accuracy: 0.9816\n",
            "\n",
            "Measuring validation accuracy...\n",
            "14335/14335 [==============================] - 31s 2ms/step\n",
            "\n",
            "Validation accuracy: 0.93487\n",
            "\n",
            "Epoch 10/20\n",
            "1344/1343 [==============================] - 98s 73ms/step - loss: -0.0488 - crf_viterbi_accuracy: 0.9851\n",
            "\n",
            "Measuring validation accuracy...\n",
            "14335/14335 [==============================] - 30s 2ms/step\n",
            "\n",
            "Validation accuracy: 0.94018\n",
            "\n",
            "Epoch 11/20\n",
            "1344/1343 [==============================] - 95s 70ms/step - loss: -0.0819 - crf_viterbi_accuracy: 0.9875\n",
            "\n",
            "Measuring validation accuracy...\n",
            "14335/14335 [==============================] - 30s 2ms/step\n",
            "\n",
            "Validation accuracy: 0.94106\n",
            "\n",
            "Epoch 12/20\n",
            "1344/1343 [==============================] - 94s 70ms/step - loss: -0.1129 - crf_viterbi_accuracy: 0.9889\n",
            "\n",
            "Measuring validation accuracy...\n",
            "14335/14335 [==============================] - 30s 2ms/step\n",
            "\n",
            "Validation accuracy: 0.94177\n",
            "\n",
            "Epoch 13/20\n",
            "1344/1343 [==============================] - 94s 70ms/step - loss: -0.1434 - crf_viterbi_accuracy: 0.9899\n",
            "\n",
            "Measuring validation accuracy...\n",
            "14335/14335 [==============================] - 30s 2ms/step\n",
            "\n",
            "Validation accuracy: 0.94421\n",
            "\n",
            "Epoch 14/20\n",
            "1344/1343 [==============================] - 94s 70ms/step - loss: -0.1715 - crf_viterbi_accuracy: 0.9910\n",
            "\n",
            "Measuring validation accuracy...\n",
            "14335/14335 [==============================] - 30s 2ms/step\n",
            "\n",
            "Validation accuracy: 0.94505\n",
            "\n",
            "Epoch 15/20\n",
            "1344/1343 [==============================] - 98s 73ms/step - loss: -0.1989 - crf_viterbi_accuracy: 0.9919\n",
            "\n",
            "Measuring validation accuracy...\n",
            "14335/14335 [==============================] - 31s 2ms/step\n",
            "\n",
            "Validation accuracy: 0.94632\n",
            "\n",
            "Epoch 16/20\n",
            "1344/1343 [==============================] - 94s 70ms/step - loss: -0.2300 - crf_viterbi_accuracy: 0.9926\n",
            "\n",
            "Measuring validation accuracy...\n",
            "14335/14335 [==============================] - 30s 2ms/step\n",
            "\n",
            "Validation accuracy: 0.94674\n",
            "\n",
            "Epoch 17/20\n",
            "1344/1343 [==============================] - 94s 70ms/step - loss: -0.2559 - crf_viterbi_accuracy: 0.9933\n",
            "\n",
            "Measuring validation accuracy...\n",
            "14335/14335 [==============================] - 31s 2ms/step\n",
            "\n",
            "Validation accuracy: 0.94667\n",
            "\n",
            "Epoch 18/20\n",
            "1344/1343 [==============================] - 98s 73ms/step - loss: -0.2861 - crf_viterbi_accuracy: 0.9942\n",
            "\n",
            "Measuring validation accuracy...\n",
            "14335/14335 [==============================] - 30s 2ms/step\n",
            "\n",
            "Validation accuracy: 0.95053\n",
            "\n",
            "Epoch 19/20\n",
            "1344/1343 [==============================] - 95s 71ms/step - loss: -0.3140 - crf_viterbi_accuracy: 0.9949\n",
            "\n",
            "Measuring validation accuracy...\n",
            "14335/14335 [==============================] - 31s 2ms/step\n",
            "\n",
            "Validation accuracy: 0.95051\n",
            "\n",
            "Epoch 20/20\n",
            "1344/1343 [==============================] - 97s 72ms/step - loss: -0.3405 - crf_viterbi_accuracy: 0.9953\n",
            "\n",
            "Measuring validation accuracy...\n",
            "14335/14335 [==============================] - 30s 2ms/step\n",
            "\n",
            "Validation accuracy: 0.94984\n",
            "\n"
          ],
          "name": "stdout"
        },
        {
          "output_type": "execute_result",
          "data": {
            "text/plain": [
              "<keras.callbacks.callbacks.History at 0x7effe419ce10>"
            ]
          },
          "metadata": {
            "tags": []
          },
          "execution_count": 21
        }
      ]
    },
    {
      "cell_type": "code",
      "metadata": {
        "colab": {
          "base_uri": "https://localhost:8080/"
        },
        "id": "Vu50g98AbztS",
        "outputId": "879746db-30ae-4754-e3e3-e3e2a37c42ca"
      },
      "source": [
        "acc = compute_test_accuracy(model)\n",
        "print(\"\\nFinal accuracy: %.5f\"%acc)"
      ],
      "execution_count": null,
      "outputs": [
        {
          "output_type": "stream",
          "text": [
            "14335/14335 [==============================] - 29s 2ms/step\n",
            "\n",
            "Final accuracy: 0.94984\n"
          ],
          "name": "stdout"
        }
      ]
    },
    {
      "cell_type": "markdown",
      "metadata": {
        "id": "xc90iiW-b_V1"
      },
      "source": [
        "Стало несколько хуже. Посмотрим, что можно сделать:"
      ]
    },
    {
      "cell_type": "code",
      "metadata": {
        "id": "-_NIx50z5jsb"
      },
      "source": [
        "import keras.callbacks as c"
      ],
      "execution_count": null,
      "outputs": []
    },
    {
      "cell_type": "code",
      "metadata": {
        "colab": {
          "base_uri": "https://localhost:8080/"
        },
        "id": "9mTGFPGgb2x9",
        "outputId": "5740d4ee-faf1-4ad9-a7a7-7d49578c5ec9"
      },
      "source": [
        "model = keras.models.Sequential()\n",
        "model.add(L.InputLayer([None],dtype='int32'))\n",
        "model.add(L.Embedding(len(all_words),50))\n",
        "\n",
        "model.add(L.Bidirectional(L.LSTM(256,return_sequences=True)))\n",
        "model.add(L.Conv1D(filters=8, kernel_size=2, padding='same', activation='relu'))\n",
        "model.add(L.Dropout(0.2))\n",
        "\n",
        "model.add(L.Bidirectional(L.LSTM(64,return_sequences=True)))\n",
        "model.add(L.Dropout(0.5))\n",
        "\n",
        "stepwise_dense = L.Dense(len(all_tags),activation='softmax')\n",
        "stepwise_dense = L.TimeDistributed(stepwise_dense)\n",
        "model.add(stepwise_dense)\n",
        "crf = CRF(len(all_tags))  # CRF layer\n",
        "model.add(crf)\n",
        "\n",
        "model.compile(optimizer=\"adam\", loss=crf.loss_function, metrics=[crf.accuracy])\n",
        "model.summary()"
      ],
      "execution_count": null,
      "outputs": [
        {
          "output_type": "stream",
          "text": [
            "/usr/local/lib/python3.7/dist-packages/keras_contrib/layers/crf.py:346: UserWarning: CRF.loss_function is deprecated and it might be removed in the future. Please use losses.crf_loss instead.\n",
            "  warnings.warn('CRF.loss_function is deprecated '\n",
            "/usr/local/lib/python3.7/dist-packages/keras_contrib/layers/crf.py:353: UserWarning: CRF.accuracy is deprecated and it might be removed in the future. Please use metrics.crf_accuracy\n",
            "  warnings.warn('CRF.accuracy is deprecated and it '\n"
          ],
          "name": "stderr"
        },
        {
          "output_type": "stream",
          "text": [
            "Model: \"sequential_5\"\n",
            "_________________________________________________________________\n",
            "Layer (type)                 Output Shape              Param #   \n",
            "=================================================================\n",
            "embedding_5 (Embedding)      (None, None, 50)          500100    \n",
            "_________________________________________________________________\n",
            "bidirectional_5 (Bidirection (None, None, 512)         628736    \n",
            "_________________________________________________________________\n",
            "conv1d_2 (Conv1D)            (None, None, 8)           8200      \n",
            "_________________________________________________________________\n",
            "dropout_3 (Dropout)          (None, None, 8)           0         \n",
            "_________________________________________________________________\n",
            "bidirectional_6 (Bidirection (None, None, 128)         37376     \n",
            "_________________________________________________________________\n",
            "dropout_4 (Dropout)          (None, None, 128)         0         \n",
            "_________________________________________________________________\n",
            "time_distributed_5 (TimeDist (None, None, 14)          1806      \n",
            "_________________________________________________________________\n",
            "crf_3 (CRF)                  (None, None, 14)          434       \n",
            "=================================================================\n",
            "Total params: 1,176,652\n",
            "Trainable params: 1,176,652\n",
            "Non-trainable params: 0\n",
            "_________________________________________________________________\n"
          ],
          "name": "stdout"
        }
      ]
    },
    {
      "cell_type": "code",
      "metadata": {
        "colab": {
          "base_uri": "https://localhost:8080/"
        },
        "id": "J3dkA5RPb20I",
        "outputId": "159bbdbf-c0a3-4d0d-c7e2-b306194ad02b"
      },
      "source": [
        "model.fit_generator(generate_batches(train_data),len(train_data)/BATCH_SIZE,\n",
        "                    callbacks=[EvaluateAccuracy()], epochs=20, )"
      ],
      "execution_count": null,
      "outputs": [
        {
          "output_type": "stream",
          "text": [
            "Epoch 1/20\n",
            "1344/1343 [==============================] - 225s 168ms/step - loss: 1.0612 - crf_viterbi_accuracy: 0.6803\n",
            "\n",
            "Measuring validation accuracy...\n",
            "14335/14335 [==============================] - 57s 4ms/step\n",
            "\n",
            "Validation accuracy: 0.22934\n",
            "\n",
            "Epoch 2/20\n",
            "1344/1343 [==============================] - 224s 167ms/step - loss: 0.6715 - crf_viterbi_accuracy: 0.7120\n",
            "\n",
            "Measuring validation accuracy...\n",
            "14335/14335 [==============================] - 58s 4ms/step\n",
            "\n",
            "Validation accuracy: 0.23079\n",
            "\n",
            "Epoch 3/20\n",
            "1344/1343 [==============================] - 224s 167ms/step - loss: 0.6531 - crf_viterbi_accuracy: 0.7110\n",
            "\n",
            "Measuring validation accuracy...\n",
            "14335/14335 [==============================] - 58s 4ms/step\n",
            "\n",
            "Validation accuracy: 0.23079\n",
            "\n",
            "Epoch 4/20\n",
            "1344/1343 [==============================] - 226s 168ms/step - loss: 0.6401 - crf_viterbi_accuracy: 0.7120\n",
            "\n",
            "Measuring validation accuracy...\n",
            "14335/14335 [==============================] - 58s 4ms/step\n",
            "\n",
            "Validation accuracy: 0.23079\n",
            "\n",
            "Epoch 5/20\n",
            "1344/1343 [==============================] - 228s 169ms/step - loss: 0.6274 - crf_viterbi_accuracy: 0.7122\n",
            "\n",
            "Measuring validation accuracy...\n",
            "14335/14335 [==============================] - 58s 4ms/step\n",
            "\n",
            "Validation accuracy: 0.23079\n",
            "\n",
            "Epoch 6/20\n",
            "1344/1343 [==============================] - 227s 169ms/step - loss: 0.6100 - crf_viterbi_accuracy: 0.7118\n",
            "\n",
            "Measuring validation accuracy...\n",
            "14335/14335 [==============================] - 58s 4ms/step\n",
            "\n",
            "Validation accuracy: 0.23079\n",
            "\n",
            "Epoch 7/20\n",
            "1344/1343 [==============================] - 222s 165ms/step - loss: 0.4438 - crf_viterbi_accuracy: 0.7848\n",
            "\n",
            "Measuring validation accuracy...\n",
            "14335/14335 [==============================] - 56s 4ms/step\n",
            "\n",
            "Validation accuracy: 0.55898\n",
            "\n",
            "Epoch 8/20\n",
            "1344/1343 [==============================] - 217s 162ms/step - loss: 0.2808 - crf_viterbi_accuracy: 0.8403\n",
            "\n",
            "Measuring validation accuracy...\n",
            "14335/14335 [==============================] - 56s 4ms/step\n",
            "\n",
            "Validation accuracy: 0.58556\n",
            "\n",
            "Epoch 9/20\n",
            "1344/1343 [==============================] - 217s 161ms/step - loss: 0.2251 - crf_viterbi_accuracy: 0.8522\n",
            "\n",
            "Measuring validation accuracy...\n",
            "14335/14335 [==============================] - 56s 4ms/step\n",
            "\n",
            "Validation accuracy: 0.72603\n",
            "\n",
            "Epoch 10/20\n",
            "1344/1343 [==============================] - 217s 161ms/step - loss: 0.1032 - crf_viterbi_accuracy: 0.9209\n",
            "\n",
            "Measuring validation accuracy...\n",
            "14335/14335 [==============================] - 56s 4ms/step\n",
            "\n",
            "Validation accuracy: 0.79948\n",
            "\n",
            "Epoch 11/20\n",
            "1344/1343 [==============================] - 220s 163ms/step - loss: 0.0491 - crf_viterbi_accuracy: 0.9358\n",
            "\n",
            "Measuring validation accuracy...\n",
            "14335/14335 [==============================] - 57s 4ms/step\n",
            "\n",
            "Validation accuracy: 0.85269\n",
            "\n",
            "Epoch 12/20\n",
            "1344/1343 [==============================] - 223s 166ms/step - loss: -0.0154 - crf_viterbi_accuracy: 0.9525\n",
            "\n",
            "Measuring validation accuracy...\n",
            "14335/14335 [==============================] - 57s 4ms/step\n",
            "\n",
            "Validation accuracy: 0.88091\n",
            "\n",
            "Epoch 13/20\n",
            "1344/1343 [==============================] - 219s 163ms/step - loss: -0.0543 - crf_viterbi_accuracy: 0.9552\n",
            "\n",
            "Measuring validation accuracy...\n",
            "14335/14335 [==============================] - 56s 4ms/step\n",
            "\n",
            "Validation accuracy: 0.88346\n",
            "\n",
            "Epoch 14/20\n",
            "1344/1343 [==============================] - 219s 163ms/step - loss: -0.0851 - crf_viterbi_accuracy: 0.9566\n",
            "\n",
            "Measuring validation accuracy...\n",
            "14335/14335 [==============================] - 57s 4ms/step\n",
            "\n",
            "Validation accuracy: 0.88347\n",
            "\n",
            "Epoch 15/20\n",
            "1344/1343 [==============================] - 220s 164ms/step - loss: -0.1139 - crf_viterbi_accuracy: 0.9580\n",
            "\n",
            "Measuring validation accuracy...\n",
            "14335/14335 [==============================] - 57s 4ms/step\n",
            "\n",
            "Validation accuracy: 0.88660\n",
            "\n",
            "Epoch 16/20\n",
            "1344/1343 [==============================] - 221s 165ms/step - loss: -0.1437 - crf_viterbi_accuracy: 0.9602\n",
            "\n",
            "Measuring validation accuracy...\n",
            "14335/14335 [==============================] - 57s 4ms/step\n",
            "\n",
            "Validation accuracy: 0.89584\n",
            "\n",
            "Epoch 17/20\n",
            "1344/1343 [==============================] - 222s 165ms/step - loss: -0.1747 - crf_viterbi_accuracy: 0.9638\n",
            "\n",
            "Measuring validation accuracy...\n",
            "14335/14335 [==============================] - 57s 4ms/step\n",
            "\n",
            "Validation accuracy: 0.90466\n",
            "\n",
            "Epoch 18/20\n",
            "1344/1343 [==============================] - 220s 163ms/step - loss: -0.2053 - crf_viterbi_accuracy: 0.9669\n",
            "\n",
            "Measuring validation accuracy...\n",
            "14335/14335 [==============================] - 57s 4ms/step\n",
            "\n",
            "Validation accuracy: 0.90881\n",
            "\n",
            "Epoch 19/20\n",
            "1344/1343 [==============================] - 217s 161ms/step - loss: -0.2362 - crf_viterbi_accuracy: 0.9692\n",
            "\n",
            "Measuring validation accuracy...\n",
            "14335/14335 [==============================] - 56s 4ms/step\n",
            "\n",
            "Validation accuracy: 0.91299\n",
            "\n",
            "Epoch 20/20\n",
            "1344/1343 [==============================] - 216s 161ms/step - loss: -0.2643 - crf_viterbi_accuracy: 0.9710\n",
            "\n",
            "Measuring validation accuracy...\n",
            "14335/14335 [==============================] - 56s 4ms/step\n",
            "\n",
            "Validation accuracy: 0.91466\n",
            "\n"
          ],
          "name": "stdout"
        },
        {
          "output_type": "execute_result",
          "data": {
            "text/plain": [
              "<keras.callbacks.callbacks.History at 0x7efe76cde890>"
            ]
          },
          "metadata": {
            "tags": []
          },
          "execution_count": 29
        }
      ]
    },
    {
      "cell_type": "markdown",
      "metadata": {
        "id": "pCBB6SUt6lP_"
      },
      "source": [
        "Улучшила ситуацию замена SimpleRNN на LSTM с units=256. Final accuracy: 0.90696   \n",
        "Увеличение числа эпох дали  Validation accuracy: 0.91833   \n",
        "Второй слой LSTM и 2 слоя Dropout дали Validation accuracy: 0.96365  \n",
        "Добавила Conv1D - снова качество упало. Validation accuracy: 0.91466   \n",
        "Продолжаем эксперимент.\n",
        "\n"
      ]
    },
    {
      "cell_type": "markdown",
      "metadata": {
        "id": "mWkwnAT8WJNu"
      },
      "source": [
        "Добавим в модель предобученный слой эмбеддинга:"
      ]
    },
    {
      "cell_type": "code",
      "metadata": {
        "id": "FaZq7zV86kZM"
      },
      "source": [
        "from gensim.models import Word2Vec\n",
        "from gensim.utils import simple_preprocess\n",
        "from gensim.models.keyedvectors import KeyedVectors\n",
        "\n",
        "word_vectors = KeyedVectors.load_word2vec_format('https://s3.amazonaws.com/dl4j-distribution/GoogleNews-vectors-negative300.bin.gz', binary=True)"
      ],
      "execution_count": null,
      "outputs": []
    },
    {
      "cell_type": "code",
      "metadata": {
        "id": "TppWAytqm-Mv"
      },
      "source": [
        "dict_all_words = {}\n",
        "val = range(100002)\n",
        "for i in range(len(all_words)):\n",
        "  dict_all_words[all_words[i]] = val[i]"
      ],
      "execution_count": null,
      "outputs": []
    },
    {
      "cell_type": "code",
      "metadata": {
        "id": "vt_1Lw9uaPDC"
      },
      "source": [
        "words = 5000"
      ],
      "execution_count": null,
      "outputs": []
    },
    {
      "cell_type": "code",
      "metadata": {
        "id": "0ImefWdqCLOC"
      },
      "source": [
        "EMBEDDING_DIM=300\n",
        "vocabulary_size=min(len(all_words)+1,words)\n",
        "embedding_matrix = np.zeros((vocabulary_size, EMBEDDING_DIM))\n",
        "for word, index in dict_all_words.items():\n",
        "    if index>=words:\n",
        "        continue\n",
        "    try:\n",
        "        embedding_vector = word_vectors[word]\n",
        "        embedding_matrix[index] = embedding_vector\n",
        "    except KeyError:\n",
        "        embedding_matrix[index]=np.random.normal(0,np.sqrt(0.25),EMBEDDING_DIM)\n",
        "\n",
        "from keras.layers import Embedding\n",
        "embedding_layer = Embedding(vocabulary_size,\n",
        "                            EMBEDDING_DIM,\n",
        "                            weights=[embedding_matrix],\n",
        "                            trainable=True)"
      ],
      "execution_count": null,
      "outputs": []
    },
    {
      "cell_type": "code",
      "metadata": {
        "colab": {
          "base_uri": "https://localhost:8080/"
        },
        "id": "KY5Jc12zb23-",
        "outputId": "96fe325d-e773-4b91-ff4b-b3b23bf42227"
      },
      "source": [
        "model = keras.models.Sequential()\n",
        "model.add(L.InputLayer([None],dtype='int32'))\n",
        "model.add(embedding_layer)\n",
        "\n",
        "model.add(L.Bidirectional(L.LSTM(256,return_sequences=True)))\n",
        "model.add(L.Dropout(0.2))\n",
        "\n",
        "model.add(L.Bidirectional(L.LSTM(64,return_sequences=True)))\n",
        "model.add(L.Dropout(0.5))\n",
        "\n",
        "stepwise_dense = L.Dense(len(all_tags),activation='softmax')\n",
        "stepwise_dense = L.TimeDistributed(stepwise_dense)\n",
        "model.add(stepwise_dense)\n",
        "crf = CRF(len(all_tags))  # CRF layer\n",
        "model.add(crf)\n",
        "\n",
        "model.compile(optimizer=\"adam\", loss=crf.loss_function, metrics=[crf.accuracy])\n",
        "model.summary()"
      ],
      "execution_count": null,
      "outputs": [
        {
          "output_type": "stream",
          "text": [
            "/usr/local/lib/python3.7/dist-packages/keras_contrib/layers/crf.py:346: UserWarning: CRF.loss_function is deprecated and it might be removed in the future. Please use losses.crf_loss instead.\n",
            "  warnings.warn('CRF.loss_function is deprecated '\n",
            "/usr/local/lib/python3.7/dist-packages/keras_contrib/layers/crf.py:353: UserWarning: CRF.accuracy is deprecated and it might be removed in the future. Please use metrics.crf_accuracy\n",
            "  warnings.warn('CRF.accuracy is deprecated and it '\n"
          ],
          "name": "stderr"
        },
        {
          "output_type": "stream",
          "text": [
            "Model: \"sequential_7\"\n",
            "_________________________________________________________________\n",
            "Layer (type)                 Output Shape              Param #   \n",
            "=================================================================\n",
            "embedding_7 (Embedding)      (None, None, 300)         1500000   \n",
            "_________________________________________________________________\n",
            "bidirectional_9 (Bidirection (None, None, 512)         1140736   \n",
            "_________________________________________________________________\n",
            "conv1d_4 (Conv1D)            (None, None, 8)           8200      \n",
            "_________________________________________________________________\n",
            "dropout_7 (Dropout)          (None, None, 8)           0         \n",
            "_________________________________________________________________\n",
            "bidirectional_10 (Bidirectio (None, None, 128)         37376     \n",
            "_________________________________________________________________\n",
            "dropout_8 (Dropout)          (None, None, 128)         0         \n",
            "_________________________________________________________________\n",
            "time_distributed_7 (TimeDist (None, None, 14)          1806      \n",
            "_________________________________________________________________\n",
            "crf_5 (CRF)                  (None, None, 14)          434       \n",
            "=================================================================\n",
            "Total params: 2,688,552\n",
            "Trainable params: 2,688,552\n",
            "Non-trainable params: 0\n",
            "_________________________________________________________________\n"
          ],
          "name": "stdout"
        }
      ]
    },
    {
      "cell_type": "code",
      "metadata": {
        "colab": {
          "base_uri": "https://localhost:8080/"
        },
        "id": "8JXRG0gPb29M",
        "outputId": "0c95ab75-14ea-4a99-b67b-6df890b7c391"
      },
      "source": [
        "%%time\n",
        "model.fit_generator(generate_batches(train_data),len(all_words)/BATCH_SIZE, epochs=20, \n",
        "                    verbose=1, callbacks=[EvaluateAccuracy()],) "
      ],
      "execution_count": null,
      "outputs": [
        {
          "output_type": "stream",
          "text": [
            "Epoch 1/20\n",
            "313/312 [==============================] - 51s 164ms/step - loss: 1.4998 - crf_viterbi_accuracy: 0.6216\n",
            "\n",
            "Measuring validation accuracy...\n",
            "14335/14335 [==============================] - 57s 4ms/step\n",
            "\n",
            "Validation accuracy: 0.02342\n",
            "\n",
            "Epoch 2/20\n",
            "313/312 [==============================] - 52s 166ms/step - loss: 0.8141 - crf_viterbi_accuracy: 0.7093\n",
            "\n",
            "Measuring validation accuracy...\n",
            "14335/14335 [==============================] - 56s 4ms/step\n",
            "\n",
            "Validation accuracy: 0.46249\n",
            "\n",
            "Epoch 3/20\n",
            "313/312 [==============================] - 49s 158ms/step - loss: 0.6479 - crf_viterbi_accuracy: 0.8008\n",
            "\n",
            "Measuring validation accuracy...\n",
            "14335/14335 [==============================] - 56s 4ms/step\n",
            "\n",
            "Validation accuracy: 0.48354\n",
            "\n",
            "Epoch 4/20\n",
            "313/312 [==============================] - 50s 158ms/step - loss: 0.5769 - crf_viterbi_accuracy: 0.8041\n",
            "\n",
            "Measuring validation accuracy...\n",
            "14335/14335 [==============================] - 56s 4ms/step\n",
            "\n",
            "Validation accuracy: 0.49384\n",
            "\n",
            "Epoch 5/20\n",
            "313/312 [==============================] - 51s 163ms/step - loss: 0.5237 - crf_viterbi_accuracy: 0.8106\n",
            "\n",
            "Measuring validation accuracy...\n",
            "14335/14335 [==============================] - 56s 4ms/step\n",
            "\n",
            "Validation accuracy: 0.49556\n",
            "\n",
            "Epoch 6/20\n",
            "313/312 [==============================] - 51s 163ms/step - loss: 0.5020 - crf_viterbi_accuracy: 0.8122\n",
            "\n",
            "Measuring validation accuracy...\n",
            "14335/14335 [==============================] - 56s 4ms/step\n",
            "\n",
            "Validation accuracy: 0.50545\n",
            "\n",
            "Epoch 7/20\n",
            "313/312 [==============================] - 51s 163ms/step - loss: 0.4873 - crf_viterbi_accuracy: 0.8139\n",
            "\n",
            "Measuring validation accuracy...\n",
            "14335/14335 [==============================] - 56s 4ms/step\n",
            "\n",
            "Validation accuracy: 0.50213\n",
            "\n",
            "Epoch 8/20\n",
            "313/312 [==============================] - 51s 162ms/step - loss: 0.4745 - crf_viterbi_accuracy: 0.8122\n",
            "\n",
            "Measuring validation accuracy...\n",
            "14335/14335 [==============================] - 56s 4ms/step\n",
            "\n",
            "Validation accuracy: 0.50335\n",
            "\n",
            "Epoch 9/20\n",
            "313/312 [==============================] - 50s 161ms/step - loss: 0.4628 - crf_viterbi_accuracy: 0.8122\n",
            "\n",
            "Measuring validation accuracy...\n",
            "14335/14335 [==============================] - 56s 4ms/step\n",
            "\n",
            "Validation accuracy: 0.50572\n",
            "\n",
            "Epoch 10/20\n",
            "313/312 [==============================] - 50s 160ms/step - loss: 0.4531 - crf_viterbi_accuracy: 0.8118\n",
            "\n",
            "Measuring validation accuracy...\n",
            "14335/14335 [==============================] - 56s 4ms/step\n",
            "\n",
            "Validation accuracy: 0.50880\n",
            "\n",
            "Epoch 11/20\n",
            "313/312 [==============================] - 52s 165ms/step - loss: 0.4283 - crf_viterbi_accuracy: 0.8210\n",
            "\n",
            "Measuring validation accuracy...\n",
            "14335/14335 [==============================] - 56s 4ms/step\n",
            "\n",
            "Validation accuracy: 0.53150\n",
            "\n",
            "Epoch 12/20\n",
            "313/312 [==============================] - 50s 159ms/step - loss: 0.4188 - crf_viterbi_accuracy: 0.8287\n",
            "\n",
            "Measuring validation accuracy...\n",
            "14335/14335 [==============================] - 56s 4ms/step\n",
            "\n",
            "Validation accuracy: 0.56106\n",
            "\n",
            "Epoch 13/20\n",
            "313/312 [==============================] - 50s 158ms/step - loss: 0.4078 - crf_viterbi_accuracy: 0.8380\n",
            "\n",
            "Measuring validation accuracy...\n",
            "14335/14335 [==============================] - 56s 4ms/step\n",
            "\n",
            "Validation accuracy: 0.57919\n",
            "\n",
            "Epoch 14/20\n",
            "313/312 [==============================] - 51s 162ms/step - loss: 0.3967 - crf_viterbi_accuracy: 0.8446\n",
            "\n",
            "Measuring validation accuracy...\n",
            "14335/14335 [==============================] - 56s 4ms/step\n",
            "\n",
            "Validation accuracy: 0.59743\n",
            "\n",
            "Epoch 15/20\n",
            "313/312 [==============================] - 50s 161ms/step - loss: 0.3846 - crf_viterbi_accuracy: 0.8516\n",
            "\n",
            "Measuring validation accuracy...\n",
            "14335/14335 [==============================] - 56s 4ms/step\n",
            "\n",
            "Validation accuracy: 0.60868\n",
            "\n",
            "Epoch 16/20\n",
            "313/312 [==============================] - 51s 164ms/step - loss: 0.3684 - crf_viterbi_accuracy: 0.8574\n",
            "\n",
            "Measuring validation accuracy...\n",
            "14335/14335 [==============================] - 56s 4ms/step\n",
            "\n",
            "Validation accuracy: 0.61684\n",
            "\n",
            "Epoch 17/20\n",
            "313/312 [==============================] - 50s 160ms/step - loss: 0.3742 - crf_viterbi_accuracy: 0.8553\n",
            "\n",
            "Measuring validation accuracy...\n",
            "14335/14335 [==============================] - 56s 4ms/step\n",
            "\n",
            "Validation accuracy: 0.62072\n",
            "\n",
            "Epoch 18/20\n",
            "313/312 [==============================] - 51s 162ms/step - loss: 0.3580 - crf_viterbi_accuracy: 0.8589\n",
            "\n",
            "Measuring validation accuracy...\n",
            "14335/14335 [==============================] - 56s 4ms/step\n",
            "\n",
            "Validation accuracy: 0.62418\n",
            "\n",
            "Epoch 19/20\n",
            "313/312 [==============================] - 51s 163ms/step - loss: 0.3506 - crf_viterbi_accuracy: 0.8605\n",
            "\n",
            "Measuring validation accuracy...\n",
            "14335/14335 [==============================] - 56s 4ms/step\n",
            "\n",
            "Validation accuracy: 0.62805\n",
            "\n",
            "Epoch 20/20\n",
            "313/312 [==============================] - 50s 158ms/step - loss: 0.3480 - crf_viterbi_accuracy: 0.8593\n",
            "\n",
            "Measuring validation accuracy...\n",
            "14335/14335 [==============================] - 56s 4ms/step\n",
            "\n",
            "Validation accuracy: 0.62773\n",
            "\n",
            "CPU times: user 48min 47s, sys: 2min 21s, total: 51min 9s\n",
            "Wall time: 35min 47s\n"
          ],
          "name": "stdout"
        },
        {
          "output_type": "execute_result",
          "data": {
            "text/plain": [
              "<keras.callbacks.callbacks.History at 0x7efe391c9f10>"
            ]
          },
          "metadata": {
            "tags": []
          },
          "execution_count": 46
        }
      ]
    },
    {
      "cell_type": "markdown",
      "metadata": {
        "id": "MPuO6iE7dFEG"
      },
      "source": [
        "С предобученными эмбеддингами результат стал намного хуже. Возможно, стоит использовать другие варианты текстов.  \n",
        "А если нам уменьшить количество слов?"
      ]
    },
    {
      "cell_type": "code",
      "metadata": {
        "id": "Dgk1Skr5csl1"
      },
      "source": [
        "words = 1000"
      ],
      "execution_count": null,
      "outputs": []
    },
    {
      "cell_type": "code",
      "metadata": {
        "colab": {
          "base_uri": "https://localhost:8080/"
        },
        "id": "_dBGDhdRcsn4",
        "outputId": "9939d55f-ffc6-4c5e-c0df-f3b418f10f9d"
      },
      "source": [
        "model = keras.models.Sequential()\n",
        "model.add(L.InputLayer([None],dtype='int32'))\n",
        "model.add(embedding_layer)\n",
        "\n",
        "model.add(L.Bidirectional(L.LSTM(256,return_sequences=True)))\n",
        "model.add(L.Dropout(0.2))\n",
        "\n",
        "model.add(L.Bidirectional(L.LSTM(64,return_sequences=True)))\n",
        "model.add(L.Dropout(0.5))\n",
        "\n",
        "stepwise_dense = L.Dense(len(all_tags),activation='softmax')\n",
        "stepwise_dense = L.TimeDistributed(stepwise_dense)\n",
        "model.add(stepwise_dense)\n",
        "crf = CRF(len(all_tags))  # CRF layer\n",
        "model.add(crf)\n",
        "\n",
        "model.compile(optimizer=\"adam\", loss=crf.loss_function, metrics=[crf.accuracy])\n",
        "model.summary()"
      ],
      "execution_count": null,
      "outputs": [
        {
          "output_type": "stream",
          "text": [
            "/usr/local/lib/python3.7/dist-packages/keras_contrib/layers/crf.py:346: UserWarning: CRF.loss_function is deprecated and it might be removed in the future. Please use losses.crf_loss instead.\n",
            "  warnings.warn('CRF.loss_function is deprecated '\n",
            "/usr/local/lib/python3.7/dist-packages/keras_contrib/layers/crf.py:353: UserWarning: CRF.accuracy is deprecated and it might be removed in the future. Please use metrics.crf_accuracy\n",
            "  warnings.warn('CRF.accuracy is deprecated and it '\n"
          ],
          "name": "stderr"
        },
        {
          "output_type": "stream",
          "text": [
            "Model: \"sequential_8\"\n",
            "_________________________________________________________________\n",
            "Layer (type)                 Output Shape              Param #   \n",
            "=================================================================\n",
            "embedding_7 (Embedding)      (None, None, 300)         1500000   \n",
            "_________________________________________________________________\n",
            "bidirectional_11 (Bidirectio (None, None, 512)         1140736   \n",
            "_________________________________________________________________\n",
            "dropout_9 (Dropout)          (None, None, 512)         0         \n",
            "_________________________________________________________________\n",
            "bidirectional_12 (Bidirectio (None, None, 128)         295424    \n",
            "_________________________________________________________________\n",
            "dropout_10 (Dropout)         (None, None, 128)         0         \n",
            "_________________________________________________________________\n",
            "time_distributed_8 (TimeDist (None, None, 14)          1806      \n",
            "_________________________________________________________________\n",
            "crf_6 (CRF)                  (None, None, 14)          434       \n",
            "=================================================================\n",
            "Total params: 2,938,400\n",
            "Trainable params: 2,938,400\n",
            "Non-trainable params: 0\n",
            "_________________________________________________________________\n"
          ],
          "name": "stdout"
        }
      ]
    },
    {
      "cell_type": "code",
      "metadata": {
        "colab": {
          "base_uri": "https://localhost:8080/"
        },
        "id": "Nk2rWU-fcsp-",
        "outputId": "02c48737-cd35-48fa-bb08-65dfbd4a93d1"
      },
      "source": [
        "model.fit_generator(generate_batches(train_data),len(all_words)/BATCH_SIZE, epochs=20, \n",
        "                    verbose=1, callbacks=[EvaluateAccuracy()],) "
      ],
      "execution_count": null,
      "outputs": [
        {
          "output_type": "stream",
          "text": [
            "Epoch 1/20\n",
            "313/312 [==============================] - 54s 171ms/step - loss: 1.8175 - crf_viterbi_accuracy: 0.6254\n",
            "\n",
            "Measuring validation accuracy...\n",
            "14335/14335 [==============================] - 59s 4ms/step\n",
            "\n",
            "Validation accuracy: 0.48025\n",
            "\n",
            "Epoch 2/20\n",
            "313/312 [==============================] - 52s 167ms/step - loss: 0.9580 - crf_viterbi_accuracy: 0.8072\n",
            "\n",
            "Measuring validation accuracy...\n",
            "14335/14335 [==============================] - 58s 4ms/step\n",
            "\n",
            "Validation accuracy: 0.48308\n",
            "\n",
            "Epoch 3/20\n",
            "313/312 [==============================] - 52s 167ms/step - loss: 0.6532 - crf_viterbi_accuracy: 0.8090\n",
            "\n",
            "Measuring validation accuracy...\n",
            "14335/14335 [==============================] - 58s 4ms/step\n",
            "\n",
            "Validation accuracy: 0.48795\n",
            "\n",
            "Epoch 4/20\n",
            "313/312 [==============================] - 51s 163ms/step - loss: 0.5651 - crf_viterbi_accuracy: 0.8071\n",
            "\n",
            "Measuring validation accuracy...\n",
            "14335/14335 [==============================] - 58s 4ms/step\n",
            "\n",
            "Validation accuracy: 0.49423\n",
            "\n",
            "Epoch 5/20\n",
            "313/312 [==============================] - 53s 171ms/step - loss: 0.4772 - crf_viterbi_accuracy: 0.8359\n",
            "\n",
            "Measuring validation accuracy...\n",
            "14335/14335 [==============================] - 58s 4ms/step\n",
            "\n",
            "Validation accuracy: 0.61083\n",
            "\n",
            "Epoch 6/20\n",
            "313/312 [==============================] - 53s 168ms/step - loss: 0.4040 - crf_viterbi_accuracy: 0.8635\n",
            "\n",
            "Measuring validation accuracy...\n",
            "14335/14335 [==============================] - 58s 4ms/step\n",
            "\n",
            "Validation accuracy: 0.64920\n",
            "\n",
            "Epoch 7/20\n",
            "313/312 [==============================] - 52s 165ms/step - loss: 0.3718 - crf_viterbi_accuracy: 0.8696\n",
            "\n",
            "Measuring validation accuracy...\n",
            "14335/14335 [==============================] - 58s 4ms/step\n",
            "\n",
            "Validation accuracy: 0.66464\n",
            "\n",
            "Epoch 8/20\n",
            "313/312 [==============================] - 50s 160ms/step - loss: 0.3505 - crf_viterbi_accuracy: 0.8741\n",
            "\n",
            "Measuring validation accuracy...\n",
            "14335/14335 [==============================] - 58s 4ms/step\n",
            "\n",
            "Validation accuracy: 0.67333\n",
            "\n",
            "Epoch 9/20\n",
            "313/312 [==============================] - 52s 166ms/step - loss: 0.3304 - crf_viterbi_accuracy: 0.8818\n",
            "\n",
            "Measuring validation accuracy...\n",
            "14335/14335 [==============================] - 58s 4ms/step\n",
            "\n",
            "Validation accuracy: 0.68977\n",
            "\n",
            "Epoch 10/20\n",
            "313/312 [==============================] - 52s 165ms/step - loss: 0.3164 - crf_viterbi_accuracy: 0.8947\n",
            "\n",
            "Measuring validation accuracy...\n",
            "14335/14335 [==============================] - 58s 4ms/step\n",
            "\n",
            "Validation accuracy: 0.72982\n",
            "\n",
            "Epoch 11/20\n",
            "313/312 [==============================] - 52s 167ms/step - loss: 0.3033 - crf_viterbi_accuracy: 0.9011\n",
            "\n",
            "Measuring validation accuracy...\n",
            "14335/14335 [==============================] - 59s 4ms/step\n",
            "\n",
            "Validation accuracy: 0.76328\n",
            "\n",
            "Epoch 12/20\n",
            "313/312 [==============================] - 50s 160ms/step - loss: 0.2703 - crf_viterbi_accuracy: 0.9165\n",
            "\n",
            "Measuring validation accuracy...\n",
            "14335/14335 [==============================] - 58s 4ms/step\n",
            "\n",
            "Validation accuracy: 0.80074\n",
            "\n",
            "Epoch 13/20\n",
            "313/312 [==============================] - 52s 167ms/step - loss: 0.2404 - crf_viterbi_accuracy: 0.9277\n",
            "\n",
            "Measuring validation accuracy...\n",
            "14335/14335 [==============================] - 58s 4ms/step\n",
            "\n",
            "Validation accuracy: 0.81385\n",
            "\n",
            "Epoch 14/20\n",
            "313/312 [==============================] - 51s 163ms/step - loss: 0.2279 - crf_viterbi_accuracy: 0.9320\n",
            "\n",
            "Measuring validation accuracy...\n",
            "14335/14335 [==============================] - 58s 4ms/step\n",
            "\n",
            "Validation accuracy: 0.82341\n",
            "\n",
            "Epoch 15/20\n",
            "313/312 [==============================] - 53s 169ms/step - loss: 0.2125 - crf_viterbi_accuracy: 0.9367\n",
            "\n",
            "Measuring validation accuracy...\n",
            "14335/14335 [==============================] - 58s 4ms/step\n",
            "\n",
            "Validation accuracy: 0.83322\n",
            "\n",
            "Epoch 16/20\n",
            "313/312 [==============================] - 51s 164ms/step - loss: 0.2041 - crf_viterbi_accuracy: 0.9408\n",
            "\n",
            "Measuring validation accuracy...\n",
            "14335/14335 [==============================] - 58s 4ms/step\n",
            "\n",
            "Validation accuracy: 0.85112\n",
            "\n",
            "Epoch 17/20\n",
            "313/312 [==============================] - 53s 170ms/step - loss: 0.1857 - crf_viterbi_accuracy: 0.9470\n",
            "\n",
            "Measuring validation accuracy...\n",
            "14335/14335 [==============================] - 58s 4ms/step\n",
            "\n",
            "Validation accuracy: 0.85813\n",
            "\n",
            "Epoch 18/20\n",
            "313/312 [==============================] - 52s 165ms/step - loss: 0.1771 - crf_viterbi_accuracy: 0.9488\n",
            "\n",
            "Measuring validation accuracy...\n",
            "14335/14335 [==============================] - 58s 4ms/step\n",
            "\n",
            "Validation accuracy: 0.86283\n",
            "\n",
            "Epoch 19/20\n",
            "313/312 [==============================] - 54s 172ms/step - loss: 0.1674 - crf_viterbi_accuracy: 0.9511\n",
            "\n",
            "Measuring validation accuracy...\n",
            "14335/14335 [==============================] - 58s 4ms/step\n",
            "\n",
            "Validation accuracy: 0.86770\n",
            "\n",
            "Epoch 20/20\n",
            "313/312 [==============================] - 52s 167ms/step - loss: 0.1567 - crf_viterbi_accuracy: 0.9541\n",
            "\n",
            "Measuring validation accuracy...\n",
            "14335/14335 [==============================] - 58s 4ms/step\n",
            "\n",
            "Validation accuracy: 0.87774\n",
            "\n"
          ],
          "name": "stdout"
        },
        {
          "output_type": "execute_result",
          "data": {
            "text/plain": [
              "<keras.callbacks.callbacks.History at 0x7efe37047950>"
            ]
          },
          "metadata": {
            "tags": []
          },
          "execution_count": 107
        }
      ]
    },
    {
      "cell_type": "markdown",
      "metadata": {
        "id": "zaHthwLZg3-M"
      },
      "source": [
        "Стало лучше, но до идеала далеко."
      ]
    },
    {
      "cell_type": "markdown",
      "metadata": {
        "id": "lmaQ9wkLfZHm"
      },
      "source": [
        "В общем, наилучшим образом показала себя модель с двумя слоями LSTM и двумя слоями Dropout. Поработаем с ней: поменяем оптимизатор на Adamax:"
      ]
    },
    {
      "cell_type": "code",
      "metadata": {
        "colab": {
          "base_uri": "https://localhost:8080/"
        },
        "id": "CMTuX-Vacsrk",
        "outputId": "98fd6c10-4861-4336-b633-369ce1fe44a2"
      },
      "source": [
        "model = keras.models.Sequential()\n",
        "model.add(L.InputLayer([None],dtype='int32'))\n",
        "model.add(L.Embedding(len(all_words),50))\n",
        "\n",
        "model.add(L.Bidirectional(L.LSTM(256,return_sequences=True)))\n",
        "model.add(L.Dropout(0.2))\n",
        "\n",
        "model.add(L.Bidirectional(L.LSTM(64,return_sequences=True)))\n",
        "model.add(L.Dropout(0.5))\n",
        "\n",
        "stepwise_dense = L.Dense(len(all_tags),activation='softmax')\n",
        "stepwise_dense = L.TimeDistributed(stepwise_dense)\n",
        "model.add(stepwise_dense)\n",
        "crf = CRF(len(all_tags))  # CRF layer\n",
        "model.add(crf)\n",
        "\n",
        "model.compile(optimizer=\"adam\", loss=crf.loss_function, metrics=[crf.accuracy])\n",
        "model.summary()"
      ],
      "execution_count": null,
      "outputs": [
        {
          "output_type": "stream",
          "text": [
            "/usr/local/lib/python3.7/dist-packages/keras_contrib/layers/crf.py:346: UserWarning: CRF.loss_function is deprecated and it might be removed in the future. Please use losses.crf_loss instead.\n",
            "  warnings.warn('CRF.loss_function is deprecated '\n",
            "/usr/local/lib/python3.7/dist-packages/keras_contrib/layers/crf.py:353: UserWarning: CRF.accuracy is deprecated and it might be removed in the future. Please use metrics.crf_accuracy\n",
            "  warnings.warn('CRF.accuracy is deprecated and it '\n"
          ],
          "name": "stderr"
        },
        {
          "output_type": "stream",
          "text": [
            "Model: \"sequential_13\"\n",
            "_________________________________________________________________\n",
            "Layer (type)                 Output Shape              Param #   \n",
            "=================================================================\n",
            "embedding_12 (Embedding)     (None, None, 50)          500100    \n",
            "_________________________________________________________________\n",
            "bidirectional_19 (Bidirectio (None, None, 512)         628736    \n",
            "_________________________________________________________________\n",
            "dropout_16 (Dropout)         (None, None, 512)         0         \n",
            "_________________________________________________________________\n",
            "bidirectional_20 (Bidirectio (None, None, 128)         295424    \n",
            "_________________________________________________________________\n",
            "dropout_17 (Dropout)         (None, None, 128)         0         \n",
            "_________________________________________________________________\n",
            "time_distributed_13 (TimeDis (None, None, 14)          1806      \n",
            "_________________________________________________________________\n",
            "crf_10 (CRF)                 (None, None, 14)          434       \n",
            "=================================================================\n",
            "Total params: 1,426,500\n",
            "Trainable params: 1,426,500\n",
            "Non-trainable params: 0\n",
            "_________________________________________________________________\n"
          ],
          "name": "stdout"
        }
      ]
    },
    {
      "cell_type": "code",
      "metadata": {
        "colab": {
          "base_uri": "https://localhost:8080/"
        },
        "id": "rt6dfVrBf5Rm",
        "outputId": "e481b001-6555-42dc-f9ca-c3a1e645574d"
      },
      "source": [
        "%%time\n",
        "model.fit_generator(generate_batches(train_data),len(all_words)/BATCH_SIZE, epochs=20, \n",
        "                    verbose=1, callbacks=[EvaluateAccuracy()],) "
      ],
      "execution_count": null,
      "outputs": [
        {
          "output_type": "stream",
          "text": [
            "Epoch 1/20\n",
            "313/312 [==============================] - 52s 167ms/step - loss: 1.7160 - crf_viterbi_accuracy: 0.5958\n",
            "\n",
            "Measuring validation accuracy...\n",
            "14335/14335 [==============================] - 59s 4ms/step\n",
            "\n",
            "Validation accuracy: 0.00091\n",
            "\n",
            "Epoch 2/20\n",
            "313/312 [==============================] - 51s 162ms/step - loss: 0.9535 - crf_viterbi_accuracy: 0.6255\n",
            "\n",
            "Measuring validation accuracy...\n",
            "14335/14335 [==============================] - 57s 4ms/step\n",
            "\n",
            "Validation accuracy: 0.05996\n",
            "\n",
            "Epoch 3/20\n",
            "313/312 [==============================] - 51s 164ms/step - loss: 0.6958 - crf_viterbi_accuracy: 0.7207\n",
            "\n",
            "Measuring validation accuracy...\n",
            "14335/14335 [==============================] - 57s 4ms/step\n",
            "\n",
            "Validation accuracy: 0.36104\n",
            "\n",
            "Epoch 4/20\n",
            "313/312 [==============================] - 50s 159ms/step - loss: 0.6218 - crf_viterbi_accuracy: 0.7559\n",
            "\n",
            "Measuring validation accuracy...\n",
            "14335/14335 [==============================] - 57s 4ms/step\n",
            "\n",
            "Validation accuracy: 0.35737\n",
            "\n",
            "Epoch 5/20\n",
            "313/312 [==============================] - 50s 159ms/step - loss: 0.5686 - crf_viterbi_accuracy: 0.7590\n",
            "\n",
            "Measuring validation accuracy...\n",
            "14335/14335 [==============================] - 57s 4ms/step\n",
            "\n",
            "Validation accuracy: 0.37642\n",
            "\n",
            "Epoch 6/20\n",
            "313/312 [==============================] - 51s 163ms/step - loss: 0.5205 - crf_viterbi_accuracy: 0.7723\n",
            "\n",
            "Measuring validation accuracy...\n",
            "14335/14335 [==============================] - 56s 4ms/step\n",
            "\n",
            "Validation accuracy: 0.38852\n",
            "\n",
            "Epoch 7/20\n",
            "313/312 [==============================] - 50s 161ms/step - loss: 0.5018 - crf_viterbi_accuracy: 0.7702\n",
            "\n",
            "Measuring validation accuracy...\n",
            "14335/14335 [==============================] - 57s 4ms/step\n",
            "\n",
            "Validation accuracy: 0.38690\n",
            "\n",
            "Epoch 8/20\n",
            "313/312 [==============================] - 51s 164ms/step - loss: 0.4799 - crf_viterbi_accuracy: 0.7744\n",
            "\n",
            "Measuring validation accuracy...\n",
            "14335/14335 [==============================] - 58s 4ms/step\n",
            "\n",
            "Validation accuracy: 0.38977\n",
            "\n",
            "Epoch 9/20\n",
            "313/312 [==============================] - 51s 164ms/step - loss: 0.4738 - crf_viterbi_accuracy: 0.7748\n",
            "\n",
            "Measuring validation accuracy...\n",
            "14335/14335 [==============================] - 58s 4ms/step\n",
            "\n",
            "Validation accuracy: 0.40376\n",
            "\n",
            "Epoch 10/20\n",
            "313/312 [==============================] - 51s 163ms/step - loss: 0.4617 - crf_viterbi_accuracy: 0.7863\n",
            "\n",
            "Measuring validation accuracy...\n",
            "14335/14335 [==============================] - 58s 4ms/step\n",
            "\n",
            "Validation accuracy: 0.47140\n",
            "\n",
            "Epoch 11/20\n",
            "313/312 [==============================] - 53s 168ms/step - loss: 0.4296 - crf_viterbi_accuracy: 0.8169\n",
            "\n",
            "Measuring validation accuracy...\n",
            "14335/14335 [==============================] - 58s 4ms/step\n",
            "\n",
            "Validation accuracy: 0.53479\n",
            "\n",
            "Epoch 12/20\n",
            "313/312 [==============================] - 52s 165ms/step - loss: 0.4184 - crf_viterbi_accuracy: 0.8301\n",
            "\n",
            "Measuring validation accuracy...\n",
            "14335/14335 [==============================] - 58s 4ms/step\n",
            "\n",
            "Validation accuracy: 0.56313\n",
            "\n",
            "Epoch 13/20\n",
            "313/312 [==============================] - 51s 163ms/step - loss: 0.3738 - crf_viterbi_accuracy: 0.8568\n",
            "\n",
            "Measuring validation accuracy...\n",
            "14335/14335 [==============================] - 57s 4ms/step\n",
            "\n",
            "Validation accuracy: 0.64980\n",
            "\n",
            "Epoch 14/20\n",
            "313/312 [==============================] - 50s 160ms/step - loss: 0.3311 - crf_viterbi_accuracy: 0.8767\n",
            "\n",
            "Measuring validation accuracy...\n",
            "14335/14335 [==============================] - 57s 4ms/step\n",
            "\n",
            "Validation accuracy: 0.69819\n",
            "\n",
            "Epoch 15/20\n",
            "313/312 [==============================] - 52s 165ms/step - loss: 0.2944 - crf_viterbi_accuracy: 0.8931\n",
            "\n",
            "Measuring validation accuracy...\n",
            "14335/14335 [==============================] - 57s 4ms/step\n",
            "\n",
            "Validation accuracy: 0.74032\n",
            "\n",
            "Epoch 16/20\n",
            "313/312 [==============================] - 49s 158ms/step - loss: 0.2495 - crf_viterbi_accuracy: 0.9224\n",
            "\n",
            "Measuring validation accuracy...\n",
            "14335/14335 [==============================] - 57s 4ms/step\n",
            "\n",
            "Validation accuracy: 0.85160\n",
            "\n",
            "Epoch 17/20\n",
            "313/312 [==============================] - 51s 164ms/step - loss: 0.1902 - crf_viterbi_accuracy: 0.9475\n",
            "\n",
            "Measuring validation accuracy...\n",
            "14335/14335 [==============================] - 57s 4ms/step\n",
            "\n",
            "Validation accuracy: 0.87276\n",
            "\n",
            "Epoch 18/20\n",
            "313/312 [==============================] - 52s 166ms/step - loss: 0.1669 - crf_viterbi_accuracy: 0.9549\n",
            "\n",
            "Measuring validation accuracy...\n",
            "14335/14335 [==============================] - 57s 4ms/step\n",
            "\n",
            "Validation accuracy: 0.88551\n",
            "\n",
            "Epoch 19/20\n",
            "313/312 [==============================] - 50s 160ms/step - loss: 0.1529 - crf_viterbi_accuracy: 0.9590\n",
            "\n",
            "Measuring validation accuracy...\n",
            "14335/14335 [==============================] - 57s 4ms/step\n",
            "\n",
            "Validation accuracy: 0.90299\n",
            "\n",
            "Epoch 20/20\n",
            "313/312 [==============================] - 51s 164ms/step - loss: 0.1340 - crf_viterbi_accuracy: 0.9657\n",
            "\n",
            "Measuring validation accuracy...\n",
            "14335/14335 [==============================] - 57s 4ms/step\n",
            "\n",
            "Validation accuracy: 0.91583\n",
            "\n",
            "CPU times: user 49min 28s, sys: 2min 20s, total: 51min 48s\n",
            "Wall time: 36min 30s\n"
          ],
          "name": "stdout"
        }
      ]
    },
    {
      "cell_type": "markdown",
      "metadata": {
        "id": "gn4G8ZqIeDUA"
      },
      "source": [
        "Изменим оптимизатор на Adamax и снесём всё, что связано с CRF:"
      ]
    },
    {
      "cell_type": "code",
      "metadata": {
        "colab": {
          "base_uri": "https://localhost:8080/"
        },
        "id": "YhGtX622Gl05",
        "outputId": "da32cbe0-c037-49c8-d3a9-bc7571616190"
      },
      "source": [
        "model = keras.models.Sequential()\n",
        "model.add(L.InputLayer([None],dtype='int32'))\n",
        "model.add(L.Embedding(len(all_words),50))\n",
        "\n",
        "model.add(L.Bidirectional(L.LSTM(128,return_sequences=True)))\n",
        "model.add(L.Dropout(0.2))\n",
        "\n",
        "model.add(L.Bidirectional(L.LSTM(64,return_sequences=True)))\n",
        "model.add(L.Dropout(0.5))\n",
        "\n",
        "stepwise_dense = L.Dense(len(all_tags),activation='softmax')\n",
        "stepwise_dense = L.TimeDistributed(stepwise_dense)\n",
        "model.add(stepwise_dense)\n",
        "\n",
        "model.compile(\"Adamax\", 'categorical_crossentropy')\n",
        "model.summary()"
      ],
      "execution_count": 23,
      "outputs": [
        {
          "output_type": "stream",
          "text": [
            "Model: \"sequential_5\"\n",
            "_________________________________________________________________\n",
            "Layer (type)                 Output Shape              Param #   \n",
            "=================================================================\n",
            "embedding_5 (Embedding)      (None, None, 50)          500100    \n",
            "_________________________________________________________________\n",
            "bidirectional_6 (Bidirection (None, None, 256)         183296    \n",
            "_________________________________________________________________\n",
            "dropout_5 (Dropout)          (None, None, 256)         0         \n",
            "_________________________________________________________________\n",
            "bidirectional_7 (Bidirection (None, None, 128)         164352    \n",
            "_________________________________________________________________\n",
            "dropout_6 (Dropout)          (None, None, 128)         0         \n",
            "_________________________________________________________________\n",
            "time_distributed_5 (TimeDist (None, None, 14)          1806      \n",
            "=================================================================\n",
            "Total params: 849,554\n",
            "Trainable params: 849,554\n",
            "Non-trainable params: 0\n",
            "_________________________________________________________________\n"
          ],
          "name": "stdout"
        }
      ]
    },
    {
      "cell_type": "code",
      "metadata": {
        "colab": {
          "base_uri": "https://localhost:8080/"
        },
        "id": "G-ga14DaGg5J",
        "outputId": "c228bc3b-661e-4497-c56f-c6b17d13459c"
      },
      "source": [
        "%%time\n",
        "history = model.fit_generator(generate_batches(train_data),len(all_words)/BATCH_SIZE, epochs=20, \n",
        "                    verbose=1, callbacks=[EvaluateAccuracy()],) "
      ],
      "execution_count": 24,
      "outputs": [
        {
          "output_type": "stream",
          "text": [
            "Epoch 1/20\n",
            "313/312 [==============================] - 74s 237ms/step - loss: 0.8473\n",
            "\n",
            "Measuring validation accuracy...\n",
            "14335/14335 [==============================] - 55s 4ms/step\n",
            "\n",
            "Validation accuracy: 0.30542\n",
            "\n",
            "Epoch 2/20\n",
            "313/312 [==============================] - 71s 228ms/step - loss: 0.5874\n",
            "\n",
            "Measuring validation accuracy...\n",
            "14335/14335 [==============================] - 54s 4ms/step\n",
            "\n",
            "Validation accuracy: 0.75116\n",
            "\n",
            "Epoch 3/20\n",
            "313/312 [==============================] - 72s 231ms/step - loss: 0.2321\n",
            "\n",
            "Measuring validation accuracy...\n",
            "14335/14335 [==============================] - 55s 4ms/step\n",
            "\n",
            "Validation accuracy: 0.89252\n",
            "\n",
            "Epoch 4/20\n",
            "313/312 [==============================] - 72s 229ms/step - loss: 0.1440\n",
            "\n",
            "Measuring validation accuracy...\n",
            "14335/14335 [==============================] - 55s 4ms/step\n",
            "\n",
            "Validation accuracy: 0.92148\n",
            "\n",
            "Epoch 5/20\n",
            "313/312 [==============================] - 71s 226ms/step - loss: 0.1122\n",
            "\n",
            "Measuring validation accuracy...\n",
            "14335/14335 [==============================] - 55s 4ms/step\n",
            "\n",
            "Validation accuracy: 0.93554\n",
            "\n",
            "Epoch 6/20\n",
            "313/312 [==============================] - 73s 234ms/step - loss: 0.0879\n",
            "\n",
            "Measuring validation accuracy...\n",
            "14335/14335 [==============================] - 55s 4ms/step\n",
            "\n",
            "Validation accuracy: 0.94416\n",
            "\n",
            "Epoch 7/20\n",
            "313/312 [==============================] - 71s 228ms/step - loss: 0.0777\n",
            "\n",
            "Measuring validation accuracy...\n",
            "14335/14335 [==============================] - 54s 4ms/step\n",
            "\n",
            "Validation accuracy: 0.94764\n",
            "\n",
            "Epoch 8/20\n",
            "313/312 [==============================] - 72s 230ms/step - loss: 0.0707\n",
            "\n",
            "Measuring validation accuracy...\n",
            "14335/14335 [==============================] - 55s 4ms/step\n",
            "\n",
            "Validation accuracy: 0.95128\n",
            "\n",
            "Epoch 9/20\n",
            "313/312 [==============================] - 70s 224ms/step - loss: 0.0669\n",
            "\n",
            "Measuring validation accuracy...\n",
            "14335/14335 [==============================] - 56s 4ms/step\n",
            "\n",
            "Validation accuracy: 0.95308\n",
            "\n",
            "Epoch 10/20\n",
            "313/312 [==============================] - 70s 225ms/step - loss: 0.0605\n",
            "\n",
            "Measuring validation accuracy...\n",
            "14335/14335 [==============================] - 55s 4ms/step\n",
            "\n",
            "Validation accuracy: 0.95485\n",
            "\n",
            "Epoch 11/20\n",
            "313/312 [==============================] - 71s 226ms/step - loss: 0.0592\n",
            "\n",
            "Measuring validation accuracy...\n",
            "14335/14335 [==============================] - 55s 4ms/step\n",
            "\n",
            "Validation accuracy: 0.95658\n",
            "\n",
            "Epoch 12/20\n",
            "313/312 [==============================] - 73s 233ms/step - loss: 0.0540\n",
            "\n",
            "Measuring validation accuracy...\n",
            "14335/14335 [==============================] - 55s 4ms/step\n",
            "\n",
            "Validation accuracy: 0.95818\n",
            "\n",
            "Epoch 13/20\n",
            "313/312 [==============================] - 71s 227ms/step - loss: 0.0543\n",
            "\n",
            "Measuring validation accuracy...\n",
            "14335/14335 [==============================] - 55s 4ms/step\n",
            "\n",
            "Validation accuracy: 0.95904\n",
            "\n",
            "Epoch 14/20\n",
            "313/312 [==============================] - 71s 227ms/step - loss: 0.0508\n",
            "\n",
            "Measuring validation accuracy...\n",
            "14335/14335 [==============================] - 54s 4ms/step\n",
            "\n",
            "Validation accuracy: 0.95961\n",
            "\n",
            "Epoch 15/20\n",
            "313/312 [==============================] - 72s 229ms/step - loss: 0.0502\n",
            "\n",
            "Measuring validation accuracy...\n",
            "14335/14335 [==============================] - 55s 4ms/step\n",
            "\n",
            "Validation accuracy: 0.96007\n",
            "\n",
            "Epoch 16/20\n",
            "313/312 [==============================] - 73s 233ms/step - loss: 0.0480\n",
            "\n",
            "Measuring validation accuracy...\n",
            "14335/14335 [==============================] - 55s 4ms/step\n",
            "\n",
            "Validation accuracy: 0.96092\n",
            "\n",
            "Epoch 17/20\n",
            "313/312 [==============================] - 72s 230ms/step - loss: 0.0486\n",
            "\n",
            "Measuring validation accuracy...\n",
            "14335/14335 [==============================] - 55s 4ms/step\n",
            "\n",
            "Validation accuracy: 0.96092\n",
            "\n",
            "Epoch 18/20\n",
            "313/312 [==============================] - 71s 226ms/step - loss: 0.0470\n",
            "\n",
            "Measuring validation accuracy...\n",
            "14335/14335 [==============================] - 55s 4ms/step\n",
            "\n",
            "Validation accuracy: 0.96106\n",
            "\n",
            "Epoch 19/20\n",
            "313/312 [==============================] - 73s 232ms/step - loss: 0.0456\n",
            "\n",
            "Measuring validation accuracy...\n",
            "14335/14335 [==============================] - 54s 4ms/step\n",
            "\n",
            "Validation accuracy: 0.96203\n",
            "\n",
            "Epoch 20/20\n",
            "313/312 [==============================] - 70s 223ms/step - loss: 0.0450\n",
            "\n",
            "Measuring validation accuracy...\n",
            "14335/14335 [==============================] - 55s 4ms/step\n",
            "\n",
            "Validation accuracy: 0.96280\n",
            "\n",
            "CPU times: user 1h 15min 49s, sys: 3min 1s, total: 1h 18min 51s\n",
            "Wall time: 42min 27s\n"
          ],
          "name": "stdout"
        }
      ]
    },
    {
      "cell_type": "code",
      "metadata": {
        "colab": {
          "base_uri": "https://localhost:8080/"
        },
        "id": "CoKq3PWDynBe",
        "outputId": "60bf7d29-d5ca-4bcb-921a-17f622a648ef"
      },
      "source": [
        "acc = compute_test_accuracy(model)\n",
        "print(\"\\nFinal accuracy: %.5f\"%acc)\n",
        "\n",
        "assert acc>0.96, \"Bidirectional RNNs are better than this!\"\n",
        "print(\"Well done!\")"
      ],
      "execution_count": 32,
      "outputs": [
        {
          "output_type": "stream",
          "text": [
            "14335/14335 [==============================] - 55s 4ms/step\n",
            "\n",
            "Final accuracy: 0.96280\n",
            "Well done!\n"
          ],
          "name": "stdout"
        }
      ]
    },
    {
      "cell_type": "markdown",
      "metadata": {
        "id": "d7L5ETcOyabJ"
      },
      "source": [
        "Итак, самый лучший показатель accuracy:\n",
        "- Validation accuracy: 0.96280; \n",
        "- Final accuracy: 0.96280.  \n",
        "Разумеется, можно и лучше. Будем над этим работать)"
      ]
    },
    {
      "cell_type": "markdown",
      "metadata": {
        "id": "G4ovV7Dagh_u"
      },
      "source": [
        "И отобразим графики:"
      ]
    },
    {
      "cell_type": "code",
      "metadata": {
        "id": "zJrKlxozxmmN"
      },
      "source": [
        "import matplotlib.pyplot as plt"
      ],
      "execution_count": 26,
      "outputs": []
    },
    {
      "cell_type": "code",
      "metadata": {
        "colab": {
          "base_uri": "https://localhost:8080/",
          "height": 295
        },
        "id": "tqWRhfh5qSRp",
        "outputId": "e74130c6-01cc-4f30-b457-793686074210"
      },
      "source": [
        "plt.plot(history.history['loss'])\n",
        "plt.title('model loss')\n",
        "plt.ylabel('loss')\n",
        "plt.xlabel('epochs')\n",
        "plt.show()"
      ],
      "execution_count": 31,
      "outputs": [
        {
          "output_type": "display_data",
          "data": {
            "image/png": "[encoded data removed]",
            "text/plain": [
              "<Figure size 432x288 with 1 Axes>"
            ]
          },
          "metadata": {
            "tags": [],
            "needs_background": "light"
          }
        }
      ]
    },
    {
      "cell_type": "markdown",
      "metadata": {
        "id": "UWdaxLtqyG4K"
      },
      "source": [
        "Наша loss function стремится к нулю, причем всё ближе на каждой последующей итерации."
      ]
    },
    {
      "cell_type": "markdown",
      "metadata": {
        "id": "dSy9iYDnyTZM"
      },
      "source": [
        "Что можно сказать о тегах?"
      ]
    },
    {
      "cell_type": "code",
      "metadata": {
        "id": "ZLpzjtMliY2C"
      },
      "source": [
        "import pylab"
      ],
      "execution_count": null,
      "outputs": []
    },
    {
      "cell_type": "code",
      "metadata": {
        "colab": {
          "base_uri": "https://localhost:8080/",
          "height": 863
        },
        "id": "Dn54sf1oiY3k",
        "outputId": "0a6293c4-d9a1-436d-cb05-b6aa2308d69a"
      },
      "source": [
        "def plot(embeddings, labels):\n",
        "  assert embeddings.shape[0] >= len(labels), 'More labels than embeddings'\n",
        "  pylab.figure(figsize=(15,15))  # in inches\n",
        "  for i, label in enumerate(labels):\n",
        "    x, y = embeddings[i,:]\n",
        "    pylab.scatter(x, y)\n",
        "    pylab.annotate(label, xy=(x, y), xytext=(5, 2), textcoords='offset points',\n",
        "                   ha='right', va='bottom')\n",
        "  pylab.show()\n",
        "\n",
        "words = all_tags\n",
        "matrix = []\n",
        "for i in embedding_matrix:\n",
        "  matrix.append([min(i), max(i)])\n",
        "plot(np.array(matrix), words)"
      ],
      "execution_count": null,
      "outputs": [
        {
          "output_type": "display_data",
          "data": {
            "image/png": "[encoded data removed]",
            "text/plain": [
              "<Figure size 1080x1080 with 1 Axes>"
            ]
          },
          "metadata": {
            "tags": [],
            "needs_background": "light"
          }
        }
      ]
    },
    {
      "cell_type": "markdown",
      "metadata": {
        "id": "SSDC7VHPgt-j"
      },
      "source": [
        "Итак, на графике рассеяния отчетливо видно, как несколько частей речи формируют что-то типа кластеров. Так, например, рядом находятся глагол, наречие и \"х\" (другие части речи). Поскольку основные части речи названы, то можно предположить, что другие - это, например, причастие или деепричастие. А ведь они в большинстве своем образованы от глаголов, так что вполне могут существовать рядом.  \n",
        "Еще стоит отметить дальность существительных от остальных частей.   \n",
        "Отдельной группкой идут местоимения, точки, знаки, а также тэг окончания последовательности.  \n",
        "Неопознанные слова тоже присутствуют, но чуть поодаль. Они не относятся к общему кластеру, а отделены от всех.  \n",
        "В целом картина вполне логичная.  \n",
        "Что можно сказать про слова?"
      ]
    },
    {
      "cell_type": "code",
      "metadata": {
        "colab": {
          "base_uri": "https://localhost:8080/",
          "height": 863
        },
        "id": "DjXWHunOiY5v",
        "outputId": "9a5474e9-2a42-49f9-d36a-bb87eba1aa46"
      },
      "source": [
        "plot(np.array(matrix), all_words[:50])"
      ],
      "execution_count": null,
      "outputs": [
        {
          "output_type": "display_data",
          "data": {
            "image/png": "[encoded data removed]",
            "text/plain": [
              "<Figure size 1080x1080 with 1 Axes>"
            ]
          },
          "metadata": {
            "tags": [],
            "needs_background": "light"
          }
        }
      ]
    },
    {
      "cell_type": "markdown",
      "metadata": {
        "id": "D3lIkiGWm0Fr"
      },
      "source": [
        "Очень наглядна ситуация со словами: все значимые слова сгруппированы в правом нижнем углу. Менее плотный кластер - верхний левый угол - занимают знаки, частицы, предлоги. Там же встречаются все слова, что модель определила как #UNK# и #EOS#.  \n",
        "Тоже вполне логичное распределение. Из этого следует вывод, что части речи определяются достаточно точно."
      ]
    },
    {
      "cell_type": "markdown",
      "metadata": {
        "id": "AG_wuMVf8aH0"
      },
      "source": [
        "\n",
        "#### Some tips\n",
        "Here there are a few more tips on how to improve training that are a bit trickier to impliment. We strongly suggest that you try them _after_ you've got a good initial model.\n",
        "* __Use pre-trained embeddings__: you can use pre-trained weights from [there](http://ahogrammer.com/2017/01/20/the-list-of-pretrained-word-embeddings/) to kickstart your Embedding layer.\n",
        "  * Embedding layer has a matrix W (layer.W) which contains word embeddings for each word in the dictionary. You can just overwrite them with tf.assign.\n",
        "  * When using pre-trained embeddings, pay attention to the fact that model's dictionary is different from your own.\n",
        "  * You may want to switch trainable=False for embedding layer in first few epochs as in regular fine-tuning.  \n",
        "* __Go beyond SimpleRNN__: there's `keras.layers.LSTM` and `keras.layers.GRU`\n",
        "  * If you want to use a custom recurrent Cell, read [this](https://keras.io/layers/recurrent/#rnn)\n",
        "  * You can also use 1D Convolutions (`keras.layers.Conv1D`). They are often as good as recurrent layers but with less overfitting.\n",
        "* __Stack more layers__: if there is a common motif to this course it's about stacking layers\n",
        "  * You can just add recurrent and 1dconv layers on top of one another and keras will understand it\n",
        "  * Just remember that bigger networks may need more epochs to train\n",
        "* __Regularization__: you can apply dropouts as usual but also in an RNN-specific way\n",
        "  * `keras.layers.Dropout` works inbetween RNN layers\n",
        "  * Recurrent layers also have `recurrent_dropout` parameter\n",
        "* __Gradient clipping__: If your training isn't as stable as you'd like, set `clipnorm` in your optimizer.\n",
        "  * Which is to say, it's a good idea to watch over your loss curve at each minibatch. Try tensorboard callback or something similar.\n",
        "* __Word Dropout__: tl;dr randomly replace words with UNK during training. \n",
        "  * This can also simulate increased amount of unknown words in the test set\n",
        "* __Larger vocabulary__: You can obtain greater performance by expanding your model's input dictionary from 5000 to up to every single word!\n",
        "  * Just make sure your model doesn't overfit due to so many parameters.\n",
        "  * Combined with regularizers or pre-trained word-vectors this could be really good cuz right now our model is blind to >5% of words.  \n",
        "* __More efficient batching__: right now TF spends a lot of time iterating over \"0\"s\n",
        "  * This happens because batch is always padded to the length of a longest sentence\n",
        "  * You can speed things up by pre-generating batches of similar lengths and feeding it with randomly chosen pre-generated batch.\n",
        "  * This technically breaks the i.i.d. assumption, but it works unless you come up with some insane rnn architectures.\n",
        "* __The most important advice__: don't cram in everything at once!\n",
        "  * If you stuff in a lot of modiffications, some of them almost inevitably gonna be detrimental and you'll never know which of them are.\n",
        "  * Try to instead go in small iterations and record experiment results to guide further search.\n",
        "    \n",
        "Good hunting!"
      ]
    },
    {
      "cell_type": "code",
      "metadata": {
        "id": "TF1T00yr8RvM"
      },
      "source": [
        ""
      ],
      "execution_count": null,
      "outputs": []
    }
  ]
}
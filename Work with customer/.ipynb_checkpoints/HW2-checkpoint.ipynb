{
 "cells": [
  {
   "cell_type": "markdown",
   "id": "c81f654a",
   "metadata": {},
   "source": [
    "# Домашнее задание по теме \"Методология ведения DS-проектов\""
   ]
  },
  {
   "cell_type": "markdown",
   "id": "6e7cc9c9",
   "metadata": {},
   "source": [
    "## 1. Понимание бизнеса\n",
    "### 1.1. Цель\n",
    "Предсказать экспертную оценку качество вина по шкале от 0 до 10.\n",
    "\n",
    "### 1.2 Описание\n",
    "***Выдержка из описания задания на kaggle***  \n",
    "Набор данных загружен из репозитория машинного обучения UCI.  \n",
    "Из-за проблем с конфиденциальностью и логистикой доступны только физико-химические (исходные) и сенсорные (выходные) переменные (например, нет данных о сортах винограда, марке вина, продажной цене вина и т. д.).  \n",
    "Классы упорядочены и не сбалансированы. Актуальность переменных под сомнением, несколько значений были удалены случайным образом.  \n",
    "\n",
    "***Какие признаки в наличии:***\n",
    "1. type - тип вина (красное/белое)\n",
    "2. fixed acidity - фиксированная кислотность\n",
    "3. volatile acidity - летучая кислотность\n",
    "4. citric acid - лимонная кислота\n",
    "5. residual sugar - остаточный сахар\n",
    "6. chlorides - хлориды\n",
    "7. free sulfur dioxide - свободный диоксид серы \n",
    "8. total sulfur dioxide - общий диоксид серы\n",
    "9. density - плотность\n",
    "10. pH - водородный показатель кислотности\n",
    "11. sulphates - сульфаты\n",
    "12. alcohol - процент содержания спирта"
   ]
  },
  {
   "cell_type": "markdown",
   "id": "0a3d9a97",
   "metadata": {},
   "source": [
    "## 2. Data Understanding  \n",
    "### 2.1 Import Libraries"
   ]
  },
  {
   "cell_type": "code",
   "execution_count": 1,
   "id": "92d270e1",
   "metadata": {},
   "outputs": [],
   "source": [
    "import warnings\n",
    "warnings.filterwarnings('ignore')\n",
    "\n",
    "import pandas as pd\n",
    "import numpy as np\n",
    "\n",
    "from collections import Counter\n",
    "from imblearn.over_sampling import SMOTE\n",
    "from sklearn.model_selection import cross_validate\n",
    "from sklearn.preprocessing import StandardScaler\n",
    "from sklearn.model_selection import train_test_split\n",
    "from sklearn.pipeline import Pipeline\n",
    "from sklearn.tree import DecisionTreeClassifier\n",
    "from sklearn.linear_model import LogisticRegression\n",
    "from sklearn.svm import SVC\n",
    "from sklearn.neighbors import KNeighborsClassifier\n",
    "from sklearn.model_selection import GridSearchCV\n",
    "from sklearn.ensemble import RandomForestClassifier, GradientBoostingClassifier\n",
    "\n",
    "\n",
    "import matplotlib.pyplot as plt\n",
    "import seaborn as sns"
   ]
  },
  {
   "cell_type": "markdown",
   "id": "f0f46d89",
   "metadata": {},
   "source": [
    "### 2.2 Загрузка данных"
   ]
  },
  {
   "cell_type": "code",
   "execution_count": 2,
   "id": "51b0516f",
   "metadata": {},
   "outputs": [
    {
     "data": {
      "text/html": [
       "<div>\n",
       "<style scoped>\n",
       "    .dataframe tbody tr th:only-of-type {\n",
       "        vertical-align: middle;\n",
       "    }\n",
       "\n",
       "    .dataframe tbody tr th {\n",
       "        vertical-align: top;\n",
       "    }\n",
       "\n",
       "    .dataframe thead th {\n",
       "        text-align: right;\n",
       "    }\n",
       "</style>\n",
       "<table border=\"1\" class=\"dataframe\">\n",
       "  <thead>\n",
       "    <tr style=\"text-align: right;\">\n",
       "      <th></th>\n",
       "      <th>type</th>\n",
       "      <th>fixed acidity</th>\n",
       "      <th>volatile acidity</th>\n",
       "      <th>citric acid</th>\n",
       "      <th>residual sugar</th>\n",
       "      <th>chlorides</th>\n",
       "      <th>free sulfur dioxide</th>\n",
       "      <th>total sulfur dioxide</th>\n",
       "      <th>density</th>\n",
       "      <th>pH</th>\n",
       "      <th>sulphates</th>\n",
       "      <th>alcohol</th>\n",
       "      <th>quality</th>\n",
       "    </tr>\n",
       "  </thead>\n",
       "  <tbody>\n",
       "    <tr>\n",
       "      <th>0</th>\n",
       "      <td>white</td>\n",
       "      <td>7.0</td>\n",
       "      <td>0.27</td>\n",
       "      <td>0.36</td>\n",
       "      <td>20.7</td>\n",
       "      <td>0.045</td>\n",
       "      <td>45.0</td>\n",
       "      <td>170.0</td>\n",
       "      <td>1.0010</td>\n",
       "      <td>3.00</td>\n",
       "      <td>0.45</td>\n",
       "      <td>8.8</td>\n",
       "      <td>6</td>\n",
       "    </tr>\n",
       "    <tr>\n",
       "      <th>1</th>\n",
       "      <td>white</td>\n",
       "      <td>6.3</td>\n",
       "      <td>0.30</td>\n",
       "      <td>0.34</td>\n",
       "      <td>1.6</td>\n",
       "      <td>0.049</td>\n",
       "      <td>14.0</td>\n",
       "      <td>132.0</td>\n",
       "      <td>0.9940</td>\n",
       "      <td>3.30</td>\n",
       "      <td>0.49</td>\n",
       "      <td>9.5</td>\n",
       "      <td>6</td>\n",
       "    </tr>\n",
       "    <tr>\n",
       "      <th>2</th>\n",
       "      <td>white</td>\n",
       "      <td>8.1</td>\n",
       "      <td>0.28</td>\n",
       "      <td>0.40</td>\n",
       "      <td>6.9</td>\n",
       "      <td>0.050</td>\n",
       "      <td>30.0</td>\n",
       "      <td>97.0</td>\n",
       "      <td>0.9951</td>\n",
       "      <td>3.26</td>\n",
       "      <td>0.44</td>\n",
       "      <td>10.1</td>\n",
       "      <td>6</td>\n",
       "    </tr>\n",
       "    <tr>\n",
       "      <th>3</th>\n",
       "      <td>white</td>\n",
       "      <td>7.2</td>\n",
       "      <td>0.23</td>\n",
       "      <td>0.32</td>\n",
       "      <td>8.5</td>\n",
       "      <td>0.058</td>\n",
       "      <td>47.0</td>\n",
       "      <td>186.0</td>\n",
       "      <td>0.9956</td>\n",
       "      <td>3.19</td>\n",
       "      <td>0.40</td>\n",
       "      <td>9.9</td>\n",
       "      <td>6</td>\n",
       "    </tr>\n",
       "    <tr>\n",
       "      <th>4</th>\n",
       "      <td>white</td>\n",
       "      <td>7.2</td>\n",
       "      <td>0.23</td>\n",
       "      <td>0.32</td>\n",
       "      <td>8.5</td>\n",
       "      <td>0.058</td>\n",
       "      <td>47.0</td>\n",
       "      <td>186.0</td>\n",
       "      <td>0.9956</td>\n",
       "      <td>3.19</td>\n",
       "      <td>0.40</td>\n",
       "      <td>9.9</td>\n",
       "      <td>6</td>\n",
       "    </tr>\n",
       "  </tbody>\n",
       "</table>\n",
       "</div>"
      ],
      "text/plain": [
       "    type  fixed acidity  volatile acidity  citric acid  residual sugar  \\\n",
       "0  white            7.0              0.27         0.36            20.7   \n",
       "1  white            6.3              0.30         0.34             1.6   \n",
       "2  white            8.1              0.28         0.40             6.9   \n",
       "3  white            7.2              0.23         0.32             8.5   \n",
       "4  white            7.2              0.23         0.32             8.5   \n",
       "\n",
       "   chlorides  free sulfur dioxide  total sulfur dioxide  density    pH  \\\n",
       "0      0.045                 45.0                 170.0   1.0010  3.00   \n",
       "1      0.049                 14.0                 132.0   0.9940  3.30   \n",
       "2      0.050                 30.0                  97.0   0.9951  3.26   \n",
       "3      0.058                 47.0                 186.0   0.9956  3.19   \n",
       "4      0.058                 47.0                 186.0   0.9956  3.19   \n",
       "\n",
       "   sulphates  alcohol  quality  \n",
       "0       0.45      8.8        6  \n",
       "1       0.49      9.5        6  \n",
       "2       0.44     10.1        6  \n",
       "3       0.40      9.9        6  \n",
       "4       0.40      9.9        6  "
      ]
     },
     "execution_count": 2,
     "metadata": {},
     "output_type": "execute_result"
    }
   ],
   "source": [
    "df = pd.read_csv('winequalityN.csv')\n",
    "df.head()"
   ]
  },
  {
   "cell_type": "code",
   "execution_count": 3,
   "id": "dece45d7",
   "metadata": {},
   "outputs": [
    {
     "name": "stdout",
     "output_type": "stream",
     "text": [
      "<class 'pandas.core.frame.DataFrame'>\n",
      "RangeIndex: 6497 entries, 0 to 6496\n",
      "Data columns (total 13 columns):\n",
      " #   Column                Non-Null Count  Dtype  \n",
      "---  ------                --------------  -----  \n",
      " 0   type                  6497 non-null   object \n",
      " 1   fixed acidity         6487 non-null   float64\n",
      " 2   volatile acidity      6489 non-null   float64\n",
      " 3   citric acid           6494 non-null   float64\n",
      " 4   residual sugar        6495 non-null   float64\n",
      " 5   chlorides             6495 non-null   float64\n",
      " 6   free sulfur dioxide   6497 non-null   float64\n",
      " 7   total sulfur dioxide  6497 non-null   float64\n",
      " 8   density               6497 non-null   float64\n",
      " 9   pH                    6488 non-null   float64\n",
      " 10  sulphates             6493 non-null   float64\n",
      " 11  alcohol               6497 non-null   float64\n",
      " 12  quality               6497 non-null   int64  \n",
      "dtypes: float64(11), int64(1), object(1)\n",
      "memory usage: 660.0+ KB\n"
     ]
    }
   ],
   "source": [
    "df.info()"
   ]
  },
  {
   "cell_type": "markdown",
   "id": "4da915dc",
   "metadata": {},
   "source": [
    "### 2.2.1 Посмотрим на переменные"
   ]
  },
  {
   "cell_type": "code",
   "execution_count": 4,
   "id": "f34c4640",
   "metadata": {},
   "outputs": [
    {
     "data": {
      "text/html": [
       "<div>\n",
       "<style scoped>\n",
       "    .dataframe tbody tr th:only-of-type {\n",
       "        vertical-align: middle;\n",
       "    }\n",
       "\n",
       "    .dataframe tbody tr th {\n",
       "        vertical-align: top;\n",
       "    }\n",
       "\n",
       "    .dataframe thead th {\n",
       "        text-align: right;\n",
       "    }\n",
       "</style>\n",
       "<table border=\"1\" class=\"dataframe\">\n",
       "  <thead>\n",
       "    <tr style=\"text-align: right;\">\n",
       "      <th></th>\n",
       "      <th>fixed acidity</th>\n",
       "      <th>volatile acidity</th>\n",
       "      <th>citric acid</th>\n",
       "      <th>residual sugar</th>\n",
       "      <th>chlorides</th>\n",
       "      <th>free sulfur dioxide</th>\n",
       "      <th>total sulfur dioxide</th>\n",
       "      <th>density</th>\n",
       "      <th>pH</th>\n",
       "      <th>sulphates</th>\n",
       "      <th>alcohol</th>\n",
       "      <th>quality</th>\n",
       "    </tr>\n",
       "  </thead>\n",
       "  <tbody>\n",
       "    <tr>\n",
       "      <th>count</th>\n",
       "      <td>6487.000000</td>\n",
       "      <td>6489.000000</td>\n",
       "      <td>6494.000000</td>\n",
       "      <td>6495.000000</td>\n",
       "      <td>6495.000000</td>\n",
       "      <td>6497.000000</td>\n",
       "      <td>6497.000000</td>\n",
       "      <td>6497.000000</td>\n",
       "      <td>6488.000000</td>\n",
       "      <td>6493.000000</td>\n",
       "      <td>6497.000000</td>\n",
       "      <td>6497.000000</td>\n",
       "    </tr>\n",
       "    <tr>\n",
       "      <th>mean</th>\n",
       "      <td>7.216579</td>\n",
       "      <td>0.339691</td>\n",
       "      <td>0.318722</td>\n",
       "      <td>5.444326</td>\n",
       "      <td>0.056042</td>\n",
       "      <td>30.525319</td>\n",
       "      <td>115.744574</td>\n",
       "      <td>0.994697</td>\n",
       "      <td>3.218395</td>\n",
       "      <td>0.531215</td>\n",
       "      <td>10.491801</td>\n",
       "      <td>5.818378</td>\n",
       "    </tr>\n",
       "    <tr>\n",
       "      <th>std</th>\n",
       "      <td>1.296750</td>\n",
       "      <td>0.164649</td>\n",
       "      <td>0.145265</td>\n",
       "      <td>4.758125</td>\n",
       "      <td>0.035036</td>\n",
       "      <td>17.749400</td>\n",
       "      <td>56.521855</td>\n",
       "      <td>0.002999</td>\n",
       "      <td>0.160748</td>\n",
       "      <td>0.148814</td>\n",
       "      <td>1.192712</td>\n",
       "      <td>0.873255</td>\n",
       "    </tr>\n",
       "    <tr>\n",
       "      <th>min</th>\n",
       "      <td>3.800000</td>\n",
       "      <td>0.080000</td>\n",
       "      <td>0.000000</td>\n",
       "      <td>0.600000</td>\n",
       "      <td>0.009000</td>\n",
       "      <td>1.000000</td>\n",
       "      <td>6.000000</td>\n",
       "      <td>0.987110</td>\n",
       "      <td>2.720000</td>\n",
       "      <td>0.220000</td>\n",
       "      <td>8.000000</td>\n",
       "      <td>3.000000</td>\n",
       "    </tr>\n",
       "    <tr>\n",
       "      <th>25%</th>\n",
       "      <td>6.400000</td>\n",
       "      <td>0.230000</td>\n",
       "      <td>0.250000</td>\n",
       "      <td>1.800000</td>\n",
       "      <td>0.038000</td>\n",
       "      <td>17.000000</td>\n",
       "      <td>77.000000</td>\n",
       "      <td>0.992340</td>\n",
       "      <td>3.110000</td>\n",
       "      <td>0.430000</td>\n",
       "      <td>9.500000</td>\n",
       "      <td>5.000000</td>\n",
       "    </tr>\n",
       "    <tr>\n",
       "      <th>50%</th>\n",
       "      <td>7.000000</td>\n",
       "      <td>0.290000</td>\n",
       "      <td>0.310000</td>\n",
       "      <td>3.000000</td>\n",
       "      <td>0.047000</td>\n",
       "      <td>29.000000</td>\n",
       "      <td>118.000000</td>\n",
       "      <td>0.994890</td>\n",
       "      <td>3.210000</td>\n",
       "      <td>0.510000</td>\n",
       "      <td>10.300000</td>\n",
       "      <td>6.000000</td>\n",
       "    </tr>\n",
       "    <tr>\n",
       "      <th>75%</th>\n",
       "      <td>7.700000</td>\n",
       "      <td>0.400000</td>\n",
       "      <td>0.390000</td>\n",
       "      <td>8.100000</td>\n",
       "      <td>0.065000</td>\n",
       "      <td>41.000000</td>\n",
       "      <td>156.000000</td>\n",
       "      <td>0.996990</td>\n",
       "      <td>3.320000</td>\n",
       "      <td>0.600000</td>\n",
       "      <td>11.300000</td>\n",
       "      <td>6.000000</td>\n",
       "    </tr>\n",
       "    <tr>\n",
       "      <th>max</th>\n",
       "      <td>15.900000</td>\n",
       "      <td>1.580000</td>\n",
       "      <td>1.660000</td>\n",
       "      <td>65.800000</td>\n",
       "      <td>0.611000</td>\n",
       "      <td>289.000000</td>\n",
       "      <td>440.000000</td>\n",
       "      <td>1.038980</td>\n",
       "      <td>4.010000</td>\n",
       "      <td>2.000000</td>\n",
       "      <td>14.900000</td>\n",
       "      <td>9.000000</td>\n",
       "    </tr>\n",
       "  </tbody>\n",
       "</table>\n",
       "</div>"
      ],
      "text/plain": [
       "       fixed acidity  volatile acidity  citric acid  residual sugar  \\\n",
       "count    6487.000000       6489.000000  6494.000000     6495.000000   \n",
       "mean        7.216579          0.339691     0.318722        5.444326   \n",
       "std         1.296750          0.164649     0.145265        4.758125   \n",
       "min         3.800000          0.080000     0.000000        0.600000   \n",
       "25%         6.400000          0.230000     0.250000        1.800000   \n",
       "50%         7.000000          0.290000     0.310000        3.000000   \n",
       "75%         7.700000          0.400000     0.390000        8.100000   \n",
       "max        15.900000          1.580000     1.660000       65.800000   \n",
       "\n",
       "         chlorides  free sulfur dioxide  total sulfur dioxide      density  \\\n",
       "count  6495.000000          6497.000000           6497.000000  6497.000000   \n",
       "mean      0.056042            30.525319            115.744574     0.994697   \n",
       "std       0.035036            17.749400             56.521855     0.002999   \n",
       "min       0.009000             1.000000              6.000000     0.987110   \n",
       "25%       0.038000            17.000000             77.000000     0.992340   \n",
       "50%       0.047000            29.000000            118.000000     0.994890   \n",
       "75%       0.065000            41.000000            156.000000     0.996990   \n",
       "max       0.611000           289.000000            440.000000     1.038980   \n",
       "\n",
       "                pH    sulphates      alcohol      quality  \n",
       "count  6488.000000  6493.000000  6497.000000  6497.000000  \n",
       "mean      3.218395     0.531215    10.491801     5.818378  \n",
       "std       0.160748     0.148814     1.192712     0.873255  \n",
       "min       2.720000     0.220000     8.000000     3.000000  \n",
       "25%       3.110000     0.430000     9.500000     5.000000  \n",
       "50%       3.210000     0.510000    10.300000     6.000000  \n",
       "75%       3.320000     0.600000    11.300000     6.000000  \n",
       "max       4.010000     2.000000    14.900000     9.000000  "
      ]
     },
     "execution_count": 4,
     "metadata": {},
     "output_type": "execute_result"
    }
   ],
   "source": [
    "df.describe()"
   ]
  },
  {
   "cell_type": "markdown",
   "id": "78887691",
   "metadata": {},
   "source": [
    "Что можно сказать: среднее качество вина - 5,82. Минимальное значение - 3. Разве нет самых некачественных в выборке?  \n",
    "    Еще можно заметить, что в составе не всегда присутствует, например, лимонная кислота, а свободный диоксид серы имеет достаточно сильный разброс. Вероятно,  в столбце есть выбросы. То же можно сказать об общем диоксиде серы."
   ]
  },
  {
   "cell_type": "markdown",
   "id": "4f4452c8",
   "metadata": {},
   "source": [
    "Также достаточно явны пропуски в данных:"
   ]
  },
  {
   "cell_type": "code",
   "execution_count": 5,
   "id": "d17ca458",
   "metadata": {},
   "outputs": [
    {
     "data": {
      "text/plain": [
       "type                     0\n",
       "fixed acidity           10\n",
       "volatile acidity         8\n",
       "citric acid              3\n",
       "residual sugar           2\n",
       "chlorides                2\n",
       "free sulfur dioxide      0\n",
       "total sulfur dioxide     0\n",
       "density                  0\n",
       "pH                       9\n",
       "sulphates                4\n",
       "alcohol                  0\n",
       "quality                  0\n",
       "dtype: int64"
      ]
     },
     "execution_count": 5,
     "metadata": {},
     "output_type": "execute_result"
    }
   ],
   "source": [
    "df.isna().sum()"
   ]
  },
  {
   "cell_type": "markdown",
   "id": "accc563d",
   "metadata": {},
   "source": [
    "Построим тепловую карту на основе матрицы корреляции, чтобы посмотреть, какие переменные коррелируют с целевой:"
   ]
  },
  {
   "cell_type": "code",
   "execution_count": 6,
   "id": "96db6c3b",
   "metadata": {},
   "outputs": [
    {
     "data": {
      "text/plain": [
       "Text(0.5, 1.0, 'Тепловая карта корреляции переменных датасета wine df')"
      ]
     },
     "execution_count": 6,
     "metadata": {},
     "output_type": "execute_result"
    },
    {
     "data": {
      "image/png": "[encoded data removed]",
      "text/plain": [
       "<Figure size 1200x1200 with 2 Axes>"
      ]
     },
     "metadata": {
      "needs_background": "light"
     },
     "output_type": "display_data"
    }
   ],
   "source": [
    "plt.figure(figsize=(15,15), dpi=80) \n",
    "sns.heatmap(df.corr(), square=True, cbar_kws = {'shrink': .9}, \n",
    "            cmap=sns.diverging_palette(220, 10, as_cmap=True), annot=True, annot_kws = {'fontsize': 10})\n",
    "plt.title(\"Тепловая карта корреляции переменных датасета wine df\")"
   ]
  },
  {
   "cell_type": "markdown",
   "id": "a3c9347f",
   "metadata": {},
   "source": [
    "Что мы видим: переменные-сульфаты коррелируют друг с другом. Также довольно сильная обратная корреляция между плотностью и процентом содержания алкоголя.  \n",
    "Что же касается целевой переменной, то на нее влияет в достаточной степени процент содержания алкоголя, плотность и летучая кислотность. Поскольку мы отметили корреляцию между переменными выше, возможно, в перспективе стоит выбрать только один признак: либо alcohol, либо density.  \n",
    "Также оставить можно хлориды и общий диоксид серы. Поскольку диоксиды, как писали выше, коррелируют между собой, оставим только total sulfur dioxide."
   ]
  },
  {
   "cell_type": "markdown",
   "id": "2ac65804",
   "metadata": {},
   "source": [
    "Теперь мы можем выделить только те признаки, на которых можно построить хорошую модель."
   ]
  },
  {
   "cell_type": "markdown",
   "id": "69013642",
   "metadata": {},
   "source": [
    "Теперь посмотрим, какие вина представлены в датасете:"
   ]
  },
  {
   "cell_type": "code",
   "execution_count": 7,
   "id": "469a315d",
   "metadata": {},
   "outputs": [
    {
     "data": {
      "text/plain": [
       "array(['white', 'red'], dtype=object)"
      ]
     },
     "execution_count": 7,
     "metadata": {},
     "output_type": "execute_result"
    }
   ],
   "source": [
    "df.type.unique()"
   ]
  },
  {
   "cell_type": "code",
   "execution_count": 8,
   "id": "d71804b2",
   "metadata": {},
   "outputs": [
    {
     "data": {
      "image/png": "[encoded data removed]",
      "text/plain": [
       "<Figure size 720x504 with 1 Axes>"
      ]
     },
     "metadata": {
      "needs_background": "light"
     },
     "output_type": "display_data"
    }
   ],
   "source": [
    "plt.figure(figsize=(10,7))\n",
    "sns.countplot(x='type', data=df, palette='hls')\n",
    "plt.title('Гистограмма типов вина')\n",
    "plt.show()"
   ]
  },
  {
   "cell_type": "markdown",
   "id": "c690d745",
   "metadata": {},
   "source": [
    "Красное вино представлено в гораздо меньшем количестве, чем белое. Разница составляет примерно 1:3.  \n",
    "\n",
    "Перейдем к целевой переменной и вспомним про упоминание дисбаланса классов в начале, а также более явное упоминание об этом при статистическом анализе датафрейма:"
   ]
  },
  {
   "cell_type": "code",
   "execution_count": 9,
   "id": "6b225874",
   "metadata": {},
   "outputs": [
    {
     "data": {
      "text/plain": [
       "<AxesSubplot:title={'center':'Дисбаланс классов целевой переменной'}, xlabel='quality', ylabel='count'>"
      ]
     },
     "execution_count": 9,
     "metadata": {},
     "output_type": "execute_result"
    },
    {
     "data": {
      "image/png": "[encoded data removed]",
      "text/plain": [
       "<Figure size 800x560 with 1 Axes>"
      ]
     },
     "metadata": {
      "needs_background": "light"
     },
     "output_type": "display_data"
    }
   ],
   "source": [
    "plt.figure(figsize=(10,7), dpi=80)  \n",
    "plt.title('Дисбаланс классов целевой переменной')\n",
    "sns.countplot(x='quality',data=df)"
   ]
  },
  {
   "cell_type": "markdown",
   "id": "41b3d76c",
   "metadata": {},
   "source": [
    "Итак, действительно на лицо явный дисбаланс. Классов 0, 1 и 2 нет совсем, а классы 9 и 3 представлены в совсем малом количестве. Придется поработать с выборкой."
   ]
  },
  {
   "cell_type": "markdown",
   "id": "489558cf",
   "metadata": {},
   "source": [
    "## 3. Data Preparation"
   ]
  },
  {
   "cell_type": "markdown",
   "id": "04f2e4a5",
   "metadata": {},
   "source": [
    "### 3.1 Преобразуем категориальные переменные в числовые"
   ]
  },
  {
   "cell_type": "code",
   "execution_count": 10,
   "id": "16aadd3d",
   "metadata": {},
   "outputs": [
    {
     "data": {
      "text/html": [
       "<div>\n",
       "<style scoped>\n",
       "    .dataframe tbody tr th:only-of-type {\n",
       "        vertical-align: middle;\n",
       "    }\n",
       "\n",
       "    .dataframe tbody tr th {\n",
       "        vertical-align: top;\n",
       "    }\n",
       "\n",
       "    .dataframe thead th {\n",
       "        text-align: right;\n",
       "    }\n",
       "</style>\n",
       "<table border=\"1\" class=\"dataframe\">\n",
       "  <thead>\n",
       "    <tr style=\"text-align: right;\">\n",
       "      <th></th>\n",
       "      <th>type</th>\n",
       "      <th>fixed acidity</th>\n",
       "      <th>volatile acidity</th>\n",
       "      <th>citric acid</th>\n",
       "      <th>residual sugar</th>\n",
       "      <th>chlorides</th>\n",
       "      <th>free sulfur dioxide</th>\n",
       "      <th>total sulfur dioxide</th>\n",
       "      <th>density</th>\n",
       "      <th>pH</th>\n",
       "      <th>sulphates</th>\n",
       "      <th>alcohol</th>\n",
       "      <th>quality</th>\n",
       "    </tr>\n",
       "  </thead>\n",
       "  <tbody>\n",
       "    <tr>\n",
       "      <th>0</th>\n",
       "      <td>white</td>\n",
       "      <td>7.0</td>\n",
       "      <td>0.27</td>\n",
       "      <td>0.36</td>\n",
       "      <td>20.7</td>\n",
       "      <td>0.045</td>\n",
       "      <td>45.0</td>\n",
       "      <td>170.0</td>\n",
       "      <td>1.0010</td>\n",
       "      <td>3.00</td>\n",
       "      <td>0.45</td>\n",
       "      <td>8.8</td>\n",
       "      <td>6</td>\n",
       "    </tr>\n",
       "    <tr>\n",
       "      <th>1</th>\n",
       "      <td>white</td>\n",
       "      <td>6.3</td>\n",
       "      <td>0.30</td>\n",
       "      <td>0.34</td>\n",
       "      <td>1.6</td>\n",
       "      <td>0.049</td>\n",
       "      <td>14.0</td>\n",
       "      <td>132.0</td>\n",
       "      <td>0.9940</td>\n",
       "      <td>3.30</td>\n",
       "      <td>0.49</td>\n",
       "      <td>9.5</td>\n",
       "      <td>6</td>\n",
       "    </tr>\n",
       "    <tr>\n",
       "      <th>2</th>\n",
       "      <td>white</td>\n",
       "      <td>8.1</td>\n",
       "      <td>0.28</td>\n",
       "      <td>0.40</td>\n",
       "      <td>6.9</td>\n",
       "      <td>0.050</td>\n",
       "      <td>30.0</td>\n",
       "      <td>97.0</td>\n",
       "      <td>0.9951</td>\n",
       "      <td>3.26</td>\n",
       "      <td>0.44</td>\n",
       "      <td>10.1</td>\n",
       "      <td>6</td>\n",
       "    </tr>\n",
       "    <tr>\n",
       "      <th>3</th>\n",
       "      <td>white</td>\n",
       "      <td>7.2</td>\n",
       "      <td>0.23</td>\n",
       "      <td>0.32</td>\n",
       "      <td>8.5</td>\n",
       "      <td>0.058</td>\n",
       "      <td>47.0</td>\n",
       "      <td>186.0</td>\n",
       "      <td>0.9956</td>\n",
       "      <td>3.19</td>\n",
       "      <td>0.40</td>\n",
       "      <td>9.9</td>\n",
       "      <td>6</td>\n",
       "    </tr>\n",
       "    <tr>\n",
       "      <th>4</th>\n",
       "      <td>white</td>\n",
       "      <td>7.2</td>\n",
       "      <td>0.23</td>\n",
       "      <td>0.32</td>\n",
       "      <td>8.5</td>\n",
       "      <td>0.058</td>\n",
       "      <td>47.0</td>\n",
       "      <td>186.0</td>\n",
       "      <td>0.9956</td>\n",
       "      <td>3.19</td>\n",
       "      <td>0.40</td>\n",
       "      <td>9.9</td>\n",
       "      <td>6</td>\n",
       "    </tr>\n",
       "  </tbody>\n",
       "</table>\n",
       "</div>"
      ],
      "text/plain": [
       "    type  fixed acidity  volatile acidity  citric acid  residual sugar  \\\n",
       "0  white            7.0              0.27         0.36            20.7   \n",
       "1  white            6.3              0.30         0.34             1.6   \n",
       "2  white            8.1              0.28         0.40             6.9   \n",
       "3  white            7.2              0.23         0.32             8.5   \n",
       "4  white            7.2              0.23         0.32             8.5   \n",
       "\n",
       "   chlorides  free sulfur dioxide  total sulfur dioxide  density    pH  \\\n",
       "0      0.045                 45.0                 170.0   1.0010  3.00   \n",
       "1      0.049                 14.0                 132.0   0.9940  3.30   \n",
       "2      0.050                 30.0                  97.0   0.9951  3.26   \n",
       "3      0.058                 47.0                 186.0   0.9956  3.19   \n",
       "4      0.058                 47.0                 186.0   0.9956  3.19   \n",
       "\n",
       "   sulphates  alcohol  quality  \n",
       "0       0.45      8.8        6  \n",
       "1       0.49      9.5        6  \n",
       "2       0.44     10.1        6  \n",
       "3       0.40      9.9        6  \n",
       "4       0.40      9.9        6  "
      ]
     },
     "execution_count": 10,
     "metadata": {},
     "output_type": "execute_result"
    }
   ],
   "source": [
    "df.head()"
   ]
  },
  {
   "cell_type": "markdown",
   "id": "16fbb48e",
   "metadata": {},
   "source": [
    "Итак, у нас только один столбец с категориальными переменными - type. Посмотрим, какие значения встречаются в столбце:"
   ]
  },
  {
   "cell_type": "markdown",
   "id": "21993594",
   "metadata": {},
   "source": [
    "Преобразуем при помощи OneHotEncoding:"
   ]
  },
  {
   "cell_type": "code",
   "execution_count": 11,
   "id": "dafb355f",
   "metadata": {},
   "outputs": [
    {
     "data": {
      "text/html": [
       "<div>\n",
       "<style scoped>\n",
       "    .dataframe tbody tr th:only-of-type {\n",
       "        vertical-align: middle;\n",
       "    }\n",
       "\n",
       "    .dataframe tbody tr th {\n",
       "        vertical-align: top;\n",
       "    }\n",
       "\n",
       "    .dataframe thead th {\n",
       "        text-align: right;\n",
       "    }\n",
       "</style>\n",
       "<table border=\"1\" class=\"dataframe\">\n",
       "  <thead>\n",
       "    <tr style=\"text-align: right;\">\n",
       "      <th></th>\n",
       "      <th>type</th>\n",
       "      <th>fixed acidity</th>\n",
       "      <th>volatile acidity</th>\n",
       "      <th>citric acid</th>\n",
       "      <th>residual sugar</th>\n",
       "      <th>chlorides</th>\n",
       "      <th>free sulfur dioxide</th>\n",
       "      <th>total sulfur dioxide</th>\n",
       "      <th>density</th>\n",
       "      <th>pH</th>\n",
       "      <th>sulphates</th>\n",
       "      <th>alcohol</th>\n",
       "      <th>quality</th>\n",
       "      <th>type_ohe</th>\n",
       "    </tr>\n",
       "  </thead>\n",
       "  <tbody>\n",
       "    <tr>\n",
       "      <th>0</th>\n",
       "      <td>white</td>\n",
       "      <td>7.0</td>\n",
       "      <td>0.27</td>\n",
       "      <td>0.36</td>\n",
       "      <td>20.7</td>\n",
       "      <td>0.045</td>\n",
       "      <td>45.0</td>\n",
       "      <td>170.0</td>\n",
       "      <td>1.0010</td>\n",
       "      <td>3.00</td>\n",
       "      <td>0.45</td>\n",
       "      <td>8.8</td>\n",
       "      <td>6</td>\n",
       "      <td>1</td>\n",
       "    </tr>\n",
       "    <tr>\n",
       "      <th>1</th>\n",
       "      <td>white</td>\n",
       "      <td>6.3</td>\n",
       "      <td>0.30</td>\n",
       "      <td>0.34</td>\n",
       "      <td>1.6</td>\n",
       "      <td>0.049</td>\n",
       "      <td>14.0</td>\n",
       "      <td>132.0</td>\n",
       "      <td>0.9940</td>\n",
       "      <td>3.30</td>\n",
       "      <td>0.49</td>\n",
       "      <td>9.5</td>\n",
       "      <td>6</td>\n",
       "      <td>1</td>\n",
       "    </tr>\n",
       "    <tr>\n",
       "      <th>2</th>\n",
       "      <td>white</td>\n",
       "      <td>8.1</td>\n",
       "      <td>0.28</td>\n",
       "      <td>0.40</td>\n",
       "      <td>6.9</td>\n",
       "      <td>0.050</td>\n",
       "      <td>30.0</td>\n",
       "      <td>97.0</td>\n",
       "      <td>0.9951</td>\n",
       "      <td>3.26</td>\n",
       "      <td>0.44</td>\n",
       "      <td>10.1</td>\n",
       "      <td>6</td>\n",
       "      <td>1</td>\n",
       "    </tr>\n",
       "    <tr>\n",
       "      <th>3</th>\n",
       "      <td>white</td>\n",
       "      <td>7.2</td>\n",
       "      <td>0.23</td>\n",
       "      <td>0.32</td>\n",
       "      <td>8.5</td>\n",
       "      <td>0.058</td>\n",
       "      <td>47.0</td>\n",
       "      <td>186.0</td>\n",
       "      <td>0.9956</td>\n",
       "      <td>3.19</td>\n",
       "      <td>0.40</td>\n",
       "      <td>9.9</td>\n",
       "      <td>6</td>\n",
       "      <td>1</td>\n",
       "    </tr>\n",
       "    <tr>\n",
       "      <th>4</th>\n",
       "      <td>white</td>\n",
       "      <td>7.2</td>\n",
       "      <td>0.23</td>\n",
       "      <td>0.32</td>\n",
       "      <td>8.5</td>\n",
       "      <td>0.058</td>\n",
       "      <td>47.0</td>\n",
       "      <td>186.0</td>\n",
       "      <td>0.9956</td>\n",
       "      <td>3.19</td>\n",
       "      <td>0.40</td>\n",
       "      <td>9.9</td>\n",
       "      <td>6</td>\n",
       "      <td>1</td>\n",
       "    </tr>\n",
       "  </tbody>\n",
       "</table>\n",
       "</div>"
      ],
      "text/plain": [
       "    type  fixed acidity  volatile acidity  citric acid  residual sugar  \\\n",
       "0  white            7.0              0.27         0.36            20.7   \n",
       "1  white            6.3              0.30         0.34             1.6   \n",
       "2  white            8.1              0.28         0.40             6.9   \n",
       "3  white            7.2              0.23         0.32             8.5   \n",
       "4  white            7.2              0.23         0.32             8.5   \n",
       "\n",
       "   chlorides  free sulfur dioxide  total sulfur dioxide  density    pH  \\\n",
       "0      0.045                 45.0                 170.0   1.0010  3.00   \n",
       "1      0.049                 14.0                 132.0   0.9940  3.30   \n",
       "2      0.050                 30.0                  97.0   0.9951  3.26   \n",
       "3      0.058                 47.0                 186.0   0.9956  3.19   \n",
       "4      0.058                 47.0                 186.0   0.9956  3.19   \n",
       "\n",
       "   sulphates  alcohol  quality  type_ohe  \n",
       "0       0.45      8.8        6         1  \n",
       "1       0.49      9.5        6         1  \n",
       "2       0.44     10.1        6         1  \n",
       "3       0.40      9.9        6         1  \n",
       "4       0.40      9.9        6         1  "
      ]
     },
     "execution_count": 11,
     "metadata": {},
     "output_type": "execute_result"
    }
   ],
   "source": [
    "df['type_ohe'] = pd.get_dummies(df.type, drop_first=True)\n",
    "df.head()"
   ]
  },
  {
   "cell_type": "markdown",
   "id": "8ea61a78",
   "metadata": {},
   "source": [
    "### 3.2 Заполняем пропуски"
   ]
  },
  {
   "cell_type": "markdown",
   "id": "d5c1df30",
   "metadata": {},
   "source": [
    "Вспомним, в каких столбцах есть пропуски:"
   ]
  },
  {
   "cell_type": "code",
   "execution_count": 12,
   "id": "2a4ef310",
   "metadata": {},
   "outputs": [
    {
     "data": {
      "text/plain": [
       "fixed acidity           10\n",
       "pH                       9\n",
       "volatile acidity         8\n",
       "sulphates                4\n",
       "citric acid              3\n",
       "residual sugar           2\n",
       "chlorides                2\n",
       "type                     0\n",
       "free sulfur dioxide      0\n",
       "total sulfur dioxide     0\n",
       "density                  0\n",
       "alcohol                  0\n",
       "quality                  0\n",
       "type_ohe                 0\n",
       "dtype: int64"
      ]
     },
     "execution_count": 12,
     "metadata": {},
     "output_type": "execute_result"
    }
   ],
   "source": [
    "df.isna().sum().sort_values(ascending=False)"
   ]
  },
  {
   "cell_type": "markdown",
   "id": "60b00bac",
   "metadata": {},
   "source": [
    "Поскольку не хочется создавать новый фрейм, выберем все столбцы, в которых нужно заполнить пропуски и заполним их средним:"
   ]
  },
  {
   "cell_type": "code",
   "execution_count": 13,
   "id": "09a6ae9d",
   "metadata": {},
   "outputs": [],
   "source": [
    "df[['fixed acidity', 'pH', 'volatile acidity', 'sulphates',\n",
    "    'citric acid', 'residual sugar', 'chlorides']] = \\\n",
    "df[['fixed acidity', 'pH', 'volatile acidity', 'sulphates',\n",
    "    'citric acid', 'residual sugar', 'chlorides']].apply(lambda x: x.fillna(x.mean()),axis=0)"
   ]
  },
  {
   "cell_type": "code",
   "execution_count": 14,
   "id": "943e5973",
   "metadata": {},
   "outputs": [
    {
     "data": {
      "text/plain": [
       "type                    0\n",
       "fixed acidity           0\n",
       "volatile acidity        0\n",
       "citric acid             0\n",
       "residual sugar          0\n",
       "chlorides               0\n",
       "free sulfur dioxide     0\n",
       "total sulfur dioxide    0\n",
       "density                 0\n",
       "pH                      0\n",
       "sulphates               0\n",
       "alcohol                 0\n",
       "quality                 0\n",
       "type_ohe                0\n",
       "dtype: int64"
      ]
     },
     "execution_count": 14,
     "metadata": {},
     "output_type": "execute_result"
    }
   ],
   "source": [
    "df.isna().sum()"
   ]
  },
  {
   "cell_type": "markdown",
   "id": "2cc474d9",
   "metadata": {},
   "source": [
    "Почему заполнили средним: среди столбцов с пропусками только столбец chlorides оказывает заметное влияние на целевую переменную. В нем всего 2 пропуска (порядка 0,03% данных), поэтому заполнение средним в данном случае не повлияет на работу модели.       "
   ]
  },
  {
   "cell_type": "markdown",
   "id": "036c9bce",
   "metadata": {},
   "source": [
    "### 3.3 Смотрим на важность признаков"
   ]
  },
  {
   "cell_type": "markdown",
   "id": "445f1b87",
   "metadata": {},
   "source": [
    "На основе матрицы корреляции мы предположили, какие именно признаки могут быть важными в обучении модели. Посмотрим на важность признаков, обучив дерево решений:"
   ]
  },
  {
   "cell_type": "code",
   "execution_count": 15,
   "id": "3fb50673",
   "metadata": {},
   "outputs": [
    {
     "data": {
      "text/plain": [
       "<AxesSubplot:>"
      ]
     },
     "execution_count": 15,
     "metadata": {},
     "output_type": "execute_result"
    },
    {
     "data": {
      "image/png": "[encoded data removed]",
      "text/plain": [
       "<Figure size 432x288 with 1 Axes>"
      ]
     },
     "metadata": {
      "needs_background": "light"
     },
     "output_type": "display_data"
    }
   ],
   "source": [
    "tree = DecisionTreeClassifier(random_state=42)\n",
    "tree.fit(df.drop(['type', 'quality'],axis=1), df['quality'])\n",
    "feat_imp = pd.DataFrame(tree.feature_importances_, \n",
    "                        columns=['feat_importance'], \n",
    "                        index = df.drop(['type', 'quality'],axis=1).columns).sort_values(['feat_importance'], ascending=True)\n",
    "\n",
    "feat_imp.plot(kind='barh')"
   ]
  },
  {
   "cell_type": "markdown",
   "id": "21690ad1",
   "metadata": {},
   "source": [
    "На первом месте закономерно градус напитка. Total sulfur dioxide также в тройке лидеров, что тоже понятно - ведь этот признак коррелировал с целевым. Второе место неожиданно досталось летучей кислотности. Видимо, для дерева решений этот признак действительно был важен.  \n",
    "Возьмем первые 5 наиболее важных признаков + плотность напитка, т.к. она корредировала в качеством. Итого у нас получится 6 фичей."
   ]
  },
  {
   "cell_type": "markdown",
   "id": "9786895f",
   "metadata": {},
   "source": [
    "Формируем датафрейм фичей из необходимых признаков."
   ]
  },
  {
   "cell_type": "code",
   "execution_count": 16,
   "id": "27f30a4b",
   "metadata": {},
   "outputs": [],
   "source": [
    "features = df[['alcohol', 'volatile acidity', 'total sulfur dioxide', 'chlorides', 'free sulfur dioxide', 'density']]"
   ]
  },
  {
   "cell_type": "code",
   "execution_count": 17,
   "id": "531a42c6",
   "metadata": {},
   "outputs": [],
   "source": [
    "target = df.quality"
   ]
  },
  {
   "cell_type": "markdown",
   "id": "61ce7634",
   "metadata": {},
   "source": [
    "### 3.3 Убираем дисбаланс классов"
   ]
  },
  {
   "cell_type": "markdown",
   "id": "449026b7",
   "metadata": {},
   "source": [
    "Посмотрим на процентное соотношение классов к общему числу строк и заодно снова построим гистограмму распределения классов:"
   ]
  },
  {
   "cell_type": "code",
   "execution_count": 18,
   "id": "af5b1d5d",
   "metadata": {},
   "outputs": [
    {
     "name": "stdout",
     "output_type": "stream",
     "text": [
      "Class=6, n=2836 (43.651%)\n",
      "Class=5, n=2138 (32.907%)\n",
      "Class=7, n=1079 (16.608%)\n",
      "Class=8, n=193 (2.971%)\n",
      "Class=4, n=216 (3.325%)\n",
      "Class=3, n=30 (0.462%)\n",
      "Class=9, n=5 (0.077%)\n"
     ]
    },
    {
     "data": {
      "image/png": "[encoded data removed]",
      "text/plain": [
       "<Figure size 432x288 with 1 Axes>"
      ]
     },
     "metadata": {
      "needs_background": "light"
     },
     "output_type": "display_data"
    }
   ],
   "source": [
    "counter = Counter(target)\n",
    "for k,v in counter.items():\n",
    "    per = v / len(target) * 100\n",
    "    print('Class=%d, n=%d (%.3f%%)' % (k, v, per))\n",
    "\n",
    "plt.bar(counter.keys(), counter.values())\n",
    "plt.show()"
   ]
  },
  {
   "cell_type": "markdown",
   "id": "12d290c6",
   "metadata": {},
   "source": [
    "Итак, прекрасно видно, что классов 6 и 5 больше, а значит именно они будут предсказываться лучше остальных. Классы 3 и 9, очевидно, предсказываться не будут вообще.  \n",
    "Будем делать upsampling.  \n",
    "Для этого воспользуемся классом SMOTE:"
   ]
  },
  {
   "cell_type": "code",
   "execution_count": 19,
   "id": "2d8effe5",
   "metadata": {},
   "outputs": [
    {
     "name": "stdout",
     "output_type": "stream",
     "text": [
      "Class=6, n=2836 (14.286%)\n",
      "Class=5, n=2836 (14.286%)\n",
      "Class=7, n=2836 (14.286%)\n",
      "Class=8, n=2836 (14.286%)\n",
      "Class=4, n=2836 (14.286%)\n",
      "Class=3, n=2836 (14.286%)\n",
      "Class=9, n=2836 (14.286%)\n"
     ]
    },
    {
     "data": {
      "image/png": "[encoded data removed]",
      "text/plain": [
       "<Figure size 432x288 with 1 Axes>"
      ]
     },
     "metadata": {
      "needs_background": "light"
     },
     "output_type": "display_data"
    }
   ],
   "source": [
    "oversample = SMOTE(k_neighbors=4)\n",
    "features, target = oversample.fit_resample(features, target)\n",
    "\n",
    "\n",
    "counter = Counter(target)\n",
    "for k,v in counter.items():\n",
    "    per = v / len(target) * 100\n",
    "    print('Class=%d, n=%d (%.3f%%)' % (k, v, per))\n",
    "# plot the distribution\n",
    "plt.bar(counter.keys(), counter.values())\n",
    "plt.show()"
   ]
  },
  {
   "cell_type": "code",
   "execution_count": 20,
   "id": "890bbea2",
   "metadata": {},
   "outputs": [
    {
     "data": {
      "text/plain": [
       "((19852, 6), (19852,))"
      ]
     },
     "execution_count": 20,
     "metadata": {},
     "output_type": "execute_result"
    }
   ],
   "source": [
    "features.shape, target.shape"
   ]
  },
  {
   "cell_type": "markdown",
   "id": "7e4065e5",
   "metadata": {},
   "source": [
    "Теперь у нас классы сбалансированы."
   ]
  },
  {
   "cell_type": "markdown",
   "id": "bd7874ea",
   "metadata": {},
   "source": [
    "### 3.4 Делим выборку на обучающую и тестовую"
   ]
  },
  {
   "cell_type": "code",
   "execution_count": 21,
   "id": "1e924a59",
   "metadata": {},
   "outputs": [
    {
     "data": {
      "text/plain": [
       "((14889, 6), (14889,), (4963, 6), (4963,))"
      ]
     },
     "execution_count": 21,
     "metadata": {},
     "output_type": "execute_result"
    }
   ],
   "source": [
    "features_train, features_valid, target_train, target_valid = train_test_split(\n",
    "    features, target, test_size=0.25, random_state=42, shuffle=True)\n",
    "\n",
    "features_train.shape, target_train.shape, features_valid.shape, target_valid.shape"
   ]
  },
  {
   "cell_type": "markdown",
   "id": "7d62ae76",
   "metadata": {},
   "source": [
    "### 3.5 Используем pipeline для нормализации признаков и обучения модели"
   ]
  },
  {
   "cell_type": "code",
   "execution_count": 22,
   "id": "e6a93741",
   "metadata": {},
   "outputs": [
    {
     "data": {
      "text/plain": [
       "[('normalizer', StandardScaler()), ('clf', LogisticRegression())]"
      ]
     },
     "execution_count": 22,
     "metadata": {},
     "output_type": "execute_result"
    }
   ],
   "source": [
    "pipeline = Pipeline([\n",
    "    ('normalizer', StandardScaler()), #Step1 - normalize data\n",
    "    ('clf', LogisticRegression()) #step2 - classifier\n",
    "])\n",
    "pipeline.steps"
   ]
  },
  {
   "cell_type": "markdown",
   "id": "f9ae8cb5",
   "metadata": {},
   "source": [
    "Добавим и прогоним модели:"
   ]
  },
  {
   "cell_type": "code",
   "execution_count": 23,
   "id": "4ceec819",
   "metadata": {},
   "outputs": [
    {
     "name": "stdout",
     "output_type": "stream",
     "text": [
      "---------------------------------\n",
      "LogisticRegression()\n",
      "-----------------------------------\n",
      "fit_time  mean  0.3626264572143555\n",
      "fit_time  std  0.04777450378861122\n",
      "score_time  mean  0.009776926040649414\n",
      "score_time  std  0.00719145171527555\n",
      "test_score  mean  0.4632953832528003\n",
      "test_score  std  0.0055235326502872046\n",
      "---------------------------------\n",
      "SVC()\n",
      "-----------------------------------\n",
      "fit_time  mean  4.7129600048065186\n",
      "fit_time  std  0.4117285140815676\n",
      "score_time  mean  3.945656442642212\n",
      "score_time  std  0.970633453083063\n",
      "test_score  mean  0.5925856685450329\n",
      "test_score  std  0.006147167904103475\n",
      "---------------------------------\n",
      "KNeighborsClassifier(n_neighbors=3)\n",
      "-----------------------------------\n",
      "fit_time  mean  0.020857763290405274\n",
      "fit_time  std  0.006619421765873167\n",
      "score_time  mean  0.09495954513549805\n",
      "score_time  std  0.010120985631862407\n",
      "test_score  mean  0.777016337251365\n",
      "test_score  std  0.0068867286849458205\n",
      "---------------------------------\n",
      "DecisionTreeClassifier()\n",
      "-----------------------------------\n",
      "fit_time  mean  0.09412345886230469\n",
      "fit_time  std  0.0007673031409685118\n",
      "score_time  mean  0.0062504768371582035\n",
      "score_time  std  0.007655239473822795\n",
      "test_score  mean  0.7678826228305524\n",
      "test_score  std  0.006453623821778416\n",
      "---------------------------------\n",
      "RandomForestClassifier()\n",
      "-----------------------------------\n",
      "fit_time  mean  2.1227049827575684\n",
      "fit_time  std  0.10795150184942941\n",
      "score_time  mean  0.07099251747131348\n",
      "score_time  std  0.006174072438914855\n",
      "test_score  mean  0.8432396977679559\n",
      "test_score  std  0.003717327176303409\n",
      "---------------------------------\n",
      "GradientBoostingClassifier()\n",
      "-----------------------------------\n",
      "fit_time  mean  16.12098789215088\n",
      "fit_time  std  0.5834447054978685\n",
      "score_time  mean  0.04247374534606933\n",
      "score_time  std  0.009761694171279211\n",
      "test_score  mean  0.6935995531445132\n",
      "test_score  std  0.006549951972279585\n",
      "Wall time: 2min 18s\n"
     ]
    }
   ],
   "source": [
    "%%time\n",
    "clfs = []\n",
    "clfs.append(LogisticRegression())\n",
    "clfs.append(SVC())\n",
    "clfs.append(KNeighborsClassifier(n_neighbors=3))\n",
    "clfs.append(DecisionTreeClassifier())\n",
    "clfs.append(RandomForestClassifier())\n",
    "clfs.append(GradientBoostingClassifier())\n",
    "\n",
    "for classifier in clfs:\n",
    "    pipeline.set_params(clf = classifier)\n",
    "    scores = cross_validate(pipeline, features_train, target_train)\n",
    "    print('---------------------------------')\n",
    "    print(str(classifier))\n",
    "    print('-----------------------------------')\n",
    "    for key, values in scores.items():\n",
    "            print(key,' mean ', values.mean())\n",
    "            print(key,' std ', values.std())"
   ]
  },
  {
   "cell_type": "markdown",
   "id": "e7164aef",
   "metadata": {},
   "source": [
    "Самый лучший результат показала модель случайного леса. Подберем параметры для нее при помощи GridSearchCV:"
   ]
  },
  {
   "cell_type": "code",
   "execution_count": 24,
   "id": "741cc49f",
   "metadata": {},
   "outputs": [
    {
     "data": {
      "text/plain": [
       "[('normalizer', StandardScaler()), ('clf', RandomForestClassifier())]"
      ]
     },
     "execution_count": 24,
     "metadata": {},
     "output_type": "execute_result"
    }
   ],
   "source": [
    "pipeline.set_params(clf=RandomForestClassifier())\n",
    "pipeline.steps"
   ]
  },
  {
   "cell_type": "code",
   "execution_count": null,
   "id": "08f5c4a8",
   "metadata": {},
   "outputs": [],
   "source": [
    "%%time\n",
    "#  param_grid = {\n",
    "#     'bootstrap': [True, False],\n",
    "#     'classifier__max_depth': [80, 90, 100, 110],\n",
    "#     'classifier__max_features': [2, 3],\n",
    "#     'classifier__min_samples_leaf': [3, 4, 5],\n",
    "#     'classifier__min_samples_split': [8, 10, 12],\n",
    "#     'n_estimators': [100, 200, 300, 1000],\n",
    "#     'classifier__criterion': [\"gini\", \"entropy\"]\n",
    "# }\n",
    "    \n",
    "# cv_grid = GridSearchCV(estimator=pipeline[1], param_grid=param_grid)\n",
    "\n",
    "# cv_grid.fit(features_train, target_train)\n",
    "\n",
    "# # Params for classifier\n",
    "params = {\"max_depth\": [80, 90, 100, 110],\n",
    "              \"max_features\": [1, 3, 10],\n",
    "              \"min_samples_split\": [8, 10, 12],\n",
    "              \"min_samples_leaf\": [3, 4, 5],\n",
    "              \"bootstrap\": [True, False],\n",
    "              \"n_estimators\": [100, 200, 300, 1000],\n",
    "              \"criterion\": [\"gini\", \"entropy\"]}\n",
    "\n",
    "# Grid Search Execute\n",
    "rf_grid = GridSearchCV(estimator=pipeline[1], param_grid=params, verbose=1) #cv=10\n",
    "rf_detector = rf_grid.fit(features_train, target_train)\n",
    "print(rf_grid.grid_scores_)"
   ]
  },
  {
   "cell_type": "code",
   "execution_count": null,
   "id": "a201d023",
   "metadata": {},
   "outputs": [],
   "source": [
    "rf_detector.best_params_"
   ]
  },
  {
   "cell_type": "code",
   "execution_count": null,
   "id": "c32ebb34",
   "metadata": {},
   "outputs": [],
   "source": [
    "rf_detector.best_estimator_"
   ]
  },
  {
   "cell_type": "code",
   "execution_count": null,
   "id": "f348c7c1",
   "metadata": {},
   "outputs": [],
   "source": [
    "rf_detector.best_score_"
   ]
  },
  {
   "cell_type": "code",
   "execution_count": null,
   "id": "ce5d654e",
   "metadata": {},
   "outputs": [],
   "source": []
  },
  {
   "cell_type": "code",
   "execution_count": null,
   "id": "021e6213",
   "metadata": {},
   "outputs": [],
   "source": []
  }
 ],
 "metadata": {
  "kernelspec": {
   "display_name": "Python 3 (ipykernel)",
   "language": "python",
   "name": "python3"
  },
  "language_info": {
   "codemirror_mode": {
    "name": "ipython",
    "version": 3
   },
   "file_extension": ".py",
   "mimetype": "text/x-python",
   "name": "python",
   "nbconvert_exporter": "python",
   "pygments_lexer": "ipython3",
   "version": "3.8.10"
  }
 },
 "nbformat": 4,
 "nbformat_minor": 5
}

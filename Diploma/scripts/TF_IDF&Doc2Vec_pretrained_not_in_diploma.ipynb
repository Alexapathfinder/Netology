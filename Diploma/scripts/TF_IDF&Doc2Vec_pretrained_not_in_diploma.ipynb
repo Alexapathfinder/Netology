{
 "cells": [
  {
   "cell_type": "markdown",
   "metadata": {},
   "source": [
    "### Предобработка данных, не вошедшая в проект"
   ]
  },
  {
   "cell_type": "markdown",
   "metadata": {},
   "source": [
    "Загрузка необходимых библиотек:"
   ]
  },
  {
   "cell_type": "code",
   "execution_count": 1,
   "metadata": {},
   "outputs": [
    {
     "name": "stdout",
     "output_type": "stream",
     "text": [
      "INFO: Pandarallel will run on 24 workers.\n",
      "INFO: Pandarallel will use Memory file system to transfer data between the main process and workers.\n"
     ]
    }
   ],
   "source": [
    "import re\n",
    "import nltk\n",
    "import torch\n",
    "import gensim \n",
    "import numpy as np\n",
    "import pandas as pd\n",
    "import transformers\n",
    "import urllib.request\n",
    "import seaborn as sns\n",
    "import matplotlib.pyplot as plt\n",
    "\n",
    "\n",
    "from tqdm import tqdm\n",
    "from tqdm import notebook\n",
    "from pymystem3 import Mystem\n",
    "from gensim.utils import tokenize\n",
    "from gensim.models import Doc2Vec\n",
    "from pandarallel import pandarallel\n",
    "from matplotlib.pyplot import figure\n",
    "from nltk.tokenize import word_tokenize\n",
    "pandarallel.initialize(progress_bar=True)\n",
    "from rusenttokenize import ru_sent_tokenize\n",
    "from gensim import corpora, models, similarities\n",
    "from nltk.corpus import stopwords as nltk_stopwords\n",
    "from sklearn.metrics.pairwise import cosine_similarity\n",
    "from gensim.models.doc2vec import Doc2Vec, TaggedDocument\n",
    "from sklearn.feature_extraction.text import TfidfVectorizer\n",
    "from nltk.tokenize import sent_tokenize, word_tokenize, RegexpTokenizer\n",
    "\n",
    "\n",
    "import warnings\n",
    "warnings.filterwarnings(\"ignore\")\n",
    "tqdm.pandas(desc=\"my bar!\")"
   ]
  },
  {
   "cell_type": "markdown",
   "metadata": {},
   "source": [
    "### Загрузка данных"
   ]
  },
  {
   "cell_type": "code",
   "execution_count": 2,
   "metadata": {},
   "outputs": [],
   "source": [
    "df_gis = pd.read_excel('Рубрики_Россия_04.30_с_ориентировочными тематиками.xlsx')"
   ]
  },
  {
   "cell_type": "code",
   "execution_count": 3,
   "metadata": {},
   "outputs": [
    {
     "data": {
      "text/html": [
       "<div>\n",
       "<style scoped>\n",
       "    .dataframe tbody tr th:only-of-type {\n",
       "        vertical-align: middle;\n",
       "    }\n",
       "\n",
       "    .dataframe tbody tr th {\n",
       "        vertical-align: top;\n",
       "    }\n",
       "\n",
       "    .dataframe thead th {\n",
       "        text-align: right;\n",
       "    }\n",
       "</style>\n",
       "<table border=\"1\" class=\"dataframe\">\n",
       "  <thead>\n",
       "    <tr style=\"text-align: right;\">\n",
       "      <th></th>\n",
       "      <th>Категория</th>\n",
       "      <th>Рубрика 2го уровня</th>\n",
       "      <th>Рубрика</th>\n",
       "      <th>Тематика рубрики</th>\n",
       "      <th>Код рубрики</th>\n",
       "      <th>Ключевые слова</th>\n",
       "      <th>Описание</th>\n",
       "      <th>Категория Пенз область</th>\n",
       "      <th>Категория Лен область</th>\n",
       "      <th>Категория Респ Бурятия</th>\n",
       "    </tr>\n",
       "  </thead>\n",
       "  <tbody>\n",
       "    <tr>\n",
       "      <th>0</th>\n",
       "      <td>Аварийные / справочные / экстренные службы</td>\n",
       "      <td>Аварийные / справочные / экстренные службы</td>\n",
       "      <td>Аварийные службы</td>\n",
       "      <td>Офисные учреждения</td>\n",
       "      <td>122</td>\n",
       "      <td>Аварийка; Аварийная; Аварийная служба; Аварийн...</td>\n",
       "      <td>В данную рубрику следует вносить РАЙОННЫЕ авар...</td>\n",
       "      <td>p_4</td>\n",
       "      <td>L_2</td>\n",
       "      <td>b_1</td>\n",
       "    </tr>\n",
       "    <tr>\n",
       "      <th>1</th>\n",
       "      <td>Аварийные / справочные / экстренные службы</td>\n",
       "      <td>Аварийные / справочные / экстренные службы</td>\n",
       "      <td>Ликвидация нефтеразливов / газонефтеводопроявл...</td>\n",
       "      <td>Офисные учреждения</td>\n",
       "      <td>59508</td>\n",
       "      <td>Ликвидация аварийных разливов нефтепродуктов; ...</td>\n",
       "      <td>В данную рубрику следует вносить организации, ...</td>\n",
       "      <td>p_4</td>\n",
       "      <td>L_2</td>\n",
       "      <td>b_1</td>\n",
       "    </tr>\n",
       "    <tr>\n",
       "      <th>2</th>\n",
       "      <td>Аварийные / справочные / экстренные службы</td>\n",
       "      <td>Аварийные / справочные / экстренные службы</td>\n",
       "      <td>Пожарная охрана</td>\n",
       "      <td>Офисные учреждения</td>\n",
       "      <td>143</td>\n",
       "      <td>Пожар; Пожарная служба; Пожарная часть; Пожаро...</td>\n",
       "      <td>В данную рубрику следует вносить районные пожа...</td>\n",
       "      <td>p_4</td>\n",
       "      <td>L_2</td>\n",
       "      <td>b_1</td>\n",
       "    </tr>\n",
       "    <tr>\n",
       "      <th>3</th>\n",
       "      <td>Аварийные / справочные / экстренные службы</td>\n",
       "      <td>Аварийные / справочные / экстренные службы</td>\n",
       "      <td>Скорая медицинская помощь</td>\n",
       "      <td>Больницы, медицина</td>\n",
       "      <td>227</td>\n",
       "      <td>Врач на дом; Вызов врача; Вызов врача на дом; ...</td>\n",
       "      <td>В данную рубрику следует вносить районные подс...</td>\n",
       "      <td>p_31</td>\n",
       "      <td>L_25</td>\n",
       "      <td>b_7</td>\n",
       "    </tr>\n",
       "    <tr>\n",
       "      <th>4</th>\n",
       "      <td>Аварийные / справочные / экстренные службы</td>\n",
       "      <td>Аварийные / справочные / экстренные службы</td>\n",
       "      <td>Службы аварийных комиссаров</td>\n",
       "      <td>Офисные учреждения</td>\n",
       "      <td>16182</td>\n",
       "      <td>Аварийные комиссары; Аваркомы; Автокомиссары; ...</td>\n",
       "      <td>В данную рубрику следует вносить службы аварий...</td>\n",
       "      <td>p_4</td>\n",
       "      <td>L_2</td>\n",
       "      <td>b_1</td>\n",
       "    </tr>\n",
       "  </tbody>\n",
       "</table>\n",
       "</div>"
      ],
      "text/plain": [
       "                                    Категория  \\\n",
       "0  Аварийные / справочные / экстренные службы   \n",
       "1  Аварийные / справочные / экстренные службы   \n",
       "2  Аварийные / справочные / экстренные службы   \n",
       "3  Аварийные / справочные / экстренные службы   \n",
       "4  Аварийные / справочные / экстренные службы   \n",
       "\n",
       "                           Рубрика 2го уровня  \\\n",
       "0  Аварийные / справочные / экстренные службы   \n",
       "1  Аварийные / справочные / экстренные службы   \n",
       "2  Аварийные / справочные / экстренные службы   \n",
       "3  Аварийные / справочные / экстренные службы   \n",
       "4  Аварийные / справочные / экстренные службы   \n",
       "\n",
       "                                             Рубрика    Тематика рубрики  \\\n",
       "0                                   Аварийные службы  Офисные учреждения   \n",
       "1  Ликвидация нефтеразливов / газонефтеводопроявл...  Офисные учреждения   \n",
       "2                                    Пожарная охрана  Офисные учреждения   \n",
       "3                          Скорая медицинская помощь  Больницы, медицина   \n",
       "4                        Службы аварийных комиссаров  Офисные учреждения   \n",
       "\n",
       "   Код рубрики                                     Ключевые слова  \\\n",
       "0          122  Аварийка; Аварийная; Аварийная служба; Аварийн...   \n",
       "1        59508  Ликвидация аварийных разливов нефтепродуктов; ...   \n",
       "2          143  Пожар; Пожарная служба; Пожарная часть; Пожаро...   \n",
       "3          227  Врач на дом; Вызов врача; Вызов врача на дом; ...   \n",
       "4        16182  Аварийные комиссары; Аваркомы; Автокомиссары; ...   \n",
       "\n",
       "                                            Описание Категория Пенз область  \\\n",
       "0  В данную рубрику следует вносить РАЙОННЫЕ авар...                    p_4   \n",
       "1  В данную рубрику следует вносить организации, ...                    p_4   \n",
       "2  В данную рубрику следует вносить районные пожа...                    p_4   \n",
       "3  В данную рубрику следует вносить районные подс...                   p_31   \n",
       "4  В данную рубрику следует вносить службы аварий...                    p_4   \n",
       "\n",
       "  Категория Лен область Категория Респ Бурятия  \n",
       "0                   L_2                    b_1  \n",
       "1                   L_2                    b_1  \n",
       "2                   L_2                    b_1  \n",
       "3                  L_25                    b_7  \n",
       "4                   L_2                    b_1  "
      ]
     },
     "execution_count": 3,
     "metadata": {},
     "output_type": "execute_result"
    }
   ],
   "source": [
    "df_gis.head()"
   ]
  },
  {
   "cell_type": "markdown",
   "metadata": {},
   "source": [
    "Напишем функцию, где познакомимся с датафреймом, с данными столбцов, построим гистограммы, выведем первые строки фрейма:"
   ]
  },
  {
   "cell_type": "code",
   "execution_count": 4,
   "metadata": {},
   "outputs": [],
   "source": [
    "def EDA(data, col):\n",
    "    print('##################################################')\n",
    "    print('              Info of the Dataset')\n",
    "    print('##################################################')\n",
    "    print(data.info())\n",
    "    for i in col:\n",
    "        figure(figsize=(12, 8), dpi=80)\n",
    "        data[i].value_counts().plot(kind='bar')\n",
    "        print('Столбчатая гистограмма данных столбца {}'.format(i))\n",
    "        plt.show()\n",
    "    return data.head()"
   ]
  },
  {
   "cell_type": "markdown",
   "metadata": {},
   "source": [
    "### EDA и предобработка данных"
   ]
  },
  {
   "cell_type": "markdown",
   "metadata": {},
   "source": [
    "Вызовем функцию и посмотрим на данные:"
   ]
  },
  {
   "cell_type": "code",
   "execution_count": 5,
   "metadata": {},
   "outputs": [
    {
     "name": "stdout",
     "output_type": "stream",
     "text": [
      "##################################################\n",
      "              Info of the Dataset\n",
      "##################################################\n",
      "<class 'pandas.core.frame.DataFrame'>\n",
      "RangeIndex: 1507 entries, 0 to 1506\n",
      "Data columns (total 10 columns):\n",
      " #   Column                  Non-Null Count  Dtype \n",
      "---  ------                  --------------  ----- \n",
      " 0   Категория               1507 non-null   object\n",
      " 1   Рубрика 2го уровня      1507 non-null   object\n",
      " 2   Рубрика                 1507 non-null   object\n",
      " 3   Тематика рубрики        1507 non-null   object\n",
      " 4   Код рубрики             1507 non-null   int64 \n",
      " 5   Ключевые слова          1488 non-null   object\n",
      " 6   Описание                1507 non-null   object\n",
      " 7   Категория Пенз область  1507 non-null   object\n",
      " 8   Категория Лен область   1507 non-null   object\n",
      " 9   Категория Респ Бурятия  1507 non-null   object\n",
      "dtypes: int64(1), object(9)\n",
      "memory usage: 117.9+ KB\n",
      "None\n",
      "Столбчатая гистограмма данных столбца Категория\n"
     ]
    },
    {
     "data": {
      "image/png": "[encoded data removed]",
      "text/plain": [
       "<Figure size 960x640 with 1 Axes>"
      ]
     },
     "metadata": {
      "needs_background": "light"
     },
     "output_type": "display_data"
    },
    {
     "name": "stdout",
     "output_type": "stream",
     "text": [
      "Столбчатая гистограмма данных столбца Рубрика 2го уровня\n"
     ]
    },
    {
     "data": {
      "image/png": "[encoded data removed]",
      "text/plain": [
       "<Figure size 960x640 with 1 Axes>"
      ]
     },
     "metadata": {
      "needs_background": "light"
     },
     "output_type": "display_data"
    },
    {
     "name": "stdout",
     "output_type": "stream",
     "text": [
      "Столбчатая гистограмма данных столбца Категория Пенз область\n"
     ]
    },
    {
     "data": {
      "image/png": "[encoded data removed]",
      "text/plain": [
       "<Figure size 960x640 with 1 Axes>"
      ]
     },
     "metadata": {
      "needs_background": "light"
     },
     "output_type": "display_data"
    },
    {
     "name": "stdout",
     "output_type": "stream",
     "text": [
      "Столбчатая гистограмма данных столбца Категория Лен область\n"
     ]
    },
    {
     "data": {
      "image/png": "[encoded data removed]",
      "text/plain": [
       "<Figure size 960x640 with 1 Axes>"
      ]
     },
     "metadata": {
      "needs_background": "light"
     },
     "output_type": "display_data"
    },
    {
     "name": "stdout",
     "output_type": "stream",
     "text": [
      "Столбчатая гистограмма данных столбца Категория Респ Бурятия\n"
     ]
    },
    {
     "data": {
      "image/png": "[encoded data removed]",
      "text/plain": [
       "<Figure size 960x640 with 1 Axes>"
      ]
     },
     "metadata": {
      "needs_background": "light"
     },
     "output_type": "display_data"
    },
    {
     "name": "stdout",
     "output_type": "stream",
     "text": [
      "CPU times: user 5.44 s, sys: 567 ms, total: 6.01 s\n",
      "Wall time: 6.01 s\n"
     ]
    },
    {
     "data": {
      "text/html": [
       "<div>\n",
       "<style scoped>\n",
       "    .dataframe tbody tr th:only-of-type {\n",
       "        vertical-align: middle;\n",
       "    }\n",
       "\n",
       "    .dataframe tbody tr th {\n",
       "        vertical-align: top;\n",
       "    }\n",
       "\n",
       "    .dataframe thead th {\n",
       "        text-align: right;\n",
       "    }\n",
       "</style>\n",
       "<table border=\"1\" class=\"dataframe\">\n",
       "  <thead>\n",
       "    <tr style=\"text-align: right;\">\n",
       "      <th></th>\n",
       "      <th>Категория</th>\n",
       "      <th>Рубрика 2го уровня</th>\n",
       "      <th>Рубрика</th>\n",
       "      <th>Тематика рубрики</th>\n",
       "      <th>Код рубрики</th>\n",
       "      <th>Ключевые слова</th>\n",
       "      <th>Описание</th>\n",
       "      <th>Категория Пенз область</th>\n",
       "      <th>Категория Лен область</th>\n",
       "      <th>Категория Респ Бурятия</th>\n",
       "    </tr>\n",
       "  </thead>\n",
       "  <tbody>\n",
       "    <tr>\n",
       "      <th>0</th>\n",
       "      <td>Аварийные / справочные / экстренные службы</td>\n",
       "      <td>Аварийные / справочные / экстренные службы</td>\n",
       "      <td>Аварийные службы</td>\n",
       "      <td>Офисные учреждения</td>\n",
       "      <td>122</td>\n",
       "      <td>Аварийка; Аварийная; Аварийная служба; Аварийн...</td>\n",
       "      <td>В данную рубрику следует вносить РАЙОННЫЕ авар...</td>\n",
       "      <td>p_4</td>\n",
       "      <td>L_2</td>\n",
       "      <td>b_1</td>\n",
       "    </tr>\n",
       "    <tr>\n",
       "      <th>1</th>\n",
       "      <td>Аварийные / справочные / экстренные службы</td>\n",
       "      <td>Аварийные / справочные / экстренные службы</td>\n",
       "      <td>Ликвидация нефтеразливов / газонефтеводопроявл...</td>\n",
       "      <td>Офисные учреждения</td>\n",
       "      <td>59508</td>\n",
       "      <td>Ликвидация аварийных разливов нефтепродуктов; ...</td>\n",
       "      <td>В данную рубрику следует вносить организации, ...</td>\n",
       "      <td>p_4</td>\n",
       "      <td>L_2</td>\n",
       "      <td>b_1</td>\n",
       "    </tr>\n",
       "    <tr>\n",
       "      <th>2</th>\n",
       "      <td>Аварийные / справочные / экстренные службы</td>\n",
       "      <td>Аварийные / справочные / экстренные службы</td>\n",
       "      <td>Пожарная охрана</td>\n",
       "      <td>Офисные учреждения</td>\n",
       "      <td>143</td>\n",
       "      <td>Пожар; Пожарная служба; Пожарная часть; Пожаро...</td>\n",
       "      <td>В данную рубрику следует вносить районные пожа...</td>\n",
       "      <td>p_4</td>\n",
       "      <td>L_2</td>\n",
       "      <td>b_1</td>\n",
       "    </tr>\n",
       "    <tr>\n",
       "      <th>3</th>\n",
       "      <td>Аварийные / справочные / экстренные службы</td>\n",
       "      <td>Аварийные / справочные / экстренные службы</td>\n",
       "      <td>Скорая медицинская помощь</td>\n",
       "      <td>Больницы, медицина</td>\n",
       "      <td>227</td>\n",
       "      <td>Врач на дом; Вызов врача; Вызов врача на дом; ...</td>\n",
       "      <td>В данную рубрику следует вносить районные подс...</td>\n",
       "      <td>p_31</td>\n",
       "      <td>L_25</td>\n",
       "      <td>b_7</td>\n",
       "    </tr>\n",
       "    <tr>\n",
       "      <th>4</th>\n",
       "      <td>Аварийные / справочные / экстренные службы</td>\n",
       "      <td>Аварийные / справочные / экстренные службы</td>\n",
       "      <td>Службы аварийных комиссаров</td>\n",
       "      <td>Офисные учреждения</td>\n",
       "      <td>16182</td>\n",
       "      <td>Аварийные комиссары; Аваркомы; Автокомиссары; ...</td>\n",
       "      <td>В данную рубрику следует вносить службы аварий...</td>\n",
       "      <td>p_4</td>\n",
       "      <td>L_2</td>\n",
       "      <td>b_1</td>\n",
       "    </tr>\n",
       "  </tbody>\n",
       "</table>\n",
       "</div>"
      ],
      "text/plain": [
       "                                    Категория  \\\n",
       "0  Аварийные / справочные / экстренные службы   \n",
       "1  Аварийные / справочные / экстренные службы   \n",
       "2  Аварийные / справочные / экстренные службы   \n",
       "3  Аварийные / справочные / экстренные службы   \n",
       "4  Аварийные / справочные / экстренные службы   \n",
       "\n",
       "                           Рубрика 2го уровня  \\\n",
       "0  Аварийные / справочные / экстренные службы   \n",
       "1  Аварийные / справочные / экстренные службы   \n",
       "2  Аварийные / справочные / экстренные службы   \n",
       "3  Аварийные / справочные / экстренные службы   \n",
       "4  Аварийные / справочные / экстренные службы   \n",
       "\n",
       "                                             Рубрика    Тематика рубрики  \\\n",
       "0                                   Аварийные службы  Офисные учреждения   \n",
       "1  Ликвидация нефтеразливов / газонефтеводопроявл...  Офисные учреждения   \n",
       "2                                    Пожарная охрана  Офисные учреждения   \n",
       "3                          Скорая медицинская помощь  Больницы, медицина   \n",
       "4                        Службы аварийных комиссаров  Офисные учреждения   \n",
       "\n",
       "   Код рубрики                                     Ключевые слова  \\\n",
       "0          122  Аварийка; Аварийная; Аварийная служба; Аварийн...   \n",
       "1        59508  Ликвидация аварийных разливов нефтепродуктов; ...   \n",
       "2          143  Пожар; Пожарная служба; Пожарная часть; Пожаро...   \n",
       "3          227  Врач на дом; Вызов врача; Вызов врача на дом; ...   \n",
       "4        16182  Аварийные комиссары; Аваркомы; Автокомиссары; ...   \n",
       "\n",
       "                                            Описание Категория Пенз область  \\\n",
       "0  В данную рубрику следует вносить РАЙОННЫЕ авар...                    p_4   \n",
       "1  В данную рубрику следует вносить организации, ...                    p_4   \n",
       "2  В данную рубрику следует вносить районные пожа...                    p_4   \n",
       "3  В данную рубрику следует вносить районные подс...                   p_31   \n",
       "4  В данную рубрику следует вносить службы аварий...                    p_4   \n",
       "\n",
       "  Категория Лен область Категория Респ Бурятия  \n",
       "0                   L_2                    b_1  \n",
       "1                   L_2                    b_1  \n",
       "2                   L_2                    b_1  \n",
       "3                  L_25                    b_7  \n",
       "4                   L_2                    b_1  "
      ]
     },
     "execution_count": 5,
     "metadata": {},
     "output_type": "execute_result"
    }
   ],
   "source": [
    "%%time\n",
    "EDA(df_gis, ['Категория', 'Рубрика 2го уровня', 'Категория Пенз область', \n",
    "             'Категория Лен область', 'Категория Респ Бурятия'])"
   ]
  },
  {
   "cell_type": "markdown",
   "metadata": {},
   "source": [
    "Итак, что можно увидеть:  \n",
    "1. столбец \"Ключевые слова\" имеет ряд пропусков.  \n",
    "2. Среди всех категорий больше всего значений относятся к медицине. На втором месте, с приличным отставанием идёт категория \"Оборудование/Инструмент\", завершает тройку лидеров \"Строительство/Недвижимость/Ремонт\". Меньше всего представлены справочные и экстренные службы.  \n",
    "\n",
    "3. На столбчатой гистограмме для рубрик 2-го уровня (это подуровень категорий) на первом месте всё так же медицинские услуги, далее идут строительные и монтажные работы, а третье место отдано местам отдыха и развлекательным заведениям.  \n",
    "\n",
    "4. Далее мы выстроили гистограммы для целевых признаков, которые, собственно, необходимо в будущем определить.  \n",
    "Чтобы определить, что значат эти индексы, откроем поступательно каждый файл и посмотрим:"
   ]
  },
  {
   "cell_type": "markdown",
   "metadata": {},
   "source": [
    "Функция для среза данных таблиц с нормативами ТКО + доп столбец: подсчет количества строк основного файла, которые относятся к наиболее часто и редко повторяющимся категориям.  \n",
    "На вход подается:  \n",
    "- датафрейм субъекта РФ с нормативами ТКО  \n",
    "- те значения, которые наиболее часто и редко представлены на гистограмме основного файла  \n",
    "- столбец основного файла (посвящен выбранному субъекту РФ), по которому будет вестись подсчет строк"
   ]
  },
  {
   "cell_type": "code",
   "execution_count": 6,
   "metadata": {},
   "outputs": [],
   "source": [
    "def query_max_min_count(data, names, name_of_cat):\n",
    "    data_query = data.query('Код == @names')\n",
    "    data_query['Количество строк категории в файле 2ГИС'] = [value for key, value \n",
    "                        in df_gis[name_of_cat].value_counts().to_dict().items() \n",
    "                        for i in data_query['Код'] if i == key]\n",
    "    return data_query"
   ]
  },
  {
   "cell_type": "markdown",
   "metadata": {},
   "source": [
    "<ins>Пенза </ins>"
   ]
  },
  {
   "cell_type": "code",
   "execution_count": 7,
   "metadata": {},
   "outputs": [
    {
     "data": {
      "text/html": [
       "<div>\n",
       "<style scoped>\n",
       "    .dataframe tbody tr th:only-of-type {\n",
       "        vertical-align: middle;\n",
       "    }\n",
       "\n",
       "    .dataframe tbody tr th {\n",
       "        vertical-align: top;\n",
       "    }\n",
       "\n",
       "    .dataframe thead th {\n",
       "        text-align: right;\n",
       "    }\n",
       "</style>\n",
       "<table border=\"1\" class=\"dataframe\">\n",
       "  <thead>\n",
       "    <tr style=\"text-align: right;\">\n",
       "      <th></th>\n",
       "      <th>Код</th>\n",
       "      <th>Наименование категории объектов</th>\n",
       "    </tr>\n",
       "  </thead>\n",
       "  <tbody>\n",
       "    <tr>\n",
       "      <th>0</th>\n",
       "      <td>p_1</td>\n",
       "      <td>Научно-исследовательские, проектные институты ...</td>\n",
       "    </tr>\n",
       "    <tr>\n",
       "      <th>1</th>\n",
       "      <td>p_2</td>\n",
       "      <td>Банки, финансовые учреждения</td>\n",
       "    </tr>\n",
       "    <tr>\n",
       "      <th>2</th>\n",
       "      <td>p_3</td>\n",
       "      <td>Отделения связи</td>\n",
       "    </tr>\n",
       "    <tr>\n",
       "      <th>3</th>\n",
       "      <td>p_4</td>\n",
       "      <td>Административные, офисные учреждения</td>\n",
       "    </tr>\n",
       "    <tr>\n",
       "      <th>4</th>\n",
       "      <td>p_5</td>\n",
       "      <td>Предприятия торговли</td>\n",
       "    </tr>\n",
       "    <tr>\n",
       "      <th>5</th>\n",
       "      <td>p_6</td>\n",
       "      <td>Автомастерские, шиномонтажная мастерская, стан...</td>\n",
       "    </tr>\n",
       "    <tr>\n",
       "      <th>6</th>\n",
       "      <td>p_7</td>\n",
       "      <td>Автозаправочные станции</td>\n",
       "    </tr>\n",
       "    <tr>\n",
       "      <th>7</th>\n",
       "      <td>p_8</td>\n",
       "      <td>Автостоянки и парковки</td>\n",
       "    </tr>\n",
       "    <tr>\n",
       "      <th>8</th>\n",
       "      <td>p_9</td>\n",
       "      <td>Гаражи, парковки закрытого типа</td>\n",
       "    </tr>\n",
       "    <tr>\n",
       "      <th>9</th>\n",
       "      <td>p_10</td>\n",
       "      <td>Автомойка</td>\n",
       "    </tr>\n",
       "    <tr>\n",
       "      <th>10</th>\n",
       "      <td>p_11</td>\n",
       "      <td>Железнодорожные и автовокзалы, аэропорты, речн...</td>\n",
       "    </tr>\n",
       "    <tr>\n",
       "      <th>11</th>\n",
       "      <td>p_12</td>\n",
       "      <td>Дошкольное образовательное учреждение</td>\n",
       "    </tr>\n",
       "    <tr>\n",
       "      <th>12</th>\n",
       "      <td>p_13</td>\n",
       "      <td>Общеобразовательное учреждение</td>\n",
       "    </tr>\n",
       "    <tr>\n",
       "      <th>13</th>\n",
       "      <td>p_14</td>\n",
       "      <td>Учреждение начального и среднего профессиональ...</td>\n",
       "    </tr>\n",
       "    <tr>\n",
       "      <th>14</th>\n",
       "      <td>p_15</td>\n",
       "      <td>Детские дома, интернаты</td>\n",
       "    </tr>\n",
       "    <tr>\n",
       "      <th>15</th>\n",
       "      <td>p_16</td>\n",
       "      <td>Клубы, кинотеатры, концертные залы, театры, цирки</td>\n",
       "    </tr>\n",
       "    <tr>\n",
       "      <th>16</th>\n",
       "      <td>p_17</td>\n",
       "      <td>Библиотеки, архивы</td>\n",
       "    </tr>\n",
       "    <tr>\n",
       "      <th>17</th>\n",
       "      <td>p_18</td>\n",
       "      <td>Выставочные залы, музеи</td>\n",
       "    </tr>\n",
       "    <tr>\n",
       "      <th>18</th>\n",
       "      <td>p_19</td>\n",
       "      <td>Спортивные арены, стадионы</td>\n",
       "    </tr>\n",
       "    <tr>\n",
       "      <th>19</th>\n",
       "      <td>p_20</td>\n",
       "      <td>Спортивные клубы, центры, комплексы</td>\n",
       "    </tr>\n",
       "    <tr>\n",
       "      <th>20</th>\n",
       "      <td>p_21</td>\n",
       "      <td>Зоопарк, ботанический сад</td>\n",
       "    </tr>\n",
       "    <tr>\n",
       "      <th>21</th>\n",
       "      <td>p_22</td>\n",
       "      <td>Пансионаты, дома отдыха, туристические базы</td>\n",
       "    </tr>\n",
       "    <tr>\n",
       "      <th>22</th>\n",
       "      <td>p_23</td>\n",
       "      <td>Кафе, рестораны, бары, закусочные, столовые</td>\n",
       "    </tr>\n",
       "    <tr>\n",
       "      <th>23</th>\n",
       "      <td>p_24</td>\n",
       "      <td>Мастерские по ремонту бытовой и компьютерной т...</td>\n",
       "    </tr>\n",
       "    <tr>\n",
       "      <th>24</th>\n",
       "      <td>p_25</td>\n",
       "      <td>Мастерские по ремонту обуви, ключей, часов и пр.</td>\n",
       "    </tr>\n",
       "    <tr>\n",
       "      <th>25</th>\n",
       "      <td>p_26</td>\n",
       "      <td>Ремонт и пошив одежды</td>\n",
       "    </tr>\n",
       "    <tr>\n",
       "      <th>26</th>\n",
       "      <td>p_27</td>\n",
       "      <td>Химчистки и прачечные</td>\n",
       "    </tr>\n",
       "    <tr>\n",
       "      <th>27</th>\n",
       "      <td>p_28</td>\n",
       "      <td>Парикмахерские, косметические салоны, салоны к...</td>\n",
       "    </tr>\n",
       "    <tr>\n",
       "      <th>28</th>\n",
       "      <td>p_29</td>\n",
       "      <td>Гостиницы</td>\n",
       "    </tr>\n",
       "    <tr>\n",
       "      <th>29</th>\n",
       "      <td>p_30</td>\n",
       "      <td>Общежития</td>\n",
       "    </tr>\n",
       "    <tr>\n",
       "      <th>30</th>\n",
       "      <td>p_31</td>\n",
       "      <td>Медицина</td>\n",
       "    </tr>\n",
       "    <tr>\n",
       "      <th>31</th>\n",
       "      <td>p_32</td>\n",
       "      <td>Бани, сауны</td>\n",
       "    </tr>\n",
       "    <tr>\n",
       "      <th>32</th>\n",
       "      <td>p_33</td>\n",
       "      <td>Организация, оказывающая ритуальные услуги</td>\n",
       "    </tr>\n",
       "    <tr>\n",
       "      <th>33</th>\n",
       "      <td>p_34</td>\n",
       "      <td>Садоводческие кооперативы, садово-огородные то...</td>\n",
       "    </tr>\n",
       "    <tr>\n",
       "      <th>34</th>\n",
       "      <td>p_35</td>\n",
       "      <td>Многоквартирные дома в г. Пензе</td>\n",
       "    </tr>\n",
       "    <tr>\n",
       "      <th>35</th>\n",
       "      <td>p_36</td>\n",
       "      <td>Многоквартирные дома в г. Кузнецке, ЗАТО Заречный</td>\n",
       "    </tr>\n",
       "    <tr>\n",
       "      <th>36</th>\n",
       "      <td>p_37</td>\n",
       "      <td>Многоквартирные дома в муниципальных образован...</td>\n",
       "    </tr>\n",
       "    <tr>\n",
       "      <th>37</th>\n",
       "      <td>p_38</td>\n",
       "      <td>Многоквартирные дома в муниципальных образован...</td>\n",
       "    </tr>\n",
       "    <tr>\n",
       "      <th>38</th>\n",
       "      <td>p_39</td>\n",
       "      <td>Индивидуальные жилые дома в г. Пензе</td>\n",
       "    </tr>\n",
       "    <tr>\n",
       "      <th>39</th>\n",
       "      <td>p_40</td>\n",
       "      <td>Индивидуальные жилые дома в г. Кузнецке, ЗАТО ...</td>\n",
       "    </tr>\n",
       "    <tr>\n",
       "      <th>40</th>\n",
       "      <td>p_41</td>\n",
       "      <td>Индивидуальные жилые дома в муниципальных обра...</td>\n",
       "    </tr>\n",
       "    <tr>\n",
       "      <th>41</th>\n",
       "      <td>p_42</td>\n",
       "      <td>Индивидуальные жилые дома в муниципальных обра...</td>\n",
       "    </tr>\n",
       "    <tr>\n",
       "      <th>42</th>\n",
       "      <td>------</td>\n",
       "      <td>Иное</td>\n",
       "    </tr>\n",
       "  </tbody>\n",
       "</table>\n",
       "</div>"
      ],
      "text/plain": [
       "       Код                    Наименование категории объектов\n",
       "0      p_1  Научно-исследовательские, проектные институты ...\n",
       "1      p_2                       Банки, финансовые учреждения\n",
       "2      p_3                                    Отделения связи\n",
       "3      p_4               Административные, офисные учреждения\n",
       "4      p_5                               Предприятия торговли\n",
       "5      p_6  Автомастерские, шиномонтажная мастерская, стан...\n",
       "6      p_7                            Автозаправочные станции\n",
       "7      p_8                             Автостоянки и парковки\n",
       "8      p_9                    Гаражи, парковки закрытого типа\n",
       "9     p_10                                          Автомойка\n",
       "10    p_11  Железнодорожные и автовокзалы, аэропорты, речн...\n",
       "11    p_12              Дошкольное образовательное учреждение\n",
       "12    p_13                     Общеобразовательное учреждение\n",
       "13    p_14  Учреждение начального и среднего профессиональ...\n",
       "14    p_15                            Детские дома, интернаты\n",
       "15    p_16  Клубы, кинотеатры, концертные залы, театры, цирки\n",
       "16    p_17                                 Библиотеки, архивы\n",
       "17    p_18                            Выставочные залы, музеи\n",
       "18    p_19                         Спортивные арены, стадионы\n",
       "19    p_20                Спортивные клубы, центры, комплексы\n",
       "20    p_21                          Зоопарк, ботанический сад\n",
       "21    p_22        Пансионаты, дома отдыха, туристические базы\n",
       "22    p_23        Кафе, рестораны, бары, закусочные, столовые\n",
       "23    p_24  Мастерские по ремонту бытовой и компьютерной т...\n",
       "24    p_25   Мастерские по ремонту обуви, ключей, часов и пр.\n",
       "25    p_26                              Ремонт и пошив одежды\n",
       "26    p_27                              Химчистки и прачечные\n",
       "27    p_28  Парикмахерские, косметические салоны, салоны к...\n",
       "28    p_29                                          Гостиницы\n",
       "29    p_30                                          Общежития\n",
       "30    p_31                                           Медицина\n",
       "31    p_32                                        Бани, сауны\n",
       "32    p_33         Организация, оказывающая ритуальные услуги\n",
       "33    p_34  Садоводческие кооперативы, садово-огородные то...\n",
       "34    p_35                    Многоквартирные дома в г. Пензе\n",
       "35    p_36  Многоквартирные дома в г. Кузнецке, ЗАТО Заречный\n",
       "36    p_37  Многоквартирные дома в муниципальных образован...\n",
       "37    p_38  Многоквартирные дома в муниципальных образован...\n",
       "38    p_39               Индивидуальные жилые дома в г. Пензе\n",
       "39    p_40  Индивидуальные жилые дома в г. Кузнецке, ЗАТО ...\n",
       "40    p_41  Индивидуальные жилые дома в муниципальных обра...\n",
       "41    p_42  Индивидуальные жилые дома в муниципальных обра...\n",
       "42  ------                                               Иное"
      ]
     },
     "execution_count": 7,
     "metadata": {},
     "output_type": "execute_result"
    }
   ],
   "source": [
    "penza = pd.read_excel('нормативы ТКО Пенза.xlsx')\n",
    "penza"
   ]
  },
  {
   "cell_type": "code",
   "execution_count": 8,
   "metadata": {
    "scrolled": true
   },
   "outputs": [
    {
     "data": {
      "text/html": [
       "<div>\n",
       "<style scoped>\n",
       "    .dataframe tbody tr th:only-of-type {\n",
       "        vertical-align: middle;\n",
       "    }\n",
       "\n",
       "    .dataframe tbody tr th {\n",
       "        vertical-align: top;\n",
       "    }\n",
       "\n",
       "    .dataframe thead th {\n",
       "        text-align: right;\n",
       "    }\n",
       "</style>\n",
       "<table border=\"1\" class=\"dataframe\">\n",
       "  <thead>\n",
       "    <tr style=\"text-align: right;\">\n",
       "      <th></th>\n",
       "      <th>Код</th>\n",
       "      <th>Наименование категории объектов</th>\n",
       "      <th>Количество строк категории в файле 2ГИС</th>\n",
       "    </tr>\n",
       "  </thead>\n",
       "  <tbody>\n",
       "    <tr>\n",
       "      <th>3</th>\n",
       "      <td>p_4</td>\n",
       "      <td>Административные, офисные учреждения</td>\n",
       "      <td>520</td>\n",
       "    </tr>\n",
       "    <tr>\n",
       "      <th>4</th>\n",
       "      <td>p_5</td>\n",
       "      <td>Предприятия торговли</td>\n",
       "      <td>515</td>\n",
       "    </tr>\n",
       "    <tr>\n",
       "      <th>31</th>\n",
       "      <td>p_32</td>\n",
       "      <td>Бани, сауны</td>\n",
       "      <td>1</td>\n",
       "    </tr>\n",
       "  </tbody>\n",
       "</table>\n",
       "</div>"
      ],
      "text/plain": [
       "     Код       Наименование категории объектов  \\\n",
       "3    p_4  Административные, офисные учреждения   \n",
       "4    p_5                  Предприятия торговли   \n",
       "31  p_32                           Бани, сауны   \n",
       "\n",
       "    Количество строк категории в файле 2ГИС  \n",
       "3                                       520  \n",
       "4                                       515  \n",
       "31                                        1  "
      ]
     },
     "execution_count": 8,
     "metadata": {},
     "output_type": "execute_result"
    }
   ],
   "source": [
    "query_max_min_count(penza, [\"p_4\", \"p_5\", \"p_32\"], 'Категория Пенз область')"
   ]
  },
  {
   "cell_type": "markdown",
   "metadata": {},
   "source": [
    "Итак, для нормативов ТКО Пензенской области первые места занимают категории \"Административные, офисные учреждения\", второе место - предприятия торговли. Последние 2 столбика на шкале гистограммы - категории \"Бани и сауны\" и \"Иное\" (то, что не удалось идентифицировать с файлом  df_gis."
   ]
  },
  {
   "cell_type": "markdown",
   "metadata": {},
   "source": [
    "<ins>Ленинградская область </ins>"
   ]
  },
  {
   "cell_type": "code",
   "execution_count": 9,
   "metadata": {},
   "outputs": [
    {
     "data": {
      "text/html": [
       "<div>\n",
       "<style scoped>\n",
       "    .dataframe tbody tr th:only-of-type {\n",
       "        vertical-align: middle;\n",
       "    }\n",
       "\n",
       "    .dataframe tbody tr th {\n",
       "        vertical-align: top;\n",
       "    }\n",
       "\n",
       "    .dataframe thead th {\n",
       "        text-align: right;\n",
       "    }\n",
       "</style>\n",
       "<table border=\"1\" class=\"dataframe\">\n",
       "  <thead>\n",
       "    <tr style=\"text-align: right;\">\n",
       "      <th></th>\n",
       "      <th>Код</th>\n",
       "      <th>Наименование категории объектов</th>\n",
       "    </tr>\n",
       "  </thead>\n",
       "  <tbody>\n",
       "    <tr>\n",
       "      <th>0</th>\n",
       "      <td>L_1</td>\n",
       "      <td>Административные учреждения (отдельно стоящие ...</td>\n",
       "    </tr>\n",
       "    <tr>\n",
       "      <th>1</th>\n",
       "      <td>L_2</td>\n",
       "      <td>Офисные учреждения, служебные помещения, банки...</td>\n",
       "    </tr>\n",
       "    <tr>\n",
       "      <th>2</th>\n",
       "      <td>L_3</td>\n",
       "      <td>Продовольственные магазины, магазины алкогольн...</td>\n",
       "    </tr>\n",
       "    <tr>\n",
       "      <th>3</th>\n",
       "      <td>L_4</td>\n",
       "      <td>Промтоварные магазины, аптеки</td>\n",
       "    </tr>\n",
       "    <tr>\n",
       "      <th>4</th>\n",
       "      <td>L_5</td>\n",
       "      <td>Супермаркеты (универмаги), магазины смешанной ...</td>\n",
       "    </tr>\n",
       "    <tr>\n",
       "      <th>5</th>\n",
       "      <td>L_6</td>\n",
       "      <td>Железнодорожные и автовокзалы</td>\n",
       "    </tr>\n",
       "    <tr>\n",
       "      <th>6</th>\n",
       "      <td>L_7</td>\n",
       "      <td>Автомастерские, шиномонтажная мастерская, стан...</td>\n",
       "    </tr>\n",
       "    <tr>\n",
       "      <th>7</th>\n",
       "      <td>L_8</td>\n",
       "      <td>Автомойки, автозаправочные станции</td>\n",
       "    </tr>\n",
       "    <tr>\n",
       "      <th>8</th>\n",
       "      <td>L_9</td>\n",
       "      <td>Автостоянки, парковки</td>\n",
       "    </tr>\n",
       "    <tr>\n",
       "      <th>9</th>\n",
       "      <td>L_10</td>\n",
       "      <td>Дошкольные образовательные учреждения</td>\n",
       "    </tr>\n",
       "    <tr>\n",
       "      <th>10</th>\n",
       "      <td>L_11</td>\n",
       "      <td>Общеобразовательные учреждения, учреждения нач...</td>\n",
       "    </tr>\n",
       "    <tr>\n",
       "      <th>11</th>\n",
       "      <td>L_12</td>\n",
       "      <td>Учреждения дополнительного образования</td>\n",
       "    </tr>\n",
       "    <tr>\n",
       "      <th>12</th>\n",
       "      <td>L_13</td>\n",
       "      <td>Детские дома, интернаты</td>\n",
       "    </tr>\n",
       "    <tr>\n",
       "      <th>13</th>\n",
       "      <td>L_14</td>\n",
       "      <td>Дворцы культуры, клубы, кинотеатры, концертные...</td>\n",
       "    </tr>\n",
       "    <tr>\n",
       "      <th>14</th>\n",
       "      <td>L_15</td>\n",
       "      <td>Пансионаты, дома отдыха, туристические базы, с...</td>\n",
       "    </tr>\n",
       "    <tr>\n",
       "      <th>15</th>\n",
       "      <td>L_16</td>\n",
       "      <td>Кафе, рестораны, бары, закусочные, столовые</td>\n",
       "    </tr>\n",
       "    <tr>\n",
       "      <th>16</th>\n",
       "      <td>L_17</td>\n",
       "      <td>Гостиницы</td>\n",
       "    </tr>\n",
       "    <tr>\n",
       "      <th>17</th>\n",
       "      <td>L_18</td>\n",
       "      <td>Парикмахерские, косметические салоны, салоны к...</td>\n",
       "    </tr>\n",
       "    <tr>\n",
       "      <th>18</th>\n",
       "      <td>L_19</td>\n",
       "      <td>Бани, сауны</td>\n",
       "    </tr>\n",
       "    <tr>\n",
       "      <th>19</th>\n",
       "      <td>L_20</td>\n",
       "      <td>Мастерские по ремонту одежды, обуви, ключей, ч...</td>\n",
       "    </tr>\n",
       "    <tr>\n",
       "      <th>20</th>\n",
       "      <td>L_21</td>\n",
       "      <td>Предприятия в сфере похоронных услуг (кладбища)</td>\n",
       "    </tr>\n",
       "    <tr>\n",
       "      <th>21</th>\n",
       "      <td>L_22</td>\n",
       "      <td>Некоммерческие объединения граждан</td>\n",
       "    </tr>\n",
       "    <tr>\n",
       "      <th>22</th>\n",
       "      <td>L_23</td>\n",
       "      <td>Садоводческие кооперативы, садово-огородные то...</td>\n",
       "    </tr>\n",
       "    <tr>\n",
       "      <th>23</th>\n",
       "      <td>L_24</td>\n",
       "      <td>Медицинские центры, центры здоровья</td>\n",
       "    </tr>\n",
       "    <tr>\n",
       "      <th>24</th>\n",
       "      <td>L_25</td>\n",
       "      <td>Больницы, санатории</td>\n",
       "    </tr>\n",
       "    <tr>\n",
       "      <th>25</th>\n",
       "      <td>L_26</td>\n",
       "      <td>Поликлиники, амбулатории</td>\n",
       "    </tr>\n",
       "    <tr>\n",
       "      <th>26</th>\n",
       "      <td>L_27</td>\n",
       "      <td>Многоквартирные дома</td>\n",
       "    </tr>\n",
       "    <tr>\n",
       "      <th>27</th>\n",
       "      <td>L_28</td>\n",
       "      <td>Индивидуальные жилые дома</td>\n",
       "    </tr>\n",
       "    <tr>\n",
       "      <th>28</th>\n",
       "      <td>L_0</td>\n",
       "      <td>Иное</td>\n",
       "    </tr>\n",
       "  </tbody>\n",
       "</table>\n",
       "</div>"
      ],
      "text/plain": [
       "     Код                    Наименование категории объектов\n",
       "0    L_1  Административные учреждения (отдельно стоящие ...\n",
       "1    L_2  Офисные учреждения, служебные помещения, банки...\n",
       "2    L_3  Продовольственные магазины, магазины алкогольн...\n",
       "3    L_4                      Промтоварные магазины, аптеки\n",
       "4    L_5  Супермаркеты (универмаги), магазины смешанной ...\n",
       "5    L_6                      Железнодорожные и автовокзалы\n",
       "6    L_7  Автомастерские, шиномонтажная мастерская, стан...\n",
       "7    L_8                 Автомойки, автозаправочные станции\n",
       "8    L_9                              Автостоянки, парковки\n",
       "9   L_10              Дошкольные образовательные учреждения\n",
       "10  L_11  Общеобразовательные учреждения, учреждения нач...\n",
       "11  L_12             Учреждения дополнительного образования\n",
       "12  L_13                            Детские дома, интернаты\n",
       "13  L_14  Дворцы культуры, клубы, кинотеатры, концертные...\n",
       "14  L_15  Пансионаты, дома отдыха, туристические базы, с...\n",
       "15  L_16        Кафе, рестораны, бары, закусочные, столовые\n",
       "16  L_17                                          Гостиницы\n",
       "17  L_18  Парикмахерские, косметические салоны, салоны к...\n",
       "18  L_19                                        Бани, сауны\n",
       "19  L_20  Мастерские по ремонту одежды, обуви, ключей, ч...\n",
       "20  L_21    Предприятия в сфере похоронных услуг (кладбища)\n",
       "21  L_22                 Некоммерческие объединения граждан\n",
       "22  L_23  Садоводческие кооперативы, садово-огородные то...\n",
       "23  L_24                Медицинские центры, центры здоровья\n",
       "24  L_25                                Больницы, санатории\n",
       "25  L_26                           Поликлиники, амбулатории\n",
       "26  L_27                               Многоквартирные дома\n",
       "27  L_28                          Индивидуальные жилые дома\n",
       "28   L_0                                               Иное"
      ]
     },
     "execution_count": 9,
     "metadata": {},
     "output_type": "execute_result"
    }
   ],
   "source": [
    "lenobl = pd.read_excel('нормативы ТКО Лен обл.xlsx')\n",
    "lenobl"
   ]
  },
  {
   "cell_type": "code",
   "execution_count": 10,
   "metadata": {},
   "outputs": [
    {
     "data": {
      "text/html": [
       "<div>\n",
       "<style scoped>\n",
       "    .dataframe tbody tr th:only-of-type {\n",
       "        vertical-align: middle;\n",
       "    }\n",
       "\n",
       "    .dataframe tbody tr th {\n",
       "        vertical-align: top;\n",
       "    }\n",
       "\n",
       "    .dataframe thead th {\n",
       "        text-align: right;\n",
       "    }\n",
       "</style>\n",
       "<table border=\"1\" class=\"dataframe\">\n",
       "  <thead>\n",
       "    <tr style=\"text-align: right;\">\n",
       "      <th></th>\n",
       "      <th>Код</th>\n",
       "      <th>Наименование категории объектов</th>\n",
       "      <th>Количество строк категории в файле 2ГИС</th>\n",
       "    </tr>\n",
       "  </thead>\n",
       "  <tbody>\n",
       "    <tr>\n",
       "      <th>1</th>\n",
       "      <td>L_2</td>\n",
       "      <td>Офисные учреждения, служебные помещения, банки...</td>\n",
       "      <td>543</td>\n",
       "    </tr>\n",
       "    <tr>\n",
       "      <th>3</th>\n",
       "      <td>L_4</td>\n",
       "      <td>Промтоварные магазины, аптеки</td>\n",
       "      <td>477</td>\n",
       "    </tr>\n",
       "    <tr>\n",
       "      <th>18</th>\n",
       "      <td>L_19</td>\n",
       "      <td>Бани, сауны</td>\n",
       "      <td>1</td>\n",
       "    </tr>\n",
       "  </tbody>\n",
       "</table>\n",
       "</div>"
      ],
      "text/plain": [
       "     Код                    Наименование категории объектов  \\\n",
       "1    L_2  Офисные учреждения, служебные помещения, банки...   \n",
       "3    L_4                      Промтоварные магазины, аптеки   \n",
       "18  L_19                                        Бани, сауны   \n",
       "\n",
       "    Количество строк категории в файле 2ГИС  \n",
       "1                                       543  \n",
       "3                                       477  \n",
       "18                                        1  "
      ]
     },
     "execution_count": 10,
     "metadata": {},
     "output_type": "execute_result"
    }
   ],
   "source": [
    "query_max_min_count(lenobl, [\"L_2\", \"L_4\", \"L_19\"], 'Категория Лен область')"
   ]
  },
  {
   "cell_type": "markdown",
   "metadata": {},
   "source": [
    "Первую категорию плохо видно:"
   ]
  },
  {
   "cell_type": "code",
   "execution_count": 11,
   "metadata": {},
   "outputs": [
    {
     "data": {
      "text/plain": [
       "['Офисные учреждения, служебные помещения, банки (расположенные во встроенных помещениях), конструкторские бюро, научно-исследовательские институты, отделения связи']"
      ]
     },
     "execution_count": 11,
     "metadata": {},
     "output_type": "execute_result"
    }
   ],
   "source": [
    "lenobl[lenobl['Код'] == 'L_2']['Наименование категории объектов'].to_list()"
   ]
  },
  {
   "cell_type": "markdown",
   "metadata": {},
   "source": [
    "Что мы видим: категории схожи, но при этом категория административных учреждений находится отдельно, а перед нами офисные учреждения, к которым также отнесли и архивы, и музеи, и библиотеки. А в Пензенской области, например, библиотекам и архивам принадлежит отдельная категория.  \n",
    "Точно так же и вторая строчка нашей таблицы: \"Промтоварные магазины, аптеки\". А что в Пензе? Тут вторую строчку рейтинга занимает категория \"Предприятия торговли\". Как можно заметить, к предприятиям торговли можно отнести и \"Промтоварные магазины\" (вторая категория Лен обл), и \"аптеки\" (она же), и \"Супермаркеты (универмаги)...\" (пятая категория Лен обл), и \"Продовольственные магазины\" (тоже отдельная категория Лен области)."
   ]
  },
  {
   "cell_type": "markdown",
   "metadata": {},
   "source": [
    "<ins>Республика Бурятия </ins>"
   ]
  },
  {
   "cell_type": "code",
   "execution_count": 12,
   "metadata": {},
   "outputs": [
    {
     "data": {
      "text/html": [
       "<div>\n",
       "<style scoped>\n",
       "    .dataframe tbody tr th:only-of-type {\n",
       "        vertical-align: middle;\n",
       "    }\n",
       "\n",
       "    .dataframe tbody tr th {\n",
       "        vertical-align: top;\n",
       "    }\n",
       "\n",
       "    .dataframe thead th {\n",
       "        text-align: right;\n",
       "    }\n",
       "</style>\n",
       "<table border=\"1\" class=\"dataframe\">\n",
       "  <thead>\n",
       "    <tr style=\"text-align: right;\">\n",
       "      <th></th>\n",
       "      <th>Код</th>\n",
       "      <th>Наименование категории объектов</th>\n",
       "    </tr>\n",
       "  </thead>\n",
       "  <tbody>\n",
       "    <tr>\n",
       "      <th>0</th>\n",
       "      <td>b_1</td>\n",
       "      <td>научно-исследовательские, проектные институты ...</td>\n",
       "    </tr>\n",
       "    <tr>\n",
       "      <th>1</th>\n",
       "      <td>b_2</td>\n",
       "      <td>продовольственные магазины, промтоварные магаз...</td>\n",
       "    </tr>\n",
       "    <tr>\n",
       "      <th>2</th>\n",
       "      <td>b_3</td>\n",
       "      <td>супермаркеты (универмаги), рынки продовольстве...</td>\n",
       "    </tr>\n",
       "    <tr>\n",
       "      <th>3</th>\n",
       "      <td>b_4</td>\n",
       "      <td>автомастерские, шиномонтажные мастерские, стан...</td>\n",
       "    </tr>\n",
       "    <tr>\n",
       "      <th>4</th>\n",
       "      <td>b_5</td>\n",
       "      <td>автозаправочные станции</td>\n",
       "    </tr>\n",
       "    <tr>\n",
       "      <th>5</th>\n",
       "      <td>b_6</td>\n",
       "      <td>железнодорожные и автовокзалы, аэропорты, речн...</td>\n",
       "    </tr>\n",
       "    <tr>\n",
       "      <th>6</th>\n",
       "      <td>b_7</td>\n",
       "      <td>больницы, санатории, пансионаты, курорты, проф...</td>\n",
       "    </tr>\n",
       "    <tr>\n",
       "      <th>7</th>\n",
       "      <td>b_8</td>\n",
       "      <td>поликлиники, фармацевтические организации, сто...</td>\n",
       "    </tr>\n",
       "    <tr>\n",
       "      <th>8</th>\n",
       "      <td>b_9</td>\n",
       "      <td>дошкольные образовательные учреждения, общеобр...</td>\n",
       "    </tr>\n",
       "    <tr>\n",
       "      <th>9</th>\n",
       "      <td>b_10</td>\n",
       "      <td>детские дома, интернаты</td>\n",
       "    </tr>\n",
       "    <tr>\n",
       "      <th>10</th>\n",
       "      <td>b_11</td>\n",
       "      <td>спортивные арены, стадионы, спортивные клубы, ...</td>\n",
       "    </tr>\n",
       "    <tr>\n",
       "      <th>11</th>\n",
       "      <td>b_12</td>\n",
       "      <td>библиотеки, архивы, выставочные залы, музеи</td>\n",
       "    </tr>\n",
       "    <tr>\n",
       "      <th>12</th>\n",
       "      <td>b_13</td>\n",
       "      <td>гостевые дома, дома отдыха, туристические базы...</td>\n",
       "    </tr>\n",
       "    <tr>\n",
       "      <th>13</th>\n",
       "      <td>b_14</td>\n",
       "      <td>кафе, рестораны, бары, закусочные, столовые</td>\n",
       "    </tr>\n",
       "    <tr>\n",
       "      <th>14</th>\n",
       "      <td>b_15</td>\n",
       "      <td>мастерские по ремонту бытовой и компьютерной т...</td>\n",
       "    </tr>\n",
       "    <tr>\n",
       "      <th>15</th>\n",
       "      <td>b_16</td>\n",
       "      <td>парикмахерские, косметические салоны, салоны к...</td>\n",
       "    </tr>\n",
       "    <tr>\n",
       "      <th>16</th>\n",
       "      <td>b_17</td>\n",
       "      <td>бани, сауны</td>\n",
       "    </tr>\n",
       "    <tr>\n",
       "      <th>17</th>\n",
       "      <td>b_18</td>\n",
       "      <td>кладбища</td>\n",
       "    </tr>\n",
       "    <tr>\n",
       "      <th>18</th>\n",
       "      <td>b_19</td>\n",
       "      <td>организации, оказывающие ритуальные услуги</td>\n",
       "    </tr>\n",
       "    <tr>\n",
       "      <th>19</th>\n",
       "      <td>b_20</td>\n",
       "      <td>Садоводческие кооперативы, садово-огородные то...</td>\n",
       "    </tr>\n",
       "    <tr>\n",
       "      <th>20</th>\n",
       "      <td>b_21</td>\n",
       "      <td>типографии, пункты приема вторичного сырья</td>\n",
       "    </tr>\n",
       "    <tr>\n",
       "      <th>21</th>\n",
       "      <td>b_22</td>\n",
       "      <td>ветеринарные клиники, ветеринарные аптеки</td>\n",
       "    </tr>\n",
       "    <tr>\n",
       "      <th>22</th>\n",
       "      <td>b_23</td>\n",
       "      <td>иные производственные объекты (пилорамы, котел...</td>\n",
       "    </tr>\n",
       "    <tr>\n",
       "      <th>23</th>\n",
       "      <td>b_24</td>\n",
       "      <td>Парки, скверы, бульвары</td>\n",
       "    </tr>\n",
       "    <tr>\n",
       "      <th>24</th>\n",
       "      <td>b_25</td>\n",
       "      <td>Многоквартирные дома</td>\n",
       "    </tr>\n",
       "    <tr>\n",
       "      <th>25</th>\n",
       "      <td>b_26</td>\n",
       "      <td>Индивидуальные жилые дома</td>\n",
       "    </tr>\n",
       "    <tr>\n",
       "      <th>26</th>\n",
       "      <td>------</td>\n",
       "      <td>Иное</td>\n",
       "    </tr>\n",
       "  </tbody>\n",
       "</table>\n",
       "</div>"
      ],
      "text/plain": [
       "       Код                    Наименование категории объектов\n",
       "0      b_1  научно-исследовательские, проектные институты ...\n",
       "1      b_2  продовольственные магазины, промтоварные магаз...\n",
       "2      b_3  супермаркеты (универмаги), рынки продовольстве...\n",
       "3      b_4  автомастерские, шиномонтажные мастерские, стан...\n",
       "4      b_5                            автозаправочные станции\n",
       "5      b_6  железнодорожные и автовокзалы, аэропорты, речн...\n",
       "6      b_7  больницы, санатории, пансионаты, курорты, проф...\n",
       "7      b_8  поликлиники, фармацевтические организации, сто...\n",
       "8      b_9  дошкольные образовательные учреждения, общеобр...\n",
       "9     b_10                            детские дома, интернаты\n",
       "10    b_11  спортивные арены, стадионы, спортивные клубы, ...\n",
       "11    b_12        библиотеки, архивы, выставочные залы, музеи\n",
       "12    b_13  гостевые дома, дома отдыха, туристические базы...\n",
       "13    b_14        кафе, рестораны, бары, закусочные, столовые\n",
       "14    b_15  мастерские по ремонту бытовой и компьютерной т...\n",
       "15    b_16  парикмахерские, косметические салоны, салоны к...\n",
       "16    b_17                                        бани, сауны\n",
       "17    b_18                                           кладбища\n",
       "18    b_19         организации, оказывающие ритуальные услуги\n",
       "19    b_20  Садоводческие кооперативы, садово-огородные то...\n",
       "20    b_21         типографии, пункты приема вторичного сырья\n",
       "21    b_22          ветеринарные клиники, ветеринарные аптеки\n",
       "22    b_23  иные производственные объекты (пилорамы, котел...\n",
       "23    b_24                            Парки, скверы, бульвары\n",
       "24    b_25                               Многоквартирные дома\n",
       "25    b_26                          Индивидуальные жилые дома\n",
       "26  ------                                               Иное"
      ]
     },
     "execution_count": 12,
     "metadata": {},
     "output_type": "execute_result"
    }
   ],
   "source": [
    "burya = pd.read_excel('нормативы ТКО Бурятия.xlsx')\n",
    "burya"
   ]
  },
  {
   "cell_type": "code",
   "execution_count": 13,
   "metadata": {},
   "outputs": [
    {
     "data": {
      "text/html": [
       "<div>\n",
       "<style scoped>\n",
       "    .dataframe tbody tr th:only-of-type {\n",
       "        vertical-align: middle;\n",
       "    }\n",
       "\n",
       "    .dataframe tbody tr th {\n",
       "        vertical-align: top;\n",
       "    }\n",
       "\n",
       "    .dataframe thead th {\n",
       "        text-align: right;\n",
       "    }\n",
       "</style>\n",
       "<table border=\"1\" class=\"dataframe\">\n",
       "  <thead>\n",
       "    <tr style=\"text-align: right;\">\n",
       "      <th></th>\n",
       "      <th>Код</th>\n",
       "      <th>Наименование категории объектов</th>\n",
       "      <th>Количество строк категории в файле 2ГИС</th>\n",
       "    </tr>\n",
       "  </thead>\n",
       "  <tbody>\n",
       "    <tr>\n",
       "      <th>0</th>\n",
       "      <td>b_1</td>\n",
       "      <td>научно-исследовательские, проектные институты ...</td>\n",
       "      <td>501</td>\n",
       "    </tr>\n",
       "    <tr>\n",
       "      <th>1</th>\n",
       "      <td>b_2</td>\n",
       "      <td>продовольственные магазины, промтоварные магаз...</td>\n",
       "      <td>492</td>\n",
       "    </tr>\n",
       "    <tr>\n",
       "      <th>16</th>\n",
       "      <td>b_17</td>\n",
       "      <td>бани, сауны</td>\n",
       "      <td>1</td>\n",
       "    </tr>\n",
       "  </tbody>\n",
       "</table>\n",
       "</div>"
      ],
      "text/plain": [
       "     Код                    Наименование категории объектов  \\\n",
       "0    b_1  научно-исследовательские, проектные институты ...   \n",
       "1    b_2  продовольственные магазины, промтоварные магаз...   \n",
       "16  b_17                                        бани, сауны   \n",
       "\n",
       "    Количество строк категории в файле 2ГИС  \n",
       "0                                       501  \n",
       "1                                       492  \n",
       "16                                        1  "
      ]
     },
     "execution_count": 13,
     "metadata": {},
     "output_type": "execute_result"
    }
   ],
   "source": [
    "query_max_min_count(burya, [\"b_2\", \"b_1\",\"b_17\"], 'Категория Респ Бурятия')"
   ]
  },
  {
   "cell_type": "code",
   "execution_count": 14,
   "metadata": {},
   "outputs": [
    {
     "name": "stdout",
     "output_type": "stream",
     "text": [
      "['научно-исследовательские, проектные институты и конструкторские бюро, банки, финансовые учреждения, административные, офисные учреждения (включая частные охранные организации), отделения связи']\n",
      "\n",
      "['продовольственные магазины, промтоварные магазины, павильоны торговые (продовольственные, непродовольственные), лотки, палатки, киоски']\n"
     ]
    }
   ],
   "source": [
    "print(burya[burya['Код'] == 'b_1']['Наименование категории объектов'].to_list())\n",
    "print()\n",
    "print(burya[burya['Код'] == 'b_2']['Наименование категории объектов'].to_list())"
   ]
  },
  {
   "cell_type": "markdown",
   "metadata": {},
   "source": [
    "___________________________________________________________________________________________________________________\n",
    "Что касается республики Бурятия: в первую категорию помимо НИОКБ отнесены банки и отделения связи.  \n",
    "Сравним с другими нормативами: \n",
    "- в Пензенской области для отделения связи заведена отдельная категория, для банков - тоже. \n",
    "- в Лен области банки относят к офисным учреждениям, а отделений связи вообще нет (соответственно, тут может быть только субъективная оценка: либо отнести всё же к офисам, либо вообще к категории \"Иное\").  \n",
    "\n",
    "Категория, посвященная сфере торговли, развернуто описана. Видно, что в неё войдут практически все предприятия торговли за исключением рынков и супермаркетов.  \n",
    "А в Лен области, например, более мелкое деление: для предприятий торговли выделены аж 3 категории.  \n",
    "Что касается Пензенской области: предприятия торговли все принадлежат к одной категории, при этом никакой расшифровки (что туда относится) внутри нет."
   ]
  },
  {
   "cell_type": "markdown",
   "metadata": {},
   "source": [
    "___________________________________________________________________________________________________________________\n",
    "Таким образом, мы определили, что для решения данной задачи вряд ли подойдет готовый алгоритм вычисления расстояний между текстами, т.к. явных вариаций для разделения нет. Соответственно, решать задачу будем посредством машинного обучения."
   ]
  },
  {
   "cell_type": "markdown",
   "metadata": {},
   "source": [
    "Переходим к предобработке данных:"
   ]
  },
  {
   "cell_type": "markdown",
   "metadata": {},
   "source": [
    "<ins>Работа с пропусками </ins>"
   ]
  },
  {
   "cell_type": "markdown",
   "metadata": {},
   "source": [
    "Как мы помним, в основном файле пропуски были только в одном столбце:"
   ]
  },
  {
   "cell_type": "code",
   "execution_count": 15,
   "metadata": {},
   "outputs": [
    {
     "data": {
      "text/plain": [
       "19"
      ]
     },
     "execution_count": 15,
     "metadata": {},
     "output_type": "execute_result"
    }
   ],
   "source": [
    "df_gis['Ключевые слова'].isna().sum()"
   ]
  },
  {
   "cell_type": "code",
   "execution_count": 16,
   "metadata": {},
   "outputs": [
    {
     "data": {
      "text/html": [
       "<div>\n",
       "<style scoped>\n",
       "    .dataframe tbody tr th:only-of-type {\n",
       "        vertical-align: middle;\n",
       "    }\n",
       "\n",
       "    .dataframe tbody tr th {\n",
       "        vertical-align: top;\n",
       "    }\n",
       "\n",
       "    .dataframe thead th {\n",
       "        text-align: right;\n",
       "    }\n",
       "</style>\n",
       "<table border=\"1\" class=\"dataframe\">\n",
       "  <thead>\n",
       "    <tr style=\"text-align: right;\">\n",
       "      <th></th>\n",
       "      <th>Категория</th>\n",
       "      <th>Рубрика 2го уровня</th>\n",
       "      <th>Рубрика</th>\n",
       "      <th>Тематика рубрики</th>\n",
       "      <th>Код рубрики</th>\n",
       "      <th>Ключевые слова</th>\n",
       "      <th>Описание</th>\n",
       "      <th>Категория Пенз область</th>\n",
       "      <th>Категория Лен область</th>\n",
       "      <th>Категория Респ Бурятия</th>\n",
       "    </tr>\n",
       "  </thead>\n",
       "  <tbody>\n",
       "    <tr>\n",
       "      <th>93</th>\n",
       "      <td>Город / Власть</td>\n",
       "      <td>Общественные / политические организации</td>\n",
       "      <td>Венчурные фонды</td>\n",
       "      <td>Офисные учреждения</td>\n",
       "      <td>112417</td>\n",
       "      <td>NaN</td>\n",
       "      <td>Вносить Венчурные фонды. Венчурный фонд - риск...</td>\n",
       "      <td>p_4</td>\n",
       "      <td>L_2</td>\n",
       "      <td>b_1</td>\n",
       "    </tr>\n",
       "    <tr>\n",
       "      <th>94</th>\n",
       "      <td>Город / Власть</td>\n",
       "      <td>Общественные / политические организации</td>\n",
       "      <td>Гарантийные фонды</td>\n",
       "      <td>Офисные учреждения</td>\n",
       "      <td>112416</td>\n",
       "      <td>NaN</td>\n",
       "      <td>Вносить Гарантийные фонды. Также данные органи...</td>\n",
       "      <td>p_4</td>\n",
       "      <td>L_2</td>\n",
       "      <td>b_1</td>\n",
       "    </tr>\n",
       "    <tr>\n",
       "      <th>96</th>\n",
       "      <td>Город / Власть</td>\n",
       "      <td>Общественные / политические организации</td>\n",
       "      <td>Гранты</td>\n",
       "      <td>Офисные учреждения</td>\n",
       "      <td>733</td>\n",
       "      <td>NaN</td>\n",
       "      <td>В данную рубрику следует вносить организации, ...</td>\n",
       "      <td>p_4</td>\n",
       "      <td>L_2</td>\n",
       "      <td>b_1</td>\n",
       "    </tr>\n",
       "    <tr>\n",
       "      <th>97</th>\n",
       "      <td>Город / Власть</td>\n",
       "      <td>Общественные / политические организации</td>\n",
       "      <td>Залоговые фонды</td>\n",
       "      <td>Офисные учреждения</td>\n",
       "      <td>112415</td>\n",
       "      <td>NaN</td>\n",
       "      <td>Вносить Залоговые фонды. Залоговый фонд - это ...</td>\n",
       "      <td>p_4</td>\n",
       "      <td>L_2</td>\n",
       "      <td>b_1</td>\n",
       "    </tr>\n",
       "    <tr>\n",
       "      <th>102</th>\n",
       "      <td>Город / Власть</td>\n",
       "      <td>Общественные / политические организации</td>\n",
       "      <td>Общественные группы</td>\n",
       "      <td>Офисные учреждения</td>\n",
       "      <td>110878</td>\n",
       "      <td>NaN</td>\n",
       "      <td>Вносить общественные группы с некоммерческой н...</td>\n",
       "      <td>p_4</td>\n",
       "      <td>L_2</td>\n",
       "      <td>b_1</td>\n",
       "    </tr>\n",
       "    <tr>\n",
       "      <th>106</th>\n",
       "      <td>Город / Власть</td>\n",
       "      <td>Общественные / политические организации</td>\n",
       "      <td>Приёмные Президента</td>\n",
       "      <td>Офисные учреждения</td>\n",
       "      <td>110949</td>\n",
       "      <td>NaN</td>\n",
       "      <td>В данную рубрику следует вносить приемные През...</td>\n",
       "      <td>p_4</td>\n",
       "      <td>L_2</td>\n",
       "      <td>b_1</td>\n",
       "    </tr>\n",
       "    <tr>\n",
       "      <th>139</th>\n",
       "      <td>Город / Власть</td>\n",
       "      <td>Социальные учреждения</td>\n",
       "      <td>Бэби-боксы</td>\n",
       "      <td>Детские дома, интернаты</td>\n",
       "      <td>110322</td>\n",
       "      <td>NaN</td>\n",
       "      <td>В данную рубрику следует вносить бэби-боксы. \\...</td>\n",
       "      <td>p_15</td>\n",
       "      <td>L_13</td>\n",
       "      <td>b_10</td>\n",
       "    </tr>\n",
       "    <tr>\n",
       "      <th>167</th>\n",
       "      <td>Досуг / Развлечения / Общественное питание</td>\n",
       "      <td>Места отдыха / Развлекательные заведения</td>\n",
       "      <td>Заповедники</td>\n",
       "      <td>Ботанические сады</td>\n",
       "      <td>112594</td>\n",
       "      <td>NaN</td>\n",
       "      <td>Вносить заповедники, которые открыты для посещ...</td>\n",
       "      <td>p_21</td>\n",
       "      <td>L_15</td>\n",
       "      <td>b_24</td>\n",
       "    </tr>\n",
       "    <tr>\n",
       "      <th>240</th>\n",
       "      <td>Интернет / Связь / Информационные технологии</td>\n",
       "      <td>Интернет</td>\n",
       "      <td>Интернет-провайдеры</td>\n",
       "      <td>Офисные учреждения</td>\n",
       "      <td>176</td>\n",
       "      <td>NaN</td>\n",
       "      <td>Вносить интернет-провайдеры, которые предостав...</td>\n",
       "      <td>p_4</td>\n",
       "      <td>L_2</td>\n",
       "      <td>b_1</td>\n",
       "    </tr>\n",
       "    <tr>\n",
       "      <th>332</th>\n",
       "      <td>Коммунальные / бытовые / ритуальные услуги</td>\n",
       "      <td>Жилищно-коммунальные услуги</td>\n",
       "      <td>Инженерные службы</td>\n",
       "      <td>Офисные учреждения</td>\n",
       "      <td>49532</td>\n",
       "      <td>NaN</td>\n",
       "      <td>В данную рубрику следует вносить инженерные сл...</td>\n",
       "      <td>p_4</td>\n",
       "      <td>L_2</td>\n",
       "      <td>b_1</td>\n",
       "    </tr>\n",
       "    <tr>\n",
       "      <th>347</th>\n",
       "      <td>Коммунальные / бытовые / ритуальные услуги</td>\n",
       "      <td>Ритуальные услуги</td>\n",
       "      <td>Кладбища</td>\n",
       "      <td>Кладбища</td>\n",
       "      <td>323</td>\n",
       "      <td>NaN</td>\n",
       "      <td>В данную рубрику следует вносить кладбища. \\nВ...</td>\n",
       "      <td>p_33</td>\n",
       "      <td>L_21</td>\n",
       "      <td>b_18</td>\n",
       "    </tr>\n",
       "    <tr>\n",
       "      <th>389</th>\n",
       "      <td>Культура / Искусство / Религия</td>\n",
       "      <td>Культура / Искусство</td>\n",
       "      <td>Мавзолей</td>\n",
       "      <td>Музеи</td>\n",
       "      <td>47245</td>\n",
       "      <td>NaN</td>\n",
       "      <td>Мавзолей — памятник-усыпальница на Красной пло...</td>\n",
       "      <td>p_18</td>\n",
       "      <td>L_1</td>\n",
       "      <td>b_12</td>\n",
       "    </tr>\n",
       "    <tr>\n",
       "      <th>409</th>\n",
       "      <td>Культура / Искусство / Религия</td>\n",
       "      <td>Религия</td>\n",
       "      <td>Синагога</td>\n",
       "      <td>Офисные учреждения</td>\n",
       "      <td>54063</td>\n",
       "      <td>NaN</td>\n",
       "      <td>Синагога – место, где иудеи собираются для мол...</td>\n",
       "      <td>p_4</td>\n",
       "      <td>L_2</td>\n",
       "      <td>b_1</td>\n",
       "    </tr>\n",
       "    <tr>\n",
       "      <th>723</th>\n",
       "      <td>Оборудование / Инструмент</td>\n",
       "      <td>Строительное оборудование и техника</td>\n",
       "      <td>Товары</td>\n",
       "      <td>Промтоварный магазин</td>\n",
       "      <td>112454</td>\n",
       "      <td>NaN</td>\n",
       "      <td>РУБРИКА ЭКСПЕРИМЕНТАЛЬНАЯ! Не указывать в карт...</td>\n",
       "      <td>p_5</td>\n",
       "      <td>L_4</td>\n",
       "      <td>b_2</td>\n",
       "    </tr>\n",
       "    <tr>\n",
       "      <th>777</th>\n",
       "      <td>Образование / Работа / Карьера</td>\n",
       "      <td>Научные организации</td>\n",
       "      <td>Обсерватории</td>\n",
       "      <td>Научно-исследовательские институты</td>\n",
       "      <td>50875</td>\n",
       "      <td>NaN</td>\n",
       "      <td>В данную рубрику следует вносить специализиров...</td>\n",
       "      <td>p_1</td>\n",
       "      <td>L_2</td>\n",
       "      <td>b_1</td>\n",
       "    </tr>\n",
       "    <tr>\n",
       "      <th>1140</th>\n",
       "      <td>Строительство / Недвижимость / Ремонт</td>\n",
       "      <td>Строительные / монтажные работы</td>\n",
       "      <td>Археологические работы</td>\n",
       "      <td>Офисные учреждения</td>\n",
       "      <td>112596</td>\n",
       "      <td>NaN</td>\n",
       "      <td>Вносить организации, которые ведут археологиче...</td>\n",
       "      <td>p_4</td>\n",
       "      <td>L_2</td>\n",
       "      <td>b_1</td>\n",
       "    </tr>\n",
       "    <tr>\n",
       "      <th>1337</th>\n",
       "      <td>Транспорт / Грузоперевозки</td>\n",
       "      <td>Городской транспорт</td>\n",
       "      <td>Метрополитен</td>\n",
       "      <td>Офисные учреждения</td>\n",
       "      <td>535</td>\n",
       "      <td>NaN</td>\n",
       "      <td>Следует вносить ТОЛЬКО головные организации (а...</td>\n",
       "      <td>p_4</td>\n",
       "      <td>L_2</td>\n",
       "      <td>b_1</td>\n",
       "    </tr>\n",
       "    <tr>\n",
       "      <th>1339</th>\n",
       "      <td>Транспорт / Грузоперевозки</td>\n",
       "      <td>Городской транспорт</td>\n",
       "      <td>Трамвайные депо</td>\n",
       "      <td>Офисные учреждения</td>\n",
       "      <td>534</td>\n",
       "      <td>NaN</td>\n",
       "      <td>Следует вносить городские трамвайные депо.\\nНЕ...</td>\n",
       "      <td>p_4</td>\n",
       "      <td>L_2</td>\n",
       "      <td>b_1</td>\n",
       "    </tr>\n",
       "    <tr>\n",
       "      <th>1438</th>\n",
       "      <td>Юридические / финансовые / бизнес-услуги</td>\n",
       "      <td>Банковские / финансовые услуги</td>\n",
       "      <td>Операторы инвестиционных платформ</td>\n",
       "      <td>Банки</td>\n",
       "      <td>112452</td>\n",
       "      <td>NaN</td>\n",
       "      <td>Вносить операторов инвестиционных платформ(ОИП...</td>\n",
       "      <td>p_2</td>\n",
       "      <td>L_2</td>\n",
       "      <td>b_1</td>\n",
       "    </tr>\n",
       "  </tbody>\n",
       "</table>\n",
       "</div>"
      ],
      "text/plain": [
       "                                         Категория  \\\n",
       "93                                  Город / Власть   \n",
       "94                                  Город / Власть   \n",
       "96                                  Город / Власть   \n",
       "97                                  Город / Власть   \n",
       "102                                 Город / Власть   \n",
       "106                                 Город / Власть   \n",
       "139                                 Город / Власть   \n",
       "167     Досуг / Развлечения / Общественное питание   \n",
       "240   Интернет / Связь / Информационные технологии   \n",
       "332     Коммунальные / бытовые / ритуальные услуги   \n",
       "347     Коммунальные / бытовые / ритуальные услуги   \n",
       "389                 Культура / Искусство / Религия   \n",
       "409                 Культура / Искусство / Религия   \n",
       "723                      Оборудование / Инструмент   \n",
       "777                 Образование / Работа / Карьера   \n",
       "1140         Строительство / Недвижимость / Ремонт   \n",
       "1337                    Транспорт / Грузоперевозки   \n",
       "1339                    Транспорт / Грузоперевозки   \n",
       "1438      Юридические / финансовые / бизнес-услуги   \n",
       "\n",
       "                            Рубрика 2го уровня  \\\n",
       "93     Общественные / политические организации   \n",
       "94     Общественные / политические организации   \n",
       "96     Общественные / политические организации   \n",
       "97     Общественные / политические организации   \n",
       "102    Общественные / политические организации   \n",
       "106    Общественные / политические организации   \n",
       "139                      Социальные учреждения   \n",
       "167   Места отдыха / Развлекательные заведения   \n",
       "240                                   Интернет   \n",
       "332                Жилищно-коммунальные услуги   \n",
       "347                          Ритуальные услуги   \n",
       "389                       Культура / Искусство   \n",
       "409                                    Религия   \n",
       "723        Строительное оборудование и техника   \n",
       "777                        Научные организации   \n",
       "1140           Строительные / монтажные работы   \n",
       "1337                       Городской транспорт   \n",
       "1339                       Городской транспорт   \n",
       "1438            Банковские / финансовые услуги   \n",
       "\n",
       "                                Рубрика                    Тематика рубрики  \\\n",
       "93                      Венчурные фонды                  Офисные учреждения   \n",
       "94                    Гарантийные фонды                  Офисные учреждения   \n",
       "96                               Гранты                  Офисные учреждения   \n",
       "97                      Залоговые фонды                  Офисные учреждения   \n",
       "102                 Общественные группы                  Офисные учреждения   \n",
       "106                 Приёмные Президента                  Офисные учреждения   \n",
       "139                          Бэби-боксы             Детские дома, интернаты   \n",
       "167                         Заповедники                   Ботанические сады   \n",
       "240                 Интернет-провайдеры                  Офисные учреждения   \n",
       "332                   Инженерные службы                  Офисные учреждения   \n",
       "347                            Кладбища                            Кладбища   \n",
       "389                            Мавзолей                               Музеи   \n",
       "409                            Синагога                  Офисные учреждения   \n",
       "723                              Товары                Промтоварный магазин   \n",
       "777                        Обсерватории  Научно-исследовательские институты   \n",
       "1140             Археологические работы                  Офисные учреждения   \n",
       "1337                       Метрополитен                  Офисные учреждения   \n",
       "1339                    Трамвайные депо                  Офисные учреждения   \n",
       "1438  Операторы инвестиционных платформ                               Банки   \n",
       "\n",
       "      Код рубрики Ключевые слова  \\\n",
       "93         112417            NaN   \n",
       "94         112416            NaN   \n",
       "96            733            NaN   \n",
       "97         112415            NaN   \n",
       "102        110878            NaN   \n",
       "106        110949            NaN   \n",
       "139        110322            NaN   \n",
       "167        112594            NaN   \n",
       "240           176            NaN   \n",
       "332         49532            NaN   \n",
       "347           323            NaN   \n",
       "389         47245            NaN   \n",
       "409         54063            NaN   \n",
       "723        112454            NaN   \n",
       "777         50875            NaN   \n",
       "1140       112596            NaN   \n",
       "1337          535            NaN   \n",
       "1339          534            NaN   \n",
       "1438       112452            NaN   \n",
       "\n",
       "                                               Описание  \\\n",
       "93    Вносить Венчурные фонды. Венчурный фонд - риск...   \n",
       "94    Вносить Гарантийные фонды. Также данные органи...   \n",
       "96    В данную рубрику следует вносить организации, ...   \n",
       "97    Вносить Залоговые фонды. Залоговый фонд - это ...   \n",
       "102   Вносить общественные группы с некоммерческой н...   \n",
       "106   В данную рубрику следует вносить приемные През...   \n",
       "139   В данную рубрику следует вносить бэби-боксы. \\...   \n",
       "167   Вносить заповедники, которые открыты для посещ...   \n",
       "240   Вносить интернет-провайдеры, которые предостав...   \n",
       "332   В данную рубрику следует вносить инженерные сл...   \n",
       "347   В данную рубрику следует вносить кладбища. \\nВ...   \n",
       "389   Мавзолей — памятник-усыпальница на Красной пло...   \n",
       "409   Синагога – место, где иудеи собираются для мол...   \n",
       "723   РУБРИКА ЭКСПЕРИМЕНТАЛЬНАЯ! Не указывать в карт...   \n",
       "777   В данную рубрику следует вносить специализиров...   \n",
       "1140  Вносить организации, которые ведут археологиче...   \n",
       "1337  Следует вносить ТОЛЬКО головные организации (а...   \n",
       "1339  Следует вносить городские трамвайные депо.\\nНЕ...   \n",
       "1438  Вносить операторов инвестиционных платформ(ОИП...   \n",
       "\n",
       "     Категория Пенз область Категория Лен область Категория Респ Бурятия  \n",
       "93                      p_4                   L_2                    b_1  \n",
       "94                      p_4                   L_2                    b_1  \n",
       "96                      p_4                   L_2                    b_1  \n",
       "97                      p_4                   L_2                    b_1  \n",
       "102                     p_4                   L_2                    b_1  \n",
       "106                     p_4                   L_2                    b_1  \n",
       "139                    p_15                  L_13                   b_10  \n",
       "167                    p_21                  L_15                   b_24  \n",
       "240                     p_4                   L_2                    b_1  \n",
       "332                     p_4                   L_2                    b_1  \n",
       "347                    p_33                  L_21                   b_18  \n",
       "389                    p_18                   L_1                   b_12  \n",
       "409                     p_4                   L_2                    b_1  \n",
       "723                     p_5                   L_4                    b_2  \n",
       "777                     p_1                   L_2                    b_1  \n",
       "1140                    p_4                   L_2                    b_1  \n",
       "1337                    p_4                   L_2                    b_1  \n",
       "1339                    p_4                   L_2                    b_1  \n",
       "1438                    p_2                   L_2                    b_1  "
      ]
     },
     "execution_count": 16,
     "metadata": {},
     "output_type": "execute_result"
    }
   ],
   "source": [
    "df_gis[df_gis['Ключевые слова'].isna() == True]"
   ]
  },
  {
   "cell_type": "markdown",
   "metadata": {},
   "source": [
    "Поскольку удалять данные нам ни в коем случае нельзя, а столбец предполагается значимым для модели (что мы проверим несколько позже), пропуски мы будем заполнять.  \n",
    "Для этого посмотрим, какие ключевые слова:"
   ]
  },
  {
   "cell_type": "code",
   "execution_count": 17,
   "metadata": {},
   "outputs": [
    {
     "data": {
      "text/plain": [
       "1000    Аренда парусных яхт; Аренда яхт; Парусный спор...\n",
       "1001    Аренда баскетбольных залов; Аренда баскетбольн...\n",
       "1002    Басеин; Бассейн для грудничков; Бассейн для де...\n",
       "1003    Аренда лошадей; Верховая езда; Иподром; Ипподр...\n",
       "1004    Аренда катка; Городской каток; Катание на конь...\n",
       "Name: Ключевые слова, dtype: object"
      ]
     },
     "execution_count": 17,
     "metadata": {},
     "output_type": "execute_result"
    }
   ],
   "source": [
    "df_gis['Ключевые слова'][1000:1005]"
   ]
  },
  {
   "cell_type": "code",
   "execution_count": 18,
   "metadata": {},
   "outputs": [
    {
     "data": {
      "text/html": [
       "<div>\n",
       "<style scoped>\n",
       "    .dataframe tbody tr th:only-of-type {\n",
       "        vertical-align: middle;\n",
       "    }\n",
       "\n",
       "    .dataframe tbody tr th {\n",
       "        vertical-align: top;\n",
       "    }\n",
       "\n",
       "    .dataframe thead th {\n",
       "        text-align: right;\n",
       "    }\n",
       "</style>\n",
       "<table border=\"1\" class=\"dataframe\">\n",
       "  <thead>\n",
       "    <tr style=\"text-align: right;\">\n",
       "      <th></th>\n",
       "      <th>Категория</th>\n",
       "      <th>Рубрика 2го уровня</th>\n",
       "      <th>Рубрика</th>\n",
       "      <th>Тематика рубрики</th>\n",
       "      <th>Код рубрики</th>\n",
       "      <th>Ключевые слова</th>\n",
       "      <th>Описание</th>\n",
       "      <th>Категория Пенз область</th>\n",
       "      <th>Категория Лен область</th>\n",
       "      <th>Категория Респ Бурятия</th>\n",
       "    </tr>\n",
       "  </thead>\n",
       "  <tbody>\n",
       "    <tr>\n",
       "      <th>1000</th>\n",
       "      <td>Спорт / Отдых / Туризм</td>\n",
       "      <td>Спортивные клубы / школы</td>\n",
       "      <td>Яхт-клубы</td>\n",
       "      <td>Спортивные клубы</td>\n",
       "      <td>9965</td>\n",
       "      <td>Аренда парусных яхт; Аренда яхт; Парусный спор...</td>\n",
       "      <td>Вносить яхт-клубы. Яхт-клубы могут предоставит...</td>\n",
       "      <td>p_20</td>\n",
       "      <td>L_15</td>\n",
       "      <td>b_11</td>\n",
       "    </tr>\n",
       "    <tr>\n",
       "      <th>1001</th>\n",
       "      <td>Спорт / Отдых / Туризм</td>\n",
       "      <td>Спортивные комплексы</td>\n",
       "      <td>Аренда спортивных площадок</td>\n",
       "      <td>Спортивные клубы</td>\n",
       "      <td>110498</td>\n",
       "      <td>Аренда баскетбольных залов; Аренда баскетбольн...</td>\n",
       "      <td>В данную рубрику вносить организации, которые ...</td>\n",
       "      <td>p_20</td>\n",
       "      <td>L_15</td>\n",
       "      <td>b_11</td>\n",
       "    </tr>\n",
       "    <tr>\n",
       "      <th>1002</th>\n",
       "      <td>Спорт / Отдых / Туризм</td>\n",
       "      <td>Спортивные комплексы</td>\n",
       "      <td>Бассейны</td>\n",
       "      <td>Спортивные клубы</td>\n",
       "      <td>261</td>\n",
       "      <td>Басеин; Бассейн для грудничков; Бассейн для де...</td>\n",
       "      <td>Вносить плавательные бассейны общего посещения...</td>\n",
       "      <td>p_20</td>\n",
       "      <td>L_15</td>\n",
       "      <td>b_11</td>\n",
       "    </tr>\n",
       "    <tr>\n",
       "      <th>1003</th>\n",
       "      <td>Спорт / Отдых / Туризм</td>\n",
       "      <td>Спортивные комплексы</td>\n",
       "      <td>Конные клубы / Ипподромы</td>\n",
       "      <td>Спортивные клубы</td>\n",
       "      <td>262</td>\n",
       "      <td>Аренда лошадей; Верховая езда; Иподром; Ипподр...</td>\n",
       "      <td>В данную рубрику следует вносить специально от...</td>\n",
       "      <td>p_20</td>\n",
       "      <td>L_15</td>\n",
       "      <td>b_11</td>\n",
       "    </tr>\n",
       "    <tr>\n",
       "      <th>1004</th>\n",
       "      <td>Спорт / Отдых / Туризм</td>\n",
       "      <td>Спортивные комплексы</td>\n",
       "      <td>Ледовые дворцы / Катки</td>\n",
       "      <td>Спортивные клубы</td>\n",
       "      <td>11974</td>\n",
       "      <td>Аренда катка; Городской каток; Катание на конь...</td>\n",
       "      <td>В данную рубрику следует вносить администрации...</td>\n",
       "      <td>p_20</td>\n",
       "      <td>L_15</td>\n",
       "      <td>b_11</td>\n",
       "    </tr>\n",
       "  </tbody>\n",
       "</table>\n",
       "</div>"
      ],
      "text/plain": [
       "                   Категория        Рубрика 2го уровня  \\\n",
       "1000  Спорт / Отдых / Туризм  Спортивные клубы / школы   \n",
       "1001  Спорт / Отдых / Туризм      Спортивные комплексы   \n",
       "1002  Спорт / Отдых / Туризм      Спортивные комплексы   \n",
       "1003  Спорт / Отдых / Туризм      Спортивные комплексы   \n",
       "1004  Спорт / Отдых / Туризм      Спортивные комплексы   \n",
       "\n",
       "                         Рубрика  Тематика рубрики  Код рубрики  \\\n",
       "1000                   Яхт-клубы  Спортивные клубы         9965   \n",
       "1001  Аренда спортивных площадок  Спортивные клубы       110498   \n",
       "1002                    Бассейны  Спортивные клубы          261   \n",
       "1003    Конные клубы / Ипподромы  Спортивные клубы          262   \n",
       "1004      Ледовые дворцы / Катки  Спортивные клубы        11974   \n",
       "\n",
       "                                         Ключевые слова  \\\n",
       "1000  Аренда парусных яхт; Аренда яхт; Парусный спор...   \n",
       "1001  Аренда баскетбольных залов; Аренда баскетбольн...   \n",
       "1002  Басеин; Бассейн для грудничков; Бассейн для де...   \n",
       "1003  Аренда лошадей; Верховая езда; Иподром; Ипподр...   \n",
       "1004  Аренда катка; Городской каток; Катание на конь...   \n",
       "\n",
       "                                               Описание  \\\n",
       "1000  Вносить яхт-клубы. Яхт-клубы могут предоставит...   \n",
       "1001  В данную рубрику вносить организации, которые ...   \n",
       "1002  Вносить плавательные бассейны общего посещения...   \n",
       "1003  В данную рубрику следует вносить специально от...   \n",
       "1004  В данную рубрику следует вносить администрации...   \n",
       "\n",
       "     Категория Пенз область Категория Лен область Категория Респ Бурятия  \n",
       "1000                   p_20                  L_15                   b_11  \n",
       "1001                   p_20                  L_15                   b_11  \n",
       "1002                   p_20                  L_15                   b_11  \n",
       "1003                   p_20                  L_15                   b_11  \n",
       "1004                   p_20                  L_15                   b_11  "
      ]
     },
     "execution_count": 18,
     "metadata": {},
     "output_type": "execute_result"
    }
   ],
   "source": [
    "df_gis[1000:1005]"
   ]
  },
  {
   "cell_type": "markdown",
   "metadata": {},
   "source": [
    "Получается, ключевые слова раскрывают, какие именно виды деятельности компаний относятся к той или иной рубрике.  \n",
    "Что бросается в глаза: столбец \"Ключевые слова\" отчасти включает в себя данные столбца \"Рубрика\". Поэтому для отсутствующих значений мы можем заполнить пропуски, взяв информацию из столбца \"Рубрика\"."
   ]
  },
  {
   "cell_type": "code",
   "execution_count": 19,
   "metadata": {},
   "outputs": [],
   "source": [
    "df_gis['Ключевые слова'] = np.where(df_gis['Ключевые слова'].isna(), df_gis['Рубрика'], df_gis['Ключевые слова'])"
   ]
  },
  {
   "cell_type": "code",
   "execution_count": 20,
   "metadata": {},
   "outputs": [
    {
     "data": {
      "text/plain": [
       "0"
      ]
     },
     "execution_count": 20,
     "metadata": {},
     "output_type": "execute_result"
    }
   ],
   "source": [
    "df_gis['Ключевые слова'].isna().sum()"
   ]
  },
  {
   "cell_type": "markdown",
   "metadata": {},
   "source": [
    "Идем дальше.  \n",
    "Сделаем предобработку данных, формируя векторы моделью BERT.  \n",
    "Для этого оставим лишь один столбец - \"Ключевые слова\", поскольку именно он содержит бо́льшую информативность."
   ]
  },
  {
   "cell_type": "code",
   "execution_count": 21,
   "metadata": {},
   "outputs": [],
   "source": [
    "def clear_text(text):     # очистим строки при помощи регулярных выражений: оставим только буквы.\n",
    "    new_text = (re.sub(r'[^а-яА-Я]', ' ', text)).lower()\n",
    "    return \" \".join(new_text.split())"
   ]
  },
  {
   "cell_type": "markdown",
   "metadata": {},
   "source": [
    "В качестве признаков со стороны рубрик возьмем столбец \"Тематика рубрики\":"
   ]
  },
  {
   "cell_type": "markdown",
   "metadata": {},
   "source": [
    "Очищаем столбец от лишних знаков и запускаем препроцессинг:"
   ]
  },
  {
   "cell_type": "code",
   "execution_count": 22,
   "metadata": {},
   "outputs": [],
   "source": [
    "all_t = [clear_text(i) for i in df_gis['Тематика рубрики']]\n",
    "df_gis['Тематика рубрики без знаков'] = all_t"
   ]
  },
  {
   "cell_type": "code",
   "execution_count": 23,
   "metadata": {},
   "outputs": [
    {
     "data": {
      "text/plain": [
       "['научно исследовательские проектные институты и конструкторские бюро',\n",
       " 'банки финансовые учреждения']"
      ]
     },
     "execution_count": 23,
     "metadata": {},
     "output_type": "execute_result"
    }
   ],
   "source": [
    "penz = [clear_text(i) for i in penza['Наименование категории объектов']]\n",
    "penz[:2]"
   ]
  },
  {
   "cell_type": "code",
   "execution_count": 24,
   "metadata": {},
   "outputs": [],
   "source": [
    "penza['Чистые нормативы'] = penz"
   ]
  },
  {
   "cell_type": "markdown",
   "metadata": {},
   "source": [
    "Теперь напишем функцию вычисления косинусного сходства текстов. На вход будут подаваться 2 массива (наши векторные представления текстов), на выходе будет максимальная вероятность:"
   ]
  },
  {
   "cell_type": "code",
   "execution_count": 25,
   "metadata": {},
   "outputs": [],
   "source": [
    "def cosine_sim_vectors(array1, array2):\n",
    "    lst_key_array1 = []   # ключи первого массива\n",
    "    lst_prob = []\n",
    "    for i in range(len(array1)):\n",
    "        prob = []\n",
    "        for j in range(len(array2)):   # сравниваем 2 вектора в цикле\n",
    "            vec1 = array1[i].reshape(1, -1)\n",
    "            vec2 = array2[j].reshape(1, -1)\n",
    "            \n",
    "            prob.append(cosine_similarity(vec1, vec2)[0][0]) # вычисляем косинусное расстояние\n",
    "            \n",
    "        lst_key_array1.append(df_gis.loc[i, 'Рубрика'])  \n",
    "        lst_prob.append(prob) # сохраняем все вероятности сходства для каждого индекса массива1 и массива2        \n",
    "  \n",
    "    lst_max_proba = [max(lst_prob[p]) for p in range(len(lst_prob))] # выбираем максимальную вероятность\n",
    "    lst_index_array2 = [penza.loc[lst_prob[p].index(max(lst_prob[p])), \n",
    "                                  'Наименование категории объектов'] for p in range(len(lst_prob))]\n",
    "    \n",
    "    return lst_key_array1, lst_index_array2, lst_max_proba\n",
    "    # возвращаем ключи массива1, нормативы массива2 и максимальную вероятность"
   ]
  },
  {
   "cell_type": "markdown",
   "metadata": {},
   "source": [
    "Идем дальше: сделаем векторизацию при помощи TF-IDF. Для этого подготовим данные:"
   ]
  },
  {
   "cell_type": "code",
   "execution_count": 26,
   "metadata": {},
   "outputs": [],
   "source": [
    "def lemmatize(text):      # лемматизируем текст и объединим элементы списка в строку, которую получим на выходе\n",
    "    m = Mystem()\n",
    "    lemm_text = []\n",
    "    for row in text:\n",
    "        lemmas = ' '.join(m.lemmatize(row))\n",
    "        lemm_text.append(lemmas.split())\n",
    "    return lemm_text\n",
    "\n",
    "\n",
    "def clear_text(text):     # очистим строки при помощи регулярных выражений: оставим только буквы.\n",
    "    new_text = (re.sub(r'[^а-яА-Я]', ' ', text)).lower()\n",
    "    return \" \".join(new_text.split())\n",
    "\n",
    "def sentences(text):    # разделим на предложения, попутно очищая текст от знаков и преобразуя его к нижнему регистру\n",
    "    try:\n",
    "        return [clear_text(sent) for sent in ru_sent_tokenize(text)]\n",
    "    except:\n",
    "        return []\n",
    "\n",
    "from nltk.corpus import stopwords\n",
    "stopwords = stopwords.words('russian') + ['-', 'это', 'наш' , 'тыс', 'млн', 'млрд', 'также',  'т', 'д', 'г', 'Добрый день', 'Здравствуйте', 'доброго', 'дня', 'добрый', 'день', 'здравствуйте', 'В', 'тут-то', 'было', 'На', 'чуть-чуть', 'это', 'наш' , 'тыс', 'млн', 'млрд', 'также',  'Как', 'без', 'рэ']\n",
    "\n",
    "\n",
    "def remove_stopwords(sentences, stopwords = stopwords): # уберем стоп-слова\n",
    "    try:\n",
    "        out = []\n",
    "        for sentence in sentences:\n",
    "            out.append(\" \".join([token for token in sentence.split() if not token in stopwords]))\n",
    "        return out\n",
    "    except:\n",
    "        return []\n",
    "\n",
    "stoplemmas = ['день', 'данный', 'который', 'ваш', 'свой', 'месяц', 'какой', 'сей', 'наш', 'мочь']\n",
    "\n",
    "\n",
    "def remove_stoplemmas(sentences):  # уберем стоп-леммы\n",
    "    res = []\n",
    "    if len(sentences) > 0:\n",
    "        res.append([lemma for lemma in sentences if not lemma in stoplemmas])\n",
    "    return res\n",
    "\n",
    "def preprocessing(text):     # вызовем все функции в одной\n",
    "    sents = sentences(text)\n",
    "    no_stopwords = remove_stopwords(sents)\n",
    "    lemmas = lemmatize(no_stopwords)\n",
    "    no_stoplemmas = remove_stoplemmas(lemmas)\n",
    "    flat_lemmas = [x for sentence in no_stoplemmas for sublist in sentence for x in sublist]\n",
    "    return flat_lemmas"
   ]
  },
  {
   "cell_type": "markdown",
   "metadata": {},
   "source": [
    "Теперь предобработаем столбец \"Все категории без знаков\":"
   ]
  },
  {
   "cell_type": "code",
   "execution_count": 27,
   "metadata": {},
   "outputs": [
    {
     "name": "stderr",
     "output_type": "stream",
     "text": [
      "my bar!: 100%|██████████| 1507/1507 [20:34<00:00,  1.22it/s]       "
     ]
    },
    {
     "name": "stdout",
     "output_type": "stream",
     "text": [
      "CPU times: user 3.13 s, sys: 12.9 s, total: 16.1 s\n",
      "Wall time: 20min 34s\n"
     ]
    },
    {
     "name": "stderr",
     "output_type": "stream",
     "text": [
      "\n"
     ]
    }
   ],
   "source": [
    "%%time\n",
    "df_gis['Тематика_лемма'] = df_gis['Тематика рубрики без знаков'].progress_apply(preprocessing)"
   ]
  },
  {
   "cell_type": "code",
   "execution_count": 28,
   "metadata": {},
   "outputs": [
    {
     "name": "stderr",
     "output_type": "stream",
     "text": [
      "my bar!: 100%|██████████| 43/43 [00:35<00:00,  1.22it/s]"
     ]
    },
    {
     "name": "stdout",
     "output_type": "stream",
     "text": [
      "CPU times: user 115 ms, sys: 395 ms, total: 510 ms\n",
      "Wall time: 35.3 s\n"
     ]
    },
    {
     "name": "stderr",
     "output_type": "stream",
     "text": [
      "\n"
     ]
    }
   ],
   "source": [
    "%%time\n",
    "penza['Нормативы_лемма'] = penza['Наименование категории объектов'].progress_apply(preprocessing)"
   ]
  },
  {
   "cell_type": "code",
   "execution_count": 29,
   "metadata": {},
   "outputs": [],
   "source": [
    "corpus_1 = [\" \".join(x) for x in df_gis['Тематика_лемма']]\n",
    "corpus_2 = [\" \".join(x) for x in penza['Нормативы_лемма']]"
   ]
  },
  {
   "cell_type": "code",
   "execution_count": 30,
   "metadata": {},
   "outputs": [
    {
     "name": "stderr",
     "output_type": "stream",
     "text": [
      "[nltk_data] Downloading package stopwords to /home/dev/nltk_data...\n",
      "[nltk_data]   Package stopwords is already up-to-date!\n"
     ]
    }
   ],
   "source": [
    "nltk.download('stopwords')\n",
    "stopwords = set(nltk_stopwords.words('russian'))"
   ]
  },
  {
   "cell_type": "code",
   "execution_count": 31,
   "metadata": {},
   "outputs": [],
   "source": [
    "voc = TfidfVectorizer(stop_words=stopwords).fit(corpus_1)\n",
    "feat_1 = voc.transform(corpus_1)\n",
    "feat_2 = voc.transform(corpus_2)"
   ]
  },
  {
   "cell_type": "markdown",
   "metadata": {},
   "source": [
    "И косинус угла:"
   ]
  },
  {
   "cell_type": "code",
   "execution_count": 32,
   "metadata": {},
   "outputs": [
    {
     "name": "stdout",
     "output_type": "stream",
     "text": [
      "CPU times: user 27.8 s, sys: 11.8 ms, total: 27.8 s\n",
      "Wall time: 27.8 s\n"
     ]
    }
   ],
   "source": [
    "%%time\n",
    "keys, norms, sim = cosine_sim_vectors(feat_1.toarray(), feat_2.toarray())"
   ]
  },
  {
   "cell_type": "code",
   "execution_count": 33,
   "metadata": {},
   "outputs": [
    {
     "data": {
      "text/html": [
       "<div>\n",
       "<style scoped>\n",
       "    .dataframe tbody tr th:only-of-type {\n",
       "        vertical-align: middle;\n",
       "    }\n",
       "\n",
       "    .dataframe tbody tr th {\n",
       "        vertical-align: top;\n",
       "    }\n",
       "\n",
       "    .dataframe thead th {\n",
       "        text-align: right;\n",
       "    }\n",
       "</style>\n",
       "<table border=\"1\" class=\"dataframe\">\n",
       "  <thead>\n",
       "    <tr style=\"text-align: right;\">\n",
       "      <th></th>\n",
       "      <th>themes</th>\n",
       "      <th>norms</th>\n",
       "      <th>sim</th>\n",
       "    </tr>\n",
       "  </thead>\n",
       "  <tbody>\n",
       "    <tr>\n",
       "      <th>0</th>\n",
       "      <td>Аварийные службы</td>\n",
       "      <td>Общеобразовательное учреждение</td>\n",
       "      <td>0.684546</td>\n",
       "    </tr>\n",
       "    <tr>\n",
       "      <th>1</th>\n",
       "      <td>Ликвидация нефтеразливов / газонефтеводопроявл...</td>\n",
       "      <td>Общеобразовательное учреждение</td>\n",
       "      <td>0.684546</td>\n",
       "    </tr>\n",
       "    <tr>\n",
       "      <th>2</th>\n",
       "      <td>Пожарная охрана</td>\n",
       "      <td>Общеобразовательное учреждение</td>\n",
       "      <td>0.684546</td>\n",
       "    </tr>\n",
       "    <tr>\n",
       "      <th>3</th>\n",
       "      <td>Скорая медицинская помощь</td>\n",
       "      <td>Медицина</td>\n",
       "      <td>0.536056</td>\n",
       "    </tr>\n",
       "    <tr>\n",
       "      <th>4</th>\n",
       "      <td>Службы аварийных комиссаров</td>\n",
       "      <td>Общеобразовательное учреждение</td>\n",
       "      <td>0.684546</td>\n",
       "    </tr>\n",
       "    <tr>\n",
       "      <th>...</th>\n",
       "      <td>...</td>\n",
       "      <td>...</td>\n",
       "      <td>...</td>\n",
       "    </tr>\n",
       "    <tr>\n",
       "      <th>1502</th>\n",
       "      <td>Услуги медиаторов</td>\n",
       "      <td>Общеобразовательное учреждение</td>\n",
       "      <td>0.684546</td>\n",
       "    </tr>\n",
       "    <tr>\n",
       "      <th>1503</th>\n",
       "      <td>Экспертиза авиационных происшествий</td>\n",
       "      <td>Общеобразовательное учреждение</td>\n",
       "      <td>0.684546</td>\n",
       "    </tr>\n",
       "    <tr>\n",
       "      <th>1504</th>\n",
       "      <td>Экспертиза лекарственных средств</td>\n",
       "      <td>Общеобразовательное учреждение</td>\n",
       "      <td>0.684546</td>\n",
       "    </tr>\n",
       "    <tr>\n",
       "      <th>1505</th>\n",
       "      <td>Экспертиза товаров народного потребления</td>\n",
       "      <td>Общеобразовательное учреждение</td>\n",
       "      <td>0.684546</td>\n",
       "    </tr>\n",
       "    <tr>\n",
       "      <th>1506</th>\n",
       "      <td>Юридическое обслуживание</td>\n",
       "      <td>Общеобразовательное учреждение</td>\n",
       "      <td>0.684546</td>\n",
       "    </tr>\n",
       "  </tbody>\n",
       "</table>\n",
       "<p>1507 rows × 3 columns</p>\n",
       "</div>"
      ],
      "text/plain": [
       "                                                 themes  \\\n",
       "0                                      Аварийные службы   \n",
       "1     Ликвидация нефтеразливов / газонефтеводопроявл...   \n",
       "2                                       Пожарная охрана   \n",
       "3                             Скорая медицинская помощь   \n",
       "4                           Службы аварийных комиссаров   \n",
       "...                                                 ...   \n",
       "1502                                  Услуги медиаторов   \n",
       "1503                Экспертиза авиационных происшествий   \n",
       "1504                   Экспертиза лекарственных средств   \n",
       "1505           Экспертиза товаров народного потребления   \n",
       "1506                           Юридическое обслуживание   \n",
       "\n",
       "                               norms       sim  \n",
       "0     Общеобразовательное учреждение  0.684546  \n",
       "1     Общеобразовательное учреждение  0.684546  \n",
       "2     Общеобразовательное учреждение  0.684546  \n",
       "3                           Медицина  0.536056  \n",
       "4     Общеобразовательное учреждение  0.684546  \n",
       "...                              ...       ...  \n",
       "1502  Общеобразовательное учреждение  0.684546  \n",
       "1503  Общеобразовательное учреждение  0.684546  \n",
       "1504  Общеобразовательное учреждение  0.684546  \n",
       "1505  Общеобразовательное учреждение  0.684546  \n",
       "1506  Общеобразовательное учреждение  0.684546  \n",
       "\n",
       "[1507 rows x 3 columns]"
      ]
     },
     "execution_count": 33,
     "metadata": {},
     "output_type": "execute_result"
    }
   ],
   "source": [
    "data_tfidf = pd.DataFrame()\n",
    "data_tfidf['themes'], data_tfidf['norms'], data_tfidf['sim'] = keys, norms, sim\n",
    "data_tfidf"
   ]
  },
  {
   "cell_type": "code",
   "execution_count": 34,
   "metadata": {},
   "outputs": [],
   "source": [
    "pred_tfidf = []\n",
    "for i in range(len(data_tfidf)):\n",
    "    for j in range(len(penza)):\n",
    "        if data_tfidf.loc[i, 'norms'] == penza.loc[j, 'Наименование категории объектов']:\n",
    "            pred_tfidf.append(penza.loc[j, 'Код'])"
   ]
  },
  {
   "cell_type": "code",
   "execution_count": 35,
   "metadata": {},
   "outputs": [
    {
     "data": {
      "text/plain": [
       "0.424699402786994"
      ]
     },
     "execution_count": 35,
     "metadata": {},
     "output_type": "execute_result"
    }
   ],
   "source": [
    "from sklearn.metrics import f1_score\n",
    "\n",
    "f1_score(df_gis['Категория Пенз область'], pred_tfidf, average='micro')"
   ]
  },
  {
   "cell_type": "markdown",
   "metadata": {},
   "source": [
    "Меньше половины."
   ]
  },
  {
   "cell_type": "markdown",
   "metadata": {},
   "source": [
    "Теперь напишем функцию, где инициализируем модель Doc2Vec:"
   ]
  },
  {
   "cell_type": "code",
   "execution_count": 36,
   "metadata": {},
   "outputs": [],
   "source": [
    "def build_model(max_epochs, vec_size, alpha, tagged_data):\n",
    "    \n",
    "    model = Doc2Vec(vector_size=vec_size,\n",
    "               alpha=alpha,\n",
    "               min_alpha=0.00025,\n",
    "               min_count=1,\n",
    "               dm=1)\n",
    "    \n",
    "    model.build_vocab(tagged_data)\n",
    "       \n",
    "    for epoch in range(max_epochs):   # потренируем модель\n",
    "        print(f\"Iteration {epoch}\")\n",
    "        model.train(tag_data,\n",
    "                   total_examples=model.corpus_count,\n",
    "                   epochs=model.epochs)        \n",
    "\n",
    "        model.alpha -= 0.0002   # снижаем learning rate \n",
    "\n",
    "        model.min_alpha = model.alpha   \n",
    "    \n",
    "    model.save(\"DOCS_w2v_MODEL.model\")  # сохраняем модель до востребования\n",
    "    print(\"Model Saved\")\n",
    "    return model"
   ]
  },
  {
   "cell_type": "markdown",
   "metadata": {},
   "source": [
    "Переводим столбец с категориями в формат TaggedDocument, чтобы модель могла обучиться на них:"
   ]
  },
  {
   "cell_type": "code",
   "execution_count": 37,
   "metadata": {},
   "outputs": [],
   "source": [
    "tag_data_1 = [TaggedDocument(words=_d, tags=[str(i)]) for i, _d in enumerate(df_gis['Тематика_лемма'])]\n",
    "tag_data_2 = [TaggedDocument(words=_d, tags=[str(i)]) for i, _d in enumerate(penza['Нормативы_лемма'])]\n",
    "tag_data = tag_data_1 + tag_data_2"
   ]
  },
  {
   "cell_type": "code",
   "execution_count": 38,
   "metadata": {},
   "outputs": [
    {
     "data": {
      "text/plain": [
       "([TaggedDocument(words=['офисный', 'учреждение'], tags=['0']),\n",
       "  TaggedDocument(words=['офисный', 'учреждение'], tags=['1']),\n",
       "  TaggedDocument(words=['офисный', 'учреждение'], tags=['2']),\n",
       "  TaggedDocument(words=['больница', 'медицина'], tags=['3']),\n",
       "  TaggedDocument(words=['офисный', 'учреждение'], tags=['4'])],\n",
       " [TaggedDocument(words=['индивидуальный', 'жилой', 'дом', 'пенза'], tags=['38']),\n",
       "  TaggedDocument(words=['индивидуальный', 'жилой', 'дом', 'кузнецк', 'зато', 'заречный'], tags=['39']),\n",
       "  TaggedDocument(words=['индивидуальный', 'жилой', 'дом', 'муниципальный', 'образование', 'население', 'чело'], tags=['40']),\n",
       "  TaggedDocument(words=['индивидуальный', 'жилой', 'дом', 'муниципальный', 'образование', 'население', 'чело'], tags=['41']),\n",
       "  TaggedDocument(words=['иной'], tags=['42'])])"
      ]
     },
     "execution_count": 38,
     "metadata": {},
     "output_type": "execute_result"
    }
   ],
   "source": [
    "tag_data[:5], tag_data[-5:]"
   ]
  },
  {
   "cell_type": "markdown",
   "metadata": {},
   "source": [
    "Запускаем функцию:"
   ]
  },
  {
   "cell_type": "code",
   "execution_count": 39,
   "metadata": {},
   "outputs": [
    {
     "name": "stdout",
     "output_type": "stream",
     "text": [
      "Iteration 0\n",
      "Iteration 1\n",
      "Iteration 2\n",
      "Iteration 3\n",
      "Iteration 4\n",
      "Iteration 5\n",
      "Iteration 6\n",
      "Iteration 7\n",
      "Iteration 8\n",
      "Iteration 9\n",
      "Iteration 10\n",
      "Iteration 11\n",
      "Iteration 12\n",
      "Iteration 13\n",
      "Iteration 14\n",
      "Iteration 15\n",
      "Iteration 16\n",
      "Iteration 17\n",
      "Iteration 18\n",
      "Iteration 19\n",
      "Iteration 20\n",
      "Iteration 21\n",
      "Iteration 22\n",
      "Iteration 23\n",
      "Iteration 24\n",
      "Iteration 25\n",
      "Iteration 26\n",
      "Iteration 27\n",
      "Iteration 28\n",
      "Iteration 29\n",
      "Iteration 30\n",
      "Iteration 31\n",
      "Iteration 32\n",
      "Iteration 33\n",
      "Iteration 34\n",
      "Iteration 35\n",
      "Iteration 36\n",
      "Iteration 37\n",
      "Iteration 38\n",
      "Iteration 39\n",
      "Iteration 40\n",
      "Iteration 41\n",
      "Iteration 42\n",
      "Iteration 43\n",
      "Iteration 44\n",
      "Iteration 45\n",
      "Iteration 46\n",
      "Iteration 47\n",
      "Iteration 48\n",
      "Iteration 49\n",
      "Iteration 50\n",
      "Iteration 51\n",
      "Iteration 52\n",
      "Iteration 53\n",
      "Iteration 54\n",
      "Iteration 55\n",
      "Iteration 56\n",
      "Iteration 57\n",
      "Iteration 58\n",
      "Iteration 59\n",
      "Iteration 60\n",
      "Iteration 61\n",
      "Iteration 62\n",
      "Iteration 63\n",
      "Iteration 64\n",
      "Iteration 65\n",
      "Iteration 66\n",
      "Iteration 67\n",
      "Iteration 68\n",
      "Iteration 69\n",
      "Iteration 70\n",
      "Iteration 71\n",
      "Iteration 72\n",
      "Iteration 73\n",
      "Iteration 74\n",
      "Iteration 75\n",
      "Iteration 76\n",
      "Iteration 77\n",
      "Iteration 78\n",
      "Iteration 79\n",
      "Iteration 80\n",
      "Iteration 81\n",
      "Iteration 82\n",
      "Iteration 83\n",
      "Iteration 84\n",
      "Iteration 85\n",
      "Iteration 86\n",
      "Iteration 87\n",
      "Iteration 88\n",
      "Iteration 89\n",
      "Iteration 90\n",
      "Iteration 91\n",
      "Iteration 92\n",
      "Iteration 93\n",
      "Iteration 94\n",
      "Iteration 95\n",
      "Iteration 96\n",
      "Iteration 97\n",
      "Iteration 98\n",
      "Iteration 99\n",
      "Model Saved\n"
     ]
    }
   ],
   "source": [
    "doc2vec = build_model(max_epochs=100, vec_size=15, alpha=0.025, tagged_data=tag_data)"
   ]
  },
  {
   "cell_type": "markdown",
   "metadata": {},
   "source": [
    "Модель обучилась. Проверим:"
   ]
  },
  {
   "cell_type": "code",
   "execution_count": 40,
   "metadata": {},
   "outputs": [
    {
     "data": {
      "text/plain": [
       "[('обувь', 0.6962112188339233),\n",
       " ('магазин', 0.6511425375938416),\n",
       " ('питание', 0.6417560577392578),\n",
       " ('салон', 0.6255432367324829),\n",
       " ('отделение', 0.5901955366134644),\n",
       " ('медицинский', 0.5708369612693787),\n",
       " ('интернат', 0.565756618976593),\n",
       " ('клиника', 0.5585362911224365),\n",
       " ('пенза', 0.5508756041526794),\n",
       " ('риутальный', 0.5420202016830444)]"
      ]
     },
     "execution_count": 40,
     "metadata": {},
     "output_type": "execute_result"
    }
   ],
   "source": [
    "doc2vec.wv.similar_by_word(\"медицина\")"
   ]
  },
  {
   "cell_type": "code",
   "execution_count": 41,
   "metadata": {},
   "outputs": [
    {
     "data": {
      "text/plain": [
       "[('дополнительный', 0.6839833855628967),\n",
       " ('обслуживание', 0.6573476791381836),\n",
       " ('иной', 0.6470200419425964),\n",
       " ('автозаправочный', 0.6433500051498413),\n",
       " ('магазин', 0.6188270449638367),\n",
       " ('промтовары', 0.6180785894393921),\n",
       " ('технический', 0.6080384850502014),\n",
       " ('ремноты', 0.6025703549385071),\n",
       " ('высокий', 0.5902696847915649),\n",
       " ('осуществлять', 0.5835429430007935)]"
      ]
     },
     "execution_count": 41,
     "metadata": {},
     "output_type": "execute_result"
    }
   ],
   "source": [
    "doc2vec.wv.similar_by_word(\"банк\")"
   ]
  },
  {
   "cell_type": "markdown",
   "metadata": {},
   "source": [
    "Всё работает. Проверим на словосочетаниях (возведем их в инфинитив, т.к. модель обучилась на лемматизированных словах):"
   ]
  },
  {
   "cell_type": "code",
   "execution_count": 42,
   "metadata": {},
   "outputs": [
    {
     "data": {
      "text/plain": [
       "0.6854299"
      ]
     },
     "execution_count": 42,
     "metadata": {},
     "output_type": "execute_result"
    }
   ],
   "source": [
    "doc2vec.wv.n_similarity(('детский интернат').split(), ('школа интернат').split())"
   ]
  },
  {
   "cell_type": "code",
   "execution_count": 43,
   "metadata": {},
   "outputs": [
    {
     "data": {
      "text/plain": [
       "0.31729662"
      ]
     },
     "execution_count": 43,
     "metadata": {},
     "output_type": "execute_result"
    }
   ],
   "source": [
    "doc2vec.wv.n_similarity(('услуга кладбище').split(), ('ритуальный услуга').split())"
   ]
  },
  {
   "cell_type": "code",
   "execution_count": 44,
   "metadata": {},
   "outputs": [
    {
     "data": {
      "text/plain": [
       "0.624896"
      ]
     },
     "execution_count": 44,
     "metadata": {},
     "output_type": "execute_result"
    }
   ],
   "source": [
    "doc2vec.wv.n_similarity(('банк офисный').split(), ('финансовый услуга').split())"
   ]
  },
  {
   "cell_type": "code",
   "execution_count": 45,
   "metadata": {},
   "outputs": [
    {
     "data": {
      "text/plain": [
       "0.1707685"
      ]
     },
     "execution_count": 45,
     "metadata": {},
     "output_type": "execute_result"
    }
   ],
   "source": [
    "doc2vec.wv.n_similarity(('цирк концертный зал').split(), ('многоквартирный дом').split())"
   ]
  },
  {
   "cell_type": "markdown",
   "metadata": {},
   "source": [
    "Да, всё работает. Запустим теперь для наших данных:"
   ]
  },
  {
   "cell_type": "code",
   "execution_count": 46,
   "metadata": {},
   "outputs": [],
   "source": [
    "def similar_by_doc2vec(sent1, sent2, mod_name):\n",
    "    lst_cat_sent1 = []   # категории первого массива\n",
    "    lst_prob = []\n",
    "    for i in range(len(sent1)):\n",
    "        prob = []\n",
    "        for j in range(len(sent2)):   # сравниваем 2 вектора в цикле\n",
    "            prob.append(mod_name.wv.n_similarity(sent1[i], sent2[j])) # вычисляем косинусное расстояние\n",
    "            \n",
    "        lst_cat_sent1.append(df_gis.loc[i, 'Рубрика'])  \n",
    "        lst_prob.append(prob) # сохраняем все вероятности сходства для каждого индекса текста1 и текста2        \n",
    "  \n",
    "    lst_max_proba = [max(lst_prob[p]) for p in range(len(lst_prob))] # выбираем максимальную вероятность\n",
    "    lst_index_sent2 = [penza.loc[lst_prob[p].index(max(lst_prob[p])), \n",
    "                                  'Наименование категории объектов'] for p in range(len(lst_prob))]\n",
    "    \n",
    "    return lst_cat_sent1, lst_index_sent2, lst_max_proba\n",
    "#     возвращаем ключи массива1, нормативы массива2 и максимальную вероятность"
   ]
  },
  {
   "cell_type": "code",
   "execution_count": 47,
   "metadata": {},
   "outputs": [
    {
     "name": "stdout",
     "output_type": "stream",
     "text": [
      "CPU times: user 9.17 s, sys: 310 µs, total: 9.17 s\n",
      "Wall time: 9.17 s\n"
     ]
    }
   ],
   "source": [
    "%%time\n",
    "data_d2v = pd.DataFrame()\n",
    "data_d2v['index_array1'], data_d2v['index_array2'], data_d2v['probability'] = similar_by_doc2vec(df_gis['Тематика_лемма'], penza['Нормативы_лемма'], doc2vec)"
   ]
  },
  {
   "cell_type": "code",
   "execution_count": 48,
   "metadata": {},
   "outputs": [
    {
     "data": {
      "text/html": [
       "<div>\n",
       "<style scoped>\n",
       "    .dataframe tbody tr th:only-of-type {\n",
       "        vertical-align: middle;\n",
       "    }\n",
       "\n",
       "    .dataframe tbody tr th {\n",
       "        vertical-align: top;\n",
       "    }\n",
       "\n",
       "    .dataframe thead th {\n",
       "        text-align: right;\n",
       "    }\n",
       "</style>\n",
       "<table border=\"1\" class=\"dataframe\">\n",
       "  <thead>\n",
       "    <tr style=\"text-align: right;\">\n",
       "      <th></th>\n",
       "      <th>index_array1</th>\n",
       "      <th>index_array2</th>\n",
       "      <th>probability</th>\n",
       "    </tr>\n",
       "  </thead>\n",
       "  <tbody>\n",
       "    <tr>\n",
       "      <th>0</th>\n",
       "      <td>Аварийные службы</td>\n",
       "      <td>Административные, офисные учреждения</td>\n",
       "      <td>0.946555</td>\n",
       "    </tr>\n",
       "    <tr>\n",
       "      <th>1</th>\n",
       "      <td>Ликвидация нефтеразливов / газонефтеводопроявл...</td>\n",
       "      <td>Административные, офисные учреждения</td>\n",
       "      <td>0.946555</td>\n",
       "    </tr>\n",
       "    <tr>\n",
       "      <th>2</th>\n",
       "      <td>Пожарная охрана</td>\n",
       "      <td>Административные, офисные учреждения</td>\n",
       "      <td>0.946555</td>\n",
       "    </tr>\n",
       "    <tr>\n",
       "      <th>3</th>\n",
       "      <td>Скорая медицинская помощь</td>\n",
       "      <td>Медицина</td>\n",
       "      <td>0.909297</td>\n",
       "    </tr>\n",
       "    <tr>\n",
       "      <th>4</th>\n",
       "      <td>Службы аварийных комиссаров</td>\n",
       "      <td>Административные, офисные учреждения</td>\n",
       "      <td>0.946555</td>\n",
       "    </tr>\n",
       "    <tr>\n",
       "      <th>...</th>\n",
       "      <td>...</td>\n",
       "      <td>...</td>\n",
       "      <td>...</td>\n",
       "    </tr>\n",
       "    <tr>\n",
       "      <th>1502</th>\n",
       "      <td>Услуги медиаторов</td>\n",
       "      <td>Административные, офисные учреждения</td>\n",
       "      <td>0.946555</td>\n",
       "    </tr>\n",
       "    <tr>\n",
       "      <th>1503</th>\n",
       "      <td>Экспертиза авиационных происшествий</td>\n",
       "      <td>Административные, офисные учреждения</td>\n",
       "      <td>0.946555</td>\n",
       "    </tr>\n",
       "    <tr>\n",
       "      <th>1504</th>\n",
       "      <td>Экспертиза лекарственных средств</td>\n",
       "      <td>Административные, офисные учреждения</td>\n",
       "      <td>0.946555</td>\n",
       "    </tr>\n",
       "    <tr>\n",
       "      <th>1505</th>\n",
       "      <td>Экспертиза товаров народного потребления</td>\n",
       "      <td>Административные, офисные учреждения</td>\n",
       "      <td>0.946555</td>\n",
       "    </tr>\n",
       "    <tr>\n",
       "      <th>1506</th>\n",
       "      <td>Юридическое обслуживание</td>\n",
       "      <td>Административные, офисные учреждения</td>\n",
       "      <td>0.946555</td>\n",
       "    </tr>\n",
       "  </tbody>\n",
       "</table>\n",
       "<p>768 rows × 3 columns</p>\n",
       "</div>"
      ],
      "text/plain": [
       "                                           index_array1  \\\n",
       "0                                      Аварийные службы   \n",
       "1     Ликвидация нефтеразливов / газонефтеводопроявл...   \n",
       "2                                       Пожарная охрана   \n",
       "3                             Скорая медицинская помощь   \n",
       "4                           Службы аварийных комиссаров   \n",
       "...                                                 ...   \n",
       "1502                                  Услуги медиаторов   \n",
       "1503                Экспертиза авиационных происшествий   \n",
       "1504                   Экспертиза лекарственных средств   \n",
       "1505           Экспертиза товаров народного потребления   \n",
       "1506                           Юридическое обслуживание   \n",
       "\n",
       "                              index_array2  probability  \n",
       "0     Административные, офисные учреждения     0.946555  \n",
       "1     Административные, офисные учреждения     0.946555  \n",
       "2     Административные, офисные учреждения     0.946555  \n",
       "3                                 Медицина     0.909297  \n",
       "4     Административные, офисные учреждения     0.946555  \n",
       "...                                    ...          ...  \n",
       "1502  Административные, офисные учреждения     0.946555  \n",
       "1503  Административные, офисные учреждения     0.946555  \n",
       "1504  Административные, офисные учреждения     0.946555  \n",
       "1505  Административные, офисные учреждения     0.946555  \n",
       "1506  Административные, офисные учреждения     0.946555  \n",
       "\n",
       "[768 rows x 3 columns]"
      ]
     },
     "execution_count": 48,
     "metadata": {},
     "output_type": "execute_result"
    }
   ],
   "source": [
    "data_d2v[data_d2v['probability'] > 0.90]"
   ]
  },
  {
   "cell_type": "markdown",
   "metadata": {},
   "source": [
    "Похоже на правду."
   ]
  },
  {
   "cell_type": "markdown",
   "metadata": {},
   "source": [
    "Посчитаем коэффициент:"
   ]
  },
  {
   "cell_type": "code",
   "execution_count": 49,
   "metadata": {},
   "outputs": [],
   "source": [
    "predict = []\n",
    "\n",
    "for i in range(len(data_d2v)):\n",
    "    for j in range(len(penza)):\n",
    "        if data_d2v.loc[i, 'index_array2'] == penza.loc[j, 'Наименование категории объектов']:\n",
    "            predict.append(penza.loc[j, 'Код'])"
   ]
  },
  {
   "cell_type": "code",
   "execution_count": 50,
   "metadata": {},
   "outputs": [
    {
     "data": {
      "text/plain": [
       "0.5103251493032515"
      ]
     },
     "execution_count": 50,
     "metadata": {},
     "output_type": "execute_result"
    }
   ],
   "source": [
    "from sklearn.metrics import f1_score\n",
    "\n",
    "f1_score(df_gis['Категория Пенз область'], predict, average='micro')"
   ]
  },
  {
   "cell_type": "markdown",
   "metadata": {},
   "source": [
    "Результат чуть выше среднего."
   ]
  },
  {
   "cell_type": "markdown",
   "metadata": {},
   "source": [
    "Выбираем BERT."
   ]
  }
 ],
 "metadata": {
  "kernelspec": {
   "display_name": "Python 3",
   "language": "python",
   "name": "python3"
  },
  "language_info": {
   "codemirror_mode": {
    "name": "ipython",
    "version": 3
   },
   "file_extension": ".py",
   "mimetype": "text/x-python",
   "name": "python",
   "nbconvert_exporter": "python",
   "pygments_lexer": "ipython3",
   "version": "3.8.10"
  }
 },
 "nbformat": 4,
 "nbformat_minor": 4
}
